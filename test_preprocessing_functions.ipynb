{
 "cells": [
  {
   "cell_type": "markdown",
   "metadata": {},
   "source": [
    "### Testing file for preprocessing_functions.py ###"
   ]
  },
  {
   "cell_type": "code",
   "execution_count": null,
   "metadata": {},
   "outputs": [],
   "source": [
    "# Import everything needed\n",
    "from preprocessing_functions import *"
   ]
  },
  {
   "cell_type": "markdown",
   "metadata": {},
   "source": [
    "Test get_drug_comb_data method"
   ]
  },
  {
   "cell_type": "code",
   "execution_count": null,
   "metadata": {},
   "outputs": [],
   "source": [
    "def test_get_drug_comb_df_all_relevant_values():\n",
    "    drugcomb_df = get_drug_comb_data()\n",
    "    assert drugcomb_df.shape == (722344, 26)\n",
    "\n",
    "def test_remove_all_na_values():\n",
    "    drugcomb_df = get_drug_comb_data(bliss=True, loewe=True, hsa=True, zip=True, s_max=True, s_mean=True, s_sum=True)\n",
    "    assert drugcomb_df['synergy_bliss'].notna().all()\n",
    "    assert drugcomb_df['synergy_loewe'].notna().all()\n",
    "    assert drugcomb_df['synergy_hsa'].notna().all()\n",
    "    assert drugcomb_df['synergy_zip'].notna().all()\n",
    "    assert drugcomb_df['S_max'].notna().all()\n",
    "    assert drugcomb_df['S_mean'].notna().all()\n",
    "    assert drugcomb_df['S_sum'].notna().all()\n",
    "    assert drugcomb_df.shape == (722032, 26)\n",
    "\n",
    "\n",
    "test_get_drug_comb_df_all_relevant_values()\n",
    "test_remove_all_na_values()\n",
    "\n",
    "print(\"All tests passed!\")"
   ]
  },
  {
   "cell_type": "markdown",
   "metadata": {},
   "source": [
    "Test get_sider_data method"
   ]
  },
  {
   "cell_type": "code",
   "execution_count": null,
   "metadata": {},
   "outputs": [],
   "source": [
    "def test_get_sider_data():\n",
    "    sider_cid_to_drugs_df, sider_all_side_effects_df = get_sider_data()\n",
    "    assert sider_cid_to_drugs_df.shape == (1429, 2)\n",
    "    assert sider_all_side_effects_df.shape == (309848, 6)\n",
    "\n",
    "test_get_sider_data()\n",
    "print(\"All tests passed!\")"
   ]
  },
  {
   "cell_type": "markdown",
   "metadata": {},
   "source": [
    "Test get_ddinter method"
   ]
  },
  {
   "cell_type": "code",
   "execution_count": null,
   "metadata": {},
   "outputs": [],
   "source": [
    "ddinter_df = get_ddinter_data()\n",
    "\n",
    "def test_get_ddinter_data():\n",
    "    assert ddinter_df.shape == (160235, 5)\n",
    "\n",
    "test_get_ddinter_data()\n",
    "print(\"All tests passed!\")"
   ]
  },
  {
   "cell_type": "markdown",
   "metadata": {},
   "source": [
    "Test get_drugbank_ddi method"
   ]
  },
  {
   "cell_type": "code",
   "execution_count": null,
   "metadata": {},
   "outputs": [],
   "source": [
    "def test_get_drugbank_ddi():\n",
    "    drugbank_ddi_df, _ = get_drugbank_ddi()\n",
    "    # Test the severity levels are limited to 3 levels and there are no missing values\n",
    "    assert len(drugbank_ddi_df['severity'].unique()) == 3\n",
    "    assert drugbank_ddi_df['severity'].isna().sum() == 0\n",
    "    # Test all drug names are lower case\n",
    "    assert drugbank_ddi_df['subject_drug_name'].str.islower().all()\n",
    "    assert drugbank_ddi_df['affected_drug_name'].str.islower().all()\n",
    "    # Test no NA values for drug names\n",
    "    assert drugbank_ddi_df['subject_drug_name'].notna().all()\n",
    "    assert drugbank_ddi_df['affected_drug_name'].notna().all()\n",
    "    # Test the shape of the dataframe\n",
    "    assert drugbank_ddi_df.shape == (1430454, 18)\n",
    "\n",
    "def test_get_preprocessed_drugbank_ddi():\n",
    "    preprocessed_drugbank = pd.read_csv('data_processed/drugbank_ddi.csv')\n",
    "    assert preprocessed_drugbank.shape == (1430454, 18)\n",
    "\n",
    "test_get_drugbank_ddi()\n",
    "test_get_preprocessed_drugbank_ddi()\n",
    "print(\"All tests passed!\")"
   ]
  },
  {
   "cell_type": "markdown",
   "metadata": {},
   "source": [
    "Test drugcomb_ddinter intersect"
   ]
  },
  {
   "cell_type": "code",
   "execution_count": null,
   "metadata": {},
   "outputs": [],
   "source": [
    "drugcomb_df = get_drug_comb_data(bliss=True, loewe=True, hsa=True, zip=True, s_max=True, s_mean=True, s_sum=True)\n",
    "drug_syntox_df, major_pairs, moderate_pairs, minor_pairs, unknown_pairs = find_drugcomb_ddinter_intersect(drugcomb_df, ddinter_df)\n",
    "print(drug_syntox_df.shape)\n",
    "\n",
    "def test_find_drugcomb_ddinter_intersect():\n",
    "    assert drug_syntox_df.shape == (50108, 8)\n",
    "    assert len(major_pairs) == 788 # removing duplicates, aka drug A, drug B is considered same as drug B, drug A\n",
    "    assert len(moderate_pairs) == 2341\n",
    "    assert len(minor_pairs) == 175\n",
    "\n",
    "    # Verify if there are any repeated drug pairs\n",
    "    example_one = ('methotrexate', 'fenoprofen')\n",
    "    example_two = ('fenoprofen', 'methotrexate')\n",
    "    assert example_one in major_pairs\n",
    "    assert example_two not in major_pairs\n",
    "\n",
    "test_find_drugcomb_ddinter_intersect()\n",
    "print(\"All tests passed!\")"
   ]
  },
  {
   "cell_type": "markdown",
   "metadata": {},
   "source": [
    "Test the find_drugcomb_drugbankddi_intersect method"
   ]
  },
  {
   "cell_type": "code",
   "execution_count": null,
   "metadata": {},
   "outputs": [],
   "source": [
    "drugcomb_df = get_drug_comb_data(bliss=True, loewe=True, hsa=True, zip=True, s_max=True, s_mean=True, s_sum=True)\n",
    "drugbank_ddi_df = pd.read_csv('data_processed/drugbank_ddi.csv')\n",
    "\n",
    "def test_find_drugcomb_drugbank_intersect():\n",
    "    drug_syntox_df, major_pairs, moderate_pairs, minor_pairs, unknown_pairs = find_drugcomb_drugbankddi_intersect(drugcomb_df, drugbank_ddi_df)\n",
    "    print(drug_syntox_df.shape)\n",
    "    print(len(major_pairs))\n",
    "    print(len(moderate_pairs))\n",
    "    print(len(minor_pairs))\n",
    "    \n",
    "    # assert drug_syntox_df.shape == (50108, 8)\n",
    "    # assert len(major_pairs) == 788 # removing duplicates, aka drug A, drug B is considered same as drug B, drug A\n",
    "    # assert len(moderate_pairs) == 2341\n",
    "    # assert len(minor_pairs) == 175\n",
    "    assert len(unknown_pairs) == 0\n",
    "\n",
    "    # # Verify if there are any repeated drug pairs\n",
    "    # example_one = ('methotrexate', 'fenoprofen')\n",
    "    # example_two = ('fenoprofen', 'methotrexate')\n",
    "    # assert example_one in major_pairs\n",
    "    # assert example_two not in major_pairs\n",
    "\n",
    "test_find_drugcomb_drugbank_intersect()\n",
    "print(\"All tests passed!\")"
   ]
  },
  {
   "cell_type": "markdown",
   "metadata": {},
   "source": [
    "Test jaccard_similarity method"
   ]
  },
  {
   "cell_type": "code",
   "execution_count": null,
   "metadata": {},
   "outputs": [],
   "source": [
    "def test_jaccard_similarity_equal():\n",
    "    # Equal sets\n",
    "    s1 = set([\"Alopecia\", \"Vomiting\", \"Diarrhea\"])\n",
    "    s2 = set([\"Alopecia\", \"Vomiting\", \"Diarrhea\"])\n",
    "    assert jaccard_similarity(s1, s2) == 1.0\n",
    "\n",
    "def test_jaccard_similarity_disjoint():\n",
    "    # Disjoint sets\n",
    "    s1 = set([\"Alopecia\", \"Vomiting\", \"Diarrhea\"])\n",
    "    s2 = set([\"Anorexia\", \"Hypertension\", \"Nausea\"])\n",
    "    assert jaccard_similarity(s1, s2) == 0.0\n",
    "\n",
    "def test_jaccard_similarity_partial_overlap():\n",
    "    # Partial overlap\n",
    "    s1 = set([\"Alopecia\", \"Vomiting\", \"Diarrhea\"])\n",
    "    s2 = set([\"Alopecia\", \"Hypertension\", \"Nausea\"])\n",
    "    assert jaccard_similarity(s1, s2) == 1/5\n",
    "\n",
    "\n",
    "test_jaccard_similarity_equal()\n",
    "test_jaccard_similarity_disjoint()\n",
    "test_jaccard_similarity_partial_overlap()\n",
    "print(\"All tests passed!\")"
   ]
  }
 ],
 "metadata": {
  "kernelspec": {
   "display_name": "env",
   "language": "python",
   "name": "python3"
  },
  "language_info": {
   "codemirror_mode": {
    "name": "ipython",
    "version": 3
   },
   "file_extension": ".py",
   "mimetype": "text/x-python",
   "name": "python",
   "nbconvert_exporter": "python",
   "pygments_lexer": "ipython3",
   "version": "3.8.0"
  }
 },
 "nbformat": 4,
 "nbformat_minor": 2
}
