{
 "cells": [
  {
   "cell_type": "markdown",
   "metadata": {},
   "source": [
    "### Testing file for preprocessing_functions.py ###"
   ]
  },
  {
   "cell_type": "code",
   "execution_count": 1,
   "metadata": {},
   "outputs": [],
   "source": [
    "# Import everything needed\n",
    "from preprocessing_functions import *"
   ]
  },
  {
   "cell_type": "markdown",
   "metadata": {},
   "source": [
    "Test get reactome method"
   ]
  },
  {
   "cell_type": "code",
   "execution_count": 2,
   "metadata": {},
   "outputs": [
    {
     "name": "stdout",
     "output_type": "stream",
     "text": [
      "Original lowest pathways shape: (302009, 6)\n",
      "Original all pathways shape: (871849, 6)\n",
      "Filtered lowest pathways shape restricting to Homo sapiens and removing unnecessary columns: (51056, 3)\n",
      "Filtered all pathways shape restricting to Homo sapiens and removing unnecessary columns: (149564, 3)\n",
      "All tests passed!\n"
     ]
    }
   ],
   "source": [
    "def test_get_reactome():\n",
    "    lowest_pathways_df, all_pathways_df = get_reactome_data()\n",
    "    assert lowest_pathways_df.shape == (51056, 3)\n",
    "    assert all_pathways_df.shape == (149564, 3)\n",
    "\n",
    "    prothrombin_lowest_pathways = lowest_pathways_df[lowest_pathways_df['UniProtKB_ID'] == 'P00734']\n",
    "    assert prothrombin_lowest_pathways.shape[0] == 14\n",
    "\n",
    "    prothrombin_all_pathways = all_pathways_df[all_pathways_df['UniProtKB_ID'] == 'P00734']\n",
    "    assert prothrombin_all_pathways.shape[0] == 33\n",
    "\n",
    "\n",
    "def test_get_processed_reactome():\n",
    "    lowest_pathways_df = pd.read_csv('data_processed/reactome_lowest_pathways_homo_sapiens.csv')\n",
    "    assert lowest_pathways_df.shape == (51056, 3)\n",
    "\n",
    "    all_pathways_df = pd.read_csv('data_processed/reactome_all_pathways_homo_sapiens.csv')\n",
    "    assert all_pathways_df.shape == (149564, 3)\n",
    "\n",
    "test_get_reactome()\n",
    "test_get_processed_reactome()\n",
    "print(\"All tests passed!\")"
   ]
  },
  {
   "cell_type": "markdown",
   "metadata": {},
   "source": [
    "Test get_drug_comb_data method"
   ]
  },
  {
   "cell_type": "code",
   "execution_count": 3,
   "metadata": {},
   "outputs": [
    {
     "name": "stderr",
     "output_type": "stream",
     "text": [
      "/Users/alexwong/Research/toxicity-cancer-drug-combination/preprocessing_functions.py:66: DtypeWarning: Columns (2,7,19,22,23) have mixed types. Specify dtype option on import or set low_memory=False.\n",
      "  drugcomb_df = pd.read_csv('data/DrugComb/drugcomb_summary_v_1_5.csv', sep=',', index_col=False)\n"
     ]
    },
    {
     "name": "stdout",
     "output_type": "stream",
     "text": [
      "Original shape of drugcomb data:  (1432351, 26)\n",
      "Final shape of filtered drugcomb data:  (722344, 26)\n"
     ]
    },
    {
     "name": "stderr",
     "output_type": "stream",
     "text": [
      "/Users/alexwong/Research/toxicity-cancer-drug-combination/preprocessing_functions.py:66: DtypeWarning: Columns (2,7,19,22,23) have mixed types. Specify dtype option on import or set low_memory=False.\n",
      "  drugcomb_df = pd.read_csv('data/DrugComb/drugcomb_summary_v_1_5.csv', sep=',', index_col=False)\n"
     ]
    },
    {
     "name": "stdout",
     "output_type": "stream",
     "text": [
      "Original shape of drugcomb data:  (1432351, 26)\n",
      "Final shape of filtered drugcomb data:  (722032, 26)\n"
     ]
    },
    {
     "name": "stderr",
     "output_type": "stream",
     "text": [
      "/var/folders/6g/w3wk1pc96f70nng8j2j_0c440000gn/T/ipykernel_61232/1259970246.py:18: DtypeWarning: Columns (22,23) have mixed types. Specify dtype option on import or set low_memory=False.\n",
      "  drugcomb_df = pd.read_csv('data_processed/drugcomb_data.csv')\n"
     ]
    },
    {
     "name": "stdout",
     "output_type": "stream",
     "text": [
      "All tests passed!\n"
     ]
    }
   ],
   "source": [
    "def test_get_drug_comb_df_all_relevant_values():\n",
    "    drugcomb_df = get_drug_comb_data()\n",
    "    assert drugcomb_df.shape == (722344, 26)\n",
    "\n",
    "def test_remove_all_na_values():\n",
    "    drugcomb_df = get_drug_comb_data(bliss=True, loewe=True, hsa=True, zip=True, s_max=True, s_mean=True, s_sum=True)\n",
    "    assert drugcomb_df['synergy_bliss'].notna().all()\n",
    "    assert drugcomb_df['synergy_loewe'].notna().all()\n",
    "    assert drugcomb_df['synergy_hsa'].notna().all()\n",
    "    assert drugcomb_df['synergy_zip'].notna().all()\n",
    "    assert drugcomb_df['S_max'].notna().all()\n",
    "    assert drugcomb_df['S_mean'].notna().all()\n",
    "    assert drugcomb_df['S_sum'].notna().all()\n",
    "    assert drugcomb_df.shape == (722032, 26)\n",
    "\n",
    "def test_get_preprocessed_drugcomb():\n",
    "    # Assumes using all synergy scores\n",
    "    drugcomb_df = pd.read_csv('data_processed/drugcomb_data.csv')\n",
    "    assert drugcomb_df.shape == (722032, 26)\n",
    "\n",
    "test_get_drug_comb_df_all_relevant_values()\n",
    "test_remove_all_na_values()\n",
    "test_get_preprocessed_drugcomb()\n",
    "\n",
    "print(\"All tests passed!\")"
   ]
  },
  {
   "cell_type": "markdown",
   "metadata": {},
   "source": [
    "Test get_ddinter method"
   ]
  },
  {
   "cell_type": "code",
   "execution_count": 4,
   "metadata": {},
   "outputs": [
    {
     "name": "stdout",
     "output_type": "stream",
     "text": [
      "DDInter Shape without NA values: (160235, 5)\n",
      "All tests passed!\n"
     ]
    }
   ],
   "source": [
    "ddinter_df = get_ddinter_data()\n",
    "\n",
    "def test_get_ddinter_data():\n",
    "    assert ddinter_df.shape == (160235, 5)\n",
    "\n",
    "def test_get_preprocessed_ddinter():\n",
    "    ddinter_df = pd.read_csv('data_processed/ddinter_data.csv')\n",
    "    assert ddinter_df.shape == (160235, 5)\n",
    "\n",
    "test_get_ddinter_data()\n",
    "test_get_preprocessed_ddinter()\n",
    "print(\"All tests passed!\")"
   ]
  },
  {
   "cell_type": "markdown",
   "metadata": {},
   "source": [
    "Test get_drugbank_ddi method"
   ]
  },
  {
   "cell_type": "code",
   "execution_count": 5,
   "metadata": {},
   "outputs": [
    {
     "name": "stderr",
     "output_type": "stream",
     "text": [
      "/Users/alexwong/Research/toxicity-cancer-drug-combination/preprocessing_functions.py:16: DtypeWarning: Columns (17) have mixed types. Specify dtype option on import or set low_memory=False.\n",
      "  drugbank_ddi_df = pd.read_csv(drugbank_ddi_fp)\n"
     ]
    },
    {
     "name": "stdout",
     "output_type": "stream",
     "text": [
      "How many interactions are in each severity category in the drugbank database?\n",
      "severity\n",
      "1    742987\n",
      "0    535009\n",
      "2    152458\n",
      "Name: count, dtype: int64\n",
      "Shape of drugbank ddi dataframe:  (1430454, 18)\n"
     ]
    },
    {
     "name": "stderr",
     "output_type": "stream",
     "text": [
      "/var/folders/6g/w3wk1pc96f70nng8j2j_0c440000gn/T/ipykernel_61232/34541310.py:16: DtypeWarning: Columns (17) have mixed types. Specify dtype option on import or set low_memory=False.\n",
      "  preprocessed_drugbank = pd.read_csv('data_processed/drugbank_ddi.csv')\n"
     ]
    },
    {
     "name": "stdout",
     "output_type": "stream",
     "text": [
      "All tests passed!\n"
     ]
    }
   ],
   "source": [
    "def test_get_drugbank_ddi():\n",
    "    drugbank_ddi_df, _ = get_drugbank_ddi()\n",
    "    # Test the severity levels are limited to 3 levels and there are no missing values\n",
    "    assert len(drugbank_ddi_df['severity'].unique()) == 3\n",
    "    assert drugbank_ddi_df['severity'].isna().sum() == 0\n",
    "    # Test all drug names are lower case\n",
    "    assert drugbank_ddi_df['subject_drug_name'].str.islower().all()\n",
    "    assert drugbank_ddi_df['affected_drug_name'].str.islower().all()\n",
    "    # Test no NA values for drug names\n",
    "    assert drugbank_ddi_df['subject_drug_name'].notna().all()\n",
    "    assert drugbank_ddi_df['affected_drug_name'].notna().all()\n",
    "    # Test the shape of the dataframe\n",
    "    assert drugbank_ddi_df.shape == (1430454, 18)\n",
    "\n",
    "def test_get_preprocessed_drugbank_ddi():\n",
    "    preprocessed_drugbank = pd.read_csv('data_processed/drugbank_ddi.csv')\n",
    "    assert preprocessed_drugbank.shape == (1430454, 18)\n",
    "\n",
    "test_get_drugbank_ddi()\n",
    "test_get_preprocessed_drugbank_ddi()\n",
    "print(\"All tests passed!\")"
   ]
  },
  {
   "cell_type": "markdown",
   "metadata": {},
   "source": [
    "Test get drugbank target method"
   ]
  },
  {
   "cell_type": "code",
   "execution_count": 2,
   "metadata": {},
   "outputs": [
    {
     "name": "stdout",
     "output_type": "stream",
     "text": [
      "All tests passed!\n"
     ]
    }
   ],
   "source": [
    "drugs_to_targets_df = parse_drugbank_xml()\n",
    "\n",
    "def test_parse_drugbank_xml():\n",
    "    assert drugs_to_targets_df.shape == (19435, 9)\n",
    "    \n",
    "    # Check if there are any drugs with multiple SMILES\n",
    "    drugs_with_multiple_smiles = drugs_to_targets_df.groupby('drug_name')['SMILES'].nunique()\n",
    "    assert all(drugs_with_multiple_smiles <= 1)\n",
    "\n",
    "test_parse_drugbank_xml()\n",
    "print(\"All tests passed!\")"
   ]
  },
  {
   "cell_type": "markdown",
   "metadata": {},
   "source": [
    "Test getting STRING graph"
   ]
  },
  {
   "cell_type": "code",
   "execution_count": 7,
   "metadata": {},
   "outputs": [
    {
     "name": "stdout",
     "output_type": "stream",
     "text": [
      "Original shape of STRING edge list, physical detailed: (1477610, 6)\n",
      "All tests passed!\n"
     ]
    }
   ],
   "source": [
    "STRING_G = get_STRING_graph()\n",
    "\n",
    "def test_get_string_graph():\n",
    "    assert STRING_G.number_of_nodes() == 18382\n",
    "    assert STRING_G.number_of_edges() == 591429\n",
    "\n",
    "test_get_string_graph()\n",
    "print(\"All tests passed!\")"
   ]
  },
  {
   "cell_type": "markdown",
   "metadata": {},
   "source": [
    "Test Jaccard Similarity"
   ]
  },
  {
   "cell_type": "code",
   "execution_count": 8,
   "metadata": {},
   "outputs": [
    {
     "name": "stdout",
     "output_type": "stream",
     "text": [
      "All tests passed!\n"
     ]
    }
   ],
   "source": [
    "def test_jaccard_similarity_equal():\n",
    "    # Equal sets\n",
    "    s1 = set([\"Alopecia\", \"Vomiting\", \"Diarrhea\"])\n",
    "    s2 = set([\"Alopecia\", \"Vomiting\", \"Diarrhea\"])\n",
    "    assert jaccard_similarity(s1, s2) == 1.0\n",
    "\n",
    "def test_jaccard_similarity_disjoint():\n",
    "    # Disjoint sets\n",
    "    s1 = set([\"Alopecia\", \"Vomiting\", \"Diarrhea\"])\n",
    "    s2 = set([\"Anorexia\", \"Hypertension\", \"Nausea\"])\n",
    "    assert jaccard_similarity(s1, s2) == 0.0\n",
    "\n",
    "def test_jaccard_similarity_partial_overlap():\n",
    "    # Partial overlap\n",
    "    s1 = set([\"Alopecia\", \"Vomiting\", \"Diarrhea\"])\n",
    "    s2 = set([\"Alopecia\", \"Hypertension\", \"Nausea\"])\n",
    "    assert jaccard_similarity(s1, s2) == 1/5\n",
    "\n",
    "\n",
    "test_jaccard_similarity_equal()\n",
    "test_jaccard_similarity_disjoint()\n",
    "test_jaccard_similarity_partial_overlap()\n",
    "print(\"All tests passed!\")"
   ]
  },
  {
   "cell_type": "markdown",
   "metadata": {},
   "source": [
    "Test Jonckheere-Terpestra"
   ]
  },
  {
   "cell_type": "code",
   "execution_count": 9,
   "metadata": {},
   "outputs": [
    {
     "name": "stdout",
     "output_type": "stream",
     "text": [
      "(2.0211302086361083, 0.021633143978495584)\n"
     ]
    }
   ],
   "source": [
    "# Example from https://www.statext.com/practice/JonckheereTest03.php\n",
    "statext_3_samples = [\n",
    "    [40, 35, 38, 43, 44, 41],\n",
    "    [38, 40, 47, 44, 40, 42],\n",
    "    [48, 40, 45, 43, 46, 44],\n",
    "]\n",
    "\n",
    "print(jonckheere_terpestra_test(statext_3_samples)) # Expected: 2.02113, 0.021633 - matches both"
   ]
  },
  {
   "cell_type": "markdown",
   "metadata": {},
   "source": [
    "Test drugcomb_ddinter intersect"
   ]
  },
  {
   "cell_type": "code",
   "execution_count": 10,
   "metadata": {},
   "outputs": [
    {
     "name": "stderr",
     "output_type": "stream",
     "text": [
      "/var/folders/6g/w3wk1pc96f70nng8j2j_0c440000gn/T/ipykernel_61232/2686784815.py:1: DtypeWarning: Columns (22,23) have mixed types. Specify dtype option on import or set low_memory=False.\n",
      "  drugcomb_df = pd.read_csv('data_processed/drugcomb_data.csv')\n"
     ]
    },
    {
     "name": "stdout",
     "output_type": "stream",
     "text": [
      "Number of drugs in common between drugcomb and ddinter [lowercase enforced]:  683\n",
      "Major pairs in both DrugComb and in DDInter:  788\n",
      "Moderate pairs in both DrugComb and in DDInter:  2341\n",
      "Minor pairs in both DrugComb and in DDInter:  175\n",
      "Unknown toxicity pairs in both DrugComb and in DDInter:  1425\n",
      "Total common pairs:  4729\n",
      "Total known pairs:  3304\n",
      "All tests passed!\n"
     ]
    }
   ],
   "source": [
    "drugcomb_df = pd.read_csv('data_processed/drugcomb_data.csv')\n",
    "ddinter_df = pd.read_csv('data_processed/ddinter_data.csv')\n",
    "\n",
    "def test_find_drugcomb_ddinter_intersect():\n",
    "    drug_syntox_df, major_pairs, moderate_pairs, minor_pairs, unknown_pairs = find_drugcomb_ddinter_intersect(drugcomb_df, ddinter_df)\n",
    "    assert drug_syntox_df.shape == (37845, 11) # only known toxicity\n",
    "    assert len(major_pairs) == 788 # removing duplicates, aka drug A, drug B is considered same as drug B, drug A\n",
    "    assert len(moderate_pairs) == 2341\n",
    "    assert len(minor_pairs) == 175\n",
    "    assert len(unknown_pairs) == 1425\n",
    "\n",
    "    # Verify if there are any repeated drug pairs\n",
    "    example_one = ('methotrexate', 'fenoprofen')\n",
    "    example_two = ('fenoprofen', 'methotrexate')\n",
    "    assert example_one in major_pairs\n",
    "    assert example_two not in major_pairs\n",
    "\n",
    "def test_get_preprocessed_drugcomb_ddinter_known():\n",
    "    drug_syntox_df = pd.read_csv('data_processed/ddinter_syntox_known.csv')\n",
    "    assert drug_syntox_df.shape == (37845, 11) # only known, not including unknown\n",
    "\n",
    "test_find_drugcomb_ddinter_intersect()\n",
    "test_get_preprocessed_drugcomb_ddinter_known()\n",
    "print(\"All tests passed!\")"
   ]
  },
  {
   "cell_type": "markdown",
   "metadata": {},
   "source": [
    "Test the find_drugcomb_drugbankddi_intersect method"
   ]
  },
  {
   "cell_type": "code",
   "execution_count": 13,
   "metadata": {},
   "outputs": [
    {
     "name": "stderr",
     "output_type": "stream",
     "text": [
      "/var/folders/6g/w3wk1pc96f70nng8j2j_0c440000gn/T/ipykernel_61232/2658328833.py:1: DtypeWarning: Columns (17) have mixed types. Specify dtype option on import or set low_memory=False.\n",
      "  drugbank_ddi_df = pd.read_csv('data_processed/drugbank_ddi.csv')\n"
     ]
    },
    {
     "name": "stdout",
     "output_type": "stream",
     "text": [
      "Number of drugs in common between drugcomb and drugbank [lowercase enforced]:  1079\n",
      "Major pairs in both DrugComb and in DrugBank:  3211\n",
      "Moderate pairs in both DrugComb and in DrugBank:  5534\n",
      "Minor pairs in both DrugComb and in DrugBank:  4799\n",
      "Unknown toxicity pairs in both DrugComb and in DrugBank:  56177\n",
      "Total common pairs:  69721\n",
      "Total known pairs:  13544\n",
      "All tests passed!\n"
     ]
    }
   ],
   "source": [
    "drugbank_ddi_df = pd.read_csv('data_processed/drugbank_ddi.csv')\n",
    "\n",
    "def test_find_drugcomb_drugbank_intersect():\n",
    "    drug_syntox_df, major_pairs, moderate_pairs, minor_pairs, unknown_pairs = find_drugcomb_drugbankddi_intersect(drugcomb_df, drugbank_ddi_df)\n",
    "    \n",
    "    assert drug_syntox_df.shape == (88219, 11)\n",
    "    assert len(major_pairs) == 3211 # removing duplicates, aka drug A, drug B is considered same as drug B, drug A\n",
    "    assert len(moderate_pairs) == 5534\n",
    "    assert len(minor_pairs) == 4799\n",
    "    assert len(unknown_pairs) == 56177\n",
    "\n",
    "    # Verify if there are any repeated drug pairs\n",
    "    example_one = ('methotrexate', 'fenoprofen')\n",
    "    example_two = ('fenoprofen', 'methotrexate')\n",
    "    assert example_one in major_pairs\n",
    "    assert example_two not in major_pairs\n",
    "\n",
    "def test_get_preprocessed_drugcomb_drugbank_known():\n",
    "    drug_syntox_df = pd.read_csv('data_processed/drugbank_syntox_known.csv')\n",
    "    assert drug_syntox_df.shape == (88219, 11)\n",
    "\n",
    "test_find_drugcomb_drugbank_intersect()\n",
    "test_get_preprocessed_drugcomb_drugbank_known()\n",
    "print(\"All tests passed!\")"
   ]
  }
 ],
 "metadata": {
  "kernelspec": {
   "display_name": "env",
   "language": "python",
   "name": "python3"
  },
  "language_info": {
   "codemirror_mode": {
    "name": "ipython",
    "version": 3
   },
   "file_extension": ".py",
   "mimetype": "text/x-python",
   "name": "python",
   "nbconvert_exporter": "python",
   "pygments_lexer": "ipython3",
   "version": "3.8.0"
  }
 },
 "nbformat": 4,
 "nbformat_minor": 2
}
