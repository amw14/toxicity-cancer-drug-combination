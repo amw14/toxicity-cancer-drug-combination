{
 "cells": [
  {
   "cell_type": "markdown",
   "metadata": {},
   "source": [
    "Jonckheere-Terpestra test -- helps determine whether there is significant ordering of the medians of several groups\n",
    "\n",
    "- Want to know if synergy score increases from minor < moderate < major (this would be bad, synergy scoring would then be significantly increasing with higher toxicity so optimizing on synergy would make prioritized candidates more toxic)\n",
    "- Want to know if synergy score increases from major < moderate < minor (this would be good that synergy scores actually reduce toxicity)\n",
    "- If there is no significant ordering, this is okay for the field of synergy prediction -- at least you're not optimizing for high toxicity when you're prioritizing synergy scores"
   ]
  },
  {
   "cell_type": "code",
   "execution_count": 2,
   "metadata": {},
   "outputs": [],
   "source": [
    "# import everything you need here\n",
    "import math\n",
    "from scipy.stats import norm"
   ]
  },
  {
   "cell_type": "markdown",
   "metadata": {},
   "source": [
    "There are 5 assumptions to use the Jonckheere-Terpestra test: \n",
    "1. Dependent variable is ordinal/continuous (synergy score is continuous)\n",
    "2. Independent variable should consist of two or more ordinal, independent groups (toxicity is categorized into minor, moderate, and major)\n",
    "3. Should have independence of observations - no relationship between observation each group or between groups (toxicity categories are not dependent on each other)\n",
    "4. Distributions in each group have the same shape and same variability (confirmed roughly the same shape, variance can be pretty different)\n",
    "5. Decide a priori the order of groups of the independent variable and alternative hypothesis (minor < moderate < major toxicity; also major < moderate < minor)"
   ]
  },
  {
   "cell_type": "code",
   "execution_count": 40,
   "metadata": {},
   "outputs": [],
   "source": [
    "def jonckheere_terpestra_test(samples):\n",
    "    \"\"\"\n",
    "    Perform the Jonckheere-Terpstra test on the given samples.\n",
    "\n",
    "    Parameters:\n",
    "        samples: An array of arrays, where each inner array is a group containing the samples.\n",
    "\n",
    "    Returns:\n",
    "        A tuple containing the test statistic and the p-value.\n",
    "    \"\"\"\n",
    "    \n",
    "    if not samples or len(samples) < 2:\n",
    "        raise ValueError(\"At least two groups are required\")\n",
    "    \n",
    "    jt_stat = 0 # initialize the test statistic\n",
    "    n_i = [len(sample) for sample in samples] # get group sizes\n",
    "    N = sum(n_i) # total number of samples\n",
    "\n",
    "    for i in range(len(samples) - 1): # for each group\n",
    "        for j in range(i + 1, len(samples)): # compare with all other groups\n",
    "            for first_sample in samples[i]: # for each sample in the first group\n",
    "                for second_sample in samples[j]: # for each sample in the second group\n",
    "                    if first_sample < second_sample:\n",
    "                        jt_stat += 1\n",
    "                    elif first_sample == second_sample:\n",
    "                        jt_stat += 0.5\n",
    "\n",
    "    # Calculate mean under null hypothesis\n",
    "    mean = ((N**2) - sum(size**2 for size in n_i)) / 4\n",
    "    \n",
    "    # Calculate variance under null hypothesis\n",
    "    term1 = N**2 * (2*N + 3)\n",
    "    term2 = sum(size**2 * (2*size + 3) for size in n_i)\n",
    "    variance = (term1 - term2) / 72\n",
    "\n",
    "    # Calculate standardized statistic\n",
    "    z_stat = (jt_stat - mean) / math.sqrt(variance)\n",
    "\n",
    "    # Calculate one-tail p-value\n",
    "    p_value = 1 - norm.cdf(z_stat)\n",
    "    \n",
    "    return z_stat, p_value"
   ]
  },
  {
   "cell_type": "code",
   "execution_count": null,
   "metadata": {},
   "outputs": [
    {
     "name": "stdout",
     "output_type": "stream",
     "text": [
      "(2.838961340444303, 0.002263032003871568)\n",
      "(2.5533076283443092, 0.005335260246766338)\n",
      "(2.6819135986192237, 0.0036601181678723727)\n",
      "(2.0211302086361083, 0.021633143978495584)\n"
     ]
    }
   ],
   "source": [
    "# Test cases\n",
    "\n",
    "# https://www.usu.edu/math/jrstevens/biostat/projects2013/rep_ordnonpar.pdf\n",
    "usu_edu_samples = [\n",
    "    [48],\n",
    "    [33, 59, 48, 56],\n",
    "    [60, 101, 67],\n",
    "    [85, 107],\n",
    "]\n",
    "\n",
    "print(jonckheere_terpestra_test(usu_edu_samples)) # Expected: 2.8489, p value 0.002263 - matches p value\n",
    "\n",
    "# https://www.statext.com/practice/JonckheereTest01.php\n",
    "statext_1_samples = [\n",
    "    [7, 1, 2, 6, 11, 8],\n",
    "    [4, 7, 16, 11, 21],\n",
    "    [20, 25, 13, 9, 14, 11],\n",
    "]\n",
    "\n",
    "print(jonckheere_terpestra_test(statext_1_samples)) # Expected: 2.553308, 0.005206 - matches z stat\n",
    "\n",
    "# https://www.statext.com/practice/JonckheereTest02.php\n",
    "statext_2_samples = [\n",
    "    [16, 8, 6],\n",
    "    [27, 16, 15],\n",
    "    [31, 29, 18, 42],\n",
    "]\n",
    "\n",
    "print(jonckheere_terpestra_test(statext_2_samples)) # Expected: 2.690981, 0.003562 - matches neither\n",
    "\n",
    "# https://www.statext.com/practice/JonckheereTest03.php\n",
    "statext_3_samples = [\n",
    "    [40, 35, 38, 43, 44, 41],\n",
    "    [38, 40, 47, 44, 40, 42],\n",
    "    [48, 40, 45, 43, 46, 44],\n",
    "]\n",
    "\n",
    "print(jonckheere_terpestra_test(statext_3_samples)) # Expected: 2.02113, 0.021633 - matches both"
   ]
  },
  {
   "cell_type": "markdown",
   "metadata": {},
   "source": [
    "Test on each synergy score and toxicity category"
   ]
  },
  {
   "cell_type": "code",
   "execution_count": 43,
   "metadata": {},
   "outputs": [
    {
     "name": "stderr",
     "output_type": "stream",
     "text": [
      "/Users/alexwong/Research/toxicity-cancer-drug-combination/toxicity_ranking.py:17: DtypeWarning: Columns (2,7,19,22,23) have mixed types. Specify dtype option on import or set low_memory=False.\n",
      "  drugcomb_df = pd.read_csv('data/DrugComb/drugcomb_summary_v_1_5.csv', sep=',', index_col=False)\n"
     ]
    },
    {
     "name": "stdout",
     "output_type": "stream",
     "text": [
      "Original shape of drugcomb data:  (1432351, 26)\n",
      "Final shape of filtered drugcomb data:  (123882, 26)\n",
      "Number of drugs in common between drugcomb and ddinter [lowercase enforced]:  486\n",
      "Major pairs in both DrugComb and in DDInter:  335\n",
      "Moderate pairs in both DrugComb and in DDInter:  1027\n",
      "Minor pairs in both DrugComb and in DDInter:  59\n",
      "Unknown toxicity pairs in both DrugComb and in DDInter:  573\n",
      "Total common pairs:  1994\n",
      "Total known pairs:  1421\n"
     ]
    }
   ],
   "source": [
    "from toxicity_ranking import *\n",
    "\n",
    "ddinter_df = get_ddinter_data()\n",
    "drugcomb_df = get_drug_comb_data(bliss=True, loewe=True, hsa=True, zip=True)\n",
    "drug_syntox_df, major_pairs, moderate_pairs, minor_pairs, unknown_pairs = find_drugcomb_ddinter_intersect(drugcomb_df, ddinter_df)\n",
    "\n",
    "# remove pairs that have unknown toxicity\n",
    "drug_syntox_df = drug_syntox_df[~drug_syntox_df['toxicity_category'].str.contains('Unknown')]"
   ]
  },
  {
   "cell_type": "code",
   "execution_count": 49,
   "metadata": {},
   "outputs": [
    {
     "name": "stdout",
     "output_type": "stream",
     "text": [
      "Increasing toxicity - Bliss (5.81130571557779, 3.0993722033301196e-09)\n",
      "Decreasing toxicity - Bliss (-5.81130571557779, 0.9999999969006278)\n",
      "Increasing toxicity - Loewe (0.9590017542667599, 0.16877893071920358)\n",
      "Decreasing toxicity - Loewe (-0.9590017542667599, 0.8312210692807964)\n",
      "Increasing toxicity - HSA (-5.928971194953452, 0.9999999984758072)\n",
      "Decreasing toxicity - HSA (5.928971194953452, 1.5241927719955584e-09)\n",
      "Increasing toxicity - ZIP (-0.8434123572414516, 0.8005010683918299)\n",
      "Decreasing toxicity - ZIP (0.8434123572414516, 0.19949893160817012)\n"
     ]
    }
   ],
   "source": [
    "drug_syntox_major = drug_syntox_df[drug_syntox_df['toxicity_category'] == 'Major']\n",
    "drug_syntox_moderate = drug_syntox_df[drug_syntox_df['toxicity_category'] == 'Moderate']\n",
    "drug_syntox_minor = drug_syntox_df[drug_syntox_df['toxicity_category'] == 'Minor']\n",
    "\n",
    "# Bliss JT Test\n",
    "bliss_major_samples = drug_syntox_major['synergy_bliss'].values.tolist()\n",
    "bliss_moderate_samples = drug_syntox_moderate['synergy_bliss'].values.tolist()\n",
    "bliss_minor_samples = drug_syntox_minor['synergy_bliss'].values.tolist()\n",
    "\n",
    "bliss_increasing_tox_samples = [\n",
    "    bliss_minor_samples,\n",
    "    bliss_moderate_samples,\n",
    "    bliss_major_samples,\n",
    "]\n",
    "\n",
    "print(\"Increasing toxicity - Bliss\", jonckheere_terpestra_test(bliss_increasing_tox_samples))\n",
    "\n",
    "bliss_decreasing_tox_samples = [\n",
    "    bliss_major_samples,\n",
    "    bliss_moderate_samples,\n",
    "    bliss_minor_samples,\n",
    "]\n",
    "\n",
    "print(\"Decreasing toxicity - Bliss\", jonckheere_terpestra_test(bliss_decreasing_tox_samples))\n",
    "\n",
    "# Loewe JT Test\n",
    "loewe_major_samples = drug_syntox_major['synergy_loewe'].values.tolist()\n",
    "loewe_moderate_samples = drug_syntox_moderate['synergy_loewe'].values.tolist()\n",
    "loewe_minor_samples = drug_syntox_minor['synergy_loewe'].values.tolist()\n",
    "\n",
    "loewe_increasing_tox_samples = [\n",
    "    loewe_minor_samples,\n",
    "    loewe_moderate_samples,\n",
    "    loewe_major_samples,\n",
    "]\n",
    "\n",
    "print(\"Increasing toxicity - Loewe\", jonckheere_terpestra_test(loewe_increasing_tox_samples))\n",
    "\n",
    "loewe_decreasing_tox_samples = [\n",
    "    loewe_major_samples,\n",
    "    loewe_moderate_samples,\n",
    "    loewe_minor_samples,\n",
    "]\n",
    "\n",
    "print(\"Decreasing toxicity - Loewe\", jonckheere_terpestra_test(loewe_decreasing_tox_samples))\n",
    "\n",
    "# HSA JT Test\n",
    "hsa_major_samples = drug_syntox_major['synergy_hsa'].values.tolist()\n",
    "hsa_moderate_samples = drug_syntox_moderate['synergy_hsa'].values.tolist()\n",
    "hsa_minor_samples = drug_syntox_minor['synergy_hsa'].values.tolist()\n",
    "\n",
    "hsa_increasing_tox_samples = [\n",
    "    hsa_minor_samples,\n",
    "    hsa_moderate_samples,\n",
    "    hsa_major_samples,\n",
    "]\n",
    "\n",
    "print(\"Increasing toxicity - HSA\", jonckheere_terpestra_test(hsa_increasing_tox_samples))\n",
    "\n",
    "hsa_decreasing_tox_samples = [\n",
    "    hsa_major_samples,\n",
    "    hsa_moderate_samples,\n",
    "    hsa_minor_samples,\n",
    "]\n",
    "\n",
    "print(\"Decreasing toxicity - HSA\", jonckheere_terpestra_test(hsa_decreasing_tox_samples))\n",
    "\n",
    "# ZIP JT Test\n",
    "zip_major_samples = drug_syntox_major['synergy_zip'].values.tolist()\n",
    "zip_moderate_samples = drug_syntox_moderate['synergy_zip'].values.tolist()\n",
    "zip_minor_samples = drug_syntox_minor['synergy_zip'].values.tolist()\n",
    "\n",
    "zip_increasing_tox_samples = [\n",
    "    zip_minor_samples,\n",
    "    zip_moderate_samples,\n",
    "    zip_major_samples,\n",
    "]\n",
    "\n",
    "print(\"Increasing toxicity - ZIP\", jonckheere_terpestra_test(zip_increasing_tox_samples))\n",
    "\n",
    "zip_decreasing_tox_samples = [\n",
    "    zip_major_samples,\n",
    "    zip_moderate_samples,\n",
    "    zip_minor_samples,\n",
    "]\n",
    "\n",
    "print(\"Decreasing toxicity - ZIP\", jonckheere_terpestra_test(zip_decreasing_tox_samples))"
   ]
  }
 ],
 "metadata": {
  "kernelspec": {
   "display_name": "env",
   "language": "python",
   "name": "python3"
  },
  "language_info": {
   "codemirror_mode": {
    "name": "ipython",
    "version": 3
   },
   "file_extension": ".py",
   "mimetype": "text/x-python",
   "name": "python",
   "nbconvert_exporter": "python",
   "pygments_lexer": "ipython3",
   "version": "3.8.0"
  }
 },
 "nbformat": 4,
 "nbformat_minor": 2
}
