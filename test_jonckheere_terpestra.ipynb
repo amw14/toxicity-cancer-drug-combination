{
 "cells": [
  {
   "cell_type": "markdown",
   "metadata": {},
   "source": [
    "Jonckheere-Terpestra test -- helps determine whether there is significant ordering of the medians of several groups\n",
    "\n",
    "- Want to know if synergy score increases from minor < moderate < major (this would be bad, synergy scoring would then be significantly increasing with higher toxicity so optimizing on synergy would make prioritized candidates more toxic)\n",
    "- Want to know if synergy score increases from major < moderate < minor (this would be good that synergy scores actually reduce toxicity)\n",
    "- If there is no significant ordering, this is okay for the field of synergy prediction -- at least you're not optimizing for high toxicity when you're prioritizing synergy scores"
   ]
  },
  {
   "cell_type": "code",
   "execution_count": null,
   "metadata": {},
   "outputs": [],
   "source": [
    "# import everything you need here\n",
    "\n",
    "from preprocessing_functions import jonckheere_terpestra_test\n"
   ]
  },
  {
   "cell_type": "markdown",
   "metadata": {},
   "source": [
    "There are 5 assumptions to use the Jonckheere-Terpestra test: \n",
    "1. Dependent variable is ordinal/continuous (synergy score is continuous)\n",
    "2. Independent variable should consist of two or more ordinal, independent groups (toxicity is categorized into minor, moderate, and major)\n",
    "3. Should have independence of observations - no relationship between observation each group or between groups (toxicity categories are not dependent on each other)\n",
    "4. Distributions in each group have the same shape and same variability (confirmed roughly the same shape, variance can be pretty different)\n",
    "5. Decide a priori the order of groups of the independent variable and alternative hypothesis (minor < moderate < major toxicity; also major < moderate < minor)"
   ]
  },
  {
   "cell_type": "code",
   "execution_count": 2,
   "metadata": {},
   "outputs": [
    {
     "name": "stdout",
     "output_type": "stream",
     "text": [
      "(2.838961340444303, 0.002263032003871568)\n",
      "(2.5533076283443092, 0.005335260246766338)\n",
      "(2.6819135986192237, 0.0036601181678723727)\n",
      "(2.0211302086361083, 0.021633143978495584)\n"
     ]
    }
   ],
   "source": [
    "# Test cases\n",
    "\n",
    "# https://www.usu.edu/math/jrstevens/biostat/projects2013/rep_ordnonpar.pdf\n",
    "usu_edu_samples = [\n",
    "    [48],\n",
    "    [33, 59, 48, 56],\n",
    "    [60, 101, 67],\n",
    "    [85, 107],\n",
    "]\n",
    "\n",
    "print(jonckheere_terpestra_test(usu_edu_samples)) # Expected: 2.8489, p value 0.002263 - matches p value\n",
    "\n",
    "# https://www.statext.com/practice/JonckheereTest01.php\n",
    "statext_1_samples = [\n",
    "    [7, 1, 2, 6, 11, 8],\n",
    "    [4, 7, 16, 11, 21],\n",
    "    [20, 25, 13, 9, 14, 11],\n",
    "]\n",
    "\n",
    "print(jonckheere_terpestra_test(statext_1_samples)) # Expected: 2.553308, 0.005206 - matches z stat\n",
    "\n",
    "# https://www.statext.com/practice/JonckheereTest02.php\n",
    "statext_2_samples = [\n",
    "    [16, 8, 6],\n",
    "    [27, 16, 15],\n",
    "    [31, 29, 18, 42],\n",
    "]\n",
    "\n",
    "print(jonckheere_terpestra_test(statext_2_samples)) # Expected: 2.690981, 0.003562 - matches neither\n",
    "\n",
    "# https://www.statext.com/practice/JonckheereTest03.php\n",
    "statext_3_samples = [\n",
    "    [40, 35, 38, 43, 44, 41],\n",
    "    [38, 40, 47, 44, 40, 42],\n",
    "    [48, 40, 45, 43, 46, 44],\n",
    "]\n",
    "\n",
    "print(jonckheere_terpestra_test(statext_3_samples)) # Expected: 2.02113, 0.021633 - matches both"
   ]
  }
 ],
 "metadata": {
  "kernelspec": {
   "display_name": "env",
   "language": "python",
   "name": "python3"
  },
  "language_info": {
   "codemirror_mode": {
    "name": "ipython",
    "version": 3
   },
   "file_extension": ".py",
   "mimetype": "text/x-python",
   "name": "python",
   "nbconvert_exporter": "python",
   "pygments_lexer": "ipython3",
   "version": "3.8.0"
  }
 },
 "nbformat": 4,
 "nbformat_minor": 2
}
