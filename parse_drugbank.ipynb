{
 "cells": [
  {
   "cell_type": "markdown",
   "metadata": {},
   "source": [
    "Script to parse the DrugBank code for the drug-drug interactions"
   ]
  },
  {
   "cell_type": "code",
   "execution_count": 2,
   "metadata": {},
   "outputs": [],
   "source": [
    "from collections import defaultdict\n",
    "import pandas as pd\n",
    "import xml.etree.ElementTree as ET"
   ]
  },
  {
   "cell_type": "code",
   "execution_count": 3,
   "metadata": {},
   "outputs": [],
   "source": [
    "def parse_drugbank_xml(xml_file_path):\n",
    "    \"\"\"\n",
    "    Parse DrugBank XML file to extract drug interactions and drug information.\n",
    "    \n",
    "    Parameters:\n",
    "    xml_file_path (str): Path to the DrugBank XML file\n",
    "    \n",
    "    Returns:\n",
    "    tuple: (interactions_df, all_drugs)\n",
    "        - interactions_df: DataFrame with columns [drug1, drug2, severity, description]\n",
    "        - all_drugs: Set of all drug names in the database\n",
    "    \"\"\"\n",
    "    # Register the DrugBank namespace\n",
    "    ns = {'db': 'http://www.drugbank.ca'}\n",
    "    \n",
    "    # Parse the XML file\n",
    "    tree = ET.parse(xml_file_path)\n",
    "    root = tree.getroot()\n",
    "    \n",
    "    # Lists to store the extracted data\n",
    "    interactions = []\n",
    "    all_drugs = set()\n",
    "    \n",
    "    # Iterate through all drug entries\n",
    "    for drug in root.findall('db:drug', ns):\n",
    "        # Get the drug name\n",
    "        drug_name = drug.find('db:name', ns).text\n",
    "        all_drugs.add(drug_name)\n",
    "        \n",
    "        # Find all drug interactions\n",
    "        drug_interactions = drug.find('db:drug-interactions', ns)\n",
    "        if drug_interactions is not None:\n",
    "            for interaction in drug_interactions.findall('db:drug-interaction', ns):\n",
    "                interacting_drug = interaction.find('db:name', ns).text\n",
    "                description = interaction.find('db:description', ns).text\n",
    "                \n",
    "                # Note: DrugBank XML might not have a direct severity field\n",
    "                # You might need to parse it from the description or use a different field\n",
    "                # This is a placeholder for severity extraction\n",
    "                severity = 'Unknown'\n",
    "                if description:\n",
    "                    # Example severity extraction logic - customize based on your needs\n",
    "                    description_lower = description.lower()\n",
    "                    if 'severe' in description_lower or 'major' in description_lower:\n",
    "                        severity = 'Severe'\n",
    "                    elif 'moderate' in description_lower:\n",
    "                        severity = 'Moderate'\n",
    "                    elif 'mild' in description_lower or 'minor' in description_lower:\n",
    "                        severity = 'Mild'\n",
    "                \n",
    "                interactions.append({\n",
    "                    'drug1': drug_name,\n",
    "                    'drug2': interacting_drug,\n",
    "                    'severity': severity,\n",
    "                    'description': description\n",
    "                })\n",
    "    \n",
    "    # Convert to DataFrame\n",
    "    interactions_df = pd.DataFrame(interactions)\n",
    "    \n",
    "    return interactions_df, all_drugs"
   ]
  },
  {
   "cell_type": "code",
   "execution_count": 4,
   "metadata": {},
   "outputs": [
    {
     "name": "stdout",
     "output_type": "stream",
     "text": [
      "       drug1                 drug2 severity  \\\n",
      "0  Lepirudin              Apixaban  Unknown   \n",
      "1  Lepirudin  Dabigatran etexilate  Unknown   \n",
      "2  Lepirudin             Dasatinib  Unknown   \n",
      "3  Lepirudin           Deferasirox  Unknown   \n",
      "4  Lepirudin  Ursodeoxycholic acid  Unknown   \n",
      "\n",
      "                                         description  \n",
      "0  Apixaban may increase the anticoagulant activi...  \n",
      "1  Dabigatran etexilate may increase the anticoag...  \n",
      "2  The risk or severity of bleeding and hemorrhag...  \n",
      "3  The risk or severity of gastrointestinal bleed...  \n",
      "4  The risk or severity of bleeding and bruising ...  \n"
     ]
    }
   ],
   "source": [
    "xml_file_path = 'data/DrugBank/full database.xml'\n",
    "interactions_df, all_drugs = parse_drugbank_xml(xml_file_path)\n",
    "print(interactions_df.head())"
   ]
  }
 ],
 "metadata": {
  "kernelspec": {
   "display_name": "env",
   "language": "python",
   "name": "python3"
  },
  "language_info": {
   "codemirror_mode": {
    "name": "ipython",
    "version": 3
   },
   "file_extension": ".py",
   "mimetype": "text/x-python",
   "name": "python",
   "nbconvert_exporter": "python",
   "pygments_lexer": "ipython3",
   "version": "3.8.0"
  }
 },
 "nbformat": 4,
 "nbformat_minor": 2
}
