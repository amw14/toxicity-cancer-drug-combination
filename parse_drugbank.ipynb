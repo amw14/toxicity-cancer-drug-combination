{
 "cells": [
  {
   "cell_type": "markdown",
   "metadata": {},
   "source": [
    "Script to parse the DrugBank code for the drug target information"
   ]
  },
  {
   "cell_type": "code",
   "execution_count": 1,
   "metadata": {},
   "outputs": [],
   "source": [
    "from collections import defaultdict\n",
    "import pandas as pd\n",
    "import xml.etree.ElementTree as ET"
   ]
  },
  {
   "cell_type": "code",
   "execution_count": 2,
   "metadata": {},
   "outputs": [],
   "source": [
    "def parse_drugbank_xml(xml_file):\n",
    "    # Parse the XML file\n",
    "    tree = ET.parse(xml_file)\n",
    "    root = tree.getroot()\n",
    "    \n",
    "    # Define the namespace used in DrugBank XML\n",
    "    ns = {'db': 'http://www.drugbank.ca'}\n",
    "    \n",
    "    # List to store all drug-target pairs\n",
    "    drug_target_pairs = []\n",
    "    \n",
    "    # Iterate through all drugs\n",
    "    for drug in root.findall('db:drug', ns):\n",
    "        drug_name = drug.find('db:name', ns).text\n",
    "        \n",
    "        # Get all targets for the drug\n",
    "        targets = drug.findall('.//db:target', ns)\n",
    "        \n",
    "        for target in targets:\n",
    "            target_data = {\n",
    "                'drug_name': drug_name,\n",
    "                'target_name': None,\n",
    "                'target_DrugBank_ID': None,\n",
    "                'GenBank_Protein_ID': None,\n",
    "                'GenBank_Gene_ID': None,\n",
    "                'UniProtKB_ID': None,\n",
    "                'GenAtlas_ID': None,\n",
    "                'HGNC_ID': None\n",
    "            }\n",
    "            \n",
    "            # Get target name\n",
    "            polypeptide = target.find('.//db:polypeptide', ns)\n",
    "            if polypeptide is not None:\n",
    "                target_name = polypeptide.find('db:name', ns)\n",
    "                if target_name is not None:\n",
    "                    target_data['target_name'] = target_name.text\n",
    "            \n",
    "            # Get target DrugBank ID\n",
    "            target_id = target.find('.//db:id', ns)\n",
    "            if target_id is not None:\n",
    "                target_data['target_DrugBank_ID'] = target_id.text\n",
    "            \n",
    "            # Get external identifiers\n",
    "            if polypeptide is not None:\n",
    "                external_ids = polypeptide.findall('.//db:external-identifier', ns)\n",
    "                for ext_id in external_ids:\n",
    "                    resource = ext_id.find('db:resource', ns).text\n",
    "                    identifier = ext_id.find('db:identifier', ns).text\n",
    "                    \n",
    "                    if resource == 'GenBank Protein Database':\n",
    "                        target_data['GenBank_Protein_ID'] = identifier\n",
    "                    elif resource == 'GenBank Gene Database':\n",
    "                        target_data['GenBank_Gene_ID'] = identifier\n",
    "                    elif resource == 'UniProtKB':\n",
    "                        target_data['UniProtKB_ID'] = identifier\n",
    "                    elif resource == 'GenAtlas':\n",
    "                        target_data['GenAtlas_ID'] = identifier\n",
    "                    elif resource == 'HUGO Gene Nomenclature Committee (HGNC)':\n",
    "                        target_data['HGNC_ID'] = identifier\n",
    "            \n",
    "            drug_target_pairs.append(target_data)\n",
    "    \n",
    "    # Create DataFrame\n",
    "    df = pd.DataFrame(drug_target_pairs)\n",
    "    return df"
   ]
  },
  {
   "cell_type": "code",
   "execution_count": 3,
   "metadata": {},
   "outputs": [
    {
     "name": "stdout",
     "output_type": "stream",
     "text": [
      "   drug_name                                        target_name  \\\n",
      "0  Lepirudin                                        Prothrombin   \n",
      "1  Cetuximab                   Epidermal growth factor receptor   \n",
      "2  Cetuximab  Low affinity immunoglobulin gamma Fc region re...   \n",
      "3  Cetuximab              Complement C1q subcomponent subunit A   \n",
      "4  Cetuximab              Complement C1q subcomponent subunit B   \n",
      "\n",
      "  target_DrugBank_ID GenBank_Protein_ID GenBank_Gene_ID UniProtKB_ID  \\\n",
      "0          BE0000048             339641          M17262       P00734   \n",
      "1          BE0000767             757924          X00588       P00533   \n",
      "2          BE0000901              31322          X16863       O75015   \n",
      "3          BE0002094            4894854        AF135157       P02745   \n",
      "4          BE0002095             573114          X03084       P02746   \n",
      "\n",
      "  GenAtlas_ID    HGNC_ID  \n",
      "0          F2  HGNC:3535  \n",
      "1        EGFR  HGNC:3236  \n",
      "2      FCGR3B  HGNC:3620  \n",
      "3        C1QA  HGNC:1241  \n",
      "4        C1QB  HGNC:1242  \n"
     ]
    }
   ],
   "source": [
    "xml_file_path = 'data/DrugBank/full database.xml'\n",
    "drugs_to_targets_df = parse_drugbank_xml(xml_file_path)\n",
    "print(drugs_to_targets_df.head())"
   ]
  },
  {
   "cell_type": "code",
   "execution_count": 4,
   "metadata": {},
   "outputs": [],
   "source": [
    "drugs_to_targets_df.to_csv('data_processed/drugbank_drug_targets.csv', index=False)"
   ]
  }
 ],
 "metadata": {
  "kernelspec": {
   "display_name": "env",
   "language": "python",
   "name": "python3"
  },
  "language_info": {
   "codemirror_mode": {
    "name": "ipython",
    "version": 3
   },
   "file_extension": ".py",
   "mimetype": "text/x-python",
   "name": "python",
   "nbconvert_exporter": "python",
   "pygments_lexer": "ipython3",
   "version": "3.8.0"
  }
 },
 "nbformat": 4,
 "nbformat_minor": 2
}
