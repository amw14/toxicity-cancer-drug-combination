{
 "cells": [
  {
   "cell_type": "markdown",
   "metadata": {},
   "source": [
    "Parse STRING database to find shortest distance between drug targets"
   ]
  },
  {
   "cell_type": "markdown",
   "metadata": {},
   "source": [
    "Assume that drugbank has already been used to get the drug target information, which we will then use those UniProt IDs to convert to STRING"
   ]
  },
  {
   "cell_type": "code",
   "execution_count": 1,
   "metadata": {},
   "outputs": [],
   "source": [
    "import pandas as pd\n",
    "import networkx as nx\n",
    "import numpy as np"
   ]
  },
  {
   "cell_type": "code",
   "execution_count": 2,
   "metadata": {},
   "outputs": [],
   "source": [
    "syntoxtarg_df = pd.read_csv('data_processed/drugbank_syntoxtarg.csv')\n",
    "with open('data_processed/drugbank_syntoxtarg_UniprotIDs.txt', 'w') as f:\n",
    "    for id in set(syntoxtarg_df['UniProtKB_ID'].values):\n",
    "        f.write(str(id) + '\\n')"
   ]
  },
  {
   "cell_type": "markdown",
   "metadata": {},
   "source": [
    "Used manual mapping tool online at: https://www.uniprot.org/id-mapping/dbe8449f1fd4505ca8d39bad70ff36493e2d4585/overview\n",
    "CURRENTLY UNDER MAINTENANCE RIGHT NOW\n",
    "\n",
    "Previously for DDInter-DrugComb intersect\n",
    "- 825 UniProtIDs mapped, stored in data_processed/uniprot_id_to_string_mapping_2025_01_24.tsv\n",
    "- 36 UniProtIDs not mapped, stored in data_processed/unmapped_uniprot_ids.txt\n",
    "\n",
    "Found 243 proteins (IGNORE NAN) that are in DrugBank and not DDInter that have UniProt IDs\n",
    "- Use mapping tool on STRING database\n",
    "- Output of DrugBank leftovers is saved in data_processed/drugbank_leftovers_uniprot_string_mapping_2025_02_14.tsv\n"
   ]
  },
  {
   "cell_type": "code",
   "execution_count": 20,
   "metadata": {},
   "outputs": [
    {
     "name": "stdout",
     "output_type": "stream",
     "text": [
      "GB Prot shape(53,)\n",
      "GB Gene shape(58,)\n",
      "GA shape(6,)\n",
      "HGNC shape(5,)\n",
      "Number of unknowns: 80\n"
     ]
    }
   ],
   "source": [
    "uniprot_to_string = {}\n",
    "with open('data_processed/uniprot_id_to_string_mapping_2025_01_24.tsv', 'r') as f:\n",
    "    f.readline()\n",
    "    for lines in f:\n",
    "        uniprot_id, string_id = lines.strip('\\n').split('\\t')\n",
    "        uniprot_to_string[uniprot_id] = string_id\n",
    "\n",
    "syntoxtarg_df['STRING_ID'] = syntoxtarg_df['UniProtKB_ID'].map(uniprot_to_string)\n",
    "\n",
    "drugbank_unknown_uniprot = syntoxtarg_df[syntoxtarg_df['STRING_ID'].isna()]['UniProtKB_ID'].unique()\n",
    "with open('data_processed/drugbank_notcoveredbyddinter_unknown_uniprot.txt', 'w') as f:\n",
    "    for id in drugbank_unknown_uniprot:\n",
    "        f.write(str(id) + '\\n')\n",
    "\n",
    "with open('data_processed/drugbank_leftovers_uniprot_string_mapping_2025_02_14.tsv', 'r') as f:\n",
    "    f.readline() # skip header\n",
    "    f.readline() # skip nan line\n",
    "    for lines in f:\n",
    "        entry = lines.strip('\\n').split('\\t')\n",
    "        uniprot_id = entry[1]\n",
    "        string_id = entry[2]\n",
    "        uniprot_to_string[uniprot_id] = string_id\n",
    "\n",
    "# update syntoxtarg_df with string ids\n",
    "syntoxtarg_df['STRING_ID'] = syntoxtarg_df['UniProtKB_ID'].map(uniprot_to_string)\n",
    "\n",
    "# Which of the other IDs have the most overlap?\n",
    "genbank_protein_nostring_df = syntoxtarg_df[syntoxtarg_df['STRING_ID'].isna() & ~syntoxtarg_df['GenBank_Protein_ID'].isna()]\n",
    "genbank_gene_nostring_df = syntoxtarg_df[syntoxtarg_df['STRING_ID'].isna() & ~syntoxtarg_df['GenBank_Gene_ID'].isna()]\n",
    "genatlas_nostring_df = syntoxtarg_df[syntoxtarg_df['STRING_ID'].isna() & ~syntoxtarg_df['GenAtlas_ID'].isna()]\n",
    "hgnc_nostring_df = syntoxtarg_df[syntoxtarg_df['STRING_ID'].isna() & ~syntoxtarg_df['HGNC_ID'].isna()]\n",
    "\n",
    "print(\"GB Prot shape\" + str(genbank_protein_nostring_df['GenBank_Protein_ID'].unique().shape))\n",
    "print(\"GB Gene shape\" + str(genbank_gene_nostring_df['GenBank_Gene_ID'].unique().shape))\n",
    "print(\"GA shape\" + str(genatlas_nostring_df['GenAtlas_ID'].unique().shape))\n",
    "print(\"HGNC shape\" + str(hgnc_nostring_df['HGNC_ID'].unique().shape))\n",
    "\n",
    "# GB Gene looks the targets overlap, so let's start with that\n",
    "genebank_gene_ids = genbank_gene_nostring_df['GenBank_Gene_ID'].values\n",
    "with open('data_processed/drugbank_genebank_leftovers.txt', 'w') as f:\n",
    "    for gb_id in genebank_gene_ids:\n",
    "        f.write(str(gb_id) + '\\n')\n",
    "\n",
    "# Only one was found in STRING, just add manually\n",
    "syntoxtarg_df.loc[syntoxtarg_df['GenBank_Gene_ID'] == 'AJ251501', 'STRING_ID'] = '9606.ENSP00000365437'\n",
    "\n",
    "genebank_prot_ids = genbank_protein_nostring_df['GenBank_Protein_ID'].unique()\n",
    "with open('data_processed/drugbank_genebank_prot_leftovers.txt', 'w') as f:\n",
    "    for gb_id in genebank_prot_ids:\n",
    "        f.write(str(gb_id) + '\\n')\n",
    "\n",
    "# None were found in STRING\n",
    "\n",
    "genatlas_ids = genatlas_nostring_df['GenAtlas_ID'].unique()\n",
    "with open('data_processed/drugbank_genatlas_leftovers.txt', 'w') as f:\n",
    "    for ga_id in genatlas_ids:\n",
    "        f.write(str(ga_id) + '\\n')\n",
    "\n",
    "# None were found in STRING\n",
    "\n",
    "hgnc_ids = hgnc_nostring_df['HGNC_ID'].unique()\n",
    "with open('data_processed/drugbank_hgnc_leftovers.txt', 'w') as f:\n",
    "    for hgnc_id in hgnc_ids:\n",
    "        f.write(str(hgnc_id) + '\\n')\n",
    "\n",
    "# None were found in STRING\n",
    "\n",
    "completely_unknown_uniprot = syntoxtarg_df[syntoxtarg_df['STRING_ID'].isna()]['UniProtKB_ID'].unique()\n",
    "with open('data_processed/drugbank_unknown_uniprot.txt', 'w') as f:\n",
    "    for id in completely_unknown_uniprot:\n",
    "        f.write(str(id) + '\\n')\n",
    "\n",
    "print(\"Number of unknowns: \" + str(len(completely_unknown_uniprot)))\n",
    "\n",
    "# Save syntoxtarg_df with new STRING IDs\n",
    "syntoxtarg_df.to_csv('data_processed/drugbank_syntoxtarg_with_string.csv', index=False)\n"
   ]
  },
  {
   "cell_type": "code",
   "execution_count": 14,
   "metadata": {},
   "outputs": [
    {
     "name": "stdout",
     "output_type": "stream",
     "text": [
      "(1477610, 6)\n",
      "(1182858, 3)\n"
     ]
    },
    {
     "data": {
      "text/plain": [
       "591429"
      ]
     },
     "execution_count": 14,
     "metadata": {},
     "output_type": "execute_result"
    }
   ],
   "source": [
    "# Read in the STRING database into a graph, then for each combination find the minimum shortest path distance between drug targets that are available, store in a new CSV file\n",
    "\n",
    "string_edge_list_df = pd.read_csv('data/STRING/9606.protein.physical.links.detailed.v12.0.txt', sep=' ')\n",
    "print(string_edge_list_df.shape)\n",
    "string_edge_list_df.drop(columns=['database','textmining','combined_score'], inplace=True)\n",
    "string_edge_list_df = string_edge_list_df[string_edge_list_df['experimental'] != 0]\n",
    "print(string_edge_list_df.shape)\n",
    "STRING_G = nx.from_pandas_edgelist(string_edge_list_df, 'protein1', 'protein2')\n",
    "STRING_G = STRING_G.to_undirected()\n",
    "STRING_G.number_of_edges()"
   ]
  },
  {
   "cell_type": "code",
   "execution_count": null,
   "metadata": {},
   "outputs": [
    {
     "name": "stdout",
     "output_type": "stream",
     "text": [
      "Running target is: 59.0\n",
      "running count is 30.0\n",
      "1.9666666666666666\n",
      "1\n",
      "drug_row              romidepsin\n",
      "drug_col             carfilzomib\n",
      "cell_line_name              EW-8\n",
      "synergy_zip             3.397628\n",
      "synergy_loewe           -1.79354\n",
      "synergy_bliss            2.08705\n",
      "synergy_hsa             1.989756\n",
      "toxicity_category          Major\n",
      "Name: 0, dtype: object\n"
     ]
    }
   ],
   "source": [
    "# get combos\n",
    "drug_combos_df = pd.read_csv('data_processed/drugbank_filtered_combos_syntox_known_targallpw.csv')\n",
    "not_printed_first = True\n",
    "\n",
    "for index, row in drug_combos_df.iterrows():\n",
    "    drugA = row['drug_row']\n",
    "    drugB = row['drug_col']\n",
    "    A_targets = set(syntoxtarg_df[syntoxtarg_df['drug_name'] == drugA]['STRING_ID'].dropna().values)\n",
    "    B_targets = set(syntoxtarg_df[syntoxtarg_df['drug_name'] == drugB]['STRING_ID'].dropna().values)\n",
    "    min_shortest_path_dist = None\n",
    "    avg_shortest_path_dist = None\n",
    "    if len(A_targets) > 0 and len(B_targets) > 0:\n",
    "        running_target_count = 0.0\n",
    "        running_target_total = 0.0\n",
    "        for targA in A_targets:\n",
    "             for targB in B_targets:\n",
    "                  if targA in STRING_G and targB in STRING_G and targA != targB:\n",
    "                    splen = nx.shortest_path_length(STRING_G, source=targA, target=targB)\n",
    "                    if min_shortest_path_dist:\n",
    "                        min_shortest_path_dist = min(min_shortest_path_dist, splen)\n",
    "                    else:\n",
    "                        min_shortest_path_dist = splen\n",
    "                    running_target_count += 1\n",
    "                    running_target_total += splen\n",
    "        if running_target_count != 0:\n",
    "            avg_shortest_path_dist = running_target_total / running_target_count\n",
    "            if not_printed_first:\n",
    "                print(\"Running target is: \" + str(running_target_total))\n",
    "                print(\"running count is \" + str(running_target_count))\n",
    "    if not_printed_first:\n",
    "        print(avg_shortest_path_dist)\n",
    "        print(min_shortest_path_dist)\n",
    "        print(drug_combos_df.loc[index])\n",
    "        not_printed_first = False\n",
    "    drug_combos_df.at[index, 'avg_short_path_btwn_targets'] = avg_shortest_path_dist\n",
    "    drug_combos_df.at[index, 'min_short_path_btwn_targets'] = min_shortest_path_dist\n",
    "   \n",
    "\n",
    "# Save the dataframe\n",
    "drug_combos_df.to_csv('data_processed/drugbank_processed_combos_syntoxtargallpw_string.csv', index=False)\n"
   ]
  },
  {
   "cell_type": "code",
   "execution_count": 18,
   "metadata": {},
   "outputs": [
    {
     "name": "stdout",
     "output_type": "stream",
     "text": [
      "72103\n",
      "72103\n"
     ]
    }
   ],
   "source": [
    "# How many combinations actually have the shortest path distance?\n",
    "print(len(drug_combos_df['avg_short_path_btwn_targets'].dropna().values))\n",
    "print(len(drug_combos_df['min_short_path_btwn_targets'].dropna().values))"
   ]
  },
  {
   "cell_type": "code",
   "execution_count": 19,
   "metadata": {},
   "outputs": [
    {
     "name": "stdout",
     "output_type": "stream",
     "text": [
      "0\n",
      "5.0\n",
      "5.0\n",
      "1.0\n",
      "1.0\n",
      "44355\n",
      "21553\n",
      "7861\n"
     ]
    }
   ],
   "source": [
    "# Verify that the shortest path distance between the same target is 0\n",
    "test_A = '9606.ENSP00000480012'\n",
    "test_B = '9606.ENSP00000480012'\n",
    "print(nx.shortest_path_length(STRING_G, source=test_A, target=test_B))\n",
    "\n",
    "# What's the max shortest path distance in drug_combos_df?\n",
    "print(drug_combos_df['avg_short_path_btwn_targets'].max())\n",
    "print(drug_combos_df['min_short_path_btwn_targets'].max())\n",
    "\n",
    "# What's the min shortest path distance in drug_combos_df?\n",
    "print(drug_combos_df['avg_short_path_btwn_targets'].min())\n",
    "print(drug_combos_df['min_short_path_btwn_targets'].min())\n",
    "\n",
    "# How many values of \"Major\" in 'toxicity_category'?\n",
    "print(len(drug_combos_df[drug_combos_df['toxicity_category'] == 'Major']))\n",
    "print(len(drug_combos_df[drug_combos_df['toxicity_category'] == 'Moderate']))\n",
    "print(len(drug_combos_df[drug_combos_df['toxicity_category'] == 'Minor']))"
   ]
  }
 ],
 "metadata": {
  "kernelspec": {
   "display_name": "env",
   "language": "python",
   "name": "python3"
  },
  "language_info": {
   "codemirror_mode": {
    "name": "ipython",
    "version": 3
   },
   "file_extension": ".py",
   "mimetype": "text/x-python",
   "name": "python",
   "nbconvert_exporter": "python",
   "pygments_lexer": "ipython3",
   "version": "3.8.0"
  }
 },
 "nbformat": 4,
 "nbformat_minor": 2
}
