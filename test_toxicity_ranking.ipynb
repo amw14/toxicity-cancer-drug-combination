{
 "cells": [
  {
   "cell_type": "markdown",
   "metadata": {},
   "source": [
    "### Testing file for toxicity_ranking.py ###"
   ]
  },
  {
   "cell_type": "code",
   "execution_count": 1,
   "metadata": {},
   "outputs": [],
   "source": [
    "# Import everything needed\n",
    "from toxicity_ranking import *"
   ]
  },
  {
   "cell_type": "markdown",
   "metadata": {},
   "source": [
    "Test get_drug_comb_data method"
   ]
  },
  {
   "cell_type": "code",
   "execution_count": 2,
   "metadata": {},
   "outputs": [
    {
     "name": "stderr",
     "output_type": "stream",
     "text": [
      "/Users/alexwong/Research/toxicity-cancer-drug-combination/toxicity_ranking.py:17: DtypeWarning: Columns (2,7,19,22,23) have mixed types. Specify dtype option on import or set low_memory=False.\n",
      "  drugcomb_df = pd.read_csv('data/DrugComb/drugcomb_summary_v_1_5.csv', sep=',', index_col=False)\n"
     ]
    },
    {
     "name": "stdout",
     "output_type": "stream",
     "text": [
      "Original shape of drugcomb data:  (1432351, 26)\n",
      "Final shape of filtered drugcomb data:  (722344, 26)\n"
     ]
    },
    {
     "name": "stderr",
     "output_type": "stream",
     "text": [
      "/Users/alexwong/Research/toxicity-cancer-drug-combination/toxicity_ranking.py:17: DtypeWarning: Columns (2,7,19,22,23) have mixed types. Specify dtype option on import or set low_memory=False.\n",
      "  drugcomb_df = pd.read_csv('data/DrugComb/drugcomb_summary_v_1_5.csv', sep=',', index_col=False)\n"
     ]
    },
    {
     "name": "stdout",
     "output_type": "stream",
     "text": [
      "Original shape of drugcomb data:  (1432351, 26)\n",
      "Final shape of filtered drugcomb data:  (355965, 26)\n"
     ]
    },
    {
     "name": "stderr",
     "output_type": "stream",
     "text": [
      "/Users/alexwong/Research/toxicity-cancer-drug-combination/toxicity_ranking.py:17: DtypeWarning: Columns (2,7,19,22,23) have mixed types. Specify dtype option on import or set low_memory=False.\n",
      "  drugcomb_df = pd.read_csv('data/DrugComb/drugcomb_summary_v_1_5.csv', sep=',', index_col=False)\n"
     ]
    },
    {
     "name": "stdout",
     "output_type": "stream",
     "text": [
      "Original shape of drugcomb data:  (1432351, 26)\n",
      "Final shape of filtered drugcomb data:  (220919, 26)\n"
     ]
    },
    {
     "name": "stderr",
     "output_type": "stream",
     "text": [
      "/Users/alexwong/Research/toxicity-cancer-drug-combination/toxicity_ranking.py:17: DtypeWarning: Columns (2,7,19,22,23) have mixed types. Specify dtype option on import or set low_memory=False.\n",
      "  drugcomb_df = pd.read_csv('data/DrugComb/drugcomb_summary_v_1_5.csv', sep=',', index_col=False)\n"
     ]
    },
    {
     "name": "stdout",
     "output_type": "stream",
     "text": [
      "Original shape of drugcomb data:  (1432351, 26)\n",
      "Final shape of filtered drugcomb data:  (324351, 26)\n"
     ]
    },
    {
     "name": "stderr",
     "output_type": "stream",
     "text": [
      "/Users/alexwong/Research/toxicity-cancer-drug-combination/toxicity_ranking.py:17: DtypeWarning: Columns (2,7,19,22,23) have mixed types. Specify dtype option on import or set low_memory=False.\n",
      "  drugcomb_df = pd.read_csv('data/DrugComb/drugcomb_summary_v_1_5.csv', sep=',', index_col=False)\n"
     ]
    },
    {
     "name": "stdout",
     "output_type": "stream",
     "text": [
      "Original shape of drugcomb data:  (1432351, 26)\n",
      "Final shape of filtered drugcomb data:  (336229, 26)\n"
     ]
    },
    {
     "name": "stderr",
     "output_type": "stream",
     "text": [
      "/Users/alexwong/Research/toxicity-cancer-drug-combination/toxicity_ranking.py:17: DtypeWarning: Columns (2,7,19,22,23) have mixed types. Specify dtype option on import or set low_memory=False.\n",
      "  drugcomb_df = pd.read_csv('data/DrugComb/drugcomb_summary_v_1_5.csv', sep=',', index_col=False)\n"
     ]
    },
    {
     "name": "stdout",
     "output_type": "stream",
     "text": [
      "Original shape of drugcomb data:  (1432351, 26)\n",
      "Final shape of filtered drugcomb data:  (123882, 26)\n",
      "All tests passed!\n"
     ]
    }
   ],
   "source": [
    "def test_get_drug_comb_df_all_relevant_values():\n",
    "    drugcomb_df = get_drug_comb_data()\n",
    "    assert drugcomb_df.shape == (722344, 26)\n",
    "\n",
    "def test_get_drug_comb_df_filter_ant_bliss():\n",
    "    drugcomb_df = get_drug_comb_data(bliss=True)\n",
    "    assert drugcomb_df.shape == (355965, 26)\n",
    "    bliss_scores = drugcomb_df['synergy_bliss'].values\n",
    "    assert all([x >= 0 for x in bliss_scores])\n",
    "\n",
    "def test_get_drug_comb_df_filter_ant_loewe():\n",
    "    drugcomb_df = get_drug_comb_data(loewe=True)\n",
    "    assert drugcomb_df.shape == (220919, 26)\n",
    "    loewe_scores = drugcomb_df['synergy_loewe'].values\n",
    "    assert all([x >= 0 for x in loewe_scores])\n",
    "\n",
    "def test_get_drug_comb_df_filter_ant_hsa():\n",
    "    drugcomb_df = get_drug_comb_data(hsa=True)\n",
    "    assert drugcomb_df.shape == (324351, 26)\n",
    "    hsa_scores = drugcomb_df['synergy_hsa'].values\n",
    "    assert all([x >= 0 for x in hsa_scores])\n",
    "\n",
    "def test_get_drug_comb_df_filter_ant_zip():\n",
    "    drugcomb_df = get_drug_comb_data(zip=True)\n",
    "    assert drugcomb_df.shape == (336229, 26)\n",
    "    zip_scores = drugcomb_df['synergy_zip'].values\n",
    "    assert all([x >= 0 for x in zip_scores])\n",
    "\n",
    "def test_get_drug_comb_df_filter_ant_all():\n",
    "    drugcomb_df = get_drug_comb_data(bliss=True, loewe=True, hsa=True, zip=True)\n",
    "    bliss_scores = drugcomb_df['synergy_bliss'].values\n",
    "    loewe_scores = drugcomb_df['synergy_loewe'].values\n",
    "    hsa_scores = drugcomb_df['synergy_hsa'].values\n",
    "    zip_scores = drugcomb_df['synergy_zip'].values\n",
    "    assert all([x >= 0 for x in bliss_scores])\n",
    "    assert all([x >= 0 for x in loewe_scores])\n",
    "    assert all([x >= 0 for x in hsa_scores])\n",
    "    assert all([x >= 0 for x in zip_scores])\n",
    "    assert drugcomb_df.shape == (123882, 26)\n",
    "\n",
    "    # Original shape of drugcomb data:  (1432351, 26)\n",
    "    # Shape after filtering out malaria and SARS-CoV-2 and Ebola data:  (722344, 26)\n",
    "    # Shape after filtering out antagonistic bliss:  (355965, 26)\n",
    "    # Shape after filtering out antagonistic loewe:  (162283, 26)\n",
    "    # Shape after filtering out antagonistic hsa:  (149580, 26)\n",
    "    # Shape after filtering out antagonistic zip:  (123882, 26)\n",
    "    # Final shape of filtered drugcomb data:  (123882, 26)\n",
    "\n",
    "test_get_drug_comb_df_all_relevant_values()\n",
    "test_get_drug_comb_df_filter_ant_bliss()\n",
    "test_get_drug_comb_df_filter_ant_loewe()\n",
    "test_get_drug_comb_df_filter_ant_hsa()\n",
    "test_get_drug_comb_df_filter_ant_zip()\n",
    "\n",
    "test_get_drug_comb_df_filter_ant_all()\n",
    "\n",
    "print(\"All tests passed!\")"
   ]
  },
  {
   "cell_type": "markdown",
   "metadata": {},
   "source": [
    "Test get_sider_data method"
   ]
  },
  {
   "cell_type": "code",
   "execution_count": 3,
   "metadata": {},
   "outputs": [
    {
     "name": "stdout",
     "output_type": "stream",
     "text": [
      "All tests passed!\n"
     ]
    }
   ],
   "source": [
    "def test_get_sider_data():\n",
    "    sider_cid_to_drugs_df, sider_all_side_effects_df = get_sider_data()\n",
    "    assert sider_cid_to_drugs_df.shape == (1429, 2)\n",
    "    assert sider_all_side_effects_df.shape == (309848, 6)\n",
    "\n",
    "test_get_sider_data()\n",
    "print(\"All tests passed!\")"
   ]
  },
  {
   "cell_type": "markdown",
   "metadata": {},
   "source": [
    "Test filter_drug_comb_data"
   ]
  },
  {
   "cell_type": "code",
   "execution_count": 4,
   "metadata": {},
   "outputs": [
    {
     "name": "stderr",
     "output_type": "stream",
     "text": [
      "/Users/alexwong/Research/toxicity-cancer-drug-combination/toxicity_ranking.py:17: DtypeWarning: Columns (2,7,19,22,23) have mixed types. Specify dtype option on import or set low_memory=False.\n",
      "  drugcomb_df = pd.read_csv('data/DrugComb/drugcomb_summary_v_1_5.csv', sep=',', index_col=False)\n"
     ]
    },
    {
     "name": "stdout",
     "output_type": "stream",
     "text": [
      "Original shape of drugcomb data:  (1432351, 26)\n",
      "Final shape of filtered drugcomb data:  (123882, 26)\n",
      "Original drugcomb data shape:  (123882, 26)\n",
      "Number of drugs in common between drugcomb and sider [lowercase enforced]:  401\n",
      "Filtered drugcomb data shape for both drugs being present in sider:  (20824, 26)\n",
      "Number of unique drug pairs:  6552\n",
      "All tests passed!\n"
     ]
    }
   ],
   "source": [
    "drugcomb_df = get_drug_comb_data(bliss=True, loewe=True, hsa=True, zip=True)\n",
    "sider_cid_to_drugs_df, sider_all_side_effects_df = get_sider_data()\n",
    "\n",
    "filtered_drug_comb_data, common_drugs, unique_drug_pairs = filter_drug_comb_data_by_sider(drugcomb_df, sider_cid_to_drugs_df)\n",
    "\n",
    "def test_filter_drug_comb_data():\n",
    "    assert filtered_drug_comb_data.shape == (20824, 26)\n",
    "    assert len(unique_drug_pairs) == 6552\n",
    "\n",
    "    # Verify if there are any repeated drug pairs\n",
    "    example_one = ('methotrexate', 'fenoprofen')\n",
    "    example_two = ('fenoprofen', 'methotrexate')\n",
    "    assert example_one in unique_drug_pairs\n",
    "    assert example_two not in unique_drug_pairs\n",
    "\n",
    "test_filter_drug_comb_data()\n",
    "print(\"All tests passed!\")"
   ]
  },
  {
   "cell_type": "markdown",
   "metadata": {},
   "source": [
    "Test the get_drug_to_side_effects method"
   ]
  },
  {
   "cell_type": "code",
   "execution_count": 5,
   "metadata": {},
   "outputs": [
    {
     "name": "stdout",
     "output_type": "stream",
     "text": [
      "All tests passed!\n"
     ]
    }
   ],
   "source": [
    "def test_get_drug_to_side_effects():\n",
    "    drug_to_side_effects = get_drug_to_side_effects(sider_cid_to_drugs_df, sider_all_side_effects_df)\n",
    "    assert len(drug_to_side_effects['dutasteride']) == 47\n",
    "    assert len(drug_to_side_effects['mebendazole']) == 13\n",
    "    assert len(drug_to_side_effects['testolactone']) == 16\n",
    "\n",
    "test_get_drug_to_side_effects()\n",
    "\n",
    "print(\"All tests passed!\")"
   ]
  },
  {
   "cell_type": "markdown",
   "metadata": {},
   "source": [
    "Test jaccard_similarity method"
   ]
  },
  {
   "cell_type": "code",
   "execution_count": 6,
   "metadata": {},
   "outputs": [
    {
     "name": "stdout",
     "output_type": "stream",
     "text": [
      "All tests passed!\n"
     ]
    }
   ],
   "source": [
    "def test_jaccard_similarity_equal():\n",
    "    # Equal sets\n",
    "    s1 = set([\"Alopecia\", \"Vomiting\", \"Diarrhea\"])\n",
    "    s2 = set([\"Alopecia\", \"Vomiting\", \"Diarrhea\"])\n",
    "    assert jaccard_similarity(s1, s2) == 1.0\n",
    "\n",
    "def test_jaccard_similarity_disjoint():\n",
    "    # Disjoint sets\n",
    "    s1 = set([\"Alopecia\", \"Vomiting\", \"Diarrhea\"])\n",
    "    s2 = set([\"Anorexia\", \"Hypertension\", \"Nausea\"])\n",
    "    assert jaccard_similarity(s1, s2) == 0.0\n",
    "\n",
    "def test_jaccard_similarity_partial_overlap():\n",
    "    # Partial overlap\n",
    "    s1 = set([\"Alopecia\", \"Vomiting\", \"Diarrhea\"])\n",
    "    s2 = set([\"Alopecia\", \"Hypertension\", \"Nausea\"])\n",
    "    assert jaccard_similarity(s1, s2) == 1/5\n",
    "\n",
    "\n",
    "test_jaccard_similarity_equal()\n",
    "test_jaccard_similarity_disjoint()\n",
    "test_jaccard_similarity_partial_overlap()\n",
    "print(\"All tests passed!\")"
   ]
  },
  {
   "cell_type": "markdown",
   "metadata": {},
   "source": [
    "Test drug_pair_to_jaccard_similarity"
   ]
  },
  {
   "cell_type": "code",
   "execution_count": 7,
   "metadata": {},
   "outputs": [
    {
     "name": "stdout",
     "output_type": "stream",
     "text": [
      "All tests passed!\n"
     ]
    }
   ],
   "source": [
    "drug_pair_to_jaccard, drug_pair_to_side_effects = drug_pair_to_jaccard_similarity(unique_drug_pairs, sider_cid_to_drugs_df, sider_all_side_effects_df)\n",
    "def test_drug_pair_to_jaccard_similarity():\n",
    "    assert drug_pair_to_jaccard[('clofarabine', 'clofarabine')] == 1.0\n",
    "    assert drug_pair_to_jaccard[('dopamine', 'chlorzoxazone')] == 0.0\n",
    "\n",
    "test_drug_pair_to_jaccard_similarity()\n",
    "print(\"All tests passed!\")"
   ]
  },
  {
   "cell_type": "markdown",
   "metadata": {},
   "source": [
    "Test the rank_drug_pairs method"
   ]
  },
  {
   "cell_type": "code",
   "execution_count": 8,
   "metadata": {},
   "outputs": [
    {
     "name": "stdout",
     "output_type": "stream",
     "text": [
      "[(('ponatinib', 'ponatinib'), 1.0), (('vemurafenib', 'vemurafenib'), 1.0), (('trametinib', 'trametinib'), 1.0), (('temozolomide', 'temozolomide'), 1.0), (('clofarabine', 'clofarabine'), 1.0), (('cladribine', 'cladribine'), 1.0), (('acarbose', 'miglitol'), 0.45652173913043476), (('acamprosate', 'tiagabine'), 0.44537815126050423), (('exemestane', 'letrozole'), 0.4423076923076923), (('imatinib', 'nilotinib'), 0.43548387096774194)]\n",
      "[(('paromomycin', 'doxorubicin'), 0.005758157389635317), (('paromomycin', 'bortezomib'), 0.004815409309791332), (('dutasteride', 'etomidate'), 0.0), (('testolactone', 'dutasteride'), 0.0), (('etomidate', 'paromomycin'), 0.0), (('testolactone', 'mebendazole'), 0.0), (('monobenzone', 'temozolomide'), 0.0), (('mebendazole', 'epinephrine'), 0.0), (('paromomycin', 'disulfiram'), 0.0), (('dopamine', 'chlorzoxazone'), 0.0)]\n"
     ]
    }
   ],
   "source": [
    "def test_rank_drug_pairs():\n",
    "    ranked_drug_pairs = rank_drug_pairs(drug_pair_to_jaccard)\n",
    "    print(ranked_drug_pairs[:10])\n",
    "    print(ranked_drug_pairs[-10:])\n",
    "\n",
    "test_rank_drug_pairs()"
   ]
  },
  {
   "cell_type": "markdown",
   "metadata": {},
   "source": [
    "Test cosine_similarity method"
   ]
  },
  {
   "cell_type": "code",
   "execution_count": 9,
   "metadata": {},
   "outputs": [],
   "source": [
    "# Get the cosine similarity of two embedding arrays\n",
    "# INPUT:\n",
    "#   embedding1: (np.array) the first embedding array\n",
    "#   embedding2: (np.array) the second embedding array\n",
    "# OUTPUT:\n",
    "#   (float) the cosine similarity of the two embedding arrays\n",
    "def cosine_similarity(embedding1, embedding2):\n",
    "    # Reshape the arrays to match the expected input shape of cosine_similarity\n",
    "    # embedding1 = embedding1.reshape(1, -1)\n",
    "    # embedding2 = embedding2.reshape(1, -1)\n",
    "\n",
    "    # Calculate the cosine similarity\n",
    "    cs = cosine_similarity(embedding1, embedding2) \n",
    "    print(cs)\n",
    "    print(cs.shape)"
   ]
  },
  {
   "cell_type": "markdown",
   "metadata": {},
   "source": []
  }
 ],
 "metadata": {
  "kernelspec": {
   "display_name": "env",
   "language": "python",
   "name": "python3"
  },
  "language_info": {
   "codemirror_mode": {
    "name": "ipython",
    "version": 3
   },
   "file_extension": ".py",
   "mimetype": "text/x-python",
   "name": "python",
   "nbconvert_exporter": "python",
   "pygments_lexer": "ipython3",
   "version": "3.8.0"
  }
 },
 "nbformat": 4,
 "nbformat_minor": 2
}
