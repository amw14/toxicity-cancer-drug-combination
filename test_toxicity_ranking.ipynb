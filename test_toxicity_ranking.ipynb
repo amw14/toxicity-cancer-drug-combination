{
 "cells": [
  {
   "cell_type": "markdown",
   "metadata": {},
   "source": [
    "### Testing file for toxicity_ranking.py ###"
   ]
  },
  {
   "cell_type": "code",
   "execution_count": 1,
   "metadata": {},
   "outputs": [],
   "source": [
    "# Import everything needed\n",
    "from toxicity_ranking import *"
   ]
  },
  {
   "cell_type": "markdown",
   "metadata": {},
   "source": [
    "Test get_drug_comb_data method"
   ]
  },
  {
   "cell_type": "code",
   "execution_count": 2,
   "metadata": {},
   "outputs": [
    {
     "name": "stderr",
     "output_type": "stream",
     "text": [
      "/Users/alexwong/Research/toxicity-cancer-drug-combination/toxicity_ranking.py:13: DtypeWarning: Columns (2,7,19,22,23) have mixed types. Specify dtype option on import or set low_memory=False.\n",
      "  drugcomb_df = pd.read_csv('data/DrugComb/drugcomb_summary_v_1_5.csv', sep=',', index_col=False)\n"
     ]
    },
    {
     "name": "stdout",
     "output_type": "stream",
     "text": [
      "Original shape of drugcomb data:  (1432351, 26)\n",
      "Final shape of filtered drugcomb data:  (722344, 26)\n"
     ]
    },
    {
     "name": "stderr",
     "output_type": "stream",
     "text": [
      "/Users/alexwong/Research/toxicity-cancer-drug-combination/toxicity_ranking.py:13: DtypeWarning: Columns (2,7,19,22,23) have mixed types. Specify dtype option on import or set low_memory=False.\n",
      "  drugcomb_df = pd.read_csv('data/DrugComb/drugcomb_summary_v_1_5.csv', sep=',', index_col=False)\n"
     ]
    },
    {
     "name": "stdout",
     "output_type": "stream",
     "text": [
      "Original shape of drugcomb data:  (1432351, 26)\n",
      "Final shape of filtered drugcomb data:  (355965, 26)\n"
     ]
    },
    {
     "name": "stderr",
     "output_type": "stream",
     "text": [
      "/Users/alexwong/Research/toxicity-cancer-drug-combination/toxicity_ranking.py:13: DtypeWarning: Columns (2,7,19,22,23) have mixed types. Specify dtype option on import or set low_memory=False.\n",
      "  drugcomb_df = pd.read_csv('data/DrugComb/drugcomb_summary_v_1_5.csv', sep=',', index_col=False)\n"
     ]
    },
    {
     "name": "stdout",
     "output_type": "stream",
     "text": [
      "Original shape of drugcomb data:  (1432351, 26)\n",
      "Final shape of filtered drugcomb data:  (220919, 26)\n"
     ]
    },
    {
     "name": "stderr",
     "output_type": "stream",
     "text": [
      "/Users/alexwong/Research/toxicity-cancer-drug-combination/toxicity_ranking.py:13: DtypeWarning: Columns (2,7,19,22,23) have mixed types. Specify dtype option on import or set low_memory=False.\n",
      "  drugcomb_df = pd.read_csv('data/DrugComb/drugcomb_summary_v_1_5.csv', sep=',', index_col=False)\n"
     ]
    },
    {
     "name": "stdout",
     "output_type": "stream",
     "text": [
      "Original shape of drugcomb data:  (1432351, 26)\n",
      "Final shape of filtered drugcomb data:  (324351, 26)\n"
     ]
    },
    {
     "name": "stderr",
     "output_type": "stream",
     "text": [
      "/Users/alexwong/Research/toxicity-cancer-drug-combination/toxicity_ranking.py:13: DtypeWarning: Columns (2,7,19,22,23) have mixed types. Specify dtype option on import or set low_memory=False.\n",
      "  drugcomb_df = pd.read_csv('data/DrugComb/drugcomb_summary_v_1_5.csv', sep=',', index_col=False)\n"
     ]
    },
    {
     "name": "stdout",
     "output_type": "stream",
     "text": [
      "Original shape of drugcomb data:  (1432351, 26)\n",
      "Final shape of filtered drugcomb data:  (336229, 26)\n"
     ]
    },
    {
     "name": "stderr",
     "output_type": "stream",
     "text": [
      "/Users/alexwong/Research/toxicity-cancer-drug-combination/toxicity_ranking.py:13: DtypeWarning: Columns (2,7,19,22,23) have mixed types. Specify dtype option on import or set low_memory=False.\n",
      "  drugcomb_df = pd.read_csv('data/DrugComb/drugcomb_summary_v_1_5.csv', sep=',', index_col=False)\n"
     ]
    },
    {
     "name": "stdout",
     "output_type": "stream",
     "text": [
      "Original shape of drugcomb data:  (1432351, 26)\n",
      "Final shape of filtered drugcomb data:  (123882, 26)\n",
      "All tests passed!\n"
     ]
    }
   ],
   "source": [
    "def test_get_drug_comb_df_all_relevant_values():\n",
    "    drugcomb_df = get_drug_comb_data()\n",
    "    assert drugcomb_df.shape == (722344, 26)\n",
    "\n",
    "def test_get_drug_comb_df_filter_ant_bliss():\n",
    "    drugcomb_df = get_drug_comb_data(bliss=True)\n",
    "    assert drugcomb_df.shape == (355965, 26)\n",
    "    bliss_scores = drugcomb_df['synergy_bliss'].values\n",
    "    assert all([x >= 0 for x in bliss_scores])\n",
    "\n",
    "def test_get_drug_comb_df_filter_ant_loewe():\n",
    "    drugcomb_df = get_drug_comb_data(loewe=True)\n",
    "    assert drugcomb_df.shape == (220919, 26)\n",
    "    loewe_scores = drugcomb_df['synergy_loewe'].values\n",
    "    assert all([x >= 0 for x in loewe_scores])\n",
    "\n",
    "def test_get_drug_comb_df_filter_ant_hsa():\n",
    "    drugcomb_df = get_drug_comb_data(hsa=True)\n",
    "    assert drugcomb_df.shape == (324351, 26)\n",
    "    hsa_scores = drugcomb_df['synergy_hsa'].values\n",
    "    assert all([x >= 0 for x in hsa_scores])\n",
    "\n",
    "def test_get_drug_comb_df_filter_ant_zip():\n",
    "    drugcomb_df = get_drug_comb_data(zip=True)\n",
    "    assert drugcomb_df.shape == (336229, 26)\n",
    "    zip_scores = drugcomb_df['synergy_zip'].values\n",
    "    assert all([x >= 0 for x in zip_scores])\n",
    "\n",
    "def test_get_drug_comb_df_filter_ant_all():\n",
    "    drugcomb_df = get_drug_comb_data(bliss=True, loewe=True, hsa=True, zip=True)\n",
    "    bliss_scores = drugcomb_df['synergy_bliss'].values\n",
    "    loewe_scores = drugcomb_df['synergy_loewe'].values\n",
    "    hsa_scores = drugcomb_df['synergy_hsa'].values\n",
    "    zip_scores = drugcomb_df['synergy_zip'].values\n",
    "    assert all([x >= 0 for x in bliss_scores])\n",
    "    assert all([x >= 0 for x in loewe_scores])\n",
    "    assert all([x >= 0 for x in hsa_scores])\n",
    "    assert all([x >= 0 for x in zip_scores])\n",
    "    assert drugcomb_df.shape == (123882, 26)\n",
    "\n",
    "    # Original shape of drugcomb data:  (1432351, 26)\n",
    "    # Shape after filtering out malaria and SARS-CoV-2 and Ebola data:  (722344, 26)\n",
    "    # Shape after filtering out antagonistic bliss:  (355965, 26)\n",
    "    # Shape after filtering out antagonistic loewe:  (162283, 26)\n",
    "    # Shape after filtering out antagonistic hsa:  (149580, 26)\n",
    "    # Shape after filtering out antagonistic zip:  (123882, 26)\n",
    "    # Final shape of filtered drugcomb data:  (123882, 26)\n",
    "\n",
    "test_get_drug_comb_df_all_relevant_values()\n",
    "test_get_drug_comb_df_filter_ant_bliss()\n",
    "test_get_drug_comb_df_filter_ant_loewe()\n",
    "test_get_drug_comb_df_filter_ant_hsa()\n",
    "test_get_drug_comb_df_filter_ant_zip()\n",
    "\n",
    "test_get_drug_comb_df_filter_ant_all()\n",
    "\n",
    "print(\"All tests passed!\")"
   ]
  },
  {
   "cell_type": "markdown",
   "metadata": {},
   "source": [
    "Test get_sider_data method"
   ]
  },
  {
   "cell_type": "code",
   "execution_count": 3,
   "metadata": {},
   "outputs": [
    {
     "name": "stdout",
     "output_type": "stream",
     "text": [
      "All tests passed!\n"
     ]
    }
   ],
   "source": [
    "def test_get_sider_data():\n",
    "    sider_cid_to_drugs_df, sider_all_side_effects_df = get_sider_data()\n",
    "    assert sider_cid_to_drugs_df.shape == (1429, 2)\n",
    "    assert sider_all_side_effects_df.shape == (309848, 6)\n",
    "\n",
    "test_get_sider_data()\n",
    "print(\"All tests passed!\")"
   ]
  },
  {
   "cell_type": "markdown",
   "metadata": {},
   "source": [
    "Test filter_drug_comb_data"
   ]
  },
  {
   "cell_type": "code",
   "execution_count": 4,
   "metadata": {},
   "outputs": [
    {
     "name": "stderr",
     "output_type": "stream",
     "text": [
      "/Users/alexwong/Research/toxicity-cancer-drug-combination/toxicity_ranking.py:13: DtypeWarning: Columns (2,7,19,22,23) have mixed types. Specify dtype option on import or set low_memory=False.\n",
      "  drugcomb_df = pd.read_csv('data/DrugComb/drugcomb_summary_v_1_5.csv', sep=',', index_col=False)\n"
     ]
    },
    {
     "name": "stdout",
     "output_type": "stream",
     "text": [
      "Original shape of drugcomb data:  (1432351, 26)\n",
      "Final shape of filtered drugcomb data:  (123882, 26)\n",
      "Original drugcomb data shape:  (123882, 26)\n",
      "Number of drugs in common between drugcomb and sider [lowercase enforced]:  401\n",
      "Filtered drugcomb data shape for both drugs being present in sider:  (20824, 26)\n",
      "Number of unique drug pairs:  6552\n",
      "Example 1 is correctly in unique_drug_pairs:  True\n",
      "Example 2 is correctly NOT in unique_drug_pairs:  True\n"
     ]
    }
   ],
   "source": [
    "drugcomb_df = get_drug_comb_data(bliss=True, loewe=True, hsa=True, zip=True)\n",
    "sider_cid_to_drugs_df, sider_all_side_effects_df = get_sider_data()\n",
    "\n",
    "filtered_drug_comb_data, common_drugs, unique_drug_pairs = filter_drug_comb_data(drugcomb_df, sider_cid_to_drugs_df)\n",
    "\n",
    "# Verify if there are any repeated drug pairs\n",
    "example_one = ('methotrexate', 'fenoprofen')\n",
    "example_two = ('fenoprofen', 'methotrexate')\n",
    "print(\"Example 1 is correctly in unique_drug_pairs: \", example_one in unique_drug_pairs)\n",
    "print(\"Example 2 is correctly NOT in unique_drug_pairs: \", example_two not in unique_drug_pairs)"
   ]
  },
  {
   "cell_type": "markdown",
   "metadata": {},
   "source": [
    "Test jaccard_similarity method"
   ]
  },
  {
   "cell_type": "code",
   "execution_count": 5,
   "metadata": {},
   "outputs": [
    {
     "name": "stdout",
     "output_type": "stream",
     "text": [
      "All tests passed!\n"
     ]
    }
   ],
   "source": [
    "def test_jaccard_similarity_equal():\n",
    "    # Equal sets\n",
    "    s1 = set([\"Alopecia\", \"Vomiting\", \"Diarrhea\"])\n",
    "    s2 = set([\"Alopecia\", \"Vomiting\", \"Diarrhea\"])\n",
    "    assert jaccard_similarity(s1, s2) == 1.0\n",
    "\n",
    "def test_jaccard_similarity_disjoint():\n",
    "    # Disjoint sets\n",
    "    s1 = set([\"Alopecia\", \"Vomiting\", \"Diarrhea\"])\n",
    "    s2 = set([\"Anorexia\", \"Hypertension\", \"Nausea\"])\n",
    "    assert jaccard_similarity(s1, s2) == 0.0\n",
    "\n",
    "def test_jaccard_similarity_partial_overlap():\n",
    "    # Partial overlap\n",
    "    s1 = set([\"Alopecia\", \"Vomiting\", \"Diarrhea\"])\n",
    "    s2 = set([\"Alopecia\", \"Hypertension\", \"Nausea\"])\n",
    "    assert jaccard_similarity(s1, s2) == 1/5\n",
    "\n",
    "\n",
    "test_jaccard_similarity_equal()\n",
    "test_jaccard_similarity_disjoint()\n",
    "test_jaccard_similarity_partial_overlap()\n",
    "print(\"All tests passed!\")"
   ]
  },
  {
   "cell_type": "markdown",
   "metadata": {},
   "source": [
    "Get the jaccard similarity for all the unique drug pairs, plot a distribution"
   ]
  },
  {
   "cell_type": "code",
   "execution_count": 14,
   "metadata": {},
   "outputs": [],
   "source": [
    "# Create a dictionary to store the Jaccard similarity of each drug pair\n",
    "drug_pair_to_jaccard = {}\n",
    "drug_pair_to_side_effects = {}\n",
    "\n",
    "# Loop through each drug pair in unique_drug_pairs\n",
    "for drug_pair in unique_drug_pairs:\n",
    "    # Get the drugs in the pair\n",
    "    drug1_name, drug2_name = drug_pair\n",
    "    drug1_CID = sider_cid_to_drugs_df[sider_cid_to_drugs_df['drug_name'] == drug1_name]['CID'].values[0]\n",
    "    drug2_CID = sider_cid_to_drugs_df[sider_cid_to_drugs_df['drug_name'] == drug2_name]['CID'].values[0]\n",
    "\n",
    "    # Get the side effects of each drug\n",
    "    side_effects1 = sider_all_side_effects_df[sider_all_side_effects_df['CID_FLAT'] == drug1_CID]['Side_Effect'].values\n",
    "    side_effects2 = sider_all_side_effects_df[sider_all_side_effects_df['CID_FLAT'] == drug2_CID]['Side_Effect'].values\n",
    "\n",
    "    # Calculate the Jaccard similarity of the side effects\n",
    "    jaccard = jaccard_similarity(set(side_effects1), set(side_effects2))\n",
    "\n",
    "    # Store the Jaccard similarity in the dictionary\n",
    "    drug_pair_to_jaccard[drug_pair] = jaccard\n",
    "    drug_pair_to_side_effects[drug_pair] = (side_effects1, side_effects2)"
   ]
  },
  {
   "cell_type": "markdown",
   "metadata": {},
   "source": [
    "Create histogram of jaccard distribution"
   ]
  },
  {
   "cell_type": "code",
   "execution_count": 18,
   "metadata": {},
   "outputs": [
    {
     "data": {
      "image/png": "[encoded data removed]",
      "text/plain": [
       "<Figure size 640x480 with 1 Axes>"
      ]
     },
     "metadata": {},
     "output_type": "display_data"
    }
   ],
   "source": [
    "# Create a histogram of the jaccard similarities stored in the drug_pair_to_jaccard dictionary\n",
    "import matplotlib.pyplot as plt\n",
    "jaccard_values = list(drug_pair_to_jaccard.values())\n",
    "plt.hist(jaccard_values, bins=200)\n",
    "plt.xlabel('Jaccard Similarity')\n",
    "plt.ylabel('Drug Pair Frequency')\n",
    "plt.title('Jaccard Similarity of Drug Pair Side Effects')\n",
    "plt.savefig('results/jaccard_similarity_histogram.png')"
   ]
  },
  {
   "cell_type": "code",
   "execution_count": 17,
   "metadata": {},
   "outputs": [
    {
     "name": "stdout",
     "output_type": "stream",
     "text": [
      "(('temozolomide', 'temozolomide'), 1.0)\n",
      "(('cladribine', 'cladribine'), 1.0)\n",
      "(('clofarabine', 'clofarabine'), 1.0)\n",
      "(('vemurafenib', 'vemurafenib'), 1.0)\n",
      "(('ponatinib', 'ponatinib'), 1.0)\n",
      "(('trametinib', 'trametinib'), 1.0)\n",
      "(('acarbose', 'miglitol'), 0.45652173913043476)\n",
      "(('acamprosate', 'tiagabine'), 0.44537815126050423)\n",
      "(('exemestane', 'letrozole'), 0.4423076923076923)\n",
      "(('imatinib', 'nilotinib'), 0.43548387096774194)\n"
     ]
    }
   ],
   "source": [
    "# Rank the drug pairs by Jaccard similarity\n",
    "\n",
    "# zip the drug pairs and their Jaccard similarities\n",
    "drug_pairs = list(drug_pair_to_jaccard.keys())\n",
    "jaccard_values = list(drug_pair_to_jaccard.values())\n",
    "zipped = list(zip(drug_pairs, jaccard_values))\n",
    "\n",
    "# sort the zipped list by Jaccard similarity\n",
    "zipped.sort(key=lambda x: x[1], reverse=True)\n",
    "\n",
    "# Print the top 10 drug pairs and their Jaccard similarities\n",
    "for i in range(10):\n",
    "    print(zipped[i])"
   ]
  },
  {
   "cell_type": "code",
   "execution_count": 19,
   "metadata": {},
   "outputs": [
    {
     "name": "stdout",
     "output_type": "stream",
     "text": [
      "(('mebendazole', 'epinephrine'), 0.0)\n",
      "(('dutasteride', 'etomidate'), 0.0)\n",
      "(('etomidate', 'paromomycin'), 0.0)\n",
      "(('monobenzone', 'temozolomide'), 0.0)\n",
      "(('testolactone', 'mebendazole'), 0.0)\n",
      "(('testolactone', 'dutasteride'), 0.0)\n",
      "(('dopamine', 'chlorzoxazone'), 0.0)\n",
      "(('paromomycin', 'disulfiram'), 0.0)\n",
      "(('paromomycin', 'bortezomib'), 0.004815409309791332)\n",
      "(('paromomycin', 'doxorubicin'), 0.005758157389635317)\n"
     ]
    }
   ],
   "source": [
    "# Print the bottom 10 drug pairs and their Jaccard similarities\n",
    "for i in range(10):\n",
    "    print(zipped[-i-1])\n",
    "\n",
    "    "
   ]
  }
 ],
 "metadata": {
  "kernelspec": {
   "display_name": "env",
   "language": "python",
   "name": "python3"
  },
  "language_info": {
   "codemirror_mode": {
    "name": "ipython",
    "version": 3
   },
   "file_extension": ".py",
   "mimetype": "text/x-python",
   "name": "python",
   "nbconvert_exporter": "python",
   "pygments_lexer": "ipython3",
   "version": "3.8.0"
  }
 },
 "nbformat": 4,
 "nbformat_minor": 2
}
