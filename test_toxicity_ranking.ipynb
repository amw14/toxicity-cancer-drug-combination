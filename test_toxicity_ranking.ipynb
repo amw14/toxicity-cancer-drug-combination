{
 "cells": [
  {
   "cell_type": "markdown",
   "metadata": {},
   "source": [
    "### Testing file for toxicity_ranking.py ###"
   ]
  },
  {
   "cell_type": "code",
   "execution_count": 1,
   "metadata": {},
   "outputs": [],
   "source": [
    "# Import everything needed\n",
    "from toxicity_ranking import *"
   ]
  },
  {
   "cell_type": "markdown",
   "metadata": {},
   "source": [
    "Test jaccard_similarity method"
   ]
  },
  {
   "cell_type": "code",
   "execution_count": 4,
   "metadata": {},
   "outputs": [
    {
     "name": "stdout",
     "output_type": "stream",
     "text": [
      "All tests passed!\n"
     ]
    }
   ],
   "source": [
    "def test_jaccard_similarity_equal():\n",
    "    # Equal sets\n",
    "    s1 = set([\"Alopecia\", \"Vomiting\", \"Diarrhea\"])\n",
    "    s2 = set([\"Alopecia\", \"Vomiting\", \"Diarrhea\"])\n",
    "    assert jaccard_similarity(s1, s2) == 1.0\n",
    "\n",
    "def test_jaccard_similarity_disjoint():\n",
    "    # Disjoint sets\n",
    "    s1 = set([\"Alopecia\", \"Vomiting\", \"Diarrhea\"])\n",
    "    s2 = set([\"Anorexia\", \"Hypertension\", \"Nausea\"])\n",
    "    assert jaccard_similarity(s1, s2) == 0.0\n",
    "\n",
    "def test_jaccard_similarity_partial_overlap():\n",
    "    # Partial overlap\n",
    "    s1 = set([\"Alopecia\", \"Vomiting\", \"Diarrhea\"])\n",
    "    s2 = set([\"Alopecia\", \"Hypertension\", \"Nausea\"])\n",
    "    assert jaccard_similarity(s1, s2) == 1/5\n",
    "\n",
    "\n",
    "test_jaccard_similarity_equal()\n",
    "test_jaccard_similarity_disjoint()\n",
    "test_jaccard_similarity_partial_overlap()\n",
    "print(\"All tests passed!\")"
   ]
  }
 ],
 "metadata": {
  "kernelspec": {
   "display_name": "env",
   "language": "python",
   "name": "python3"
  },
  "language_info": {
   "codemirror_mode": {
    "name": "ipython",
    "version": 3
   },
   "file_extension": ".py",
   "mimetype": "text/x-python",
   "name": "python",
   "nbconvert_exporter": "python",
   "pygments_lexer": "ipython3",
   "version": "3.8.0"
  }
 },
 "nbformat": 4,
 "nbformat_minor": 2
}
