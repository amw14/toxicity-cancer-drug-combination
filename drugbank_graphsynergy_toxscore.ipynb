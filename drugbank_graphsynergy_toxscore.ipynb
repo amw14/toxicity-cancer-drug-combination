{
 "cells": [
  {
   "cell_type": "markdown",
   "metadata": {},
   "source": [
    "# DRUGBANK GraphSynergy Toxicity Score Analysis #\n",
    "\n",
    "- GraphSynergy paper can be found here: https://academic.oup.com/jamia/article/28/11/2336/6362567?login=true#305111898"
   ]
  },
  {
   "cell_type": "code",
   "execution_count": 1,
   "metadata": {},
   "outputs": [],
   "source": [
    "# Import everything needed\n",
    "from matplotlib.patches import Patch\n",
    "from scipy import stats\n",
    "from sklearn.metrics import r2_score\n",
    "from statsmodels.stats.multitest import multipletests\n",
    "from toxicity_ranking import *\n",
    "import networkx as nx\n",
    "import numpy as np\n",
    "import pandas as pd\n",
    "import matplotlib.pyplot as plt\n",
    "import scikit_posthocs as sp\n",
    "import seaborn as sns"
   ]
  },
  {
   "cell_type": "markdown",
   "metadata": {},
   "source": [
    "GraphSynergy creates toxicity score embeddings by:\n",
    "1. Aggregating the all neighbors within 2 degrees of drugs' two_hop proteins on a PPIN\n",
    "2. Creating a similarity score by computing the inner product of drug embeddings\n",
    "\n",
    "So let's examine each of these options in how well toxicity category distributions are (Kruskal Wallis) and if there is a relationship in increasing order with the toxicity categories (Jonckheere Terpestra Test)"
   ]
  },
  {
   "cell_type": "code",
   "execution_count": 2,
   "metadata": {},
   "outputs": [
    {
     "name": "stdout",
     "output_type": "stream",
     "text": [
      "(1477610, 6)\n",
      "(1182858, 3)\n",
      "591429\n"
     ]
    }
   ],
   "source": [
    "# Get the STRING database and read it into a graph\n",
    "\n",
    "string_edge_list_df = pd.read_csv('data/STRING/9606.protein.physical.links.detailed.v12.0.txt', sep=' ')\n",
    "print(string_edge_list_df.shape)\n",
    "string_edge_list_df.drop(columns=['database','textmining','combined_score'], inplace=True)\n",
    "string_edge_list_df = string_edge_list_df[string_edge_list_df['experimental'] != 0]\n",
    "print(string_edge_list_df.shape)\n",
    "STRING_G = nx.from_pandas_edgelist(string_edge_list_df, 'protein1', 'protein2')\n",
    "STRING_G = STRING_G.to_undirected()\n",
    "print(STRING_G.number_of_edges())\n"
   ]
  },
  {
   "cell_type": "code",
   "execution_count": 3,
   "metadata": {},
   "outputs": [],
   "source": [
    "# Get all the drug combinations\n",
    "drug_combos_df = pd.read_csv('data_processed/drugbank_filtered_combos_syntox_known_targallpw.csv')\n",
    "syntoxtarg_df = pd.read_csv('data_processed/drugbank_syntoxtarg.csv')\n",
    "# Get STRING ID mapping\n",
    "uniprot_to_string = {}\n",
    "with open('data_processed/uniprot_id_to_string_mapping_2025_01_24.tsv', 'r') as f:\n",
    "    f.readline()\n",
    "    for lines in f:\n",
    "        uniprot_id, string_id = lines.strip('\\n').split('\\t')\n",
    "        uniprot_to_string[uniprot_id] = string_id\n",
    "with open('data_processed/drugbank_leftovers_uniprot_string_mapping_2025_02_14.tsv', 'r') as f:\n",
    "    f.readline() # skip header\n",
    "    f.readline() # skip nan\n",
    "    for lines in f:\n",
    "        entry = lines.strip('\\n').split('\\t')\n",
    "        uniprot_id = entry[1]\n",
    "        string_id = entry[2]\n",
    "        uniprot_to_string[uniprot_id] = string_id\n",
    "syntoxtarg_df['STRING_ID'] = syntoxtarg_df['UniProtKB_ID'].map(uniprot_to_string)\n",
    "# Add one genebank ID that was missing\n",
    "syntoxtarg_df.loc[syntoxtarg_df['GenBank_Gene_ID'] == 'AJ251501', 'STRING_ID'] = '9606.ENSP00000365437'\n",
    "\n",
    "# NOTE: Not all proteins have STRING IDs\n"
   ]
  },
  {
   "cell_type": "code",
   "execution_count": 4,
   "metadata": {},
   "outputs": [],
   "source": [
    "# Create a dataframe of drug combinations and their targets as well as the targets' neighbors within 2 hops\n",
    "drug_combos_within_2_hops = {}\n",
    "for index, row in drug_combos_df.iterrows():\n",
    "    drugA = row['drug_row']\n",
    "    drugB = row['drug_col']\n",
    "    key = (drugA, drugB)\n",
    "    if key not in drug_combos_within_2_hops:\n",
    "        A_targets = set(syntoxtarg_df[syntoxtarg_df['drug_name'] == drugA]['STRING_ID'].dropna().values)\n",
    "        B_targets = set(syntoxtarg_df[syntoxtarg_df['drug_name'] == drugB]['STRING_ID'].dropna().values)\n",
    "        if len(A_targets) == 0 or len(B_targets) == 0: # There are no STRING IDs for the targets\n",
    "            continue\n",
    "        A_neighbors = set()\n",
    "        B_neighbors = set()\n",
    "        for target in A_targets:\n",
    "            if target in STRING_G.nodes:\n",
    "                A_neighbors.update(STRING_G.neighbors(target))\n",
    "        for target in B_targets:\n",
    "            if target in STRING_G.nodes:\n",
    "                B_neighbors.update(STRING_G.neighbors(target))\n",
    "        A_2nd_neighbors = set()\n",
    "        B_2nd_neighbors = set()\n",
    "        for neighbor in A_neighbors:\n",
    "            if neighbor in STRING_G.nodes:\n",
    "                A_2nd_neighbors.update(STRING_G.neighbors(neighbor))\n",
    "        for neighbor in B_neighbors:\n",
    "            if neighbor in STRING_G.nodes:\n",
    "                B_2nd_neighbors.update(STRING_G.neighbors(neighbor))\n",
    "        \n",
    "        drug_combos_within_2_hops[(drugA, drugB)] = {\n",
    "            'A_targets': A_targets,\n",
    "            'B_targets': B_targets,\n",
    "            'A_neighbors': A_neighbors,\n",
    "            'B_neighbors': B_neighbors,\n",
    "            'A_2nd_neighbors': A_2nd_neighbors,\n",
    "            'B_2nd_neighbors': B_2nd_neighbors\n",
    "        }"
   ]
  },
  {
   "cell_type": "code",
   "execution_count": 6,
   "metadata": {},
   "outputs": [
    {
     "name": "stdout",
     "output_type": "stream",
     "text": [
      "72814\n"
     ]
    }
   ],
   "source": [
    "# For each drug combination, compute the jaccard similarity between the sets of neighborhood proteins of drug A and drug B\n",
    "for index, row in drug_combos_df.iterrows():\n",
    "    key = (row['drug_row'], row['drug_col'])\n",
    "    # Get the full set of proteins within 2 hops of drug A and drug B\n",
    "    if key not in drug_combos_within_2_hops:\n",
    "        drug_combos_df.at[index, 'two_hop_jaccard'] = np.nan\n",
    "        continue\n",
    "    \n",
    "    A_full_within_2_hops = drug_combos_within_2_hops[key]['A_targets'].union(drug_combos_within_2_hops[key]['A_neighbors']).union(drug_combos_within_2_hops[key]['A_2nd_neighbors'])\n",
    "    B_full_within_2_hops = drug_combos_within_2_hops[key]['B_targets'].union(drug_combos_within_2_hops[key]['B_neighbors']).union(drug_combos_within_2_hops[key]['B_2nd_neighbors'])\n",
    "    \n",
    "    two_hop_jaccard = jaccard_similarity(A_full_within_2_hops, B_full_within_2_hops)\n",
    "    drug_combos_df.at[index, 'two_hop_jaccard'] = two_hop_jaccard\n",
    "    \n",
    "drug_combos_df.head()\n",
    "\n",
    "# Print how many combinations have a valid Jaccard similarity\n",
    "print(drug_combos_df['two_hop_jaccard'].notnull().sum())"
   ]
  },
  {
   "cell_type": "code",
   "execution_count": 7,
   "metadata": {},
   "outputs": [
    {
     "data": {
      "text/plain": [
       "(array([  990.,  1560.,  1952.,  1324.,  2664.,  3163.,  4047.,  3201.,\n",
       "         1295.,  2710.,  4696.,  3224.,  4602.,  8926., 13154.,  5622.,\n",
       "         4605.,  4276.,    62.,   741.]),\n",
       " array([0.  , 0.05, 0.1 , 0.15, 0.2 , 0.25, 0.3 , 0.35, 0.4 , 0.45, 0.5 ,\n",
       "        0.55, 0.6 , 0.65, 0.7 , 0.75, 0.8 , 0.85, 0.9 , 0.95, 1.  ]),\n",
       " <BarContainer object of 20 artists>)"
      ]
     },
     "execution_count": 7,
     "metadata": {},
     "output_type": "execute_result"
    },
    {
     "data": {
      "image/png": "[encoded data removed]",
      "text/plain": [
       "<Figure size 640x480 with 1 Axes>"
      ]
     },
     "metadata": {},
     "output_type": "display_data"
    }
   ],
   "source": [
    "plt.hist(drug_combos_df['two_hop_jaccard'], bins=20)"
   ]
  },
  {
   "cell_type": "markdown",
   "metadata": {},
   "source": [
    "- Kruskal Wallis Test\n",
    "- Dunn Posthoc Test with Bonferroni Correction\n",
    "- Jonckheere Terpestra Test\n",
    "- ANOVA\n",
    "- T Test with Bonferroni Correction"
   ]
  },
  {
   "cell_type": "code",
   "execution_count": 8,
   "metadata": {},
   "outputs": [
    {
     "name": "stdout",
     "output_type": "stream",
     "text": [
      "Major two_hop jaccard: 44138\n",
      "Moderate two_hop jaccard: 21248\n",
      "Minor two_hop jaccard: 7428\n",
      "Kruskal-Wallis H statistic for two_hop jaccard: 4229.232243944245\n",
      "P-value for two_hop jaccard: 0.0\n",
      "Dunn post-hoc test for two_hop jaccard:          Major         Minor      Moderate\n",
      "Major       1.0  0.000000e+00  0.000000e+00\n",
      "Minor       0.0  1.000000e+00  1.014900e-90\n",
      "Moderate    0.0  1.014900e-90  1.000000e+00\n",
      "Increasing toxicity for two_hop overlap:  (64.36909430172216, 0.0)\n",
      "Decreasing toxicity for two_hop overlap:  (-64.36909430172216, 1.0)\n",
      "ANOVA F-statistic for two_hop jaccard similarity: 2834.519762870652\n",
      "P-value for two_hop jaccard similarity: 0.0\n",
      "Major/Minor T-test: 0.0 Corrected: 0.0\n",
      "Major/Moderate T-test: 0.0 Corrected: 0.0\n",
      "Moderate/Minor T-test: 9.835074571115683e-71 Corrected: 2.950522371334705e-70\n"
     ]
    }
   ],
   "source": [
    "# Run Kruskal Wallis test on jaccard similarities with targeting Major, Moderate, and Minor toxicity\n",
    "\n",
    "# two_hop jaccard\n",
    "major_twohop = drug_combos_df[drug_combos_df['toxicity_category'] == 'Major']['two_hop_jaccard'].dropna()\n",
    "moderate_twohop = drug_combos_df[drug_combos_df['toxicity_category'] == 'Moderate']['two_hop_jaccard'].dropna()\n",
    "minor_twohop = drug_combos_df[drug_combos_df['toxicity_category'] == 'Minor']['two_hop_jaccard'].dropna()\n",
    "print(f'Major two_hop jaccard: {len(major_twohop)}')\n",
    "print(f'Moderate two_hop jaccard: {len(moderate_twohop)}')\n",
    "print(f'Minor two_hop jaccard: {len(minor_twohop)}')\n",
    "\n",
    "h_statistic_twohop_tox, p_value_twohop_tox = stats.kruskal(major_twohop, moderate_twohop, minor_twohop)\n",
    "print(f'Kruskal-Wallis H statistic for two_hop jaccard: {h_statistic_twohop_tox}')\n",
    "print(f'P-value for two_hop jaccard: {p_value_twohop_tox}')\n",
    "\n",
    "# Filter drug_combos_df for only Major, Moderate, and Minor toxicity categories and remove pairs with two_hop jaccard similarity of None\n",
    "drug_combos_df_tox_twohop = drug_combos_df[drug_combos_df['toxicity_category'].isin(['Major', 'Moderate', 'Minor'])]\n",
    "drug_combos_df_tox_twohop = drug_combos_df[~drug_combos_df_tox_twohop['two_hop_jaccard'].isnull()]\n",
    "dunn_twohop_tox = sp.posthoc_dunn(drug_combos_df_tox_twohop, val_col='two_hop_jaccard', group_col='toxicity_category', p_adjust='bonferroni')\n",
    "print('Dunn post-hoc test for two_hop jaccard:' + str(dunn_twohop_tox))\n",
    "\n",
    "# jonkcheere terpestra test -- is there a trend in the overlap (jaccard similarity) as you increase toxicity from minor to major?\n",
    "jaccard_major_samples = major_twohop.values.tolist()\n",
    "jaccard_moderate_samples = moderate_twohop.values.tolist()\n",
    "jaccard_minor_samples = minor_twohop.values.tolist()\n",
    "jt_incr_twohop = jonckheere_terpestra_test([jaccard_minor_samples, jaccard_moderate_samples, jaccard_major_samples])\n",
    "print(\"Increasing toxicity for two_hop overlap: \", jt_incr_twohop )\n",
    "jt_decr_twohop = jonckheere_terpestra_test([jaccard_major_samples, jaccard_moderate_samples, jaccard_minor_samples])\n",
    "print(\"Decreasing toxicity for two_hop overlap: \", jt_decr_twohop)\n",
    "\n",
    "# Run an ANOVA on two_hop jaccard similarity for Major, Moderate, and Minor toxicity categories\n",
    "f_statistic_anova_twohop_tox, p_value_anova_twohop_tox = stats.f_oneway(major_twohop, moderate_twohop, minor_twohop)\n",
    "print(f'ANOVA F-statistic for two_hop jaccard similarity: {f_statistic_anova_twohop_tox}')\n",
    "print(f'P-value for two_hop jaccard similarity: {p_value_anova_twohop_tox}')\n",
    "\n",
    "# Run a T test on two_hop jaccard similarity between Major/Minor, Major/Moderate, and Moderate/Minor toxicity categories\n",
    "major_minor_twohop = stats.ttest_ind(major_twohop, minor_twohop)\n",
    "major_moderate_twohop = stats.ttest_ind(major_twohop, moderate_twohop)\n",
    "moderate_minor_twohop = stats.ttest_ind(moderate_twohop, minor_twohop)\n",
    "\n",
    "# Run bonferroni correction on the p-values\n",
    "ttest_p_values = [major_minor_twohop[1], major_moderate_twohop[1], moderate_minor_twohop[1]]\n",
    "ttest_p_values_corrected = multipletests(ttest_p_values, method='bonferroni')\n",
    "print(f'Major/Minor T-test: {major_minor_twohop[1]} Corrected: {ttest_p_values_corrected[1][0]}')\n",
    "print(f'Major/Moderate T-test: {major_moderate_twohop[1]} Corrected: {ttest_p_values_corrected[1][1]}')\n",
    "print(f'Moderate/Minor T-test: {moderate_minor_twohop[1]} Corrected: {ttest_p_values_corrected[1][2]}')\n",
    "\n",
    "\n",
    "with open('results/two_hop_analysis/two_hop_targ_jaccard_drugbank.tsv', 'w') as f:\n",
    "    f.write('Level\\tTest\\tTest statistic\\tP-value\\n')\n",
    "    f.write(f'Two-Hop\\tKruskal-Wallis\\t{h_statistic_twohop_tox}\\t{p_value_twohop_tox}\\n')\n",
    "    f.write(f'Two-Hop\\tDunn post-hoc\\tMajor/Minor\\t{dunn_twohop_tox.iloc[0,1]}\\n')\n",
    "    f.write(f'Two-Hop\\tDunn post-hoc\\tMajor/Moderate\\t{dunn_twohop_tox.iloc[0, 2]}\\n')\n",
    "    f.write(f'Two-Hop\\tDunn post-hoc\\tModerate/Minor\\t{dunn_twohop_tox.iloc[1, 2]}\\n')\n",
    "    f.write(f'Two-Hop\\tJonckheere-Terpstra Increasing toxicity\\t{jt_incr_twohop[0]}\\t{jt_incr_twohop[1]}\\n')\n",
    "    f.write(f'Two-Hop\\tJonckheere-Terpstra Decreasing toxicity\\t{jt_decr_twohop[0]}\\t{jt_decr_twohop[1]}\\n')\n",
    "    f.write(f'Two-Hop\\tANOVA\\t{f_statistic_anova_twohop_tox}\\t{p_value_anova_twohop_tox}\\n')\n",
    "    f.write(f'Two-Hop\\tT-test (bonf cor)\\tMajor/Minor\\t{ttest_p_values_corrected[1][0]}\\n')\n",
    "    f.write(f'Two-Hop\\tT-test (bonf cor)\\tMajor/Moderate\\t{ttest_p_values_corrected[1][1]}\\n')\n",
    "    f.write(f'Two-Hop\\tT-test (bonf cor)\\tModerate/Minor\\t{ttest_p_values_corrected[1][2]}\\n')"
   ]
  },
  {
   "cell_type": "markdown",
   "metadata": {},
   "source": [
    "- Violin Plot"
   ]
  },
  {
   "cell_type": "code",
   "execution_count": 9,
   "metadata": {},
   "outputs": [],
   "source": [
    "colors = ['#20965D', '#FFBC42', '#D81159']\n",
    "tox_order = ['Minor', 'Moderate', 'Major']\n",
    "color_dict = dict(zip(tox_order, colors))\n",
    "legend_elements = [\n",
    "    Patch(facecolor=color_dict[cat], label = cat) for cat in tox_order\n",
    "]\n",
    "\n",
    "ax = sns.violinplot(data=drug_combos_df, x='toxicity_category', y='two_hop_jaccard', palette=color_dict, hue='toxicity_category', order=tox_order)\n",
    "ax.set_xlabel('')\n",
    "ax.set_ylabel('Neighboring Proteins within 2 Hops Jaccard Similarity')\n",
    "plt.legend(handles=legend_elements, bbox_to_anchor=(0.5,-0.2), loc='center', ncol=3)\n",
    "plt.tight_layout()\n",
    "plt.savefig('results/two_hop_analysis/twohop_js_v_toxcatwohop_drugbank_violin.png', dpi=700)\n",
    "plt.close()"
   ]
  },
  {
   "cell_type": "markdown",
   "metadata": {},
   "source": [
    "- Strip Plot"
   ]
  },
  {
   "cell_type": "code",
   "execution_count": 10,
   "metadata": {},
   "outputs": [],
   "source": [
    "ax = sns.stripplot(data=drug_combos_df, x='toxicity_category', y='two_hop_jaccard', palette=color_dict, hue='toxicity_category', order=tox_order)\n",
    "ax.set_xlabel('')\n",
    "ax.set_ylabel('Neighboring Proteins within 2 Hops Jaccard Similarity')\n",
    "plt.legend(handles=legend_elements, bbox_to_anchor=(0.5,-0.2), loc='center', ncol=3)\n",
    "plt.tight_layout()\n",
    "plt.savefig('results/two_hop_analysis/twohop_js_v_toxcatwohop_drugbank_strip.png', dpi=700)\n",
    "plt.close()"
   ]
  },
  {
   "cell_type": "markdown",
   "metadata": {},
   "source": [
    "- Correlation Scatter Plots (Neighboring Proteins withing 2 Hops Jaccard Similarity v Synergy Scores)\n",
    "- R^2 value\n",
    "- Best fit line\n",
    "- Pearson correlation coefficient\n",
    "- Spearman correlation coefficient"
   ]
  },
  {
   "cell_type": "code",
   "execution_count": 13,
   "metadata": {},
   "outputs": [
    {
     "name": "stdout",
     "output_type": "stream",
     "text": [
      "Pearson correlation coefficient between two hop jaccard similarity and bliss synergy score: 0.130270541777289\n",
      "Spearman correlation coefficient between two hop jaccard similarity and bliss synergy score: 0.13471805553340546\n",
      "Pearson correlation coefficient between two hop jaccard similarity and hsa synergy score: 0.0578336413479267\n",
      "Spearman correlation coefficient between two hop jaccard similarity and hsa synergy score: 0.14868423331308708\n",
      "Pearson correlation coefficient between two hop jaccard similarity and loewe synergy score: 0.007701712896577345\n",
      "Spearman correlation coefficient between two hop jaccard similarity and loewe synergy score: 0.06739566394372215\n",
      "Pearson correlation coefficient between two hop jaccard similarity and zip synergy score: 0.17955310954434636\n",
      "Spearman correlation coefficient between two hop jaccard similarity and zip synergy score: 0.16321242670299863\n"
     ]
    }
   ],
   "source": [
    "# Drop all rows with NaN values in the two_hop_jaccard column\n",
    "drug_combos_df.dropna(subset=['two_hop_jaccard'], inplace=True)\n",
    "\n",
    "x_twohop = drug_combos_df['two_hop_jaccard']\n",
    "y_bliss_true = drug_combos_df['synergy_bliss']\n",
    "y_loewe_true = drug_combos_df['synergy_loewe']\n",
    "y_hsa_true = drug_combos_df['synergy_hsa']\n",
    "y_zip_true = drug_combos_df['synergy_zip']\n",
    "\n",
    "\n",
    "####### BLISS ########\n",
    "# Let's plot two hop jaccard similarity against bliss synergy scores\n",
    "plt.scatter(x_twohop, y_bliss_true)\n",
    "\n",
    "# Best fit line\n",
    "z_twohop_bliss = np.polyfit(x_twohop, y_bliss_true, 1)\n",
    "p_twohop_bliss = np.poly1d(z_twohop_bliss)\n",
    "y_bliss_pred = p_twohop_bliss(x_twohop)\n",
    "r_squared_twohop_bliss = r2_score(y_bliss_true, y_bliss_pred)\n",
    "plt.plot(x_twohop, y_bliss_pred, \"r-\", alpha=0.8, label=f'y = {z_twohop_bliss[0]:.3f}x + {z_twohop_bliss[1]:.3f}\\nR² = {r_squared_twohop_bliss:.3f}')\n",
    "\n",
    "plt.xlabel('Neighboring Proteins within 2 Hops Jaccard Similarity')\n",
    "plt.ylabel('Bliss Synergy Score')\n",
    "plt.legend()\n",
    "plt.tight_layout()\n",
    "plt.savefig('results/two_hop_analysis/bliss_v_twohop_drugbank_scatter.png', dpi=700)\n",
    "plt.close()\n",
    "\n",
    "# Calculate Pearson correlation coefficient between two hop jaccard similarity and bliss synergy score\n",
    "two_hop_bliss_corr = x_twohop.corr(y_bliss_true)\n",
    "print(f'Pearson correlation coefficient between two hop jaccard similarity and bliss synergy score: {two_hop_bliss_corr}')\n",
    "\n",
    "# Calculate Spearman correlation coefficient between two hop jaccard similarity and bliss synergy score\n",
    "two_hop_bliss_spearman_corr = x_twohop.corr(y_bliss_true, method='spearman')\n",
    "print(f'Spearman correlation coefficient between two hop jaccard similarity and bliss synergy score: {two_hop_bliss_spearman_corr}')\n",
    "\n",
    "####### HSA ########\n",
    "# Let's plot two hop jaccard similarity against hsa synergy scores\n",
    "plt.scatter(x_twohop, y_hsa_true)\n",
    "\n",
    "# Best fit line\n",
    "z_twohop_hsa = np.polyfit(x_twohop, y_hsa_true, 1)\n",
    "p_twohop_hsa = np.poly1d(z_twohop_hsa)\n",
    "y_hsa_pred = p_twohop_hsa(x_twohop)\n",
    "r_squared_twohop_hsa = r2_score(y_hsa_true, y_hsa_pred)\n",
    "plt.plot(x_twohop, y_hsa_pred, \"r-\", alpha=0.8, label=f'y = {z_twohop_hsa[0]:.3f}x + {z_twohop_hsa[1]:.3f}\\nR² = {r_squared_twohop_hsa:.3f}')\n",
    "\n",
    "plt.xlabel('Neighboring Proteins within 2 Hops Jaccard Similarity')\n",
    "plt.ylabel('HSA Synergy Score')\n",
    "plt.legend()\n",
    "plt.tight_layout()\n",
    "plt.savefig('results/two_hop_analysis/hsa_v_twohop_drugbank_scatter.png', dpi=700)\n",
    "plt.close()\n",
    "\n",
    "# Calculate Pearson correlation coefficient between two hop jaccard similarity and hsa synergy score\n",
    "two_hop_hsa_corr = x_twohop.corr(y_hsa_true)\n",
    "print(f'Pearson correlation coefficient between two hop jaccard similarity and hsa synergy score: {two_hop_hsa_corr}')\n",
    "\n",
    "# Calculate Spearman correlation coefficient between two hop jaccard similarity and hsa synergy score\n",
    "two_hop_hsa_spearman_corr = x_twohop.corr(y_hsa_true, method='spearman')\n",
    "print(f'Spearman correlation coefficient between two hop jaccard similarity and hsa synergy score: {two_hop_hsa_spearman_corr}')\n",
    "\n",
    "####### LOEWE ########\n",
    "# Let's plot two hop jaccard similarity against loewe synergy scores\n",
    "plt.scatter(x_twohop, y_loewe_true)\n",
    "\n",
    "# Best fit line\n",
    "z_twohop_loewe = np.polyfit(x_twohop, y_loewe_true, 1)\n",
    "p_twohop_loewe = np.poly1d(z_twohop_loewe)\n",
    "y_loewe_pred = p_twohop_loewe(x_twohop)\n",
    "r_squared_twohop_loewe = r2_score(y_loewe_true, y_loewe_pred)\n",
    "plt.plot(x_twohop, y_loewe_pred, \"r-\", alpha=0.8, label=f'y = {z_twohop_loewe[0]:.3f}x + {z_twohop_loewe[1]:.3f}\\nR² = {r_squared_twohop_loewe:.3f}')\n",
    "\n",
    "plt.xlabel('Neighboring Proteins within 2 Hops Jaccard Similarity')\n",
    "plt.ylabel('Loewe Synergy Score')\n",
    "plt.legend()\n",
    "plt.tight_layout()\n",
    "plt.savefig('results/two_hop_analysis/loewe_v_twohop_drugbank_scatter.png', dpi=700)\n",
    "plt.close()\n",
    "\n",
    "# Calculate Pearson correlation coefficient between two hop jaccard similarity and loewe synergy score\n",
    "two_hop_loewe_corr = x_twohop.corr(y_loewe_true)\n",
    "print(f'Pearson correlation coefficient between two hop jaccard similarity and loewe synergy score: {two_hop_loewe_corr}')\n",
    "\n",
    "# Calculate Spearman correlation coefficient between two hop jaccard similarity and loewe synergy score\n",
    "two_hop_loewe_spearman_corr = x_twohop.corr(y_loewe_true, method='spearman')\n",
    "print(f'Spearman correlation coefficient between two hop jaccard similarity and loewe synergy score: {two_hop_loewe_spearman_corr}')\n",
    "\n",
    "####### ZIP ########\n",
    "# Let's plot two hop jaccard similarity against zip synergy scores\n",
    "plt.scatter(x_twohop, y_zip_true)\n",
    "\n",
    "# Best fit line\n",
    "z_twohop_zip = np.polyfit(x_twohop, y_zip_true, 1)\n",
    "p_twohop_zip = np.poly1d(z_twohop_zip)\n",
    "y_zip_pred = p_twohop_zip(x_twohop)\n",
    "r_squared_twohop_zip = r2_score(y_zip_true, y_zip_pred)\n",
    "plt.plot(x_twohop, y_zip_pred, \"r-\", alpha=0.8, label=f'y = {z_twohop_zip[0]:.3f}x + {z_twohop_zip[1]:.3f}\\nR² = {r_squared_twohop_zip:.3f}')\n",
    "\n",
    "plt.xlabel('Neighboring Proteins within 2 Hops Jaccard Similarity')\n",
    "plt.ylabel('ZIP Synergy Score')\n",
    "plt.legend()\n",
    "plt.tight_layout()\n",
    "plt.savefig('results/two_hop_analysis/zip_v_twohop_drugbank_scatter.png', dpi=700)\n",
    "plt.close()\n",
    "\n",
    "# Calculate Pearson correlation coefficient between two hop jaccard similarity and zip synergy score\n",
    "two_hop_zip_corr = x_twohop.corr(y_zip_true)\n",
    "print(f'Pearson correlation coefficient between two hop jaccard similarity and zip synergy score: {two_hop_zip_corr}')\n",
    "\n",
    "# Calculate Spearman correlation coefficient between two hop jaccard similarity and zip synergy score\n",
    "two_hop_zip_spearman_corr = x_twohop.corr(y_zip_true, method='spearman')\n",
    "print(f'Spearman correlation coefficient between two hop jaccard similarity and zip synergy score: {two_hop_zip_spearman_corr}')\n",
    "\n",
    "# Write all the correlations and spearman correlations to a file\n",
    "with open('results/two_hop_analysis/two_hop_v_synergy_correlations_drugbank.tsv', 'w') as f:\n",
    "    f.write('Synergy score\\tLevel\\tPearson correlation coefficient\\tSpearman correlation\\tR squared value\\n')\n",
    "    f.write(f'Bliss\\tNeighboring Proteins within 2 Hop Jaccard Similarity\\t{two_hop_bliss_corr}\\t{two_hop_bliss_spearman_corr}\\t{r_squared_twohop_bliss}\\n')\n",
    "    f.write(f'HSA\\tNeighboring Proteins within 2 Hop Jaccard Similarity\\t{two_hop_hsa_corr}\\t{two_hop_hsa_spearman_corr}\\t{r_squared_twohop_hsa}\\n')\n",
    "    f.write(f'Loewe\\tNeighboring Proteins within 2 Hop Jaccard Similarity\\t{two_hop_loewe_corr}\\t{two_hop_loewe_spearman_corr}\\t{r_squared_twohop_loewe}\\n')\n",
    "    f.write(f'ZIP\\tNeighboring Proteins within 2 Hop Jaccard Similarity\\t{two_hop_zip_corr}\\t{two_hop_zip_spearman_corr}\\t{r_squared_twohop_zip}\\n')"
   ]
  }
 ],
 "metadata": {
  "kernelspec": {
   "display_name": "env",
   "language": "python",
   "name": "python3"
  },
  "language_info": {
   "codemirror_mode": {
    "name": "ipython",
    "version": 3
   },
   "file_extension": ".py",
   "mimetype": "text/x-python",
   "name": "python",
   "nbconvert_exporter": "python",
   "pygments_lexer": "ipython3",
   "version": "3.8.0"
  }
 },
 "nbformat": 4,
 "nbformat_minor": 2
}
