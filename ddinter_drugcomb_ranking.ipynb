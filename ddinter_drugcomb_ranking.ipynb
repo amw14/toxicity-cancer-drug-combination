{
 "cells": [
  {
   "cell_type": "markdown",
   "metadata": {},
   "source": [
    "File to rank the drug combinations by different synergy metrics"
   ]
  },
  {
   "cell_type": "code",
   "execution_count": 2,
   "metadata": {},
   "outputs": [],
   "source": [
    "# Import everything needed\n",
    "from scipy import stats\n",
    "from toxicity_ranking import *\n",
    "import numpy as np\n",
    "import pandas as pd\n",
    "import matplotlib.pyplot as plt\n",
    "import scikit_posthocs as sp"
   ]
  },
  {
   "cell_type": "code",
   "execution_count": 5,
   "metadata": {},
   "outputs": [
    {
     "name": "stderr",
     "output_type": "stream",
     "text": [
      "/Users/alexwong/Research/toxicity-cancer-drug-combination/toxicity_ranking.py:17: DtypeWarning: Columns (2,7,19,22,23) have mixed types. Specify dtype option on import or set low_memory=False.\n",
      "  drugcomb_df = pd.read_csv('data/DrugComb/drugcomb_summary_v_1_5.csv', sep=',', index_col=False)\n"
     ]
    },
    {
     "name": "stdout",
     "output_type": "stream",
     "text": [
      "Original shape of drugcomb data:  (1432351, 26)\n",
      "Final shape of filtered drugcomb data:  (123882, 26)\n",
      "Number of drugs in common between drugcomb and ddinter [lowercase enforced]:  486\n",
      "Major pairs in both DrugComb and in DDInter:  335\n",
      "Moderate pairs in both DrugComb and in DDInter:  1027\n",
      "Minor pairs in both DrugComb and in DDInter:  59\n",
      "Unknown toxicity pairs in both DrugComb and in DDInter:  573\n",
      "Total common pairs:  1994\n",
      "Total known pairs:  1421\n"
     ]
    }
   ],
   "source": [
    "ddinter_df = get_ddinter_data()\n",
    "drugcomb_df = get_drug_comb_data(bliss=True, loewe=True, hsa=True, zip=True)\n",
    "drug_syntox_df, major_pairs, moderate_pairs, minor_pairs, unknown_pairs = find_drugcomb_ddinter_intersect(drugcomb_df, ddinter_df)\n",
    "\n",
    "# remove pairs that have unknown toxicity\n",
    "drug_syntox_df = drug_syntox_df[~drug_syntox_df['toxicity_category'].str.contains('Unknown')]"
   ]
  },
  {
   "cell_type": "code",
   "execution_count": 6,
   "metadata": {},
   "outputs": [
    {
     "name": "stdout",
     "output_type": "stream",
     "text": [
      "Top 10 drug combinations based on Bliss synergy score:\n",
      "      drug_row      drug_col cell_line_name  synergy_zip  synergy_loewe  \\\n",
      "0    docetaxel   palbociclib        501-mel   169.846773      65.642271   \n",
      "0   crizotinib   palbociclib        501-mel   189.655425      75.732343   \n",
      "0  vincristine    bortezomib          A101D   104.995840      40.419861   \n",
      "0  ruxolitinib   gemcitabine        CBRC058   205.199936      69.346549   \n",
      "0   bortezomib  pioglitazone        501-mel   128.433574      65.165513   \n",
      "0   bortezomib    bexarotene          A101D   112.730064      11.844798   \n",
      "0   crizotinib    nilutamide        501-mel   142.343515      47.701722   \n",
      "0  selumetinib   palbociclib       SK-MEL-5    75.537851      21.577241   \n",
      "0  ruxolitinib    decitabine        CBRC058   168.967482      54.796486   \n",
      "0  ruxolitinib    fingolimod           A375    83.053041      13.568480   \n",
      "\n",
      "   synergy_bliss  synergy_hsa toxicity_category  \n",
      "0     234.566356   101.395233          Moderate  \n",
      "0     224.456215   106.317661          Moderate  \n",
      "0     207.197249    58.954293          Moderate  \n",
      "0     205.683336    53.767317          Moderate  \n",
      "0     191.649739    87.938703          Moderate  \n",
      "0     185.494753    51.693121             Minor  \n",
      "0     180.581750    71.410017             Major  \n",
      "0     179.017761    37.529938          Moderate  \n",
      "0     166.081265    33.142788          Moderate  \n",
      "0     162.563459    21.640631             Major  \n"
     ]
    }
   ],
   "source": [
    "# Rank the drugs based on the Bliss score\n",
    "bliss_ranking = drug_syntox_df.sort_values(by='synergy_bliss', ascending=False)\n",
    "# Print the top 10 drug combinations\n",
    "print('Top 10 drug combinations based on Bliss synergy score:')\n",
    "print(bliss_ranking.head(10))\n"
   ]
  },
  {
   "cell_type": "code",
   "execution_count": 7,
   "metadata": {},
   "outputs": [
    {
     "name": "stdout",
     "output_type": "stream",
     "text": [
      "Top 10 drug combinations based on HSA synergy score:\n",
      "       drug_row         drug_col cell_line_name  synergy_zip  synergy_loewe  \\\n",
      "0    crizotinib      palbociclib        501-mel   189.655425      75.732343   \n",
      "0     docetaxel      palbociclib        501-mel   169.846773      65.642271   \n",
      "0    bortezomib     pioglitazone        501-mel   128.433574      65.165513   \n",
      "0  palonosetron        asenapine          KBM-7    69.543835      83.331312   \n",
      "0  palonosetron  tranylcypromine          KBM-7    69.429611      83.146572   \n",
      "0  palonosetron          tacrine          KBM-7    68.694741      83.041117   \n",
      "0  palonosetron       loperamide          KBM-7    69.106282      82.951380   \n",
      "0  palonosetron      chloroquine          KBM-7    70.058695      82.847925   \n",
      "0  palonosetron     azithromycin          KBM-7    68.850053      82.476922   \n",
      "0  palonosetron      sumatriptan          KBM-7    67.682984      82.187964   \n",
      "\n",
      "   synergy_bliss  synergy_hsa toxicity_category  \n",
      "0     224.456215   106.317661          Moderate  \n",
      "0     234.566356   101.395233          Moderate  \n",
      "0     191.649739    87.938703          Moderate  \n",
      "0      69.543835    83.331412          Moderate  \n",
      "0      69.429611    83.151412             Major  \n",
      "0      68.694741    83.041412          Moderate  \n",
      "0      69.106282    82.951412          Moderate  \n",
      "0      70.058695    82.851412             Major  \n",
      "0      68.850053    82.481412          Moderate  \n",
      "0      67.682984    82.202431             Major  \n"
     ]
    }
   ],
   "source": [
    "# Rank the drugs based on the HSA score\n",
    "hsa_ranking = drug_syntox_df.sort_values(by='synergy_hsa', ascending=False)\n",
    "# Print the top 10 drug combinations\n",
    "print('Top 10 drug combinations based on HSA synergy score:')\n",
    "print(hsa_ranking.head(10))"
   ]
  },
  {
   "cell_type": "code",
   "execution_count": null,
   "metadata": {},
   "outputs": [],
   "source": []
  }
 ],
 "metadata": {
  "kernelspec": {
   "display_name": "env",
   "language": "python",
   "name": "python3"
  },
  "language_info": {
   "codemirror_mode": {
    "name": "ipython",
    "version": 3
   },
   "file_extension": ".py",
   "mimetype": "text/x-python",
   "name": "python",
   "nbconvert_exporter": "python",
   "pygments_lexer": "ipython3",
   "version": "3.8.0"
  }
 },
 "nbformat": 4,
 "nbformat_minor": 2
}
