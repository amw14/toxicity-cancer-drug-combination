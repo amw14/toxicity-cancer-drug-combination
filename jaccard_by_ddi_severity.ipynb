{
 "cells": [
  {
   "cell_type": "markdown",
   "metadata": {},
   "source": [
    "### Correlate Jaccard Similarity by DDI Severity ###"
   ]
  },
  {
   "cell_type": "code",
   "execution_count": 1,
   "metadata": {},
   "outputs": [],
   "source": [
    "# Import everything needed\n",
    "from toxicity_ranking import *\n",
    "import numpy as np"
   ]
  },
  {
   "cell_type": "code",
   "execution_count": 2,
   "metadata": {},
   "outputs": [
    {
     "name": "stdout",
     "output_type": "stream",
     "text": [
      "DDInter shape: (160235, 5)\n"
     ]
    }
   ],
   "source": [
    "# Get the DDInter data\n",
    "ddinter_files = [\n",
    "    'data/DDInter/ddinter_downloads_code_A.csv',\n",
    "    'data/DDInter/ddinter_downloads_code_B.csv',\n",
    "    'data/DDInter/ddinter_downloads_code_D.csv',\n",
    "    'data/DDInter/ddinter_downloads_code_H.csv',\n",
    "    'data/DDInter/ddinter_downloads_code_L.csv',\n",
    "    'data/DDInter/ddinter_downloads_code_P.csv',\n",
    "    'data/DDInter/ddinter_downloads_code_R.csv',\n",
    "    'data/DDInter/ddinter_downloads_code_V.csv',\n",
    "]\n",
    "ddinter_df = None\n",
    "for file in ddinter_files:\n",
    "    if ddinter_df is None:\n",
    "        ddinter_df = pd.read_csv(file, sep=',')\n",
    "    else:\n",
    "        ddinter_df = pd.concat([ddinter_df, pd.read_csv(file, sep=',')], ignore_index=True)\n",
    "\n",
    "# Convert all values in Drug_A and Drug_B columns to lowercase\n",
    "ddinter_df['Drug_A'] = ddinter_df['Drug_A'].str.lower()\n",
    "ddinter_df['Drug_B'] = ddinter_df['Drug_B'].str.lower()\n",
    "\n",
    "# Remove duplicates\n",
    "ddinter_df = ddinter_df.drop_duplicates()\n",
    "\n",
    "print('DDInter shape:', ddinter_df.shape)"
   ]
  },
  {
   "cell_type": "code",
   "execution_count": 3,
   "metadata": {},
   "outputs": [
    {
     "name": "stderr",
     "output_type": "stream",
     "text": [
      "/Users/alexwong/Research/toxicity-cancer-drug-combination/toxicity_ranking.py:13: DtypeWarning: Columns (2,7,19,22,23) have mixed types. Specify dtype option on import or set low_memory=False.\n",
      "  drugcomb_df = pd.read_csv('data/DrugComb/drugcomb_summary_v_1_5.csv', sep=',', index_col=False)\n"
     ]
    },
    {
     "name": "stdout",
     "output_type": "stream",
     "text": [
      "Original shape of drugcomb data:  (1432351, 26)\n",
      "Final shape of filtered drugcomb data:  (123882, 26)\n",
      "Original drugcomb data shape:  (123882, 26)\n",
      "Number of drugs in common between drugcomb and sider [lowercase enforced]:  401\n",
      "Filtered drugcomb data shape for both drugs being present in sider:  (20824, 26)\n",
      "Number of unique drug pairs:  6552\n"
     ]
    }
   ],
   "source": [
    "drugcomb_df = get_drug_comb_data(bliss=True, loewe=True, hsa=True, zip=True)\n",
    "sider_cid_to_drugs_df, sider_all_side_effects_df = get_sider_data()\n",
    "\n",
    "#Filter data and get jaccard similarity\n",
    "filtered_drug_comb_data, common_drugs, jaccard_unique_drug_pairs = filter_drug_comb_data(drugcomb_df, sider_cid_to_drugs_df)\n",
    "drug_pair_to_jaccard, drug_pair_to_side_effects = drug_pair_to_jaccard_similarity(jaccard_unique_drug_pairs, sider_cid_to_drugs_df, sider_all_side_effects_df)"
   ]
  },
  {
   "cell_type": "code",
   "execution_count": 4,
   "metadata": {},
   "outputs": [
    {
     "name": "stdout",
     "output_type": "stream",
     "text": [
      "Number of drug pairs both in known DDInter and Jaccard Similarity data: 1047\n"
     ]
    }
   ],
   "source": [
    "# Find the intersection of unique drug pairs in DDInter that the severity of interaction is known and the Jaccard Similarity data\n",
    "\n",
    "known_ddinter_drug_pairs = set()\n",
    "for index, row in ddinter_df.iterrows():\n",
    "    if row['Level'] == 'Unknown':\n",
    "        continue\n",
    "    drug_a = row['Drug_A']\n",
    "    drug_b = row['Drug_B']\n",
    "    known_ddinter_drug_pairs.add((drug_a, drug_b))\n",
    "    known_ddinter_drug_pairs.add((drug_b, drug_a))\n",
    "\n",
    "intersection_drug_pairs = known_ddinter_drug_pairs.intersection(jaccard_unique_drug_pairs)\n",
    "\n",
    "print(\"Number of drug pairs both in known DDInter and Jaccard Similarity data:\", len(intersection_drug_pairs))\n"
   ]
  },
  {
   "cell_type": "code",
   "execution_count": 7,
   "metadata": {},
   "outputs": [],
   "source": [
    "severity_dict = {\n",
    "    'Major': 1,\n",
    "    'Moderate': 0.5,\n",
    "    'Minor': 0,\n",
    "}\n",
    "\n",
    "# Sort out the data for plotting\n",
    "severity_val = []\n",
    "for drug_pair in intersection_drug_pairs:\n",
    "    drug_a, drug_b = drug_pair\n",
    "    # Find the 'Level' value of the drug pair in the ddinter_df\n",
    "    levels = ddinter_df[(ddinter_df['Drug_A'] == drug_a) & (ddinter_df['Drug_B'] == drug_b)]['Level'].values\n",
    "    levels_swapped = ddinter_df[(ddinter_df['Drug_A'] == drug_b) & (ddinter_df['Drug_B'] == drug_a)]['Level'].values\n",
    "    if len(levels) > 0 and len(levels_swapped) > 0:\n",
    "        print(\"Found both directions of drug pair in DDInter data for pair:\", drug_pair)\n",
    "        continue\n",
    "    elif len(levels) == 0 and len(levels_swapped) == 0:\n",
    "        print(\"Could not find drug pair in DDInter data for pair:\", drug_pair)\n",
    "        continue\n",
    "    elif len(levels) > 1 or len(levels_swapped) > 1:\n",
    "        print(\"Found multiple entries for drug pair in DDInter data for pair:\", drug_pair)\n",
    "        print(\"Levels:\", levels)\n",
    "        print(\"Levels Swapped:\", levels_swapped)\n",
    "        continue\n",
    "    elif len(levels) == 1 and len(levels_swapped) == 1:\n",
    "        if levels[0] == levels_swapped[0]:\n",
    "            severity_val.append(severity_dict[levels[0]])\n",
    "        else:\n",
    "            print(\"Found different levels for drug pair in DDInter data for pair:\", drug_pair)\n",
    "            print(\"Levels:\", levels)\n",
    "            print(\"Levels Swapped:\", levels_swapped)\n",
    "            continue\n",
    "    elif len(levels) == 1:\n",
    "        severity_val.append(severity_dict[levels[0]])\n",
    "    elif len(levels_swapped) == 1:\n",
    "        severity_val.append(severity_dict[levels_swapped[0]])\n",
    "    \n",
    "jaccard_sim = [jaccard_score for drug_pair in intersection_drug_pairs for jaccard_score in [drug_pair_to_jaccard[drug_pair]]]\n"
   ]
  },
  {
   "cell_type": "markdown",
   "metadata": {},
   "source": [
    "Get the average synergy score for each unique drug pair and then plot an xy graph of jaccard similarity to synergy score, calculate pearson correlation"
   ]
  },
  {
   "cell_type": "code",
   "execution_count": 8,
   "metadata": {},
   "outputs": [
    {
     "name": "stdout",
     "output_type": "stream",
     "text": [
      "Pearson correlation coefficient for JS and DDInter Severity:  0.01796171952338169\n",
      "Pearson pval for JS and DDInter Severity 0.5615459742606256\n"
     ]
    }
   ],
   "source": [
    "import matplotlib.pyplot as plt\n",
    "from scipy.stats import pearsonr\n",
    "\n",
    "# Sort out the data for plotting\n",
    "\n",
    "# correlation between jaccard similarity and bliss synergy score\n",
    "ddinter_pearson_coef, ddinter_p_value = pearsonr(jaccard_sim, severity_val)\n",
    "print(\"Pearson correlation coefficient for JS and DDInter Severity: \", ddinter_pearson_coef)\n",
    "print(\"Pearson pval for JS and DDInter Severity\", ddinter_p_value)\n",
    "\n",
    "# Plot the data\n",
    "plt.scatter(jaccard_sim, severity_val)\n",
    "plt.xlabel('Jaccard similarity')\n",
    "plt.ylabel('DDInter Severity Value (0: Minor, 0.5: Moderate, 1: Major)')\n",
    "plt.title('DDInter Severity vs. Jaccard Similarity')\n",
    "plt.savefig('results/jaccard_vs_ddinter_severity.png')\n",
    "plt.close()\n",
    "\n"
   ]
  },
  {
   "cell_type": "code",
   "execution_count": 10,
   "metadata": {},
   "outputs": [
    {
     "name": "stdout",
     "output_type": "stream",
     "text": [
      "Average Jaccard Similarity for Major Severity: 0.17656238775029426\n",
      "Average Jaccard Similarity for Moderate Severity: 0.17405226523665593\n",
      "Average Jaccard Similarity for Minor Severity: 0.16992887939765447\n",
      "Median Jaccard Similarity for Major Severity: 0.1685855263157895\n",
      "Median Jaccard Similarity for Moderate Severity: 0.17027027027027028\n",
      "Median Jaccard Similarity for Minor Severity: 0.18106893106893107\n"
     ]
    }
   ],
   "source": [
    "# What's the average Jaccard similarity for each severity level?\n",
    "severity_to_jaccard = {\n",
    "    'Major': [],\n",
    "    'Moderate': [],\n",
    "    'Minor': [],\n",
    "}\n",
    "for index in range(len(jaccard_sim)):\n",
    "    severity = severity_val[index]\n",
    "    jaccard = jaccard_sim[index]\n",
    "    if severity == 1:\n",
    "        severity_to_jaccard['Major'].append(jaccard)\n",
    "    elif severity == 0.5:\n",
    "        severity_to_jaccard['Moderate'].append(jaccard)\n",
    "    elif severity == 0:\n",
    "        severity_to_jaccard['Minor'].append(jaccard)\n",
    "\n",
    "print(\"Average Jaccard Similarity for Major Severity:\", np.mean(severity_to_jaccard['Major']))\n",
    "print(\"Average Jaccard Similarity for Moderate Severity:\", np.mean(severity_to_jaccard['Moderate']))\n",
    "print(\"Average Jaccard Similarity for Minor Severity:\", np.mean(severity_to_jaccard['Minor']))\n",
    "\n",
    "print(\"Median Jaccard Similarity for Major Severity:\", np.median(severity_to_jaccard['Major']))\n",
    "print(\"Median Jaccard Similarity for Moderate Severity:\", np.median(severity_to_jaccard['Moderate']))\n",
    "print(\"Median Jaccard Similarity for Minor Severity:\", np.median(severity_to_jaccard['Minor']))"
   ]
  },
  {
   "cell_type": "markdown",
   "metadata": {},
   "source": [
    "How many of these additive or better combinations have actually been tested out where we know the interaction or not?"
   ]
  },
  {
   "cell_type": "code",
   "execution_count": 11,
   "metadata": {},
   "outputs": [
    {
     "name": "stdout",
     "output_type": "stream",
     "text": [
      "Percentage of known DDInter pairs: 0.15979853479853479\n"
     ]
    }
   ],
   "source": [
    "percentage_of_known_ddinter_pairs = len(intersection_drug_pairs) / len(jaccard_unique_drug_pairs)\n",
    "print(\"Percentage of known DDInter pairs:\", percentage_of_known_ddinter_pairs)"
   ]
  },
  {
   "cell_type": "markdown",
   "metadata": {},
   "source": []
  }
 ],
 "metadata": {
  "kernelspec": {
   "display_name": "env",
   "language": "python",
   "name": "python3"
  },
  "language_info": {
   "codemirror_mode": {
    "name": "ipython",
    "version": 3
   },
   "file_extension": ".py",
   "mimetype": "text/x-python",
   "name": "python",
   "nbconvert_exporter": "python",
   "pygments_lexer": "ipython3",
   "version": "3.8.0"
  }
 },
 "nbformat": 4,
 "nbformat_minor": 2
}
