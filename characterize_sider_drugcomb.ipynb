{
 "cells": [
  {
   "cell_type": "code",
   "execution_count": 1,
   "metadata": {},
   "outputs": [],
   "source": [
    "import pandas as pd"
   ]
  },
  {
   "cell_type": "markdown",
   "metadata": {},
   "source": [
    "Question: What does the data look like for DrugComb data assay?"
   ]
  },
  {
   "cell_type": "code",
   "execution_count": 2,
   "metadata": {},
   "outputs": [
    {
     "name": "stderr",
     "output_type": "stream",
     "text": [
      "/var/folders/6g/w3wk1pc96f70nng8j2j_0c440000gn/T/ipykernel_27411/2273643388.py:2: DtypeWarning: Columns (2,7,19,22,23) have mixed types. Specify dtype option on import or set low_memory=False.\n",
      "  drugcomb_df = pd.read_csv('data/DrugComb/drugcomb_summary_v_1_5.csv', sep=',', index_col=False)\n"
     ]
    },
    {
     "name": "stdout",
     "output_type": "stream",
     "text": [
      "Prefiltered shape: (1432351, 26)\n",
      "Index(['block_id', 'drug_row', 'drug_col', 'cell_line_name', 'study_name',\n",
      "       'tissue_name', 'conc_row_unit', 'conc_col_unit', 'ic50_row', 'ic50_col',\n",
      "       'ri_row', 'ri_col', 'css_row', 'css_col', 'css_ri', 'S_sum', 'S_mean',\n",
      "       'S_max', 'synergy_zip', 'synergy_loewe', 'synergy_hsa', 'synergy_bliss',\n",
      "       'drug_row_clinical_phase', 'drug_col_clinical_phase',\n",
      "       'drug_row_target_name', 'drug_col_target_name'],\n",
      "      dtype='object')\n",
      "['adrenal_gland' 'autonomic_ganglia' 'biliary_tract' 'bone' 'brain'\n",
      " 'breast' 'cervix' 'endometrium'\n",
      " 'gastrointestinal_tract_(site_indeterminate)'\n",
      " 'haematopoietic_and_lymphoid' 'kidney' 'large_intestine' 'liver' 'lung'\n",
      " 'malaria' 'oesophagus' 'ovary' 'pancreas' 'placenta' 'pleura' 'prostate'\n",
      " 'salivary_gland' 'skin' 'small_intestine' 'soft_tissue' 'stomach'\n",
      " 'testis' 'thyroid' 'upper_aerodigestive_tract' 'urinary_tract' 'vulva']\n",
      "['GDSC1' 'CTRPV2' 'CCLE' 'GCSI' 'NCATS_ES(FAKI/AURKI)'\n",
      " 'NCATS_ES(NAMPT+PARP)' 'NCATS_DIPG' 'GRAY' 'FIMM' 'ALMANAC' 'FLOBAK'\n",
      " 'FORCINA' 'YOHE' 'NCATS_HL' 'WILSON' 'ASTRAZENECA' 'SCHMIDT' 'UHNBREAST'\n",
      " 'ONEIL' 'NCATS_MDR_CS' 'CLOUD' 'PHELAN' 'MATHEWS' 'NCATS_ATL' 'BEATAML'\n",
      " 'NCATS_2D_3D' 'NCATS_SARS-COV-2DPI' 'BOBROWSKI' 'DYALL' 'MOTT' 'FRIEDMAN'\n",
      " 'FALLAHI-SICHANI' 'FRIEDMAN2' 'MILLER']\n"
     ]
    }
   ],
   "source": [
    "#DrugComb data\n",
    "drugcomb_df = pd.read_csv('data/DrugComb/drugcomb_summary_v_1_5.csv', sep=',', index_col=False)\n",
    "print(\"Prefiltered shape: \" + str(drugcomb_df.shape))\n",
    "print(drugcomb_df.columns)\n",
    "#print(drugcomb_df.iloc[0])\n",
    "\n",
    "# print set of unique tissue names\n",
    "tissue_names = drugcomb_df['tissue_name'].unique()\n",
    "print(tissue_names)\n",
    "\n",
    "# print unique study names\n",
    "study_names = drugcomb_df['study_name'].unique()\n",
    "print(study_names)"
   ]
  },
  {
   "cell_type": "code",
   "execution_count": 3,
   "metadata": {},
   "outputs": [
    {
     "name": "stdout",
     "output_type": "stream",
     "text": [
      "FILTERING DATA\n",
      "(1414731, 26)\n",
      "['adrenal_gland', 'autonomic_ganglia', 'biliary_tract', 'bone', 'brain', 'breast', 'cervix', 'endometrium', 'gastrointestinal_tract_(site_indeterminate)', 'haematopoietic_and_lymphoid', 'kidney', 'large_intestine', 'liver', 'lung', 'oesophagus', 'ovary', 'pancreas', 'placenta', 'pleura', 'prostate', 'salivary_gland', 'skin', 'small_intestine', 'soft_tissue', 'stomach', 'testis', 'thyroid', 'upper_aerodigestive_tract', 'urinary_tract', 'vulva']\n",
      "['ALMANAC', 'ASTRAZENECA', 'BEATAML', 'CCLE', 'CLOUD', 'CTRPV2', 'FALLAHI-SICHANI', 'FIMM', 'FLOBAK', 'FORCINA', 'FRIEDMAN', 'FRIEDMAN2', 'GCSI', 'GDSC1', 'GRAY', 'MATHEWS', 'MILLER', 'NCATS_2D_3D', 'NCATS_ATL', 'NCATS_DIPG', 'NCATS_ES(FAKI/AURKI)', 'NCATS_ES(NAMPT+PARP)', 'NCATS_HL', 'NCATS_MDR_CS', 'ONEIL', 'PHELAN', 'SCHMIDT', 'UHNBREAST', 'WILSON', 'YOHE']\n"
     ]
    }
   ],
   "source": [
    "# Figure out how to filter out the SARS-CoV2 and Ebola and Malaria data, is it stored under the tissue_name column?\n",
    "print(\"FILTERING DATA\")\n",
    "\n",
    "# Filters\n",
    "malaria_filter = drugcomb_df['tissue_name'] != 'malaria'\n",
    "MOTT_filter = drugcomb_df['study_name'] != 'MOTT'\n",
    "ELLINGER_filter = drugcomb_df['study_name'] != 'ELLINGER'\n",
    "GORDON_filter = drugcomb_df['study_name'] != 'GORDON'\n",
    "TOURET_filter = drugcomb_df['study_name'] != 'TOURET'\n",
    "NCATS_SARS_COV_2DPI_filter = drugcomb_df['study_name'] != 'NCATS_SARS-COV-2DPI'\n",
    "BOBROWSKI_filter = drugcomb_df['study_name'] != 'BOBROWSKI'\n",
    "DYALL_filter = drugcomb_df['study_name'] != 'DYALL'\n",
    "\n",
    "\n",
    "# Filter out the 'malaria' data\n",
    "drugcomb_df = drugcomb_df[malaria_filter & MOTT_filter & ELLINGER_filter & GORDON_filter & TOURET_filter & NCATS_SARS_COV_2DPI_filter & BOBROWSKI_filter & DYALL_filter]\n",
    "print(drugcomb_df.shape)\n",
    "\n",
    "# print set of unique tissue names\n",
    "tissue_names = sorted(drugcomb_df['tissue_name'].unique())\n",
    "print(tissue_names)\n",
    "\n",
    "# print unique study names\n",
    "study_names = sorted(drugcomb_df['study_name'].unique())\n",
    "print(study_names)"
   ]
  },
  {
   "cell_type": "markdown",
   "metadata": {},
   "source": [
    "- drug_row looks to be Drug A\n",
    "- drug_col looks to be Drug B\n",
    "\n",
    "Want to get rid of any values that have NAN in either drug_row or drug_col or are missing cell line information"
   ]
  },
  {
   "cell_type": "code",
   "execution_count": 4,
   "metadata": {},
   "outputs": [
    {
     "name": "stdout",
     "output_type": "stream",
     "text": [
      "(722344, 26)\n",
      "4168\n",
      "{'Asenapine', 'Ractopamine hydrochloride', 'IOX2', 'BRIMONIDINE TARTRATE', 'Ribociclib', 'GNE-3511', 'fleroxacin', '30675-13-9', 'PF-04620110', '2,4,5-TRIMETHOXYBENZALDEHYDE', 'PIK-294', 'Tadalafil', 'oxyphenbutazone', 'BP-1-102', 'Timolol maleate', 'Suvorexant', 'Glycyrrhizic acid', 'TAK-441', 'Dapagliflozin C-2 Epimer', 'sulfapyridine', 'SCHEMBL17971367', 'FEXOFENADINE HYDROCHLORIDE', 'Briciclib', 'Cinaciguat', 'BETAMETHASONE VALERATE', 'Pitavastatin calcium', '1607837-31-9', 'Lenvatinib', 'OTX-008', 'Aminoguanidine hemisulfate', 'doxifluridine', 'ANISOTROPINE METHYLBROMIDE', 'Otilonium Bromide', 'zaltoprofen', 'Antitumor Compound 1', 'PNU-282987', 'CPI-169 racemate', 'PD123319', 'Lipase Inhibitor, THL', 'AZ13409007, AKTaz', 'CORTISONE ACETATE', '1H-Indole-5-carboxamide', 'galanthamine', '34933-06-7', 'AVL-292', 'FRAX1036', 'AZ12772848', 'METYROSINE', 'S63845', 'RUSKI-201 dihydrochloride', 'AMG PERK 44', 'ethosuximide', 'diphenhydramine', 'uracil', 'Vidofludimus', 'LY2365109 hydrochloride', 'papaverine', 'NVP-LAQ824;LAQ824', 'fluvoxamine', 'NCGC00346728-01', 'oxaprozin', 'NCGC00162409-03', 'Eptifibatide', 'GDC-0152', 'ISOSORBIDE DINITRATE', 'NCGC00346666-01', 'BGT-226 free base', '856243-80-6', 'Piboserod', 'tylosin tartrate', '125316-60-1', 'CCT129202', 'CHEMBL3103000', 'Phortress (free base)', 'AZD3264', 'PF-04418948', 'mifepristone', 'Indacaterol maleate', 'cyproheptadine hydrochloride', 'MRK003', 'PHENIRAMINE MALEATE', '(3S,4R)-Tofacitinib', 'NCGC00163424-03', 'Mozavaptan', 'CHEMBL1444076', 'miconazole', 'AMG-511', 'CHEMBL3348946', 'Verdinexor', 'HYDROXYCHLOROQUINE SULFATE', '1-Hexadecanol', 'ZINC38139483', '1338259-05-4', 'kinetin', 'WEHI-539', 'JNK-IN-7', 'BMS-536924', 'naringenin', 'Belizatinib', 'Solcitinib', 'ERYTHRITOL', 'NCGC00181131-02', 'artemisinin', 'Atazanavir sulfate', 'nitrofurazone', 'Dexrazoxane', 'ACY-775', 'Amonafide', 'ICG-001', 'digoxin', 'BUTOCONAZOLE NITRATE', 'chlorpropamide', '936091-56-4', 'Ornidazole', 'IBUPROFEN LYSINE', 'Lumacaftor', 'Sitravatinib', 'ZINC28538988', 'Ivabradine hydrochloride', 'PHT-427', 'UNC1215', 'HEMATOXYLIN', '252916-29-3', 'GSK3787', '301836-41-9', '147859-80-1', 'praziquantel', 'sibutramine', 'Debio 0932', 'taurine', 'Terbinafine hydrochloride', 'AZ191', 'idoxuridine', 'NVS-PAK1-1', 'NOVOBIOCIN SODIUM', '17-Hydroxypregn-4-en-20-yn-3-one', 'SC144', 'gossypol', 'Camostat', 'NCGC00186013-01', 'TM-5275', 'IWR-1-endo', 'Vortioxetine hydrobromide', 'Gliquidone', 'PF-4800567', 'gm 1489', 'AZ13406193', 'NCGC00253909-01', 'xylometazoline', 'Sorafenib', 'cilostazol', 'OXANDROLONE', 'phenindione', '6-Mercaptopurine', 'Morin hydrate', '301836-43-1', '1265789-88-5', 'AZD6738', 'Solifenacin succinate', 'M77976', 'Xylometazoline hydrochloride', 'TAK-285', 'flufenamic acid', 'PB-28', 'PHA-408', 'Baicalin', 'CHEMBL3348944', 'Lacosamide', 'SM-164', '27726-35-8', 'MK-3207', 'LY2874455', 'SCHEMBL3954849', 'Arglabin', '853910-02-8', 'LY2857785', 'VU 0357121', 'Exatecan', 'CHEMBL3348961', 'Uramustine', 'Pyronaridine Tetraphosphate', 'METHACYCLINE HYDROCHLORIDE', 'PSEUDOYOHIMBINE', 'Epothilone B', 'Ouabain octahydrate', 'Kinome_3682', 'sulfadimethoxine', 'T-00127-HEV1', 'DACTINOMYCIN', 'NCGC00142605-03', 'flunarizine', '1194044-20-6', 'reserpine', 'Doxorubicin Hydrochloride', 'Salinosporamide F', '3094-09-5', 'Emcyt (Pharmacia)', 'Cilomilast', 'AstraZeneca ATR_3 inhibitor', 'NATAMYCIN', 'BENSERAZIDE HYDROCHLORIDE', 'Palmatine chloride', 'CRTh2 antagonist 2', 'Dynamin Inhibitor I, Dynasore', 'etoposide', 'naringin', 'Ivacaftor', 'Tipifarnib', 'EPROSARTAN MESYLATE', 'Amastatin', 'omeprazole', 'GDC-0339', 'Nitrofurazonum', 'nutlin-3B', 'HNHA', 'piperine', 'PHENYTOIN SODIUM', 'su5402', 'AZD8330', 'CPI-1205', 'TMPN', 'Clevidipine', 'ITK ANTAGONIST', 'MK-0812', 'GSK2578215A', 'StemRegenin 1', 'Pacritinib', '1-(1-Naphthylmethyl)piperazine', 'AZD1480', 'BLZ945', '635318-11-5', 'TAK-632', 'GW791343', 'Moroxydine hydrochloride', 'SNX-2112', '6402-23-9', 'h-89', 'NCGC00345819-01', 'Diminazene aceturate', 'Ataciguat', 'arecoline', 'PF-CBP1', 'CTK8E8456', '664969-54-4', 'Econazole nitrate', 'emodin', '878739-06-1', 'AST 487', 'trifluoperazine', '940929-33-9', 'Etravirine', 'Abiraterone', '133550-30-8', 'Mdivi-1', 'Lapatinib', '55778-02-4', 'UNII-M2X04R2E2Y', 'DIFLOXACIN HYDROCHLORIDE', 'PENFLURIDOL', 'ROCURONIUM BROMIDE', 'Flunarizine dihydrochloride', 'temozolomide', 'AZD1208', 'troxipide', 'Zuclomiphene', 'Bacitracin (Zinc)', 'liothyronine', 'DESOXYCORTICOSTERONE PIVALATE', 'Closantel', 'Atuveciclib', 'Celsentri (Maraviroc)', 'NCGC00346969-01', 'LY2090314', 'Closantel sodium', 'Enzalutamide', 'CHEMBL2441273', 'Trametinib', 'NCGC00346827-01', 'Valrubicin', 'DSSTox_CID_31408', 'AstraZeneca SLC16A4 inhibitor', 'Stavudine (d4T)', 'CHEMBL3348895', 'cPEPCK inhibitor', '10058-F4', 'GDC-0326', 'pipobroman', 'BI-78D3', 'Amuvatinib', 'HALOBETASOL PROPIONATE', 'CHEMBL1824695', 'acemetacin', 'CFI-400945', 'GDC-0349', 'mizoribine', 'tropisetron', 'evofosfamide', 'diethylstilbestrol', 'Tubacin', 'teniposide', 'SCHEMBL20501483', 'OSI-027', 'Plerixafor', 'flumequine', 'Demecolcine', 'carisoprodol', 'Etomidate', 'AstraZeneca PIP5K1 inhibitor', 'BI-847325', '781661-94-7', 'IRAK inhibitor 5', 'BI-9564', 'Oglufanide', 'Meclizine dihydrochloride', 'Tozasertib', 'VLX600', 'triptolide', 'SCHEMBL2610023', 'Ansamitocin P-3', '32981-86-5', 'ENOBOSARM', '1392399-03-9', 'bergenin', '905586-69-8', 'MEPENZOLATE BROMIDE', 'Ilomastat', 'ABEXINOSTAT', 'GDC-046', 'tetracycline', 'CHEMBL431383', '121268-17-5', 'Telbivudine', 'sulfamethazine', 'Spautin-1', 'Benzydamine hydrochloride', 'Vonoprazan Fumarate', 'CHEMBL3103191', '289483-69-8', 'Tenofovir Disoproxil Fumarate', 'D-cycloserine', 'GANDOTINIB', 'Ketanserin', 'Napabucasin', 'SUMATRIPTAN SUCCINATE', 'ACTB-1003', '883050-24-6', 'Exherin', 'NCGC00347283-01', 'dydrogesterone', 'Fludarabine', 'meprednisone', '280744-09-4', 'Mosapride citrate', 'dorsomorphin', 'Roflumilast', 'IWP-L6', '303727-31-3', '885692-52-4', 'Clindamycin palmitate HCl', 'nifenazone', 'TRAM-34', 'Ixazomib citrate', 'dextromethorphan', 'NCGC00263265-01', 'Carfilzomib', 'Ritodrine hydrochloride', 'NVP-BGT226', 'MRT-83', 'Mebutamate', 'Regorafenib', 'CHEMBL3348954', 'Indinavir sulfate', 'Manidipine dihydrochloride', 'Doxycycline hyclate', 'A-443654', 'ERASTIN', 'Monatepil', 'Amoxicillin sodium', 'SCHEMBL3315478', 'Crenolanib', 'Nicotine ditartrate', 'Icotinib Hydrochloride', 'GNE-493', 'PF-562271', 'Idelalisib', 'Paeoniflorin', 'CHEMBL3349002', 'PHENYLEPHRINE HYDROCHLORIDE', 'CHEMBL3348973', '1627696-51-8', 'Roxadustat', 'Vinflunine', 'flecainide', 'mechlorethamine', 'PF-06650833', 'flutamide', 'chelerythrine', 'Strontium ranelate', '891494-63-6', '607742-69-8', 'Arry-380', 'Nitisinone', 'NVP-BEP800', 'IKK-3 Inhibitor', 'Dihydromyricetin', '1206101-20-3', 'ZINC208951860', '894787-30-5', 'ozagrel hydrochloride', '211096-49-0', 'SCHEMBL185621', 'TPOP146', '10030-85-0', 'Bioepiderm', '7728-73-6', 'Belinostat(Random Configuration)', 'Dehydroepiandrosterone', 'Brilanestrant', 'CHEMBL3348924', 'CILAZAPRIL MONOHYDRATE', 'TA-02', 'CHEMBL1364159', 'Akt inhibitor VIII', 'droperidol', 'BMS-509744', 'BPTES', 'Ispinesib', 'Trilostane', 'OLEANOLIC ACID', 'oxytetracycline', 'GSK2837808A', 'CHEMBL3348987', 'Mizolastine', '176977-56-3', 'GSK1904529A', 'proglumide', 'Akt-I-1,2', 'domiphen bromide', 'FENRETINIDE', 'calindol', '1144068-46-1', 'Zanosar', 'Mecarbinate', 'IDE 2', 'AMG-25', 'Procarbazine hydrochloride', 'fenoprofen', 'Vemurafenib', 'AC1MDWZ9', 'ATOVAQUONE', 'Gramine', 'letrozole', 'dexlansoprazole', 'BENAZEPRIL HYDROCHLORIDE', 'calpeptin', 'methyldopa', \"2',3'-Dideoxycytidine 5'-triphosphate\", 'PP242', 'IRAK-1-4 Inhibitor I', 'PMSF', 'Oxybutynin chloride', 'LY2334737', 'CPI-613', 'Etoricoxib', 'guaifenesin', 'Cabozantinib', '761439-42-3', 'NCGC00345821-01', 'CHEMBL2140972', 'Derazantinib', 'SCHEMBL1559365', 'Hydroxyzine dihydrochloride', 'Proparacaine hydrochloride', 'Urapidil hydrochloride', '911417-87-3', 'atenolol', '(+)-Usnic acid', 'Tanshinone IIA', 'REBASTINIB', 'Salidroside', '143945-86-2', 'RRX-001', 'arachidonylcyclopropylamide', 'anagrelide', 'ZINC242723022', 'Fulvestrant', 'cis-Platin', 'ML315', 'Pregabalin', 'GW7647', 'AGI-6780', 'RepSox', '452342-67-5', 'NCGC00347908-01', '(R)-(-)-Rolipram', 'Alogliptin', 'Sitaxsentan', 'LDN-57444', 'OSI-930', 'NSC 405020', '1309805-49-9', 'Diclofenac diethylamine', 'acetarsol', 'Nandrolone phenpropionate', 'NCGC00163547-01', 'GSK2636771', 'CHEMBL3348953', 'CHEMBL416657', 'NCGC00344622-02', '4-Chloro-3-methylphenol', 'Gefitinib', 'JIB-04', 'captopril', 'estradiol valerate', 'Atomoxetine hydrochloride', 'VE-822', 'IPA-3', 'MK-886', 'CXC-195', 'ITK inhibitor', 'sodium picosulfate', 'Pexmetinib', 'FOLFIRI regimen', 'MK-0354', 'GS-9901', 'Ganetespib', 'NVP-BSK805', 'Prulifloxacin', 'Panobinostat', '732302-99-7', 'WZ4003', 'Tamibarotene', 'Malonoben', 'DESONIDE', 'Purvalanol B', '501925-31-1', 'Capecitabine (Xeloda)', 'AZ13590108', 'BMS-582949', 'Doxycycline hydrochloride', 'mycophenolic acid', 'Ciliobrevin D', 'Safinamide', 'S-nitrosoglutathione', 'DBeQ', 'Canagliflozin', 'calcitriol', 'KRN-633', 'Doxercalciferol', 'Guanabenz acetate', 'Pifithrin-mu', 'Cefoselis sulfate', 'CICLOPIROX', 'CANRENONE', 'Salsalate', 'as1949490', 'GW-4869', 'Tizoxanide', 'EPZ015666', 'BAY 61-3606', 'Daprodustat', 'mitotane', 'Ethambutol dihydrochloride', 'ethionamide', 'PD173955', 'cc-115', 'Tubastatin A HCl', 'NCGC00160515-03', 'Apatinib', 'Flupirtine', 'vasastrol', 'tolazoline', 'amlexanox', 'sildenafil', 'Doramapimod', 'tropicamide', 'BIX-01294', 'Givinostat hydrochloride', 'Diacerein', 'ETOMOXIR', 'CBiol_001848', 'Foretinib', 'PRAVASTATIN SODIUM', 'SB-747651A', 'Flavopiridol hydrochloride', 'Porfiromycin', 'difluprednate', 'CHEMBL3186547', '209984-56-5', 'Mocetinostat', 'Artemether', 'Melatonin', 'isoconazole nitrate', 'Miconazole nitrate', 'CYPROHEPTADINE', 'Noscapine hydrochloride', 'DB07268', 'Semaxanib', 'sulpiride', 'Cryptotanshinone', 'Ivosidenib', 'terameprocol', 'clomipramine', 'OTILONIUM', 'Estramustine phosphate sodium', 'BMS-833923', 'NLG919', '1111636-35-1', '2-Nitroimidazole', 'Preladenant', 'probucol', 'Oleanolic Acid (Caryophyllin)', 'Oxfendazole', 'Altiratinib', 'Tofacitinib citrate', 'PF-4136309', 'Meclinertant', 'CLEMASTINE FUMARATE', '600734-06-3', 'Erdafitinib', 'Zaldaride', '844499-71-4', 'SCHEMBL10643980', 'nifedipine', '915087-27-3', 'CHEMBL3348905', 'Indimitecan hydrochloride', 'GSK2194069', 'Fasudil hydrochloride', 'zafirlukast', 'Imipramine hydrochloride', 'PIK-75', '164178-33-0', 'AZD3514', 'warfarin', '5-azacytidine', 'NCGC00344999-01', 'terfenadine', 'BMS-986020', 'GSK1016790A', 'aztreonam', '4-Aminohippuric acid', 'DECAMETHONIUM BROMIDE', 'NCGC00263944-01', 'bleomycin', 'Tideglusib', '35922-06-6', 'ITD-1', 'AMG-51', 'Tacrine', 'CHEMBL2062101', 'Barasertib', 'Banoxantrone', 'berberine', 'GW305074X', 'SCHEMBL453656', 'diazoxide', 'WHI-P154', 'Epinephrine hydrochloride', 'AR-A014418', 'Raf265 derivative', 'aniracetam', 'AZD6482', 'GSK2334470', 'tibolone', 'tizanidine', 'Fluticasone furoate', 'Quercetin dihydrate', 'Aceclidine hydrochloride', 'FLUVASTATIN SODIUM', 'CHEBI:47495', 'HC-030031', 'Alitretinoin', 'Licofelone', 'TOPOTECAN HYDROCHLORIDE', 'Mitiglinide calcium', 'KRCA-0008', 'forskolin', 'SCH772984', '2-AMINOTHIAZOLE', 'AMPICILLIN SODIUM', '7081-53-0', 'naproxen sodium', '1346528-06-0', 'ABT-751', 'Sulfacetamide sodium', 'MCC950', 'NCGC00346563-01', 'Antibiotic AD 32', 'RAF265', 'benazepril', 'IRINOTECAN HYDROCHLORIDE Trihydrate', 'Linrodostat', 'SB1317', 'SCHEMBL19918218', 'Cobimetinib', 'Enalaprilat', 'VU0661013', 'CHEMBL3923667', 'Co-V', 'Ceftiofur', 'Florfenicol', 'NITAZOXANIDE', 'Ginkgolide B', 'PF-2545920', 'formononetin', 'PYR-41', 'fenoldopam', 'Ki16425', 'CHEMBL3348838', 'BS-181 HCl', 'Penicillin G sodium', '546141-08-6', 'cefaclor', '915019-65-7', 'NVP-LCQ195', 'CHEMBL1254007', 'Vinorelbine tartrate', 'ER819762', 'PF-4708671', 'BECLOMETHASONE DIPROPIONATE', 'Pramipexole dihydrochloride', 'doxycycline', 'E7449', 'olanzapine', 'SC-514', 'fluconazole', 'PQ401', 'Ranolazine dihydrochloride', 'voglibose', 'Candesartan cilexetil', 'go 6983', 'MLS-0090801.0001', 'Rivaroxaban', 'SOFOSBUVIR', 'CHEMBL1950303', 'CHEMBL3348948', 'RANOLAZINE', 'EDOXABAN', 'Teichomycin', 'NCGC00346523-01', 'Pyronaridine', '946518-60-1', 'ticlopidine', 'Romidepsin', 'methylene blue', 'ipriflavone', 'CHEMBL3695811', 'disulfiram', '1300031-49-5', 'Prexasertib', 'Voruciclib', '178606-66-1', 'Vancomycin HCL', 'anastrozole', 'Methylene Blue cation', 'Ramatroban', 'Fenoprofen calcium', 'AMG-208', 'SCHEMBL326516', 'GNE-490', 'CHEMBL3348877', 'Apabetalone', 'mycophenolate mofetil', 'Bazedoxifene HCl', 'Alfuzosin Hydrochloride', 'gliclazide', 'CASIN', 'Nafamostat', 'Parogrelil', 'CHEMBL3348881', 'PIK-93', 'hydrocortisone', 'ZINC34894448', 'ML216', '900515-16-4', 'CHIR-124', 'Tizanidine hydrochloride', '129-56-6', 'Norcisapride', '873225-46-8', 'Marbofloxacin', '14402-89-2', 'BMS-214662', 'NCGC00263108-01', 'Proadifen hydrochloride', 'BVT-14225', 'CHEMBL2140543', 'proguanil', 'GALLAMINE TRIETHIODIDE', '509088-69-1', 'PYRVINIUM CHLORIDE DIHYDRATE', 'ZINC208949883', 'Quetiapine fumarate', 'MOXONIDINE', 'Esomeprazole Sodium', 'Taselisib', 'Lucitanib', 'NCGC00263280-01', 'azathioprine', 'Cetrimonium bromide', 'doxazosin', 'Torasemide', 'Esculin', 'UNII-70N8WTD318', 'BMS-687453', 'Ipatasertib', 'Naquotinib mesylate', 'GNE-477', 'Pluripotin', 'NVP-CGM097', 'EPZ015866', 'scopolamine butylbromide', 'Mexiletine hydrochloride', 'vesnarinone', '172889-27-9', 'propofol', '209984-57-6', 'BAY-1895344', 'Milademetan', 'CHEMBL3348841', 'C24H28N2O5.H2O', '347323-96-0', 'PHTHALYLSULFACETAMIDE', 'Brompheniramine maleate', 'carbidopa', 'NCGC00021305-08', 'LX7101', 'Tenalisib', 'BIBR-1048', 'Purfalcamine', 'SB 202190', 'PF-04979064', 'Withaferin A', 'salicin', 'ZINC3831133', 'Mps1-IN-1', 'epinephrine', 'Valnemulin hydrochloride', 'GDC-0084', 'CHEMBL3348849', 'Cediranib', 'Epinephrine bitartrate', '372196-67-3', 'Amiselimod hydrochloride', 'UNC0224', '906673-24-3', '939791-38-5', 'Icotinib', 'STX-0119', 'tranexamic acid', 'CHEMBL3348974', 'CHEMBL3348942', 'Clemizole hydrochloride', 'CHEMBL2141387', '391210-10-9', 'BML-277', 'Gynostemma Extract', 'Benzamil', 'CHEMBL4303286', 'BIX 02565', 'SB-743921', 'Cyclamic acid', 'Selonsertib', 'terbinafine', 'CHEMBL3349015', 'penciclovir', 'PF-04691502', 'Calcifediol', 'Evodiamine', 'Pioglitazone', '494772-87-1', 'Quinacrine dihydrochloride dihydrate', 'Eliprodil', 'XL147', 'SCHEMBL1946862', 'Carboplatinum', '112648-68-7', '7803-88-5', 'OLOPATADINE HYDROCHLORIDE', '185039-99-0', 'Bimiralisib', 'imipramine', 'ACC1 BMS', 'Azelnidipine', 'genistein', 'Dalcetrapib', '1246086-78-1', '264218-23-7', 'Lorlatinib', 'Losmapimod', 'CALCIUM GLUCEPTATE', 'BMS-2', 'Tranilast (trans-)', '1616632-77-9', 'Y-27632 dihydrochloride', 'MKC-1', 'Crenigacestat', 'daunorubicin', 'CHEMBL1739063', 'GSK-923295', 'Oxacillin sodium salt', 'Azacyclonol', 'Sumanirole maleate', 'HG-14-10-04', 'Selegiline hydrochloride', 'Pterostilbene', 'ZINC43163828', '124936-75-0', 'SUCCINYLCHOLINE CHLORIDE DIHYDRATE', 'Toxoflavin', '10-Hydroxycamptothecin', 'Ginsenoside rb1', '476159-98-5', 'UNC0631', 'AURANOFIN', 'FOSCARNET SODIUM', 'BAY-1436032', '209481-20-9', 'spironolactone', 'Diltiazem hydrochloride', 'meclofenamic acid', 'CHEMBL3348975', 'CHOLINE CHLORIDE', 'NCGC00167798-01', 'Pexidartinib', 'NVP-ADW742', 'CHEMBL3348997', 'uridine', 'SODIUM ASCORBATE', 'AX-024', 'ceritinib', 'AP26113', 'Lapatinib Ditosylate', 'cefdinir', 'carvedilol', 'ENMD-2076', 'Metoprolol tartrate', 'suramin', 'Trazodone hydrochloride', 'pepstatin', 'Dicyclomine hydrochloride', 'Thiazovivin', 'Pifithrin-alpha', '865362-74-9', 'Isepamicin', \"Phloretin 2'-galactoside\", 'Flavoxate hydrochloride', 'L-NAME', 'AZD1981', 'Odanacatib', '423735-93-7', 'BAY 41-2272', 'WHI-P97', 'ICI-D7288', 'Ruxolitinib', 'ADEFOVIR DIPIVOXIL', '38194-50-2', 'SR-01000075723', 'PHA-680632', 'trimetrexate', 'Tosedostat', 'PF-3845', 'Artesunate', 'STF-083010', 'SAR-020106', 'FG-2216', 'BROMFENAC SODIUM', 'Pranlukast hemihydrate', 'roniciclib', 'Synephrine hydrochloride', 'flumethasone', 'ATORVASTATIN CALCIUM', 'griseofulvin', 'Fedratinib', 'cis-Diaminedichloroplatinum', 'Cidofovir', '936091-15-5', 'Pralatrexate', 'CCT241533', 'Metenkephalin', 'GW843682X', 'Dasatinib', 'DAPTOMYCIN', 'cinepazide maleate', 'betulinic acid', 'Brigatinib', 'Ripasudil', 'CP 346086', 'Buflomedil', 'MOEXIPRIL HYDROCHLORIDE', 'procaterol hydrochloride', 'KU-0060648', 'gemcitabine', 'ISOVALERAMIDE', 'NCGC00016641-01', 'Ibandronate sodium monohydrate', 'tazarotene', 'Tesmilifene hydrochloride', 'meticrane', 'Daminozide', 'mometasone furoate', 'EPZ004777', 'Anamorelin', 'WNK463', 'phloretin', 'Tolvaptan', 'Osanetant', '4SC-202', 'lomustine', 'CHEMBL4062204', 'Tioxolone', '955-24-8', 'BQ-123', 'GSK4112', 'D(+)-Glucose', 'MG-132', 'Estrodienol', 'CHEMBL1706858', 'piperaquine', 'BMS-690514', 'nabumetone', '925434-55-5', 'OTS-964', 'novobiocin(1-)', 'CBiol_002052', 'Prasugrel', 'QL47', '1,25-dihydroxy vitamin D3', 'AZ13479709', 'ZD7288 hydrate, >=98% (HPLC)', 'Manassantin A', 'APY29', 'ZINC100015731', 'CHEMBL3183888', 'CHEMBL1706473', 'Levetiracetam', 'Lomeguatrib', '219773-55-4', 'MEMANTINE HYDROCHLORIDE', 'berberine chloride', '23541-50-6', 'CHEMBL3348869', 'naltrexone', 'sulfaguanidine', 'dantrolene', 'thalidomide', 'Necrostatin 2 S enantiomer', 'Levodropropizine', 'PONATINIB', 'Cilengitide', 'MK-8745', 'Chelerythrine chloride', '1986-47-6', 'GW 441756', 'Ezetimibe', 'Adomeglivant', 'pargyline', 'Emtricitabine', 'tamoxifen', 'CHEMBL3348918', 'L-Noradrenaline bitartrate monohydrate', 'NCGC00166236-01', '7-Aminocephalosporanic acid', 'PF-4693627', 'BALSALAZIDE', 'malotilate', 'nocodazole', 'Prestwick0_001056', 'Xanthatin', 'actinomycin D', 'cerulenin', 'Xarelto', 'Dronedarone', 'Tangeretin', 'EPZ011989', 'AZD8186', 'CEP-40783', 'NCGC00016797-04', 'Doxorubicin (Adriamycin)', 'chlormezanone', 'mefloquine', 'EBPC', 'RO9021', 'CHEMBL3348956', 'dropropizine', 'CHEMBL3103192', 'Daporinad', 'XL888', 'AZ20', 'Pomaglumetad methionil', 'CTK9A1709', 'NICARDIPINE HYDROCHLORIDE', 'CHEMBL3348847', 'NCGC00167431-02', 'AMG-517', 'minoxidil', 'SGC2085', 'noscapine', 'Golvatinib', 'CHEMBL17639', 'CompB', 'Emricasan', '602306-29-6', 'Rolofylline', 'Ferrostatin-1', '1202884-94-3', 'Ki16198', 'nimesulide', 'Rimonabant', 'CHEMBL3348947', '309928-48-1', 'CHEMBL3348848', 'IBUTILIDE FUMARATE', 'PIK-293', 'Halofantrine', 'Ginkgolide A', 'Diclofenac potassium', 'NCGC00263119-01', 'APR-246', 'Quizartinib', 'Spectinomycin HCl', 'ergocalciferol', '14913-33-8', 'SAR-260301', 'Reversine', 'Orteronel', 'Sivelestat', 'clinofibrate', 'BIIB021', 'AVN-944', 'primidone', '1201902-80-8', 'rotenone', 'Mevastatin', 'Rociletinib', 'AstraZeneca CHK1 inhibitor', 'Dabigatran', 'AZILSARTAN MEDOXOMIL', 'T0901317', '(+)-Blebbistatin', 'Anlotinib', '1001645-58-4', 'NCGC00091032-08', 'haloperidol', 'Bendamustine hydrochloride', 'novobiocin', 'WZ8040', 'CHEMBL258622', 'CAY10505', '348622-88-8', '209410-46-8', '891494-64-7', 'lomefloxacin', 'MEZLOCILLIN SODIUM', 'CHEMBL2426174', 'Sulfatinib', 'PF-8380', 'Zoxazolamine', 'Abemaciclib', '1616392-22-3', 'CHEMBL3814532', 'CYPROTERONE ACETATE', 'Valacyclovir hydrochloride', 'AZD-4877', 'Sitagliptin', 'Propranolol hydrochloride', 'CHEMBL1288002', 'Veliflapon', '3-Amino-2-oxazolidinone', '1-beta-D-Xylofuranosyluracil', '29883-15-6', 'Varenicline tartrate', 'kaempferol', 'CHEMBL3349004', 'shikonin', 'methylergonovine', 'ACT 078', 'Wortmannin from Penicillium funiculosum', 'Trometamol', 'CVT-313', 'pinometostat', '193611-72-2', 'SAR405838', 'BI 2536', '5-Aminosalicylic acid', 'Omigapil', 'methylprednisolone', 'DIVALPROEX SODIUM', 'GUANFACINE', 'MM-102', 'Vepesid J', 'Iguratimod', 'PF-04217903', 'Alisertib', 'rimantadine', '497839-62-0', 'K6PKX2PHVZ', 'AZD4320', 'Adiphenine hydrochloride', 'Pyridone 6', '1101810-02-9', 'Ciclopirox olamine', 'UNII-LNS2U38C9S', 'Cutamesine', 'flopropione', 'FH535', 'podophyllotoxin', 'tranylcypromine', 'BMS-378806', 'QUIFLAPON SODIUM', 'BIBR-1532', 'PF-06651600', 'CHEMBL2134570', 'Sodium 4-phenylbutyrate', 'VE-821', 'Milnacipran hydrochloride', 'benidipine hydrochloride', 'MGCD-265', 'Daclatasvir', 'meropenem', 'GGTI-2418', 'NCGC00346736-01', 'Flupirtine maleate', 'Enasidenib', 'Methyl hesperidin', 'Motolimod', 'DEFLAZACORT', 'CHEMBL3348872', 'AZD9496 maleate', 'Avacopan', 'PF-543', 'KN-62', 'Cevipabulin', 'Glasdegib', 'CHEMBL3114578', 'Indolactam V', 'Cladribine', 'Escitalopram oxalate', '71555-25-4', 'GANT 58', 'MEGESTROL ACETATE', 'rizatriptan', 'Mubritinib', 'nilutamide', 'ZINC103939005', 'NCGC00346580-01', 'rebeccamycin', 'Dexrazoxane hydrochloride', 'Omaveloxolone', 'SARAFLOXACIN HYDROCHLORIDE', 'phenytoin', 'CHIR-99021', 'NCGC00025235-01', 'Lappaconitine hydrobromide', 'LY2608204', 'naringin dihydrochalcone', 'Balicatib', 'NCGC00347282-01', 'Purmorphamine', 'CHEMBL3348919', '4-[[(2R,3S,4R,5S)-3-(3-chloro-2-fluoro-phenyl)-4-(4-chloro-2-fluoro-phenyl)-4-cyano-5-(2,2-dimethylpropyl)pyrrolidine-2-carbonyl]amino]-3-methoxy-benzoic acid', 'Refametinib', '1440754-12-0', 'ZINC117147304', '.beta.,.beta.-Carotene', 'GSK2656157', 'Org 27569', '925705-73-3', 'NCGC00142624-04', 'SCHEMBL20734874', 'Climbazole', 'FRAX486', 'CHEMBL387477', 'biperiden', 'Loperamide hydrochloride', 'Nastorazepide', 'Gastrodin', 'SCHEMBL15622193', 'UNII-4GF4A623RF', 'AZ82', 'Golgicide A', 'LY3009120', 'CHEMBL3348967', 'Etofibrate', 'Ingenol mebutate', 'Bemcentinib', 'DIPHENHYDRAMINE HYDROCHLORIDE', 'KS-00001D5I', 'SCHEMBL16606206', 'CAY10603', 'STF-62247', 'EXEMESTANE', 'WH-4-023', 'dichlorphenamide', 'AMG-47a', 'TCS 401', 'EPZ005687', 'IWP-2', 'NVP-BVU972', 'Nobiletin', 'Ambrisentan', 'lonidamine', 'FLUOXETINE HYDROCHLORIDE', 'BETA-SITOSTEROL', 'CHEMBL1408258', 'Visudyne', 'S-99', 'Cdk4/6 Inhibitor IV', 'CHEMBL3348887', 'Veliparib', '217645-70-0', 'CHEMBL1394734', 'CHEMBL3348925', 'y-27632', '164658-13-3', '227088-94-0', 'HA130', 'Levonorgestrel', 'terazosin', 'CHEMBL3348991', 'RGB-286638', 'FLUTICASONE PROPIONATE', '1423715-09-6', 'BMS-906024', 'Nifuroxazide', 'Bergapten', 'Oltipraz', '(R)-Etodolac', 'aminophenazone', 'floxuridine', 'Ulipristal acetate', 'EO 1428', 'GSK429286A', 'quercetin', 'NVS-CECR2-1', 'SCHEMBL2263525', 'baclofen', '207679-81-0', '4-methylumbelliferone', 'Tenofovir', 'Rosuvastatin calcium', 'tobramycin', 'pantothenic acid', 'JSH-23', 'Tilmicosin', 'Nepicastat', 'carbamazepine', 'Basmisanil', 'NCGC00242511-02', 'Motesanib diphosphate', 'CHEMBL39740', 'KDM5-C70', 'eeyarestatin I', 'ML226', '926319-75-7', '3-methyladenine', 'Chrysophanol', 'CTEP', 'bethanechol', 'Gentian violet cation', 'Tiratricol', 'BIX 02189', 'MMP INHIBITOR V', 'Varenicline', 'BRUCINE', 'ETP-46464', 'BMS-777607', 'Palomid 529', 'SALICYLANILIDE', 'CHEMBL213634', 'Disufenton sodium', 'CI-966', 'CPI-360', 'CHEMBL3188944', 'Cot inhibitor-2', 'Vorasidenib', '13292-46-1', 'Milciclib', 'compound 8e [PMID: 24432909]', 'cbl0137', 'Sildenafil citrate', 'SJG-136', 'dyphylline', 'TRIAMCINOLONE ACETONIDE', 'pramiracetam', 'CUDC-101', 'Methylscopolamine', '(-)-Blebbistatin', 'alprostadil', 'Tecalcet', 'Ursolic acid', 'Itacitinib', 'SJ-172550', 'EPIANDROSTERONE', 'TCS 359', 'CHEMBL3348843', 'WYE-354', 'M2698', 'TAK-593', 'Clomifene citrate', 'Orotic acid', 'HYODEOXYCHOLIC ACID', 'Wnt-C59', 'PF-3758309', 'Acalisib', 'LY2109761', 'NCGC00263527-02', 'Efaproxiral sodium', 'Sitagliptin phosphate monohydrate', 'ITMN191', 'Nsc 23766', 'NVP-AEW541', 'MK-1775', 'Erlotinib hydrochloride', 'ON123300', 'meclizine', 'CHEBI:45367', 'thapsigargin', 'rottlerin', 'Gardiquimod', 'nifekalant', 'MK-4101', 'aminoglutethimide', 'bafilomycin A1', 'NCGC00095145-01', 'ethambutol', '944261-79-4', '56990-57-9', 'Zoledronic acid', 'Dutasteride', 'Relugolix', 'Lithium citrate', 'bicalutamide', 'Bazedoxifene acetate', 'theobromine', 'QUISINOSTAT', 'Ezetimibe glucuronide', 'amisulpride', 'ML264', 'NCGC00161834-01', 'Plinabulin', 'CBiol_001725', 'Ibutamoren', 'Nebivolol', 'mefenamic acid', 'alfacalcidol', 'lansoprazole', 'Ezutromid', 'Elagolix', 'CHEMBL3348879', 'GDC-0077', 'CPI-455', 'NCGC00346531-01', 'Aloin B', 'PF-06282999', '219580-11-7', 'PHA690509', 'BGP-15', '717906-29-1', 'idebenone', 'ganciclovir', 'Bimatoprost', 'XL019', 'IVERMECTIN', 'vanillin', 'Poziotinib', 'cycloheximide', 'Reboxetine mesylate', 'BMS-754807', 'PHENFORMIN HYDROCHLORIDE', 'GW1929', 'econazole', 'CHEMBL2018451', 'Chlorpheniramine maleate', 'PHA-665752', 'NCGC00014650-03', 'gadodiamide', 'GDC-0834 Racemate', 'Ropivacaine hydrochloride', 'GNF-5837', 'Spectrum_001978', 'FLT3-IN-1', 'SID 7969543', 'Uprosertib', 'carbachol', 'CHEMBL2337032', '438190-29-5', '944118-01-8', '1062368-24-4', 'epalrestat', 'MED-575', 'propafenone', 'tinidazole', 'Navoximod', 'AZD2858', 'SCHEMBL2227980', 'riluzole', 'mitomycin C', 'shikimic acid', 'GNE-495', 'budesonide', 'AGI-5198', 'CC-885', 'CHEMBL2132584', 'SCH-79797', 'bifonazole', '80306-38-3', 'RI-1', 'ATN-161', 'hesperidin', 'chromocarb', 'tacrolimus', 'Lemborexant', 'spiramycin', 'CHEMBL2133870', 'IMIQUIMOD', 'Lonafarnib', 'PD0166285', 'GDC-0879', 'mitoxantrone', 'trimethobenzamide', 'homoharringtonine', 'RIFABUTIN', 'B022', 'ramipril', 'voxtalisib', 'mesna', 'Sufugolix', 'NCGC00162383-02', 'Ki20227', 'SR-3029', 'Trifluoperazine dihydrochloride', 'TIRAPAZAMINE', 'Src Kinase Inhibitor I', 'BD-1047', 'cetirizine', 'Elesclomol', 'HMS2093I20', '10356-76-0', 'chlorprothixene', 'Darunavir', 'THONZONIUM BROMIDE', 'methyltestosterone', 'AZD5363', 'FASN BI', 'XL-228', 'SULBACTAM SODIUM', 'cinoxacin', 'AMG-458', 'L-thyroxine', 'Pyridostatin', 'Daidzin', 'AL 8697', '912545-86-9', 'Succinylcholine chloride', 'Silmitasertib', 'PHENPROCOUMON', 'DANOPREVIR', 'Sirtinol', 'Arbidol', 'EL-102', 'Safinamide mesylate', 'ticarcillin sodium', 'chlorphenesin', '1224844-38-5', 'TAK-243', 'CHEMBL1270810', 'cytarabine', 'clorprenaline hydrochloride', 'MPEP', 'CPI-4203', 'altretamine', 'Nampt-IN-1', 'tetrahydropalmatine', 'Verapamil hydrochloride', 'CHEMBL2138352', 'CHEBI:95054', 'PHA-793887', 'brefeldin A', 'Prucalopride succinate', 'acyclovir', 'FORMOTEROL FUMARATE', 'WIKI4', 'racemic-Tasocitinib', '1218942-37-0', 'Brinzolamide', 'Buflomedil hydrochloride', '666260-75-9', 'AT7519', 'XRP44X', '54-62-6', 'VBY-825', 'CHLORAMPHENICOL PALMITATE', 'Brivanib alaninate', 'AZ13036220', 'SNS-314 Mesylate', 'mk-1064', 'PF-06840003', 'MPT0B098', 'Altrenogest', '937174-76-0', 'JZL195', 'Loteprednol etabonate', 'OXCARBAZEPINE', 'XCT790', 'AdipoRon', 'CHEMBL2134640', 'Pilaralisib', 'AZD7762', 'GLPG0974', 'Acetovanillone', '14003-96-4', 'OXYPHENONIUM BROMIDE', 'CHEMBL3348894', 'Ingenol 3-angelate', 'Adenine hydrochloride', 'nu6102', '1265229-25-1', 'Tolcapone', 'CHEMBL3348982', 'CHEBI:93770', 'N-[(E)-1-(2-pyridyl)ethylideneamino]azetidine-1-carbothioamide', 'N-methyl-D-aspartic acid', 'simvastatin', 'Nanchangmycin', 'Retigabine', '939981-37-0', 'Diclofenac sodium', 'Iloperidone', 'NCGC00163474-05', 'A-485', 'NCGC00016645-01', 'CP-673451', 'GW9508', 'Cefprozil monohydrate', 'SULBACTAM', 'A 419259', 'PF-3644022', 'LY3023414', 'MLS002695992', 'B I09', 'pd 150606', 'naratriptan', 'Racecadotril', 'Lopinavir', 'Troxatyl', 'Liranaftate', 'AMG-337', 'ARS-853', 'zolmitriptan', 'Retapamulin', 'meloxicam', 'NPS-2143', 'Stattic', 'AZ13245620', '10402-53-6', 'GSK 525768A', '65678-07-1', 'Dimaprit Dihydrochloride', 'Tigecycline', 'NCGC00242478-02', 'Tivantinib', 'Delanzomib', 'MCOPPB 3HCl', 'Tepotinib', 'PD 198306', 'Rivastigmine tartrate', 'CHEMBL75474', 'AG-1478', 'clonidine', 'Entecavir hydrate', 'irbesartan', 'KPT-185', 'BMS-911543', 'Lacidipine', 'SD-06', 'CHEMBL359618', 'GW 6471', 'CHEMBL130321', 'SCHEMBL2547935', 'Obatoclax', 'Resiquimod', '500579-04-4', 'Irinotecan hydrochloride', 'alacepril', 'rebamipide', 'LY-310,762', 'Necrostatin-1', '55-86-7', 'Rac-Efavirenz', 'Cinchonine dihydrochloride', 'caffeine', 'NCGC00242502-01', 'DETOMIDINE HYDROCHLORIDE', 'Aloxistatin', 'CFI-402257', 'NCGC00017354-06', 'isoniazid', 'dobutamine', 'Omipalisib', 'ZINC101112865', 'LTX-315', 'cannabidiol', 'Cinchophen', 'Vicriviroc', 'PU-WS13', 'FLUVOXAMINE MALEATE', 'CFTRinh-172', 'D-mannitol', 'ifosfamide', 'PX-478', 'Merestinib', 'Neratinib', 'tetrandrine', 'nimodipine', 'Valspodar', 'RALOXIFENE HYDROCHLORIDE', 'butein', 'Isoconazole', 'finasteride', 'Alpelisib(BYL-719)', 'XMU-MP-1', 'MCOPPB', '34031-32-8', 'cilnidipine', 'piroxicam', 'CP-724714', 'Ammonium glycyrrhizate', 'amiodarone', 'TPCK', 'Butoconazole', 'Bosentan hydrate', 'Ipratropium bromide hydrate', 'PI-103', 'Schisandrin B', 'Tyrphostin AG 538', 'NCGC00346613-01', 'NCGC00263143-01', 'L-carnitine', 'PERGOLIDE MESYLATE', 'Avanafil', '503468-95-9', 'Avitinib', 'FAZARABINE', 'manidipine', 'Elvitegravir', 'Cucurbitacin I', 'Torcetrapib', 'Raltitrexed', '869288-64-2', 'Scopine', '159351-69-6', '6429-04-5', 'Alectinib', 'ERGOSTEROL', 'EED226', '9-cis Acitretin', '1095382-05-0', 'CGK733', 'Clindamycin hydrochloride', 'doxapram', 'CHEMBL2142770', 'ENMD-2076 L-(+)-Tartaric acid', 'GSK 650394', 'Sodium diethyldithiocarbamate trihydrate', 'Mavacamten', '444912-48-5', 'Pranlukast', '1118807-13-8', 'PENTAMIDINE ISETHIONATE', 'Caspofungin acetate', 'NCGC00095055-03', 'glyburide', 'streptozocin', 'Saxagliptin', 'Camostat mesylate', 'glipizide', 'cc-223', 'glesatinib', 'Afuresertib', 'olprinone hydrochloride', 'UNC3866', 'JAK3i', 'S-Ruxolitinib', 'LITHOCHOLIC ACID', '7-Hydroxystaurosporine', '928774-43-0', 'Venetoclax', 'amsacrine', 'ANAGRELIDE HYDROCHLORIDE', '94875-80-6', '(+)-PD 128907 hydrochloride', 'bufexamac', 'AMPICILLIN TRIHYDRATE', 'Metacept-3', 'NCGC00017394-08', 'Alvespimycin hydrochloride', 'CHEMBL3348995', 'GSK J4 HCl', 'CPI-444', 'Bendamustine', '2-Cl-IB-Meca', 'Sumanirole', 'KPT-9274', 'MSC2530818', 'ASP-9521', 'Ibutilide', 'Hydroxyflutamide', '741713-40-6', 'melphalan', 'pirarubicin', 'AZ9482', 'CAY-10581', 'ENALAPRILAT DIHYDRATE', '1-Methyl-D-tryptophan', 'Liarozole', 'PF-299804', 'Indirubin', 'BMS 299897', 'Nefopam hydrochloride', 'Duvelisib', 'Bosutinib', 'Cilastatin', 'furosemide', 'AM251', 'Etamsylate', 'EUK 134', '852475-26-4', 'Alibendol', 'SB-505124', 'trospium chloride', 'Tianeptine sodium', 'NCGC00262689-01', 'H-89 DIHYDROCHLORIDE', 'TG101209', 'Octocrylene', 'Pazopanib', 'Rho Kinase Inhibitor IV', '957054-30-7', '117048-62-1', 'Acesulfame potassium', 'amphotericin b', 'Aliskiren', 'RIFAPENTINE', 'ACETYLCHOLINE CHLORIDE', 'TG100-115', 'CHEMBL3348835', 'EPZ004777 hydrochloride', 'ranitidine', 'roscovitine', 'AZ13453720', 'Rucaparib phosphate', 'Dofequidar', 'Costunolide', 'ciproxifan', 'Pimasertib', 'Olprinone', 'amygdalin', 'Secoisolariciresinol', 'DIPERODON HYDROCHLORIDE', 'Salirasib', '278779-30-9', 'Racemic Tamsulosin', 'beta-Narcotine', 'GSK6853', 'nizatidine', 'didanosine', '(R)-Bicalutamide', 'estriol', 'NCGC00346481-01', 'A-770041', 'ISODONOL', 'IDH-C227', 'Bleomycin sulfate', 'SL327', 'prochlorperazine', 'cloxacillin(1-)', 'C9H16N2O4S', 'MK-8245', '300842-64-2', 'Matrine', 'KBio2_007145', 'Desvenlafaxine', 'PF-5006739', 'Flavopiridol', 'GW768505A', 'ADAPALENE', 'Doxazosin mesylate', 'iOWH-032', 'NCGC00018159-01', 'SCHEMBL3469160', 'NCGC00014911-01', 'TICLOPIDINE HYDROCHLORIDE', 'Rupatadine fumarate', 'Ibutamoren mesylate', 'estradiol', 'Rizatriptan benzoate', 'mestranol', 'Balsalazide Disodium', 'yc-1', '314245-33-5', 'clotrimazole', 'Pomalidomide', \"3,3'-Diindolylmethane\", 'CHEMBL3348874', 'AG14361', 'glafenine', 'CYTISINE', 'Ciclesonide', 'Azaperone', 'UNC1999', 'acetazolamide', 'CHEMBL3972653', 'raloxifene', 'cyclobenzaprine', 'BML-190', 'Icrf 193', 'triflupromazine', 'Dyclonine hydrochloride', 'mecamylamine', 'rosiglitazone', '96036-03-2', 'CLORSULON', '426219-18-3', 'famotidine', 'Cysteamine hydrochloride', 'TOLIMIDONE', 'Tanshinone I', 'NMS-P118', 'rivastigmine', 'Acebutolol hydrochloride', 'GSK256066', '10-Deacetylbaccatin III', 'LACTOBIONIC ACID', 'BRUCEANTIN', 'NCGC00263092-01', 'Kartogenin', 'Vadadustat', 'FGF401', '9-BETA-D-XYLOFURANOSYL-ADENINE', 'BAM7', '2-Deoxy-D-galactopyranose', 'Fenebrutinib', 'maprotiline', 'OICR-9429', '10074-G5', 'Moguisteine', 'PFI-4', 'BMS-986158', 'Martinostat', 'MI-538', 'dipyridamole', 'niflumic acid', 'KI696', 'CHEMBL574181', 'JNJ-38877605', 'cephalexin', 'Ziprasidone hydrochloride', 'SCHEMBL2929203', 'MPI-0479605', 'Entrectinib', 'NCGC00025091-04', 'Apremilast', 'ILK-IN-2', 'Crystal violet', 'Eribulin mesylate', 'Ambroxol hydrochloride', 'Chidamide', 'CHEMBL2140838', 'PF-5274857', 'ergosta-5,7,22-trien-3-ol', '6-aminohexanoic acid', 'bezafibrate', 'Seletalisib', '1124329-14-1', 'HMS3673C13', 'Dapagliflozin', 'CROMOLYN SODIUM', 'staurosporine', 'PROPAFENONE HYDROCHLORIDE', 'Amitriptyline hydrochloride', 'CHEMBL3348914', 'NCGC00346737-01', 'Dicloxacillin sodium', '79558-09-1', 'CHEMBL3426805', 'b-D-Glucopyranoside, 4-hydroxyphenyl', 'Terbinex', 'NCGC00346661-01', 'Synephrine', 'UPF 1069', 'Nefiracetam', 'luteolin', '1161205-04-4', 'Cloxacillin sodium', 'pramipexole', 'SCHEMBL20400776', 'Rimcazole', 'GDC-0623', 'SB-612111', 'JNJ-7777120', 'cyclosporin A', 'TOLMETIN SODIUM', 'Enzastaurin', 'SCHEMBL8771394', 'DSSTox_CID_16760', 'GSK872', 'sulfathiazole', 'CHEMBL3392636', 'vinblastine', 'ASCORBYL PALMITATE', 'Octreotide', 'R-268712', 'Spectrum_000880', 'Navitoclax', 'JNJ-38158471', 'Isoevodiamine', 'YKL-05-099', 'diclofenac(1-)', 'hg-10-102-01', 'Naltrexone hydrochloride', 'stanozolol', 'Onalespib', 'LXS196', 'theophylline', 'BETAMETHASONE DIPROPIONATE', 'inosine', 'Methylhydantoin-5-(D)', 'eFT508', 'WT-161', 'Voriconazole', 'Imatinib', 'cerivastatin', '851723-84-7', 'Dopamine hydrochloride', 'domperidone', 'ALLYLTHIOUREA', '473382-39-7', 'Umbralisib', 'IEM 1754 dihydrobroMide', '193746-75-7', 'Niraparib', '882257-11-6', 'RGFP966', 'Sepantronium', 'CHLOROGENIC ACID', 'TP-3654', 'suprofen', 'aminopterin', 'Tripelennamine hydrochloride', 'SB 206553', 'ZM 39923 hydrochloride', 'Endoxifen', '1096708-71-2', 'Tocris-1479', 'LMP744', 'CHEMBL3348884', 'cyclosporine', 'Buparlisib', 'Lumefantrine', 'Cebranopadol', 'SCHEMBL3489513', 'allopurinol', 'Atractylenolide I', 'THZ2', 'RSL3', 'Semagacestat', 'Trifluridine', 'Norbinaltorphimine', 'CINCHONIDINE', 'Mepiroxol', 'Darinaparsin', 'NCGC00262398', 'SGC0946', '950912-80-8', 'enoxacin', 'AZD8797', 'Sitafloxacin hydrate', 'cinchonine', 'L-Hyoscyamine', 'GSK-J1', 'ZINC84688828', 'FADROZOLE', 'MK-2461', 'SCHEMBL3958507', 'Rhein', '128517-07-7', 'su6656', 'mocravimod', 'oxymetholone', 'Bafetinib', 'Chlorquinaldol', 'Darunavir ethanolate', 'NCGC00017254-02', 'Phlorizin', 'CHEMBL3185999', 'TTNPB', 'Oxethazaine', '5987-82-6', 'R406', 'gabapentin', 'CHZ868', 'UNC0646', 'nitrendipine', 'CHEMBL3348985', 'Ataluren', 'CHEMBL3348891', 'Danusertib', 'CHEMBL3182364', 'CHEMBL3348829', 'bromhexine', 'MRT 68601 hydrochloride', 'JNJ-42165279', '821794-92-7', 'ZINC139045355', 'amantadine', 'Cyclizine 2HCl', 'NCGC00345810-01', 'Cridanimod', 'CYP3cide', 'Dinaciclib', '1262770-73-9', 'chlorhexidine', 'LIOTHYRONINE SODIUM', 'methenamine', '827022-32-2', 'CHEMBL1221434', 'histamine', 'tiopronin', 'ronidazole', 'nicotinic acid', 'Isotretinoin', 'alpelisib', 'FLUPHENAZINE', 'AIM-100', 'Afatinib', 'thiotepa', 'Dovitinib lactate', 'Dacinostat', 'ALVERINE CITRATE', 'Tariquidar', 'Bepotastine besilate', 'prednisolone', 'GSK2879552', 'Ropinirole hydrochloride', 'D-Xyl', 'ellagic acid', 'Toltrazuril', 'A-1210477', 'BRK inhibitor P21d (hydrochloride)', 'CHEMBL3348892', 'birabresib', 'SGC-CBP30', 'TETRABENAZINE', 'CYROMAZINE', 'Takeda-6d', 'Mianserin hydrochloride', 'isoproterenol', 'fenofibrate', 'Cyprodime', 'Posaconazole', 'Telmisartan', 'Epothilone A', 'PI3K inhibitor GS1059615', 'tioconazole', 'CHEMBL3348959', 'BLU-554', 'Resminostat', 'SR-05000001623', 'LDN-212854', 'etodolac', 'Acolbifene', 'risperidone', 'Vinblastine sulfate', '690206-97-4', 'PHENOTHIAZINE', 'Netarsudil', 'BAY-876', 'ZINC896472', 'acetaminophen', 'aspirin', 'Conivaptan', 'Chlorpromazine hydrochloride', '(-)-Epigallocatechin gallate', '5-hydroxytryptophan', 'azithromycin', '3-(2,6-dichloro-3,5-dimethoxy-phenyl)-1-[6-[4-(4-ethylpiperazin-1-yl)anilino]pyrimidin-4-yl]-1-methyl-urea', 'Sodium valproate', '494772-86-0', 'sulfaphenazole', 'CHEMBL3348857', 'Decitabine', 'betaxolol', 'amoxicillin', 'ARN-509', 'nalidixic acid', 'cyclophosphamide', 'dihydroergotamine', 'XL765', '1155877-97-6', 'Deoxyarbutin', 'Acitretin', 'PLX-4720', 'betamethasone', 'phenylephrine', 'Cinacalcet', 'Pradigastat', 'CHEMBL277800', '885060-08-2', 'GESTODENE', 'FLUOCINOLONE ACETONIDE', 'MEPTAZINOL HYDROCHLORIDE', 'Procyclidine hydrochloride', '545380-34-5', 'MITHRAMYCIN', 'AMD 473', 'MG-115', 'TRAIL', 'CHEMBL3348922', 'Riociguat', 'MI-503', 'roxatidine acetate hydrochloride', 'aspartame', 'dexamethasone', 'Lorcaserin hydrochloride', 'GYKI-53655', 'oxybutynin', 'NCGC00263226-01', 'cephradine', 'NCGC00185736-01', '1032350-13-2', 'Ixabepilone', '57-22-7', 'NCGC00253463-01', 'foscarnet', 'JNJ-7706621', 'CHEMBL3348853', 'GSK269962A', 'Cardiogenol C', 'CAA0225', 'TP-0903', 'Framycetin sulfate', 'adenosine', 'vactosertib', 'VX-984', 'Atazanavir', 'Leptomycin B', 'AMG-900', 'benzoic acid', 'Scopolamine hydrobromide', 'cyclandelate', 'camptothecin', 'Vilazodone hydrochloride', 'FLUNIXIN MEGLUMINE', 'STIGMASTEROL', 'CHEMBL3184655', 'GNF-6231', 'Luminespib', 'LEVOFLOXACIN', 'Betamipron', 'ML327', 'Pralnacasan', 'GEMCITABINE HYDROCHLORIDE', 'Resatorvid', '1072959-67-1', 'bupropion', '201943-63-7', 'ACADESINE', 'VECURONIUM BROMIDE', 'NCGC00091109-03', 'PAMIDRONIC ACID', 'Quinine', 'Olopatadin', 'IC-87114', 'DMXAA', 'GNF-7', 'Tipiracil', 'BMS-983970', 'Cycloguanil', 'Vardenafil hydrochloride trihydrate', 'GSK-25', 'CP-91149', 'fluocinonide', 'spermidine', 'colchicine', 'SCHEMBL2671137', 'CHEMBL3348931', 'reparixin', 'PAEONOL', 'Indole-3-butyric acid', 'GSK2606414', 'BIX02188', 'Talampanel', 'TAK-960', 'NCGC00263127-01', 'Cathepsin inhibitor 1', 'SKI II', '314042-01-8', 'Valproate', 'KU-60019', '7-Ethyl-10-hydroxycamptothecin', '315703-52-7', 'Orphenadrine citrate', 'LEXIBULIN', 'BI-D1870', 'Enalapril maleate', 'ONX-0914', 'nelfinavir', 'CHEMBL317493', 'Avasimibe', 'KBioGR_000368', 'Avadomide', 'Triapine', 'memantine', 'CHEMBL3183697', 'Elacestrant', 'CHEMBL3184387', 'NCGC00090797-11', 'CCT251236', 'methotrexate', 'Caroverine', 'CHEMBL3348883', 'gemfibrozil', 'Tegaserod', 'Ekb-568', 'Imeglimin', '41276-02-2', 'Vatalanib dihydrochloride', 'Minoxidil sulphate', 'AT9283', 'EMETINE', 'UNC2250', 'SCHEMBL82368', 'Gatifloxacin', 'Tocris-1097', 'Mitoxantrone hydrochloride', 'AK-7', 'G007-LK', 'tenoxicam', 'SCHEMBL13739290', 'Cinacalcet hydrochloride', 'NCGC00163548-02', 'Cephalomannine', 'Mitapivat', 'GSK2256098', 'levamisole', 'chlorzoxazone', 'ETHYNODIOL DIACETATE', 'MLN120B', 'N6-Methyladenosine', 'lidocaine', 'Toceranib', '(E/Z)-ferulic acid', 'A 839977', 'Quinacrine hydrochloride', 'CHEMBL3348955', 'Cgs 21680', '4812-40-2', 'Jasmonic acid methyl ester', 'Dofetilide', 'Dronedarone hydrochloride', 'Episilvestrol', 'MK-8033', 'Dovitinib', 'Pefloxacin', 'NCGC00016552-01', 'Aclidinium bromide', 'isoliquiritigenin', 'indomethacin', 'Bupivacaine hydrochloride', 'oligomycin A', 'PF-956980', 'LY2584702', 'Sophocarpine', 'Huperzine A', 'ethisterone', 'CHEMBL492193', 'prilocaine', 'ketoprofen', 'VARLITINIB', '4-Hydroxytamoxifen', 'BTZ043 Racemate', 'GSK-3 Inhibitor X', 'Imatinib mesylate', 'Volasertib', '49843-98-3', 'Silybin', 'Prucalopride', 'Entospletinib', 'CHIR-98023', 'L-690,330', 'Pravadoline', 'pyroxamide', 'granisetron', 'Irsogladine', 'SrcI1', 'Pemetrexed', 'ZSTK474', 'sotalol', 'ribavirin', 'Tolterodine tartrate', '944341-54-2', 'bepridil', '626222-24-0', 'Vincristine sulfate', 'Torin 1', '134680-32-3', 'Midostaurin', 'ZINC11616871', 'Naloxone hydrochloride', 'Balofloxacin', 'formestane', 'BIO-Acetoxime', 'GNE-9605', 'Cyt387', 'DEXMEDETOMIDINE', 'CPI703', 'Suplatast Tosilate', 'SCHEMBL12175228', 'OTSSP167', '901245-65-6', 'ZINC22059945', 'PHA-767491', 'BISOPROLOL', '2-iminobiotin', '131707-23-8', 'GW9662', 'beta-Lapachone', 'benzbromarone', 'myricetin', 'UNC0638', 'SCHEMBL1557791', 'Bromhexine hydrochloride', 'D-106669', '(-)-Ethyl apovincaminate', 'Tiotropium bromide hydrate', 'chenodeoxycholic acid', 'crotamiton', 'Tetrahydrozoline hydrochloride', 'SF2523', 'Gossypol acetic acid', 'Catharanthine', 'Lestaurtinib', 'PDGF Receptor Tyrosine Kinase Inhibitor III', 'CHEMBL1090466', 'thiamphenicol', 'idarubicin hydrochloride', 'itraconazole', 'C188-9', 'CHEMBL2138817', 'Pelitinib', 'SSR 69071', 'NMS-873', 'DULOXETINE HYDROCHLORIDE', 'Pyrazine-2-carboxylic acid', 'Sodium salicylate', 'LRRK2-IN-1', 'AZD5582', 'azasetron hydrochloride', 'WAY-204688', '946128-88-7', 'Secnidazole', 'Lenalidomide', 'CCT128930', 'HMN-214', 'CCT-244747', '1252806-86-2', 'Epirubicin hydrochloride', '1316214-52-4', 'ZINC3881972', '41575-94-4', 'troglitazone', 'PIPERACILLIN SODIUM', 'NIGULDIPINE', 'norethindrone', '154447-36-6', '711085-63-1', 'VLX1570', 'zaleplon', 'Scopine hydrochloride', 'U0126-EtOH', 'MK-5108', 'enoxolone', 'Apitolisib', 'scriptaid', 'ALBUTEROL SULFATE', 'RG2833', 'Fotemustine', 'NCGC00095245-01', 'temocapril hydrochloride', 'mebendazole', 'PLX8394', '501919-59-1', 'PIM447', 'Evobrutinib', 'Bexarotene', 'Aloperine', '155584-74-0', 'AMG-232', 'Tinostamustine', 'PI-3065', 'SANT-2', 'KPT-276', '11-cis Retinoic Acid', 'Silodosin', 'Citarinostat', 'Oxymatrine', 'Diosmetin', 'CHEBI:94798', 'Eszopiclone', '145986-26-1', 'nevirapine', 'Deferasirox', 'Arfolitixorin', 'Doripenem hydrate', '1675203-84-5', 'Indibulin', 'ACIPIMOX', 'clarithromycin', 'Aurora A Inhibitor I', 'KRP-297', 'Mivebresib', 'SRT3025', 'Maslinic acid', 'CARBENOXOLONE SODIUM', 'Bilobalide', 'linezolid', 'GW0742', 'PERHEXILINE', 'PS-1145', 'ALW-II-41-27', 'PCI-27483', 'Go 6976', 'Senexin B', 'ML141', 'Maraviroc', 'NCGC00263268-01', \"3'-Epi Gemcitabine (Gemcitabine Impurity)\", 'hydroxychloroquine', 'MK-2048', 'PR-619', 'rose bengal(2-)', 'SR-3306', 'A-674563', 'CHEMBL3348910', 'lactulose', 'hydroxyurea', 'DMH2', 'cefoperazone', 'AZD3463', 'ACHP', 'compound 31 [PMID: 22902653]', '928344-12-1', 'h-d-cys(trt)-oh', 'Fasudil', 'NBI-74330', 'MLS002702854', 'Sulconazole nitrate', '152121-47-6', 'Ospemifene', 'Piperazine hexahydrate', 'BCP07985', '1221186-53-3', 'YM 511', 'valacyclovir', 'Mesna disulfide', 'Marimastat', 'pregnenolone', 'clindamycin', 'PluriSln 1', 'Rabusertib', '(Phenylindolyl)maleimide deriv. 79', 'Oridonin', 'Retinoic acid', 'Pizotifen', 'Polydatin', 'CHEMBL1981047', 'NCGC00241036', 'Poly(2-fluoroadenylic acid)', 'BI-671800', 'Lincomycin hydrochloride', 'AZ13397262', 'Lumiracoxib', 'dopamine', 'Tesmilifene', 'Telithromycin', 'Tame', 'NCGC00163532-01', 'Fingolimod', 'TAK-715', 'Hordenine', 'sulfamethizole', 'Fenobam', 'NCGC00263106-01', '3-Deazaneplanocin', 'NIBR-17', 'CDIBA', 'CHEMBL34450', 'Olmutinib', 'CHEMBL3184303', 'BI-7273', 'SCHEMBL11752', '8-Methyl-N-Vanillyl-6-Nonenamide', 'Osthole', 'pentagastrin', 'PHENFORMIN', 'CGI-1746', 'Sodium 4-aminohippurate hydrate', 'PT-2385', 'Fenspiride hydrochloride', 'S-Trityl-L-cysteine', 'Eltrombopag', 'methimazole', 'potassium canrenoate', 'Ulipristal', 'amlodipine', 'chlorothiazide', 'Furaltadone hydrochloride', 'Tubastatin A', 'lfm-a13', 'Saracatinib', 'mirtazapine', 'Ryuvidine', 'RWJ-67657', 'Verubecestat', 'NCGC00263270-01', 'Ki8751', 'Dabigatran etexilate mesylate', 'ketoconazole', 'BRL 15572', 'Bayer-18', 'NAFCILLIN SODIUM', 'Fidaxomicin', 'antipyrine', 'BMS-595', 'stavudine', 'carmustine', 'SCHEMBL10015658', 'Magnolol', 'Amrubicin', 'CHEMBL1316023', 'Aliskiren hemifumarate', 'PF-06454589', 'NCGC00347951-01', 'EFLORNITHINE', 'DEXCHLORPHENIRAMINE', 'Eloxatin (TN) (Sanofi Synthelab)', 'Almotriptan malate', 'OSI-420', 'albendazole', 'dihydroquercetin', 'RO4929097', 'Aloe-emodin', 'Belotecan', 'Lomefloxacin hydrochloride', 'Deforolimus', '476477-15-3', 'Cyclobenzaprine hydrochloride', 'Cetirizine dihydrochloride', 'GSK0660', 'Laquinimod', 'METHSCOPOLAMINE BROMIDE', 'erythromycin', 'miransertib', 'IPFK2', 'Sertaconazole nitrate', 'AR-42', 'Sonidegib', 'ZM 323881 hydrochloride', 'oxymetazoline', 'Ethyl bromopyruvate', 'BEPHENIUM HYDROXYNAPHTHOATE', 'OSU-03012', 'THZ531', '3BDO', 'Cpi-0610', 'Masitinib', 'clomiphene', 'Pizotifen malate', 'venlafaxine', 'Dapoxetine', 'norepinephrine', 'Empesertib', 'PFK-158', 'NCGC00346501-01', 'pantoprazole', 'morin', 'Biperiden hydrochloride', 'WZ4002', 'CLOBETASOL PROPIONATE', 'dibenzothiophene', 'Rasagiline mesylate', 'Selinexor', 'ML369', 'osimertinib', 'Sodium 4-aminosalicylate', 'Fascaplysin', 'CHEMBL3348950', 'Adrenalone hydrochloride', 'Skepinone-L', 'CB-839', 'sulfinpyrazone', 'Vinflunine Tartrate', 'CHEMBL2141644', '920113-03-7', 'STK16-IN-1', 'Palonosetron', \"5,5'-Dimethyl-2,2'-bipyridine\", 'CH5132799', 'lamotrigine', 'Bosentan', 'Ro 51', '439081-02-4', 'Drospirenone', 'riviciclib', 'edaravone', 'MARIZOMIB', 'Octopamine hydrochloride', 'Tazemetostat', 'PF-06273340', 'RS-127445', 'Picropodophyllin', 'Tie2 kinase inhibitor', 'ZINC21999985', '357263-14-0', 'WP1066', 'RITA', 'Artenimol', 'XMD8-87', '905579-51-3', '20439-47-8', 'Rutaecarpine', '405911-17-3', 'Lubiprostone', 'Cdk/Crk Inhibitor', 'SDZ HTF 919', 'Pipequaline', 'Bortezomib', 'doxorubicin', 'AST-1306', 'Pemafibrate', 'orlistat', 'Linopirdine', 'CHEMBL3348935', 'Asiatic acid', 'cimetidine', 'NCGC00179649-07', 'JPH203', 'PA-824', 'NSC 663284', 'proparacaine', 'Carboxyamidotriazole', 'CB-5083', 'kn-93', 'BIS(2-METHOXYETHYL) PHTHALATE', 'XANTHONE', 'PFI-1', 'prazosin', 'NCGC00179454-04', '451492-95-8', '83-88-5', 'Dihydroartemisinin', 'ACY-738', '547757-23-3', 'Salbutamol', 'NCGC00167518-03', 'Deguelin', '5-Fluorocytosine', 'CHEMBL502156', 'menadione', 'Apixaban', 'Serabelisib', 'CHEMBL3348888', 'GNE-317', '122111-05-1', 'Perifosine', '21102-95-4', 'A-196', 'AZD2014', 'SF1670', 'Sotrastaurin', 'SANT-1', 'BUTHIONINE SULFOXIMINE', 'Nitogenin', 'Cevimeline', 'asciminib', '356559-20-1', 'indapamide', 'PD168393', 'xylitol', 'CHEMBL3182641', 'benzocaine', 'BENZTROPINE MESYLATE', 'AMG319', 'Tocris-1958', 'rabeprazole(1-)', 'Icariin', 'SB-705498', 'TAXIFOLIN', 'Triethylenemelamine', 'Valganciclovir', 'testolactone', 'ofloxacin', 'Troxerutin', 'MEK inhibitor', 'methocarbamol', 'CPI-637', 'DIPHENIDOL', '649756-01-4', 'NSC733504', 'CHEMBL2325704', 'Serdemetan', 'pravastatin', 'Vardenafil', 'nateglinide', 'Motesanib', 'YK-4-279', 'Nialamide', 'Vorinostat', 'Atiprimod', '4961-41-5', '170151-24-3', 'SL 0101-1', 'NCGC00262545-02', 'Myricitrin', 'NAFTOPIDIL DIHYDROCHLORIDE', 'Fostamatinib', 'Parbendazole', 'BIBR 1532', 'Tussilagone', 'Birinapant', '167869-21-8', 'glimepiride', 'levodopa', 'Skf 89976A', '6-Thioguanine', 'AZ10606120', 'Amiodarone hydrochloride', 'chlorambucil', 'GSK682753A', 'JS-K', 'Macitentan', 'flumazenil', 'PJ34', 'IOX1', 'Seviteronel', 'SRPIN340', 'clozapine', 'Tandutinib', 'bemegride', 'Sclareol', 'MLN8054', 'MRT67307', 'NIBR189', 'clofazimine', '15(S)-Fluprostenol isopropyl ester', 'sulfamethoxypyridazine', 'triamterene', 'daphnetin', 'EMBELIN', 'Taladegib', 'PNU-74654', 'Erteberel', 'sulindac', 'AS-252424', 'CHEMBL3191144', 'ADX-47273', 'Ralaniten acetate', 'Clopidogrel bisulfate', 'Prostaglandin E2', 'HG6-64-1', 'Dapoxetine hydrochloride', 'CHEMBL3188661', 'CHEMBL3186716', 'gabexate', 'Azasetron', 'N-Desmethyl Imatinib', 'PFI-3', 'Calmidazolium', 'ifenprodil tartrate', 'MolMap_000049', 'CEP-32496', 'SB 239063', 'CHEMBL1625829', '313516-66-4', 'Lirimilast', 'SAR131675 Racemate', 'Masoprocol', '850173-95-4', 'PYRIDOXINE HYDROCHLORIDE', 'celastrol', 'Elacridar', 'Tetracaine hydrochloride', 'Glutaminase C-IN-1', 'Flumatinib mesylate', 'SCHEMBL2105915', 'acetohexamide', 'NCGC00021925-04', 'ZINC208012538', 'KS-00001CUZ', 'SCHEMBL15691525', 'diosmin', 'Defactinib', 'EPZ020411', 'Risedronate sodium', 'MK-0557', 'PF-06447475', '58131-57-0', 'VX-661', 'capmatinib', 'Amorolfine', 'niclosamide', '1134156-31-2', 'Vildagliptin', 'isoliquirtigenin', 'GSK2801', 'Avagacestat', 'Supinoxin', 'Acamprosate', 'Andarine', 'Cobicistat', 'digitoxin', 'Canadine', 'Darolutamide', '89778-26-7', 'sesamin', 'GSK1838705A', 'CI-988', 'NAPHAZOLINE HYDROCHLORIDE', 'vinorelbine', 'Antibiotic AY 22989', 'Nepafenac', 'GSK2256294A', 'CLONIDINE HYDROCHLORIDE', 'Inolitazone', 'Trabectedin', 'Fosaprepitant dimeglumine', 'SR9243', 'NITROXOLINE', 'Prinaberel', 'Repaglinide', 'trans-Piceatannol', 'GSK503', 'NCGC00165799-02', 'LCL161', 'Danirixin', 'FRAX597', 'CTS-1027', '001, RAD', 'Conivaptan hydrochloride', 'Ifosfamide-d4', 'BAF312', 'Prochlorperazine dimaleate', 'duloxetine', 'arbutin', 'clopidogrel', 'Enrofloxacin', 'NICORANDIL', 'Vitamin D3', 'Tofacitinib', 'Sapitinib', 'isradipine', 'Tesevatinib', 'Filanesib', '934593-90-5', 'Orantinib', 'NCGC00017223-03', '849675-66-7', 'Streptomycin sulfate', 'NCGC00016330-01', 'cytidine', 'CHEMBL3348928', 'ARV-825', 'CPI-203', 'ARTICAINE HYDROCHLORIDE', 'methazolamide', 'carmofur', 'oxamflatin', 'lovastatin', 'LDN-214117', 'Triciribine', 'Febuxostat', 'Encorafenib', 'PDK1 inhibitor', '1169562-71-3', 'PD318088', 'LSN415169', 'Pentitol', 'NCGC00162423-03', 'Honokiol', 'estramustine', 'Robotnikinin', 'Mosapride', 'PROCAINE HYDROCHLORIDE', 'Rifaximin', '167465-36-3', 'Medroxyprogesterone acetate', 'VX-11e', 'Carbenicillin disodium', 'Pasiniazid', 'testosterone', 'MEDI3622', 'CHEMBL3348916', 'CEPHARANTHINE', 'PAPAVERINE HYDROCHLORIDE', 'CCT251545', 'DSSTox_CID_20664', '1439901-97-9', '1554458-53-5', 'TWS119', 'AZELASTINE HYDROCHLORIDE', 'Folfox protocol', 'Canertinib', 'Caffeic acid phenethyl ester', 'A 438079', 'CHEMBL3348949', '(-)-Rapamycin', 'ML390', 'hydralazine', 'daidzein', '57819-79-1', 'EHop-016', 'CHEMBL3348934', 'Selenomethionine', 'Galunisertib', 'PX-12', 'CHEMBL3348890', 'NSC-127716', 'RO8994', 'mianserin', '155148-31-5', 'Cobimetinib (R-enantiomer)', 'acetohydroxamic acid', 'MEPHENYTOIN', 'Vidarabine', 'GSK461364', 'Tanespimycin', 'VX-702', 'Clevudine', 'Bentamapimod', 'ZM 336372', 'WAY-100635 maleate salt', 'CITCO', 'Granisetron hydrochloride', 'cantharidin', 'SCHEMBL17378613', 'SAR405', 'AZ13620596', 'Xylazine hydrochloride', 'AT13148', 'Avobenzone', 'BS-194', 'AS-604850', 'IVACHTIN', 'OMEPRAZOLE SODIUM', 'hesperadin', 'otenabant', 'silibinin', 'ha14-1', 'LY2228820', 'Esmolol hydrochloride', 'Brequinar', 'EMD638683', 'Icaritin', 'Limonin', 'Nimorazole', 'Azacytidine, 5-', 'beta-carotene', 'TOREMIFENE CITRATE', 'ebastine', 'RX-3117', 'Nirogacestat', 'GSK126', '158798-73-3', 'nicotinamide', 'tm30089', 'biochanin A', 'dienestrol', 'Navelbine ditartrate (TN)', 'Limican', 'NSC23925', 'pranoprofen', 'Carbimazole', 'CHEMBL2132150', 'flurbiprofen', 'Loxapine succinate', '133294-37-8', 'Carboplatin Paclitaxel', '504433-23-2', '681136-29-8', '841290-80-0', 'Flubendazole', 'Isoreserpin', 'LSM-4270', 'monastrol', 'NVP-231', 'Sclareolide', '134036-52-5', 'Siponimod', 'Cardamonin', 'ENTACAPONE', 'cromoglycate(2-)', '61618-27-7', 'TOLRESTAT', 'retaspimycin hydrochloride', 'Zibotentan', 'chloramphenicol', 'CHEMBL3188552', 'Palbociclib', '1869912-40-2', 'BAY-41-8543', 'oxa-01', '10-epi-Aclacinomycin A', 'IMD-0354', 'MK-0752', 'sulfadiazine', 'Gbr 12935', 'Talarozole', '108341-18-0', 'GSK1292263', 'Zaldaride maleate', 'AZ12419304', 'purvalanol A', '629664-81-9', '20-HYDROXYECDYSONE', 'bay 11-7082', 'parthenolide', 'SSR128129E', 'sertraline', 'Geniposidic acid', 'EFLORNITHINE HYDROCHLORIDE', 'AMG-Tie2-1', 'GSK837149A', 'Oprea1_748549', 'Indotecan hydrochloride', 'QUINAPRIL HYDROCHLORIDE', 'rolipram', 'NCGC00346433-01', 'felodipine', 'UNC2025', 'nilvadipine', 'SA-13353', 'dl-Carbidopa', 'DIZOCILPINE', 'sulfasalazine', 'orphenadrine', '108740-89-2', 'candesartan', 'L-778123 free base', 'CEFOPERAZONE SODIUM', 'furazolidone', 'PROCATEROL', 'ZILEUTON', 'sulfisoxazole', 'Nithiamide', 'TAK-733', 'NSC169534', '2-Methoxyestradiol', 'CHEMBL3348980', 'TMP195', 'GSK963 Racemate', 'tolnaftate', 'argatroban', 'isosorbide', 'ROQUINIMEX', 'GZD824', '(-)-MK 801 Maleate', 'dacarbazine', 'PKI-402', 'ketorolac', 'Nicaraven', 'NAPROXEN', 'GSK2981278', 'Galeterone', 'CHEMBL3348886', 'BENDROFLUMETHIAZIDE', 'FOSFOMYCIN', 'Tiagabine hydrochloride', 'NCGC00346590-01', '1485-00-3', 'caffeic acid', '288150-92-5', 'epoxomicin', 'TAS-116', '(-)-huperzine A', 'Merck-22-6', '915385-81-8 (free base)', 'NCGC00165782-02', 'Yohimbine', 'URSODEOXYCHOLIC ACID', 'TETRAHYDROPAPAVERINE', 'KW-2449', 'NCGC00168459-01', 'UNBS-5162', 'progesterone', 'zalcitabine', 'hyoscyamine', 'CB 300919', 'Ixazomib', 'CHEMBL3348871', 'Triethylgallamine', 'baicalein', 'ZINC44963243', '5-hydroxy-L-tryptophan', 'CHEMBL3103040', 'leflunomide', 'SCHEMBL1351190', 'HLI373', 'gw5074', 'LUCANTHONE', 'PANCURONIUM BROMIDE', '702675-74-9', 'YOHIMBINE HYDROCHLORIDE', 'CYCLOPAMINE', 'naftopidil', 'trazodone', 'SGI-1027', 'AG-041R', 'Talazoparib', 'TW-37', 'Nilotinib', '218137-86-1', 'Levobetaxolol HCl', '1359164-11-6', 'Hh-Ag1.5', 'BAY 65-1942', 'CHEMBL3348989', '386750-22-7', 'nisoldipine', '1243244-14-5', 'Granisetron HCl', 'Rufinamide', 'tcn-201', 'Varespladib', 'ZLN005', 'GW2580', 'CUDC-427', 'Oxibendazole', 'Tolazoline hydrochloride', 'TPCA-1', '1-DOCOSANOL', 'Stibogluconate', 'SGI-1776', 'Dapivirine', 'KW-2478', 'CHEMBL3348899', 'AZATADINE', '405554-55-4', '331771-20-1', 'Moxifloxacin hydrochloride', '51-56-9', 'Y-39983 dihydrochloride 2/3 H2O', 'Sucralose', 'Evacetrapib', 'Sunitinib', 'oxeladin citrate', '648450-29-7', 'CHEMBL3348930', 'Phenoxybenzamine hydrochloride', '722544-51-6', 'CHIR-99021 HCl', '(-)-chlorpheniramine', '155206-00-1', 'CHEMBL3348929', 'SGX-523', 'Tiplaxtinin', 'Flecainide acetate', 'Gimeracil', 'YU238259', 'Dexanabinol', 'Eletriptan hydrobromide', 'Carglumic acid', 'Fingolimod hydrochloride', 'pentostatin', 'SGI-7079', 'Kinome_3673', 'GSK1070916', 'LY2886721', 'flunisolide', 'cetylpyridinium chloride', 'Atopaxar', 'FENTICONAZOLE NITRATE', 'Dienogest', 'NCGC00346609-01', 'D-Sorbitol', 'Asenapine maleate', 'prothionamide', 'PF-477736', 'ML329', 'ONO-4059 analog', 'PKI-166', 'ZINC250325905', 'MRS 2578', 'GS-9620', '909910-43-6', 'Tolperisone hydrochloride', '452105-23-6', 'loratadine', 'Moroxydine', 'Levosulpiride', 'vitamin B12', 'ML240', 'DIPHEMANIL METHYLSULFATE', 'Serotonin hydrochloride', 'Oseltamivir acid', 'BMS-3', 'FMAU', 'PIM-1 INHIBITOR 2', 'Daclatasvir dihydrochloride', 'FCCP', 'ML324', 'WYE-687', 'Seocalcitol', 'NCGC00263148-01', '5-Fluorouracil', 'prednisone', 'MG149', 'ASP3026', '251992-66-2', 'curcumin', 'PF-04937319', 'Cerdulatinib', 'TGX-221', 'NCGC00344564-02', 'Gilteritinib', 'DICLAZURIL', 'amoxapine', 'JNK-IN-8', 'NCGC00161927-01', 'estrone', 'Triclabendazole', 'l-ascorbic acid', 'GUANADREL', 'PH-797804', 'Istradefylline', 'VX-765', 'Vatalanib', 'PD 128907', '33419-42-0', 'RO495', '445430-58-0', 'XL388', '145-13-1', 'Ecdysterone', '848141-11-7', 'LB-100', 'HYDROXOCOBALAMIN', 'SNS-032', 'NCGC00346475-01', 'ARV-771', 'Torin 2', 'metolazone', '1093403-33-8', 'NCGC00346438-01', 'citalopram', 'Ziprasidone', 'efavirenz', 'Amcasertib', '315183-21-2', 'KS-00000Y5E', 'Astragaloside A', 'azelastine', 'Fluphenazine dihydrochloride', 'Sarafloxacin', 'GSK583', 'PIK-90', 'Olmesartan medoxomil', 'SCHEMBL3313928', 'trichlormethiazide', 'alfuzosin', 'SCHEMBL6464278', '1357171-62-0', 'irsogladine maleate', 'TRIMETHYL GLYCINE', 'Nebivolol hydrochloride', 'aminophylline', 'X-396', '4-Methylpyrazole', '(S)-(+)-rolipram', '913064-47-8', 'primaquine diphosphate', 'CABAZITAXEL', 'CHEMBL3348900', 'VPS34 inhibitor 1', 'Tenovin-1', 'Apaziquone', 'PCI-34051', 'WIN 55212-2', 'potassium iodide', 'XMD17-109', 'EMD-534085', 'Ralimetinib', '1beta-Methylimipenem', 'ethinyl estradiol', 'Dolastatin 10', 'Molidustat', 'TD139', 'Ibiglustat', 'Zoledronic acid hydrate', 'resveratrol', 'NCGC00238624', 'Laropiprant', '30562-34-6', 'Phensuximide', '867331-82-6', 'Bisoprolol fumarate', 'AR-C155858', 'sulfameter', 'Moxifloxacin hydrochloride monohydrate', 'Paricalcitol-D6', 'Pilocarpine hydrochloride', 'Incyclinide', 'AZLOCILLIN SODIUM', 'Trisenox', 'Agomelatine', 'PI 3-Kalpha Inhibitor IV', 'Oprozomib', '951151-97-6', 'SCHEMBL224883', 'Epirubicin', 'Litronesib', 'ITX3', 'DORZOLAMIDE HYDROCHLORIDE', 'AZD-26', '667463-62-9', 'clofibric acid', 'CPI-1189', 'AZD3965', 'Eltrombopag olamine', 'Abiraterone acetate', '2-thiouracil', 'bisindolylmaleimide i', 'Parecoxib sodium', 'Aderbasib', 'Sipatrigine', 'trichostatin A', 'NCGC00346471-01', '180083-23-2', '1370261-97-4', 'Levomycin', 'quinidine', 'cefditoren pivoxil', 'N-Acetyl-L-cysteine', '85375-15-1', 'Brivanib', 'NMS-1286937', 'Triflusal', 'SNS-314', '110448-33-4', 'CHEMBL256963', 'PENTOLINIUM TARTRATE', 'hexestrol', 'PIRFENIDONE', 'ondansetron', 'Entecavir', 'thiabendazole', 'CHEMBL1836853', 'THZ1', 'Bestatin', '17-DMAG (Alvespimycin) HCl', 'benzethonium chloride', 'Nelarabine', 'Tasisulam', 'PD1-PDL1 inhibitor 1', 'Irbinitinib', 'Amprolium hydrochloride', 'MX69', 'TCS JNK 5a', 'SecinH3', 'loperamide', 'AZD8835', '2-Fluoroadenosine', 'tolbutamide', 'AMILORIDE', 'MK-8776', 'ZINC11616261', 'Olaparib', 'Sertraline hydrochloride', 'CBiol_001931', 'Geniposide', '3-(3,4-Dihydroxyphenyl)lactate', 'Dimesna', 'CYTARABINE HYDROCHLORIDE', 'CX-6258', 'Eloxatin (TN)', '59643-91-3', '1149705-71-4', '1047953-91-2', 'rofecoxib', 'diethylcarbamazine', 'Voreloxin', 'Thioridazine hydrochloride', 'Erlotinib', 'Cyclovirobuxine D', 'pinacidil', 'FENTICONAZOLE', 'KX2-391', 'PLX7904', 'AZ-23', 'GSK2982772', 'Tacrine hydrochloride', 'Puerarin', 'CCT-018159', 'Lomerizine hydrochloride', '1222781-70-5', 'amifostine', 'sulfamerazine', '319460-94-1', 'GB-83', 'LLY-507', 'Linagliptin', 'GW3965', 'lafutidine', 'salubrinal', 'Histamine dihydrochloride', 'Tivozanib', 'CHEMBL2144690', 'NPS-1034', 'NCGC00346729-01', 'vincristine', 'SGC707', 'Famprofazone', 'ZM39923', 'Zebularine', 'pioglitazone hydrochloride', 'BMS-707035', 'JX-401', 'phentolamine', '803712-79-0', '5Z-7-Oxozeaenol', 'Darifenacin hydrobromide', 'Raltegravir', 'batimastat', 'o6-benzylguanine', 'CZC24832', 'Selumetinib', 'Fesoterodine fumarate', 'VALPROIC ACID', 'Tacedinaline', 'ampiroxicam', 'meglumine', 'ONDANSETRON HYDROCHLORIDE', 'RA-XII', 'UNII-S098K6HGD9', 'methylthiouracil', 'CHEMBL3348822', 'CHIR-98014', 'PF-05175157', 'Fesoterodine', 'Ciprofibrate', 'Betahistine dihydrochloride', 'Gyki-52466', 'NCGC00164789-05', 'ciprofloxacin', 'topiramate', '154447-35-5', 'roxithromycin', 'Dirithromycin', '1429617-90-2', 'acarbose', 'ipratropium bromide', 'NCGC00178127-04', '1421227-52-2', 'Buspirone hydrochloride', 'CHEMBL3348824', '371942-69-7', 'AC265347', 'ZINC97975747', 'Megestryl acetate', \"Ribavirin 5'-triphosphate\", 'guanethidine sulfate', 'Telatinib', '172889-26-8', 'AZD8055', 'celecoxib', 'Guanidine hydrochloride', 'PFI-2', 'MLS002232309', 'GSK481', 'acetanilide', '153436-54-5', 'busulfan', 'MT-DADMe-ImmA', 'Genipin', 'Decernotinib', 'BI605906', 'ketotifen', 'piromidic acid', 'CHEMBL3348885', 'Repotrectinib', 'Monobenzone', '431979-47-4', 'PF-4989216', 'Albendazole oxide', 'JTC-801', 'NCGC00016752-02', 'wortmannin', 'Rolapitant', 'CHEMBL2134016', 'SU11274', 'DASA-58', 'irinotecan', 'BGB-3111', 'sumatriptan', 'Butenafine hydrochloride', 'pimobendan', 'piracetam', 'Apratastat', 'Atracurium besylate', 'GSK864', 'EPZ-031686', 'Lanabecestat', 'CHEMBL3186846', 'Baricitinib', 'Bindarit', 'Luliconazole', 'Chloropyramine hydrochloride', 'Lomibuvir', 'zanamivir', 'abacavir', 'Phenoxodiol', 'tranilast', 'Almotriptan', 'Fludarabine Base', 'ibuprofen', 'Fisetin', '1314241-44-5', 'Azatadine maleate', 'TETRACYCLINE HYDROCHLORIDE', 'ABT-737', 'PAC-1', 'GENZ-644282', 'YW3-56', 'SCHEMBL12880048', 'ERK 11e', 'Nodinitib-1', 'LY3214996', 'NCGC00178852-05', 'broxyquinoline', '110025-28-0', 'Lornoxicam', 'Neohesperidin', 'MONTELUKAST SODIUM', 'Rilpivirine', '761437-28-9', 'Caffeine citrate', 'PF-04457845', 'WAY-600', 'BFH772', 'OLSALAZINE SODIUM', 'Acalabrutinib', '183321-86-0', 'Lurbinectedin', 'Teriflunomide', 'AMILORIDE HYDROCHLORIDE', 'CHEBI:63449', '908115-27-5', 'Equol', '146535-11-7', 'Efaproxiral', 'Maprotiline hydrochloride', 'Sitaxsentan sodium', 'CHEMBL3348858', 'Nintedanib', 'Anacetrapib', 'CEP28122', 'SERATRODAST', 'Cordycepin', 'Dolutegravir', 'Copanlisib', 'Rifampicin', 'FLUOROMETHOLONE ACETATE', 'chloroquine', 'CHEMBL3348860', 'NCGC00160531-01', 'NU6027', 'vindesine sulfate', 'NVP-BHG712', 'Ezatiostat', 'DSSTox_CID_28582', 'Nafamostat mesylate', 'SR9011', 'Quinine hydrochloride dihydrate', 'GLPG0187', 'Valganciclovir hydrochloride', 'dapt', 'Indisulam', 'CHEMBL3348927', 'SCHEMBL1737451', 'nadifloxacin', 'STF-118804', 'AT2 Agonist C21', 'AZD0156', 'Tasquinimod', 'TAK-901', 'NSC 242267', '8-AZAGUANINE', '449811-92-1', 'Simurosertib', 'BAY1125976', 'calmidazolium chloride', 'phenylbutazone', 'ZINGERONE', '1080622-86-1', 'clofibrate', 'Phenelzine', 'GSK1324726A', 'NVP-TNKS656', 'NMS-859', 'HPI 1', 'LEVOSIMENDAN', 'HYDRALAZINE HYDROCHLORIDE', 'Mirabegron', 'PF-03814735', 'Dibucaine hydrochloride', 'Brincidofovir', 'METHYLSTAT', 'Antimycin A', 'unc569', 'AZD3759', 'sulfanilamide', '53003-10-4', 'chrysin', 'Bethanechol chloride', 'phenoxybenzamine', 'Pazopanib hydrochloride', 'PF 184', 'buspirone', 'tolfenamic acid', 'Pirinixic acid', 'piceatannol', 'NSC256439', 'paromomycin', 'C646', 'BLU9931', 'Epacadostat', 'Fruquintinib', 'methoxsalen', 'Valdecoxib', 'Pevonedistat', '342641-94-5', 'Ibrutinib', 'metronidazole', 'sulfamethoxazole', '887650-05-7', 'zonisamide', 'IGF-OSI', '131848-97-0', 'Azilsartan', 'SARIDEGIB', 'AS601245', '57477-39-1', 'CHEMBL2137189', 'carprofen', 'Bracken fern toxic component', 'Axitinib', 'PYRIDOSTIGMINE BROMIDE', 'Favipiravir', 'WAY-262611', '5-Aminolevulinic acid hydrochloride', 'Warfarin sodium', 'PERINDOPRIL', 'compound 22d [PMID: 16242323]', 'Atrasentan', 'proscillaridin', 'FMK-MEA', 'Isoprenaline hydrochloride', 'AS-605240', 'LLL-12', 'bisacodyl', '252003-65-9', 'selegiline', 'IRX4204', 'APTO-253', 'BS-181', 'Ruboxistaurin mesylate', '4-Aminosalicylic acid', 'NCGC00271415-02', 'norfloxacin', 'NCGC00017244-05', 'Coenzyme Q10', 'cefmenoxime', 'GSK484', '6898-97-1', 'Elafibranor', 'ADM hydrochloride', 'Nabilone', 'CHEMBL3188521', '959122-11-3', 'SULFADOXINE', 'AZD2461', 'UK-371804', 'vinpocetine', 'CHEMBL3349010', 'BET-BAY 002', 'guanosine', 'GSK343', 'NCGC00181306-03', 'Olmesartan', '61350-00-3', 'NCGC00346589-01', 'NCGC00346524-01', 'Org 25935', 'Savolitinib', 'Epothilone D', 'amorolfine hydrochloride', 'Kinome_3641', 'PRT062607', 'TAK-659', 'RAF709', 'Cyclocytidine hydrochloride', '1247819-59-5', 'QS11', 'pyrimethamine', 'valsartan', 'Desloratadine', 'CEP-33779', 'DOXOFYLLINE', 'Rigosertib (sodium)', 'Melphalan hydrochloride', 'Dacomitinib', '212631-79-3', 'metformin', '284028-89-3', 'trioxsalen', 'Phentolamine mesylate', 'Gedatolisib', '14807-96-6', 'CHEMBL3348941', 'fenbendazole', 'SD-208', '199433-58-4', 'ozagrel', 'riboflavin', 'AMD 3465', 'CHEMBL1625478', 'ferulic acid', 'trans-caffeic acid', 'topotecan', 'm344', 'CUDC-907', 'IPI-549', '1442472-39-0', 'Larotrectinib', 'D-Penicillamine', 'NCGC00090808-03', 'CHEMBL3348926', 'Iadademstat', 'NCGC00094763-03', 'SCHEMBL13210325', 'NCGC00346660-01', 'GNF-2', 'NCGC00164566-02', 'ADL5859', 'coumarin', 'Telotristat etiprate', '3-aminobenzamide', 'Bretylium tosylate', 'Cisatracurium besylate', 'Binimetinib', 'MIGLITOL', '1214265-56-1', 'Sodium Danshensu', 'RKI-1447', 'NCGC00346559-01', 'moclobemide', 'PP121', 'CHEMBL2132441', 'RUCAPARIB', '65666-07-1', 'Eltanexor', '1231930-82-7', 'sparfloxacin', 'Telaprevir', 'AZD4547', 'Terazosin hydrochloride', 'Dimethyl fumarate', 'imidapril', 'JTC-801 free base', 'ML347', 'ID-8', 'Chlorhexidine Base', 'Apoptosis Activator 2', 'Tebipenem pivoxil', 'Prazosin hydrochloride', 'Linsitinib', 'CHEMBL166161', 'AT-IAP', 'methyclothiazide', 'Suplatast', 'Ravoxertinib', 'Fasiglifam', 'fluvastatin', \"5-Fluoro-2'-deoxyuridine\", '(+)-Bicuculline', 'BX-912', 'Levamisole hydrochloride', 'Medetomidine hydrochloride', 'Acamprosate calcium', 'EAI045', 'Nedaplatin', 'Paroxetine hydrochloride', 'triamcinolone', 'AMG 925', 'Mepivacaine hydrochloride', 'quinazolin-4-ylamine', '4-Iodo-3-nitrobenzamide', 'Epiblastin A', 'Mavelertinib', 'PK 11195', '1431985-92-0', 'Dioscin', 'ZCL278', 'TG003', 'amodiaquine', 'CHEMBL3348988', 'CHEMBL3322515', 'GSK-J2', 'trihexyphenidyl', '1268524-70-4', 'carbazochrome sodium sulfonate', 'paclitaxel', '913376-84-8', 'RUTIN', 'CPG-52364', 'SSR 504734', 'BMS-587101', '152121-53-4', 'NCGC00179363-03', 'hesperetin', 'CHEMBL2136663', 'Sonolisib', 'Dabrafenib', 'Isocycloheximide', 'Pridinol methanesulfonate', 'Combretastatin A4', 'milrinone', '1174046-72-0', 'Ramelteon', 'Ku-0063794', 'oseltamivir', 'GSK9311', 'geldanamycin', 'Ulixertinib', 'Alizarin', 'Phenelzine sulfate', 'Eplerenone', '6-Hydroxy Buspirone', 'niraxostat', 'NCGC00183677-03', 'salinomycin', 'abt-702', 'cc-57', 'SHP099', 'NCGC00263139-01', 'Triptonide', '171927-40-5', 'Bazedoxifene', 'NCGC00346436-01', 'CHEMBL3348952', 'Doxylamine succinate', 'AZ13401366', 'DU-21220', 'e-64', 'prednisolone acetate', 'felbamate', 'Clomipramine hydrochloride', 'ILOPROST', 'NCGC00185071-01', 'SCHEMBL6874948', 'benserazide', 'Vorapaxar', 'Cl-F-araA', 'Bardoxolone methyl', 'minocycline', '261901-57-9', 'Clofarabine', 'Ceftiofur hydrochloride', 'EHT-1864', 'CX-5461', '200484-11-3', 'MOXALACTAM DISODIUM', 'Talmapimod', 'AZ13453202', 'Andrographolide', '1166227-08-2', 'CHEMBL494027', 'Tyrphostin 23', 'Vismodegib', 'probenecid', 'SODIUM NITRITE', 'SMI-4a', 'Pefloxacin mesylate', 'CNX-774', 'AT-406', 'trimethoprim', 'docetaxel', 'Miglustat', 'Oxymetazoline hydrochloride', '89565-68-4', 'PRX-08066 Maleic acid', 'Rilmenidine', 'Aripiprazole', 'ritonavir', 'ZINC17545571', 'WEHI-345', 'Sunitinib malate', 'Antazoline hydrochloride', 'tiagabine', '317318-70-0', 'PLX647', 'CHEMBL3348870', 'Linifanib', 'CHEMBL2143037', 'Indiplon', 'Armodafinil', '7218-04-4', 'cisapride', 'Capsaicin', '67469-78-7', 'Nutlin-3', 'amprenavir', 'Acitazanolast', 'Rigosertib sodium', 'Dimebolin', 'Triciribinephosphate', 'lamivudine', 'apigenin', 'METAXALONE', 'zidovudine', 'Tamoxifen citrate', 'Belinostat', '693228-63-6', 'ATROPINE', 'Temsirolimus', 'CC-401', 'cl-82198', 'NCGC00183844-01', 'AZD1080', 'Empagliflozin', 'betaine', 'CVT-6883', 'Pracinostat', '1233948-35-0', 'Aprepitant', '849727-81-7', 'Clascoterone', 'GSK2795039', 'Deferoxamine mesylate', 'ARQ 621', 'c-FMS inhibitor', 'VS-5584', 'Pidotimod', 'Bioymifi', 'MK-4541', 'NCGC00164600-03', 'SAR131675', 'TNF-Alpha', 'DL-Carnitine hydrochloride', 'CDK9 inhibitor', 'Physcion', 'CGS 21680 hydrochloride', 'KETOTIFEN FUMARATE', 'BMS-599626', '945976-43-2', 'Ozanimod', 'Indole-3-carbinol', 'Elaiophylin', 'MKC3946', 'Tenatoprazole', 'NCGC00161622-03', 'Omecamtiv mecarbil', 'Diclofensine', 'Epinastine hydrochloride', '13463-41-7', 'SCHEMBL2250091', 'NVP-BSK805 2HCl', 'CHEMBL3349012', 'LSM-1535', 'AZ12799043', 'chloroxine', 'NCGC00174736-02', '396129-53-6', 'dimethyl but-2-enedioate', 'SB-3CT', 'Etrasimod', 'ouabain', 'Ticagrelor', 'Amantadine hydrochloride', 'SCHEMBL147320', 'AC-261066', 'BMS-265246', 'dorzolamide', 'CAPECITABINE', 'XMD8-92', 'Erdosteine', 'CHEMBL3856067', 'Gabexate mesylate', 'ML323', 'famciclovir', 'tegafur', 'HALOFANTRINE HYDROCHLORIDE', '39711-79-0', 'NCGC00250393-01', 'AMG-548', 'A-366', 'procarbazine', 'Alvimopan', '409345-29-5', '865231-46-5', 'fludarabine phosphate', 'WAY-100635', 'NCGC00346664-01', 'NCGC00164604-03', 'GSK1059615', 'Nesbuvir', 'GSK-J4', 'JZL184', 'Irosustat', 'Pramoxine hydrochloride', 'HC-067047', 'Sorafenib tosylate', 'KU-55933', '882531-87-5', 'CHEMBL3417706', 'pyrazinamide', 'NSC707389', 'ML364', 'bumetanide', 'Sinomenine', 'Vandetanib', 'pentamidine', 'propylthiouracil', 'nystatin', 'CNX-2006', 'Resistomycin', 'RO4987655', 'Crizotinib', 'BQU57', 'AZD7545', 'RG108', 'Entinostat', '153559-76-3', 'NCGC00096095-02', 'MIR96-IN-1', 'Apilimod', 'Oseltamivir phosphate', 'AT7867', 'CHEMBL3184424', 'MK-2206', '1260907-17-2', 'Droxinostat', 'Metarrestin', 'Phenazopyridine hydrochloride', 'bvt-3498', 'halcinonide', 'OAC1', 'VERAPAMIL', 'LOSARTAN POTASSIUM', 'Verubulin', 'NCGC00090782-07', 'JNJ-42041935', 'Curcumol', 'BMS-5', 'benfotiamine', '4-Methoxyphenol', 'hydrochlorothiazide'}\n"
     ]
    }
   ],
   "source": [
    "# Filter out NaN values in the drug_row and drug_col columns\n",
    "drugcomb_df = drugcomb_df.dropna(subset=['drug_row', 'drug_col', 'cell_line_name'])\n",
    "print(drugcomb_df.shape)\n",
    "\n",
    "# Get set of drugs used in drugcomb\n",
    "drugcomb_drugs = set(drugcomb_df['drug_row']).union(set(drugcomb_df['drug_col']))\n",
    "print(len(drugcomb_drugs))\n",
    "print(drugcomb_drugs)"
   ]
  },
  {
   "cell_type": "markdown",
   "metadata": {},
   "source": [
    "Question: What does the SIDER database look like?"
   ]
  },
  {
   "cell_type": "code",
   "execution_count": 5,
   "metadata": {},
   "outputs": [
    {
     "name": "stdout",
     "output_type": "stream",
     "text": [
      "(1429, 2)\n",
      "Index(['CID100000085', 'carnitine'], dtype='object')\n",
      "Index(['CID', 'drug_name'], dtype='object')\n",
      "CID                CID100000119\n",
      "drug_name    gamma-aminobutyric\n",
      "Name: 0, dtype: object\n"
     ]
    }
   ],
   "source": [
    "# Read in the CID to drug name mapping from SIDER\n",
    "sider_cid_to_drugs_df = pd.read_csv('data/SIDER4.1/drug_names.tsv', sep='\\t', index_col=False)\n",
    "print(sider_cid_to_drugs_df.shape)\n",
    "print(sider_cid_to_drugs_df.columns)\n",
    "# Set columns to 'CID' and 'drug_name'\n",
    "sider_cid_to_drugs_df.columns = [\"CID\", \"drug_name\"]\n",
    "print(sider_cid_to_drugs_df.columns)\n",
    "print(sider_cid_to_drugs_df.iloc[0])\n",
    "\n",
    "# Get set of drugs used in SIDER\n",
    "sider_drugs = set(sider_cid_to_drugs_df['drug_name'])"
   ]
  },
  {
   "cell_type": "code",
   "execution_count": 6,
   "metadata": {},
   "outputs": [
    {
     "name": "stdout",
     "output_type": "stream",
     "text": [
      "366\n",
      "{'acyclovir', 'chloroquine', 'captopril', 'sulfadiazine', 'mefloquine', 'sertraline', 'methimazole', 'oxymetholone', 'amlodipine', 'minoxidil', 'gabapentin', 'felodipine', 'mirtazapine', 'sulfasalazine', 'orphenadrine', 'ketoconazole', 'candesartan', 'bromhexine', 'ethosuximide', 'diphenhydramine', 'papaverine', 'stavudine', 'phenoxybenzamine', 'amantadine', 'buspirone', 'simvastatin', 'mitotane', 'fluvoxamine', 'ethionamide', 'paromomycin', 'chlorhexidine', 'oxaprozin', 'Eptifibatide', 'methenamine', 'argatroban', 'isosorbide', 'amlexanox', 'sildenafil', 'primidone', 'dacarbazine', 'histamine', 'tropicamide', 'albendazole', 'tiopronin', 'ketorolac', 'naratriptan', 'metronidazole', 'sulfamethoxazole', 'zonisamide', 'zolmitriptan', 'meloxicam', 'haloperidol', 'thiotepa', 'mifepristone', 'erythromycin', 'prednisolone', 'lomefloxacin', 'miconazole', 'clomiphene', 'clonidine', 'clomipramine', 'irbesartan', 'progesterone', 'venlafaxine', 'norepinephrine', 'zalcitabine', 'isoproterenol', 'fenofibrate', 'pantoprazole', 'bisacodyl', 'leflunomide', 'etodolac', 'risperidone', 'nifedipine', 'caffeine', 'norfloxacin', 'digoxin', 'methylprednisolone', 'chlorpropamide', 'acetaminophen', 'zafirlukast', 'isoniazid', 'dobutamine', 'aspirin', 'lamotrigine', 'trazodone', 'azithromycin', 'warfarin', 'rimantadine', '5-azacytidine', 'ifosfamide', 'betaxolol', 'amoxicillin', 'aztreonam', 'praziquantel', 'sibutramine', 'podophyllotoxin', 'cyclophosphamide', 'tranylcypromine', 'bleomycin', 'dihydroergotamine', 'nimodipine', 'nisoldipine', 'betamethasone', 'phenylephrine', 'finasteride', 'meropenem', 'pyrimethamine', 'doxorubicin', 'orlistat', 'valsartan', 'diazoxide', 'piroxicam', 'amiodarone', 'cimetidine', 'metformin', 'cilostazol', 'tibolone', 'dexamethasone', 'oxybutynin', 'tizanidine', 'proparacaine', 'rizatriptan', 'nilutamide', 'prazosin', 'foscarnet', 'phenytoin', 'adenosine', 'benazepril', 'topotecan', 'doxapram', 'pentostatin', 'flunisolide', 'Saxagliptin', 'glipizide', 'fenoldopam', 'reserpine', 'bupropion', 'indapamide', 'benzocaine', 'cefaclor', 'etoposide', 'loratadine', 'moclobemide', 'amsacrine', 'fluocinonide', 'colchicine', 'testolactone', 'ofloxacin', 'omeprazole', 'doxycycline', 'methocarbamol', 'olanzapine', 'sparfloxacin', 'fluconazole', 'pravastatin', 'nateglinide', 'dichlorphenamide', 'ticlopidine', 'Romidepsin', 'prednisone', 'disulfiram', 'anastrozole', 'melphalan', 'methyclothiazide', 'fluvastatin', 'amoxapine', 'estrone', 'glimepiride', 'gliclazide', 'terazosin', 'furosemide', 'chlorambucil', 'hydrocortisone', 'triamcinolone', 'trifluoperazine', 'metolazone', 'nelfinavir', 'citalopram', 'flumazenil', 'memantine', 'methotrexate', 'efavirenz', 'gemfibrozil', 'baclofen', 'trihexyphenidyl', 'temozolomide', 'clozapine', 'proguanil', 'paclitaxel', 'tobramycin', 'azelastine', 'clofazimine', 'carbamazepine', 'triamterene', 'alfuzosin', 'milrinone', 'bethanechol', 'azathioprine', 'sulindac', 'ranitidine', 'oseltamivir', 'doxazosin', 'aminophylline', 'tenoxicam', 'chlorzoxazone', 'tropisetron', 'lidocaine', 'teniposide', 'nizatidine', 'propofol', 'didanosine', 'estriol', 'carisoprodol', 'dyphylline', 'carbidopa', 'indomethacin', 'prilocaine', 'ketoprofen', 'prochlorperazine', 'felbamate', 'epinephrine', 'granisetron', 'minocycline', 'sotalol', 'tetracycline', 'bepridil', 'ribavirin', 'probenecid', 'quinidine', 'trimethoprim', 'docetaxel', 'estradiol', 'D-cycloserine', 'ritonavir', 'clotrimazole', 'terbinafine', 'ondansetron', 'penciclovir', 'thiabendazole', 'vinorelbine', 'acetazolamide', 'aminoglutethimide', 'tiagabine', 'raloxifene', 'imipramine', 'cyclobenzaprine', 'ethambutol', 'dextromethorphan', 'Carfilzomib', 'mecamylamine', 'rosiglitazone', 'loperamide', 'famotidine', 'tolbutamide', 'bicalutamide', 'rivastigmine', 'amprenavir', 'amisulpride', 'crotamiton', 'lamivudine', 'duloxetine', 'clopidogrel', 'zidovudine', 'lansoprazole', 'isradipine', 'betaine', 'itraconazole', 'rofecoxib', 'maprotiline', 'methazolamide', 'lovastatin', 'ganciclovir', 'dipyridamole', 'spironolactone', 'amifostine', 'flecainide', 'estramustine', 'cephalexin', 'flutamide', 'vincristine', 'troglitazone', 'econazole', 'phentolamine', 'zaleplon', 'testosterone', 'cefdinir', 'gadodiamide', 'carvedilol', 'mebendazole', 'carbachol', 'bezafibrate', 'ciprofloxacin', 'topiramate', 'roxithromycin', 'propafenone', 'tinidazole', 'hydralazine', 'acarbose', 'riluzole', 'nevirapine', 'trimetrexate', 'droperidol', 'clarithromycin', 'budesonide', 'mianserin', 'celecoxib', 'flumethasone', 'oxytetracycline', 'tacrolimus', 'dorzolamide', 'griseofulvin', 'busulfan', 'linezolid', 'mitoxantrone', 'trimethobenzamide', 'pramipexole', 'ketotifen', 'famciclovir', 'ramipril', 'mesna', 'procarbazine', 'hydroxychloroquine', 'irinotecan', 'sumatriptan', 'fenoprofen', 'gemcitabine', 'vinblastine', 'tazarotene', 'cetirizine', 'Octreotide', 'lactulose', 'hydroxyurea', 'letrozole', 'methyldopa', 'zanamivir', 'methyltestosterone', 'abacavir', 'lomustine', 'guaifenesin', 'pyrazinamide', 'bumetanide', 'cinoxacin', 'ibuprofen', 'nabumetone', 'theophylline', 'pentamidine', 'propylthiouracil', 'atenolol', 'nystatin', 'cerivastatin', 'domperidone', 'flurbiprofen', 'anagrelide', 'naltrexone', 'dantrolene', 'clindamycin', 'cytarabine', 'thalidomide', 'suprofen', 'halcinonide', 'tamoxifen', 'dopamine', 'allopurinol', 'chloramphenicol', 'hydrochlorothiazide'}\n",
      "586\n"
     ]
    }
   ],
   "source": [
    "# Get intsersection of drugs used in drugcomb and SIDER\n",
    "drug_intersection = sider_drugs.intersection(drugcomb_drugs)\n",
    "print(len(drug_intersection))\n",
    "print(drug_intersection)\n",
    "\n",
    "# Is there a difference in the intersection of drugs if the drug names are all lower case?\n",
    "drugcomb_drugs_lower = set([drug.lower() for drug in drugcomb_drugs])\n",
    "sider_drugs_lower = set([drug.lower() for drug in sider_drugs])\n",
    "drug_intersection_lower = sider_drugs_lower.intersection(drugcomb_drugs_lower)\n",
    "print(len(drug_intersection_lower))"
   ]
  },
  {
   "cell_type": "code",
   "execution_count": 7,
   "metadata": {},
   "outputs": [
    {
     "name": "stdout",
     "output_type": "stream",
     "text": [
      "(122204, 26)\n"
     ]
    }
   ],
   "source": [
    "# Filter out drugcomb_df to only include drugs in the intersection with drug names all lower case\n",
    "filtered_drugcomb_df = drugcomb_df[drugcomb_df['drug_row'].str.lower().isin(drug_intersection_lower) & drugcomb_df['drug_col'].str.lower().isin(drug_intersection_lower)]\n",
    "print(filtered_drugcomb_df.shape)\n",
    "\n",
    "# Write filtered drugcomb_df to a new csv file\n",
    "filtered_drugcomb_df.to_csv('data_processed/drugcomb_both_drugs_in_SIDER.csv', index=False)"
   ]
  },
  {
   "cell_type": "markdown",
   "metadata": {},
   "source": [
    "How many unique drug pairs are present? How many cell lines for each drug pair?"
   ]
  },
  {
   "cell_type": "code",
   "execution_count": 8,
   "metadata": {},
   "outputs": [
    {
     "name": "stdout",
     "output_type": "stream",
     "text": [
      "All unique drug pairs: 19263\n",
      "All unique cell lines: 156\n",
      "All unique tissue types: 11\n",
      "lung: 15\n",
      "ovary: 14\n",
      "haematopoietic_and_lymphoid: 12\n",
      "kidney: 8\n",
      "brain: 11\n",
      "large_intestine: 12\n",
      "soft_tissue: 3\n",
      "breast: 22\n",
      "prostate: 4\n",
      "bone: 3\n",
      "skin: 52\n"
     ]
    }
   ],
   "source": [
    "# How many unique drug pairs are in the filtered drugcomb_df\n",
    "unique_drug_pairs = set()\n",
    "for index, row in filtered_drugcomb_df.iterrows():\n",
    "    drug_pair = tuple(sorted([row['drug_row'], row['drug_col']]))\n",
    "    unique_drug_pairs.add(drug_pair)\n",
    "print(\"All unique drug pairs: \" + str(len(unique_drug_pairs)))\n",
    "\n",
    "# How many unique cell lines are in the filtered drugcomb_df\n",
    "unique_cell_lines = set(filtered_drugcomb_df['cell_line_name'])\n",
    "print(\"All unique cell lines: \" + str(len(unique_cell_lines)))\n",
    "\n",
    "# How many unique tissue types are in the filtered drugcomb_df\n",
    "unique_tissue_types = set(filtered_drugcomb_df['tissue_name'])\n",
    "print(\"All unique tissue types: \" + str(len(unique_tissue_types)))\n",
    "\n",
    "\n",
    "# Get dictionary of tissue types to cell lines\n",
    "tissue_to_cell_lines = {}\n",
    "for tissue in unique_tissue_types:\n",
    "    tissue_to_cell_lines[tissue] = set(filtered_drugcomb_df[filtered_drugcomb_df['tissue_name'] == tissue]['cell_line_name'])\n",
    "\n",
    "for tissue in tissue_to_cell_lines:\n",
    "    print(tissue + \": \" + str(len(tissue_to_cell_lines[tissue])))"
   ]
  },
  {
   "cell_type": "markdown",
   "metadata": {},
   "source": [
    "A few ways to slice this data\n",
    "- Look at non-antagonistic drugs for one cell line\n",
    "- Look at non-antagonistic drugs for all cell lines in ONE tissue type\n",
    "- Look at non-antagonistic drugs that are non-antagonistic across most cell lines"
   ]
  },
  {
   "cell_type": "code",
   "execution_count": 9,
   "metadata": {},
   "outputs": [
    {
     "name": "stdout",
     "output_type": "stream",
     "text": [
      "         block_id    drug_row     drug_col cell_line_name  \\\n",
      "1340982    462499  Trametinib   Trametinib             RD   \n",
      "1340984    462501   PONATINIB   Trametinib             RD   \n",
      "1341010    462527   PONATINIB    PONATINIB             RD   \n",
      "1341726    461952  Romidepsin  Carfilzomib           Rh36   \n",
      "1341770    461996  Romidepsin  Carfilzomib           Rh36   \n",
      "1341814    462040  Romidepsin  Carfilzomib           Rh36   \n",
      "1341861    462319  Trametinib   Trametinib        SMS-CTR   \n",
      "1341863    462321   PONATINIB   Trametinib        SMS-CTR   \n",
      "1341889    462347   PONATINIB    PONATINIB        SMS-CTR   \n",
      "\n",
      "                   study_name  tissue_name conc_row_unit conc_col_unit  \\\n",
      "1340982                  YOHE  soft_tissue            uM            uM   \n",
      "1340984                  YOHE  soft_tissue            uM            uM   \n",
      "1341010                  YOHE  soft_tissue            uM            uM   \n",
      "1341726  NCATS_ES(NAMPT+PARP)  soft_tissue            uM            uM   \n",
      "1341770  NCATS_ES(NAMPT+PARP)  soft_tissue            uM            uM   \n",
      "1341814  NCATS_ES(NAMPT+PARP)  soft_tissue            uM            uM   \n",
      "1341861                  YOHE  soft_tissue            uM            uM   \n",
      "1341863                  YOHE  soft_tissue            uM            uM   \n",
      "1341889                  YOHE  soft_tissue            uM            uM   \n",
      "\n",
      "         ic50_row  ic50_col  ...   S_mean    S_max  synergy_zip  \\\n",
      "1340982  0.002017  0.001836  ...   1.4435  -0.5020   -17.156495   \n",
      "1340984  0.724311  0.001535  ...  29.2105  14.8715     2.809141   \n",
      "1341010  0.643135  0.755746  ...  51.6685  49.5085    12.722614   \n",
      "1341726  0.001828  0.047151  ...  48.2570  29.4245     9.240469   \n",
      "1341770  0.001535  0.027946  ...  32.0605  20.0155     1.654410   \n",
      "1341814  0.002801  0.087682  ...  46.5705  37.8240     6.622527   \n",
      "1341861  0.001960  0.000807  ...  -1.6820  -3.2405   -15.561709   \n",
      "1341863  1.922691  0.055099  ...  42.3780  33.3450     2.215649   \n",
      "1341889  1.541932  1.373160  ...  59.1795  58.0280     5.986052   \n",
      "\n",
      "         synergy_loewe  synergy_hsa  synergy_bliss  drug_row_clinical_phase  \\\n",
      "1340982       -2.13042    -1.349772     -18.150235                        4   \n",
      "1340984       1.593214     2.755885       2.060583                        4   \n",
      "1341010       3.019581     3.918622      14.076181                        4   \n",
      "1341726      -0.358454     3.190159       8.718000                        4   \n",
      "1341770      -2.261048     1.611670       0.745924                        4   \n",
      "1341814      12.203398    15.185725      12.701736                        4   \n",
      "1341861       -1.44583    -1.321339     -17.162322                        4   \n",
      "1341863       3.820811     4.397625       1.605554                        4   \n",
      "1341889       5.783388     5.215954       8.276485                        4   \n",
      "\n",
      "         drug_col_clinical_phase  \\\n",
      "1340982                        4   \n",
      "1340984                        4   \n",
      "1341010                        4   \n",
      "1341726                        4   \n",
      "1341770                        4   \n",
      "1341814                        4   \n",
      "1341861                        4   \n",
      "1341863                        4   \n",
      "1341889                        4   \n",
      "\n",
      "                                      drug_row_target_name  \\\n",
      "1340982  Dual specificity mitogen-activated protein kin...   \n",
      "1340984  Tyrosine-protein kinase ABL; Stem cell growth ...   \n",
      "1341010  Tyrosine-protein kinase ABL; Stem cell growth ...   \n",
      "1341726  Histone deacetylase 1; Histone deacetylase 2; ...   \n",
      "1341770  Histone deacetylase 1; Histone deacetylase 2; ...   \n",
      "1341814  Histone deacetylase 1; Histone deacetylase 2; ...   \n",
      "1341861  Dual specificity mitogen-activated protein kin...   \n",
      "1341863  Tyrosine-protein kinase ABL; Stem cell growth ...   \n",
      "1341889  Tyrosine-protein kinase ABL; Stem cell growth ...   \n",
      "\n",
      "                                      drug_col_target_name  \n",
      "1340982  Dual specificity mitogen-activated protein kin...  \n",
      "1340984  Dual specificity mitogen-activated protein kin...  \n",
      "1341010  Tyrosine-protein kinase ABL; Stem cell growth ...  \n",
      "1341726  Proteasome subunit beta type-8; 26S proteasome...  \n",
      "1341770  Proteasome subunit beta type-8; 26S proteasome...  \n",
      "1341814  Proteasome subunit beta type-8; 26S proteasome...  \n",
      "1341861  Dual specificity mitogen-activated protein kin...  \n",
      "1341863  Dual specificity mitogen-activated protein kin...  \n",
      "1341889  Tyrosine-protein kinase ABL; Stem cell growth ...  \n",
      "\n",
      "[9 rows x 26 columns]\n"
     ]
    }
   ],
   "source": [
    "# After filtering for only cancer drug combination studies, soft_tissue has one cell line, so let's get all the non-antagonistic drug pairs that have been tested on the liver cell line\n",
    "soft_tissue_cell_lines = tissue_to_cell_lines['soft_tissue']\n",
    "soft_tissue_df = filtered_drugcomb_df[filtered_drugcomb_df['tissue_name'] == 'soft_tissue']\n",
    "print(soft_tissue_df)"
   ]
  },
  {
   "cell_type": "code",
   "execution_count": 10,
   "metadata": {},
   "outputs": [
    {
     "name": "stdout",
     "output_type": "stream",
     "text": [
      "(309848, 6)\n",
      "Index(['CID_FLAT', 'CID_STEREO', 'UMLS_Label', 'MedDRA_Concept', 'UMLS_MedDRA',\n",
      "       'Side_Effect'],\n",
      "      dtype='object')\n",
      "CID_FLAT            CID100000085\n",
      "CID_STEREO          CID000010917\n",
      "UMLS_Label              C0000729\n",
      "MedDRA_Concept                PT\n",
      "UMLS_MedDRA             C0000737\n",
      "Side_Effect       Abdominal pain\n",
      "Name: 0, dtype: object\n"
     ]
    }
   ],
   "source": [
    "# Get Sider side effects\n",
    "sider_all_side_effects_df = pd.read_csv('data/SIDER4.1/meddra_all_se.tsv', sep='\\t', index_col=False)\n",
    "sider_all_side_effects_df.columns = [\"CID_FLAT\", \"CID_STEREO\", \"UMLS_Label\", \"MedDRA_Concept\", \"UMLS_MedDRA\", \"Side_Effect\"]\n",
    "print(sider_all_side_effects_df.shape)\n",
    "print(sider_all_side_effects_df.columns)\n",
    "print(sider_all_side_effects_df.iloc[0])\n"
   ]
  },
  {
   "cell_type": "code",
   "execution_count": 14,
   "metadata": {},
   "outputs": [
    {
     "name": "stdout",
     "output_type": "stream",
     "text": [
      "Romidepsin flat set: 82\n",
      "Romidepsin stereo set: 0\n",
      "Carfilzomib flat set: 65\n",
      "Carfilzomib stereo set: 0\n"
     ]
    }
   ],
   "source": [
    "# Find side effects for Romidepsin and Carfilzomib\n",
    "romidepsin_CID = sider_cid_to_drugs_df[sider_cid_to_drugs_df['drug_name'] == 'Romidepsin']['CID'].values[0]\n",
    "carfilzomib_CID = sider_cid_to_drugs_df[sider_cid_to_drugs_df['drug_name'] == 'Carfilzomib']['CID'].values[0]\n",
    "romidepsin_side_effects_flat = set(sider_all_side_effects_df[sider_all_side_effects_df['CID_FLAT'] == romidepsin_CID]['Side_Effect'])\n",
    "romidepsin_side_effects_stereo = set(sider_all_side_effects_df[sider_all_side_effects_df['CID_STEREO'] == romidepsin_CID]['Side_Effect'])\n",
    "carfilzomib_side_effects_flat = set(sider_all_side_effects_df[sider_all_side_effects_df['CID_FLAT'] == carfilzomib_CID]['Side_Effect'])\n",
    "carfilzomib_side_effects_stereo = set(sider_all_side_effects_df[sider_all_side_effects_df['CID_STEREO'] == carfilzomib_CID]['Side_Effect'])\n",
    "print(\"Romidepsin flat set: \" + str(len(romidepsin_side_effects_flat)))\n",
    "print(\"Romidepsin stereo set: \" + str(len(romidepsin_side_effects_stereo)))\n",
    "print(\"Carfilzomib flat set: \" + str(len(carfilzomib_side_effects_flat)))\n",
    "print(\"Carfilzomib stereo set: \" + str(len(carfilzomib_side_effects_stereo)))\n"
   ]
  },
  {
   "cell_type": "code",
   "execution_count": 15,
   "metadata": {},
   "outputs": [
    {
     "name": "stdout",
     "output_type": "stream",
     "text": [
      "Romidepsin and Carfilzomib jaccard similarity (flat): 0.3125\n",
      "Intersection (flat): {'Renal failure acute', 'Asthenia', 'Hyponatraemia', 'Hypokalaemia', 'Body temperature increased', 'Constipation', 'Neutropenia', 'Dyspnoea', 'Oedema peripheral', 'Decreased appetite', 'Multi-organ failure', 'Chills', 'Fatigue', 'Pneumonia', 'Hypophosphataemia', 'Leukopenia', 'Myocardial ischaemia', 'Cough', 'Sepsis', 'Vomiting', 'Nausea', 'Anorexia', 'Aspartate aminotransferase increased', 'Headache', 'Diarrhoea', 'Hypomagnesaemia', 'Dizziness', 'Disease progression', 'Cardiac disorder', 'Hyperglycaemia', 'Lymphopenia', 'Death', 'Thrombocytopenia', 'Infection', 'Anaemia'}\n",
      "Union (flat): {'Cardiopulmonary failure', 'Blood and lymphatic system disorders', 'Renal failure acute', 'Hypersensitivity', 'Haemorrhage intracranial', 'Chest wall pain', 'Dermatitis exfoliative', 'Neuropathy peripheral', 'Cardiogenic shock', 'Acute coronary syndrome', 'Hypotension', 'Insomnia', 'Constipation', 'Neutropenia', 'Dyspnoea', 'Pain', 'Oedema peripheral', 'Shock', 'Chills', 'Cardiac arrest', 'Renal failure', 'Hypophosphataemia', 'Dehydration', 'Leukopenia', 'Nervous system disorder', 'Myocardial ischaemia', 'Arthralgia', 'Hypoaesthesia', 'Septic shock', 'Neoplasm malignant', 'Muscle spasms', 'Mycosis fungoides', 'Nausea', 'Abdominal pain', 'Hypoalbuminaemia', 'Pain in extremity', 'Candida sepsis', 'Acute respiratory distress syndrome', 'Diarrhoea', 'Hypomagnesaemia', 'Disease progression', 'Cardiac disorder', 'Hyperglycaemia', 'Lymphopenia', 'Ventricular arrhythmia', 'Death', 'Dermatitis', 'Chest pain', 'Hepatic failure', 'Musculoskeletal chest pain', 'Syncope', 'Anaemia', 'Mediastinal disorder', 'Peripheral motor neuropathy', 'Cardiac failure congestive', 'Gastrointestinal disorder', 'Neuritis', 'Cellulitis', 'Herpes virus infection', 'Asthenia', 'Arrhythmia supraventricular', 'Peripheral sensory neuropathy', 'Hyponatraemia', 'Hypokalaemia', 'Catheter related infection', 'Body temperature increased', 'Febrile neutropenia', 'Hypocalcaemia', 'Hypertension', 'Gastrointestinal pain', 'Weight decreased', 'Tumour lysis syndrome', 'Blood creatinine increased', 'Decreased appetite', 'Multi-organ failure', 'Pulmonary embolism', 'Fatigue', 'Pneumonia', 'Blood uric acid increased', 'Upper respiratory tract infection', 'Dysgeusia', 'Stomatitis', 'Hyperbilirubinaemia', 'Hypermagnesaemia', 'Loss of consciousness', 'Oedema', 'Central line infection', 'Found dead (cause undetermined)', 'Cough', 'Cutaneous T-cell lymphoma', 'Sepsis', 'Hypercalcaemia', 'Pulmonary hypertension', 'Musculoskeletal discomfort', 'Back pain', 'Vomiting', 'Bacterial infection', 'Tachycardia', 'Hyperuricaemia', 'Anorexia', 'Aspartate aminotransferase increased', 'Malnutrition', 'Headache', 'Deep vein thrombosis', 'Dizziness', 'Pruritus', 'Device related infection', 'Thrombocytopenia', 'Found dead', 'Infection', 'Organ failure', 'Alanine aminotransferase increased'}\n",
      "Romidepsin side effects (flat): {'Blood and lymphatic system disorders', 'Hypersensitivity', 'Dermatitis exfoliative', 'Cardiogenic shock', 'Constipation', 'Dyspnoea', 'Oedema peripheral', 'Shock', 'Chills', 'Dehydration', 'Nervous system disorder', 'Candida sepsis', 'Diarrhoea', 'Disease progression', 'Cardiac disorder', 'Hyperglycaemia', 'Lymphopenia', 'Death', 'Dermatitis', 'Anaemia', 'Cellulitis', 'Asthenia', 'Arrhythmia supraventricular', 'Hypokalaemia', 'Hypocalcaemia', 'Weight decreased', 'Pulmonary embolism', 'Pneumonia', 'Stomatitis', 'Loss of consciousness', 'Sepsis', 'Vomiting', 'Tachycardia', 'Anorexia', 'Aspartate aminotransferase increased', 'Malnutrition', 'Dizziness', 'Pruritus', 'Device related infection', 'Infection', 'Cardiopulmonary failure', 'Renal failure acute', 'Hypotension', 'Neutropenia', 'Hypophosphataemia', 'Leukopenia', 'Myocardial ischaemia', 'Septic shock', 'Neoplasm malignant', 'Mycosis fungoides', 'Nausea', 'Abdominal pain', 'Hypoalbuminaemia', 'Acute respiratory distress syndrome', 'Hypomagnesaemia', 'Ventricular arrhythmia', 'Chest pain', 'Syncope', 'Mediastinal disorder', 'Gastrointestinal disorder', 'Hyponatraemia', 'Catheter related infection', 'Body temperature increased', 'Febrile neutropenia', 'Gastrointestinal pain', 'Decreased appetite', 'Multi-organ failure', 'Fatigue', 'Blood uric acid increased', 'Dysgeusia', 'Hyperbilirubinaemia', 'Hypermagnesaemia', 'Oedema', 'Central line infection', 'Found dead (cause undetermined)', 'Cough', 'Cutaneous T-cell lymphoma', 'Hyperuricaemia', 'Headache', 'Deep vein thrombosis', 'Thrombocytopenia', 'Alanine aminotransferase increased'}\n",
      "Carfilzomib side effects (flat): {'Peripheral motor neuropathy', 'Renal failure acute', 'Neuritis', 'Haemorrhage intracranial', 'Herpes virus infection', 'Asthenia', 'Neuropathy peripheral', 'Peripheral sensory neuropathy', 'Hyponatraemia', 'Hypokalaemia', 'Body temperature increased', 'Acute coronary syndrome', 'Insomnia', 'Constipation', 'Neutropenia', 'Dyspnoea', 'Hypertension', 'Pain', 'Oedema peripheral', 'Tumour lysis syndrome', 'Blood creatinine increased', 'Decreased appetite', 'Multi-organ failure', 'Chills', 'Upper respiratory tract infection', 'Fatigue', 'Pneumonia', 'Cardiac arrest', 'Renal failure', 'Hypophosphataemia', 'Leukopenia', 'Myocardial ischaemia', 'Organ failure', 'Arthralgia', 'Hypoaesthesia', 'Cough', 'Sepsis', 'Muscle spasms', 'Hypercalcaemia', 'Pulmonary hypertension', 'Musculoskeletal discomfort', 'Back pain', 'Vomiting', 'Nausea', 'Pain in extremity', 'Bacterial infection', 'Anorexia', 'Aspartate aminotransferase increased', 'Headache', 'Diarrhoea', 'Hypomagnesaemia', 'Dizziness', 'Disease progression', 'Cardiac disorder', 'Hyperglycaemia', 'Lymphopenia', 'Hepatic failure', 'Death', 'Musculoskeletal chest pain', 'Thrombocytopenia', 'Found dead', 'Infection', 'Anaemia', 'Chest wall pain', 'Cardiac failure congestive'}\n"
     ]
    }
   ],
   "source": [
    "# Get the jaccard similarity between the side effect sets\n",
    "def get_jaccard_similarity(set1, set2):\n",
    "    intersection = len(set1.intersection(set2))\n",
    "    union = len(set1.union(set2))\n",
    "    return intersection / union\n",
    "\n",
    "romidepsin_carfilzomib_jaccard_flat = get_jaccard_similarity(romidepsin_side_effects_flat, carfilzomib_side_effects_flat)\n",
    "print(\"Romidepsin and Carfilzomib jaccard similarity (flat): \" + str(romidepsin_carfilzomib_jaccard_flat))\n",
    "print(\"Intersection (flat): \" + str(romidepsin_side_effects_flat.intersection(carfilzomib_side_effects_flat)))\n",
    "print(\"Union (flat): \" + str(romidepsin_side_effects_flat.union(carfilzomib_side_effects_flat)))\n",
    "print(\"Romidepsin side effects (flat): \" + str(romidepsin_side_effects_flat))\n",
    "print(\"Carfilzomib side effects (flat): \" + str(carfilzomib_side_effects_flat))"
   ]
  },
  {
   "cell_type": "markdown",
   "metadata": {},
   "source": [
    "This section below was before filtering only for cancer combination screens"
   ]
  },
  {
   "cell_type": "code",
   "execution_count": 12,
   "metadata": {},
   "outputs": [],
   "source": [
    "# # Looks like the liver drugcomb data only has one real combination (clomiphene and colchicine), and the\n",
    "# # Loewe synergy score is positive, so it's not antagonistic. Let's try getting the side effect sets\n",
    "\n",
    "# # Get the CID from the drug name\n",
    "# colchicine_CID = sider_cid_to_drugs_df[sider_cid_to_drugs_df['drug_name'] == 'colchicine']['CID'].values[0]\n",
    "# print(colchicine_CID)\n",
    "\n",
    "# # Get the side effects for colchicine\n",
    "# colchicine_side_effects_flat = set(sider_all_side_effects_df[sider_all_side_effects_df['CID_FLAT'] == colchicine_CID]['Side_Effect'])\n",
    "# colchicine_side_effects_stereo = set(sider_all_side_effects_df[sider_all_side_effects_df['CID_STEREO'] == colchicine_CID]['Side_Effect'])\n",
    "# print(\"Flat set: \" + str(len(colchicine_side_effects_flat)))\n",
    "# print(\"Stereo set: \" + str(len(colchicine_side_effects_stereo)))\n",
    "\n",
    "# # Get the CID for clomiphene\n",
    "# clomiphene_CID = sider_cid_to_drugs_df[sider_cid_to_drugs_df['drug_name'] == 'clomiphene']['CID'].values[0]\n",
    "# print(clomiphene_CID)\n",
    "\n",
    "# # Get the side effects for clomiphene\n",
    "# clomiphene_side_effects_flat = set(sider_all_side_effects_df[sider_all_side_effects_df['CID_FLAT'] == clomiphene_CID]['Side_Effect'])\n",
    "# clomiphene_side_effects_stereo = set(sider_all_side_effects_df[sider_all_side_effects_df['CID_STEREO'] == clomiphene_CID]['Side_Effect'])\n",
    "# print(\"Flat set: \" + str(len(clomiphene_side_effects_flat)))\n",
    "# print(\"Stereo set: \" + str(len(clomiphene_side_effects_stereo)))\n",
    "\n",
    "# # Get the jaccard similarity between the side effect sets\n",
    "# def get_jaccard_similarity(set1, set2):\n",
    "#     intersection = len(set1.intersection(set2))\n",
    "#     union = len(set1.union(set2))\n",
    "#     return intersection / union\n",
    "\n",
    "# print(\"Flat Jaccard similarity: \" + str(get_jaccard_similarity(colchicine_side_effects_flat, clomiphene_side_effects_flat)))\n",
    "# print(\"Intersection of flat sets: \" + str(len(colchicine_side_effects_flat.intersection(clomiphene_side_effects_flat))))\n",
    "# print(\"Union of flat sets: \" + str(len(colchicine_side_effects_flat.union(clomiphene_side_effects_flat))))\n",
    "\n",
    "\n",
    "# print(\"Control Jaccard similarity, clomiphene with itself: \" + str(get_jaccard_similarity(clomiphene_side_effects_flat, clomiphene_side_effects_flat)))\n",
    "\n",
    "# # print the side effects in the intersection\n",
    "# cc_intersect = colchicine_side_effects_flat.intersection(clomiphene_side_effects_flat)\n",
    "# print(\"Intersect\")\n",
    "# print(cc_intersect)\n",
    "\n",
    "# # print the side effects in the union\n",
    "# colchicine_only = colchicine_side_effects_flat - cc_intersect\n",
    "# clomiphene_only = clomiphene_side_effects_flat - cc_intersect\n",
    "# print(\"Colchicine only\")\n",
    "# print(colchicine_only)\n",
    "# print(\"Clomiphene only\")\n",
    "# print(clomiphene_only)\n"
   ]
  },
  {
   "cell_type": "code",
   "execution_count": 16,
   "metadata": {},
   "outputs": [
    {
     "name": "stdout",
     "output_type": "stream",
     "text": [
      "Flat Jaccard similarity: 0.21398305084745764\n",
      "Intersection of flat sets: 101\n",
      "Union of flat sets: 472\n",
      "Intersect\n",
      "{'Connective tissue disorder', 'Hypersensitivity', 'Dermatitis exfoliative', 'Anaphylactic shock', 'Embolism', 'Acute coronary syndrome', 'Constipation', 'Dyspnoea', 'Myelosuppression', 'Pain', 'Rash', 'Chills', 'Visual impairment', 'Drug interaction', 'Dehydration', 'Pancytopenia', 'Arthralgia', 'Angiopathy', 'Blood alkaline phosphatase increased', 'Myalgia', 'Myocardial infarction', 'Polyuria', 'Necrosis', 'Diarrhoea', 'Cardiac disorder', 'Dermatitis', 'Haemorrhage', 'Paraesthesia', 'Anaemia', 'Unspecified disorder of skin and subcutaneous tissue', 'Asthenia', 'Hypokalaemia', 'Skin disorder', 'Hypocalcaemia', 'Hypertension', 'Influenza like illness', 'Stomatitis', 'Injection site reaction', 'Liver function test abnormal', 'Cardiac failure', 'Discomfort', 'Urticaria', 'Musculoskeletal discomfort', 'Phosphatase alkaline increased', 'Vomiting', 'Tachycardia', 'Anorexia', 'Aspartate aminotransferase increased', 'Malnutrition', 'Pruritus', 'Malaise', 'Ototoxicity', 'Nephropathy toxic', 'Haemoglobin', 'Infection', 'Renal failure acute', 'Neuropathy peripheral', 'Hypotension', 'Neutropenia', 'Ill-defined disorder', 'Myelodysplastic syndrome', 'Cardiac arrest', 'Leukopenia', 'Myocardial ischaemia', 'Eye disorder', 'Feeling abnormal', 'Mucosal inflammation', 'Extravasation', 'Cerebrovascular accident', 'Blood bilirubin increased', 'Rash erythematous', 'Nausea', 'Abdominal pain', 'Hypomagnesaemia', 'Haemolytic uraemic syndrome', 'Influenza-like symptoms', 'Hyporeflexia', 'Peripheral sensory neuropathy', 'Hyponatraemia', 'Erythema', 'Body temperature increased', 'Wheezing', 'Febrile neutropenia', 'Gastrointestinal pain', 'Blood creatinine increased', 'Decreased appetite', 'Fatigue', 'Visual disturbance', 'Dysgeusia', 'Deafness', 'Vision blurred', 'Swelling', 'Rigors', 'Neurotoxicity', 'Redness', 'Tinnitus', 'Neurological symptom', 'Renal impairment', 'Hearing impaired', 'Thrombocytopenia', 'Alopecia'}\n",
      "Carboplatin only\n",
      "{'Hepatotoxicity', 'Creatinine low', 'Angina pectoris', 'Nephrotoxicity', 'Blood urea increased', 'Renal function test abnormal', 'Diuresis', 'Kidney function abnormal', 'Nausea alone', 'Ischaemic coronary artery disorders', 'Tendon reflex decreased', 'Bone marrow depression', 'Bronchospasm', 'Unspecified visual loss', 'Blindness cortical', 'Serum creatinine increased', 'Neoplasm malignant', 'Blindness', 'Leukaemia', 'Palmar erythema', 'Blood creatinine decreased', 'Abdominal discomfort', 'Gastrointestinal toxicity', 'Perioral tingling', 'Paraesthesia oral', 'Gastrointestinal tract irritation', 'Anaphylactoid reaction'}\n",
      "Paclitaxel only\n",
      "{'Sinus congestion', 'Blood and lymphatic system disorders', 'Eye irritation', 'Vitiligo', 'Anxiety', 'Nail changes', 'Insomnia', 'Skin toxicity', 'Anemic', 'Necrotising enterocolitis neonatal', 'Dyspepsia', 'Infusion site inflammation', 'Candida infection', 'Depression', 'Onychomadesis', 'Sensory loss', 'Necrolysis epidermal', 'Fungal infection', 'Blood electrolytes abnormal', 'Blood potassium decreased', 'Laryngeal pain', 'Mental disability', 'Breast disorder', 'Agitation', 'Skin lesion', 'Muscle spasms', 'Oropharyngeal discomfort', 'Dysuria', 'Injection site swelling', 'Pain in extremity', 'Photosensitivity reaction', 'Nail pigmentation', 'Blood glucose increased', 'Ventricular extrasystoles', 'Hyperglycaemia', 'Lymphopenia', 'Hypoaesthesia oral', 'Cramps of lower extremities', 'Vertigo', 'Autonomic neuropathy', 'Amblyopia', 'Cellulitis', 'Encephalopathy acute', 'Left ventricular dysfunction', 'Pruritus generalised', 'Hyperhidrosis', 'Systemic lupus erythematosus', 'Oesophagitis', 'Weight decreased', 'Urinary incontinence', 'Opportunistic infection', 'Breath sounds abnormal', 'Respiratory sounds decreased', 'Transient ischaemic attack', 'Musculoskeletal pain', 'Hypokinesia', 'Pulmonary hypertension', 'Haemoptysis', 'Prurigo', 'Orthostatic hypotension', 'Nervousness', 'Adenocarcinoma', 'Hypotensive', 'Metabolic encephalopathy', 'Pharyngitis', 'Metastatic pain', 'Hepatomegaly', 'Hypertonia', 'Colitis ischaemic', 'Visual evoked potentials abnormal', 'Dermatitis atopic', 'Bone pain', 'Device related infection', 'Squamous cell carcinoma of lung', 'Flank pain', 'Interstitial pneumonia', 'Necrotizing enterocolitis', 'Hepatic encephalopathy', 'Angioedema', 'Nocturia', 'Immunocompromised', 'Eye pain', 'Urinary tract disorder', 'Hepatobiliary disease', 'Keratitis', 'Pulmonary thromboembolism', 'Contusion', 'Fibrosis', 'Hypophosphataemia', 'Infestation NOS', 'Thrombosis', 'Rhinorrhoea', 'Tonic-clonic seizures', 'Herpes zoster', 'Hypoaesthesia', 'Polyneuropathy', 'Hypoglycaemia', 'Lacrimation increased', 'Colitis', 'Pneumothorax', 'Skin ulcer', 'Grand mal convulsion', 'Haematocrit decreased', 'Hypoalbuminaemia', 'Peripheral coldness', 'Immune system disorder', 'Pigmentation disorder', 'Infusion site reaction', 'Flatulence', 'Neuralgia', 'Infestation', 'Bone disorder', 'Chest pain', 'Nail disorder', 'VIIth nerve paralysis', 'Rash macular', 'Hoarseness', 'Necrotising colitis', 'Neuritis', 'Injection site infection', 'Respiratory tract infection', 'Caecitis', 'Tumour necrosis', 'B-cell type acute leukaemia', 'Deafness neurosensory', 'Muscular weakness', 'Pollakiuria', 'Tremor', 'Cardiomyopathy', 'Tumour lysis syndrome', 'Hyperaesthesia', 'Nail discolouration', 'Lymphoedema', 'Hyperbilirubinaemia', 'Tenderness', 'Nasal dryness', 'Neoplasm', 'Atrioventricular block complete', 'Dyskinesia', 'Blood pressure systolic decreased', 'Generalized urticaria', 'Arrhythmia', 'Respiratory distress', 'Radiation pneumonitis', 'Glossodynia', 'Vitreous floaters', 'Dysphagia', 'Mental disorder', 'Ventricular tachycardia', 'Cyst', 'Nasopharyngitis', 'Skin hyperpigmentation', 'Back pain', 'Myasthenia', 'Night sweats', 'Thrombosis mesenteric vessel', 'Peritonitis', 'Abdominal distension', 'Headache', 'Hypotrichosis', 'Localised oedema', 'Epistaxis', 'Malignant neoplasm of pancreas', 'Ascites', 'Radiation recall reaction (dermatologic)', 'Alanine aminotransferase increased', 'Neck pain', 'Gamma-glutamyltransferase increased', 'Stevens-Johnson syndrome', 'Ventricular failure', 'Flushing', 'Atrial fibrillation', 'Interstitial lung disease', 'Nail discomfort', 'Hot flush', 'Dry mouth', 'Palpitations', 'Oedema peripheral', 'Shock', 'Recall phenomenon', 'Cystoid macular oedema', 'Renal failure', 'Dysphonia', 'Phlebitis', 'Nervous system disorder', 'Accidental injury', 'Influenza', 'Pancreatitis', 'Sinusitis', 'Raised liver function tests', 'Vocal cord paresis', 'Polyp', 'Folliculitis', 'Blood disorder', 'Neutropenic colitis', 'Erythema multiforme', 'Immunodeficiency', 'Hyperpyrexia', 'Polydipsia', 'Skin fibrosis', 'Acute myeloid leukaemia', 'Scleroderma', 'Musculoskeletal chest pain', 'Madarosis', 'Rash maculo-papular', 'Visual acuity reduced', 'Cardiac failure congestive', 'Infusion site rash', 'Dry skin', 'Sinus tachycardia', 'Photopsia', 'Neutropenic enterocolitis', 'Neuropathy', 'Disorder sight', 'Nail bed tenderness', 'Pancreatitis acute', 'Mood alteration NOS', 'Onycholysis', 'Pulmonary embolism', 'Upper respiratory tract infection', 'Pneumonia', 'Breast cancer stage IV', 'Lethargy', 'Loss of consciousness', 'Limb discomfort', 'Neutropenic sepsis', 'Lightheadedness', 'Infusion site extravasation', 'Sepsis', 'Ileus', 'Cholangitis', 'Rhinitis allergic', 'Chest discomfort', 'Mood swings', 'Haematuria', 'Induration', 'Pulmonary fibrosis', 'Cryptosporidiosis infection', 'Conjunctivitis', 'Bradycardia', 'Dizziness', 'Abdominal pain lower', 'Leukoencephalopathy', 'Skin exfoliation', 'Oral pain', 'Pain of skin', 'Congenital skin disorder', 'Pleural effusion', 'Loose stools', 'Thrombophlebitis', 'Blood pressure increased', 'Somnolence', 'Herpes simplex', 'Mouth ulceration', 'Rectal haemorrhage', 'Abnormal vision', 'Urine output increased', 'Weight increased', 'Intestinal obstruction', 'Melaena', 'Oral candidiasis', 'Oropharyngeal pain', 'Urinary tract infection', 'Cranial nerve paralysis', 'Hepatic necrosis', 'Ear and labyrinth disorders', 'Eye pruritus', 'Injury', 'Rash papular', 'Scotoma', 'Septic shock', 'Sinus bradycardia', 'Coronary artery stenosis', 'Electrolyte imbalance', 'Red blood cell count decreased', 'Rhinitis', 'Hyperlactacidaemia', 'Tingling sensation', 'Pseudomembranous colitis', 'Dry eye', 'Tension', 'Ear pain', 'Atrioventricular block', 'Extrasystoles', 'Thrombotic thrombocytopenic purpura', 'Confusional state', 'Ileus paralytic', 'Dyspnoea exertional', 'Respiratory failure', 'Keratoconjunctivitis sicca', 'Fatal outcomes', 'Abdominal pain upper', 'Drug hypersensitivity', 'Menopausal symptoms', 'Skin necrosis', 'Syncope', 'Sweating increased', 'Dry throat', 'Mediastinal disorder', 'Peripheral motor neuropathy', 'Groin pain', 'Pancreatic carcinoma', 'Gastrointestinal disorder', 'Bronchitis', 'Ataxia', 'Electrolyte abnormality', 'Catheter related infection', 'Venous thrombosis', 'Nerve injury', 'Throat sore', 'Nasal congestion', 'Productive cough', 'Sensory disturbance', 'Viral infection', 'Gait disturbance', 'Convulsion', 'Oedema', 'Infarction', 'Swelling face', 'Skin discolouration', 'Fluid retention', 'Areflexia', 'Pharyngolaryngeal pain', 'Thinking abnormal', 'Cough', 'Rash generalised', 'Encephalopathy', 'Dizziness postural', 'Electrocardiogram abnormal', 'Toxic epidermal necrolysis', 'Intestinal perforation', 'Breast pain', 'Cramp muscle', 'Supraventricular tachycardia', 'Ventricular bigeminy', 'Macular oedema', 'Gastrooesophageal reflux disease', 'Gingival pain', 'Meningitis cryptococcal', 'Urethral disorder', 'Scintillating scotoma', 'Acute leukaemia', 'Ischaemic stroke', 'Chest wall pain'}\n"
     ]
    }
   ],
   "source": [
    "# What about for a known combination like carboplatin and paclitaxel\n",
    "carboplatin_CID = sider_cid_to_drugs_df[sider_cid_to_drugs_df['drug_name'] == 'carboplatin']['CID'].values[0]\n",
    "paclitaxel_CID = sider_cid_to_drugs_df[sider_cid_to_drugs_df['drug_name'] == 'paclitaxel']['CID'].values[0]\n",
    "carboplat_side_effects_flat = set(sider_all_side_effects_df[sider_all_side_effects_df['CID_FLAT'] == carboplatin_CID]['Side_Effect'])\n",
    "paclitaxel_side_effects_flat = set(sider_all_side_effects_df[sider_all_side_effects_df['CID_FLAT'] == paclitaxel_CID]['Side_Effect'])\n",
    "print(\"Flat Jaccard similarity: \" + str(get_jaccard_similarity(carboplat_side_effects_flat, paclitaxel_side_effects_flat)))\n",
    "print(\"Intersection of flat sets: \" + str(len(carboplat_side_effects_flat.intersection(paclitaxel_side_effects_flat))))\n",
    "print(\"Union of flat sets: \" + str(len(carboplat_side_effects_flat.union(paclitaxel_side_effects_flat))))\n",
    "\n",
    "# print the side effects in the intersection\n",
    "cp_intersect = carboplat_side_effects_flat.intersection(paclitaxel_side_effects_flat)\n",
    "print(\"Intersect\")\n",
    "print(cp_intersect)\n",
    "\n",
    "# print the side effects of carboplatin only\n",
    "carboplatin_only = carboplat_side_effects_flat - cp_intersect\n",
    "print(\"Carboplatin only\")\n",
    "print(carboplatin_only)\n",
    "\n",
    "# print the side effects of paclitaxel only\n",
    "paclitaxel_only = paclitaxel_side_effects_flat - cp_intersect\n",
    "print(\"Paclitaxel only\")\n",
    "print(paclitaxel_only)"
   ]
  },
  {
   "cell_type": "markdown",
   "metadata": {},
   "source": []
  },
  {
   "cell_type": "code",
   "execution_count": 17,
   "metadata": {},
   "outputs": [
    {
     "name": "stdout",
     "output_type": "stream",
     "text": [
      "CID100004112\n",
      "CID100003899\n",
      "Flat Jaccard similarity: 0.268018018018018\n",
      "Intersect\n",
      "{'Stevens-Johnson syndrome', 'Blood and lymphatic system disorders', 'Hypersensitivity', 'Interstitial lung disease', 'Anaphylactic shock', 'Diabetes mellitus', 'Insomnia', 'Dyspnoea', 'Dyspepsia', 'Pain', 'Rash', 'Chills', 'Liver disorder', 'Renal failure', 'Nervous system disorder', 'Pancytopenia', 'Arthralgia', 'Pancreatitis', 'Breast disorder', 'Raised liver function tests', 'Eosinophilia', 'Myalgia', 'Polyp', 'Lymphadenopathy', 'Dysuria', 'Erythema multiforme', 'Diarrhoea', 'Cardiac disorder', 'Agranulocytosis', 'Dermatitis', 'Haemorrhage', 'Vasculitis', 'Vertigo', 'Paraesthesia', 'Anaemia', 'Ecchymosis', 'Unspecified disorder of skin and subcutaneous tissue', 'Cystitis', 'Hepatotoxicity', 'Asthenia', 'Hyperhidrosis', 'Osteoarthritis', 'Skin disorder', 'Upper respiratory tract infection', 'Pneumonia', 'Opportunistic infection', 'Stomatitis', 'Hepatitis', 'Liver function test abnormal', 'Bladder pain', 'Discomfort', 'Sepsis', 'Urticaria', 'Musculoskeletal discomfort', 'Haematuria', 'Vomiting', 'Pulmonary fibrosis', 'Conjunctivitis', 'Pharyngitis', 'Abscess', 'Anorexia', 'Malnutrition', 'Dizziness', 'Pruritus', 'Psoriasis', 'Malaise', 'Haemoglobin', 'Infection', 'Anaphylactoid reaction', 'Interstitial pneumonia', 'Asthma', 'Herpes simplex', 'Mouth ulceration', 'Osteonecrosis', 'Hypotension', 'Urinary tract disorder', 'Neutropenia', 'Ill-defined disorder', 'Hepatobiliary disease', 'Cystitis noninfective', 'Leukopenia', 'Melaena', 'Infestation NOS', 'Herpes zoster', 'Eye disorder', 'Feeling abnormal', 'Hepatic enzyme increased', 'Skin ulcer', 'Nausea', 'Abdominal pain', 'Immune system disorder', 'Ulcer', 'Infestation', 'Hepatic failure', 'Chest pain', 'Nail disorder', 'Mediastinal disorder', 'Appetite absent', 'Gastrointestinal disorder', 'Body temperature increased', 'Gastrointestinal pain', 'Decreased appetite', 'Fatigue', 'Dysgeusia', 'Neoplasm', 'Inflammation', 'Skin discolouration', 'Gingivitis', 'Vision blurred', 'Cough', 'Mental disorder', 'Cyst', 'Back pain', 'Toxic epidermal necrolysis', 'Headache', 'Urethral disorder', 'Epistaxis', 'Thrombocytopenia', 'Alopecia'}\n",
      "Length of intersect: 119\n",
      "Length of union: 444\n",
      "Methotrexate only\n",
      "{'Blindness transient', 'Azotaemia', 'Anaemia megaloblastic', 'Apnoea', 'Dermatitis exfoliative', 'Radiculopathy', 'Gastrointestinal ulcer haemorrhage', 'Osteoporosis', 'Nail changes', 'Embolism', 'Dry cough', 'Depression', 'Nephropathy', 'Visual impairment', 'Ureteric obstruction', 'Necrolysis epidermal', 'Enteritis', 'Psoriatic plaque', 'Fungal infection', 'Burning sensation', 'Nodule', 'Sunburn', 'Hepatic insufficiency', 'Eruption', 'Pneumocystis jirovecii pneumonia', 'Angiopathy', 'Hypogammaglobulinaemia', 'Paraplegia', 'Partial seizures', 'Erectile dysfunction', 'Folliculitis', 'Leukocytoclastic vasculitis', 'Cognitive disorder', 'Motor dysfunction', 'Leukaemia', 'Immunodeficiency', 'Stress fracture', 'Photosensitivity reaction', 'Polyuria', 'Nuchal rigidity', 'Necrosis', 'Abdominal discomfort', 'Paralysis', 'Pericarditis', 'Depressed level of consciousness', 'Oliguria', 'Stupor', 'Aplastic anaemia', 'Infertility', 'Neurological impairment', 'Hepatitis acute', 'Gynaecomastia', 'Malabsorption', 'Irritability', 'X-linked lymphoproliferative syndrome', 'Impaired healing', 'Gastrointestinal ulcer', 'Petechiae', 'Furunculosis', 'Hypervigilance', 'Neck stiffness', 'Meningism', 'Furuncle', 'Mood alteration NOS', 'Pulmonary embolism', 'Paresis', 'Skin depigmentation', 'Vaginal infection', 'Megacolon toxic', 'Leukoderma', 'Lethargy', 'Bone marrow depression', 'Retinal vein thrombosis', 'Lymphoproliferative disorder', 'Oligospermia', 'Mood swings', 'Lung infiltration', 'Thermal burn', 'Taste metallic', 'Hypoxia', 'Loss of libido', 'Dysarthria', 'Bronchial hyperreactivity', 'Diplegia', 'Vaginal inflammation', 'Cognitive impairment', 'Histoplasmosis', 'Rales', 'Leukoencephalopathy', 'Skin exfoliation', 'Cerebral thrombosis', 'Alveolitis allergic', 'Renal failure acute', 'Septicemia', 'Spinal cord disorder', 'Pleural effusion', 'Dermatitis radiation NOS', 'Haematemesis', 'Pneumonia cytomegaloviral', 'Lung disorder', 'Hepatic atrophy', 'Thrombophlebitis', 'Somnolence', 'Anuria', 'Alveolitis', 'Speech impairment NOS', 'Fibrosis', 'Megacolon', 'Sweating', 'Urine output increased', 'Hemiparesis', \"Burkitt's lymphoma\", 'Dementia', 'Lung infection', 'Musculoskeletal stiffness', 'Cranial nerve paralysis', 'Ear and labyrinth disorders', 'Drowsiness', 'Mucosal inflammation', 'Paresthesia of limbs', 'Extravasation', 'Photosensitivity', 'Arachnoiditis', 'Pericardial effusion', 'Cerebrovascular accident', 'Soft tissue necrosis', 'Guillain-Barre syndrome', 'Herpes simplex hepatitis', 'Haematocrit decreased', 'Glossitis', 'Ocular discomfort', 'Confusional state', 'Pulmonary lymphoma', 'Cryptococcosis', 'Protein urine present', 'Hepatic cirrhosis', 'Bone disorder', 'Respiratory failure', 'Serum albumin decreased', 'Radiation skin injury', 'Pulmonary toxicity', 'Skin necrosis', 'Paronychia', 'Blood albumin decreased', 'Reaction gastrointestinal', 'Hidradenitis', 'CNS toxicity', 'Telangiectasia', 'Azoospermia', 'Lung fibrosis interstitial', 'Cardiac tamponade', 'Arterial thrombosis', 'Ataxia', 'Erythema', 'Scald', 'Febrile neutropenia', 'Fracture', 'Vaginal discharge', 'Multiple fractures', 'Tumour lysis syndrome', 'Speech disorder', 'Meningitis aseptic', 'Aphasia', 'Blood uric acid increased', 'Visual disturbance', 'Cyanosis', 'Hyperbilirubinaemia', 'Urine output', 'Pleurisy', 'Convulsion', 'Monoplegia', 'Hepatic fibrosis', 'Diabetic', 'Retinal disorder', 'Foetal death', 'Sudden death', 'Proteinuria', 'Nocardiosis', 'Aseptic necrosis', 'Encephalopathy', 'Cytomegalovirus infection', 'Skin hyperpigmentation', 'Chronic obstructive pulmonary disease', 'Chronic liver disease', 'Intestinal perforation', 'Allergic cutaneous angiitis', 'Bacterial infection', 'Neurotoxicity', 'Hypoxemia', 'Hyperuricaemia', 'Ulcerative stomatitis', 'Pulmonary oedema', 'Chronic hepatitis', 'Deep vein thrombosis', 'Abdominal distress', 'Tinnitus', 'Gastrointestinal toxicity', 'Carcinogenicity', 'Obstructive airways disorder', 'Thromboembolic event', 'Lymphoma', 'Coma'}\n",
      "Leflunomide only\n",
      "{'Neck pain', 'Connective tissue disorder', 'Bursitis', 'Hypouricaemia', 'Cough increased', 'Anxiety', 'Gastroenteritis', 'Tendon rupture', 'Constipation', 'Pustular psoriasis', 'Gastritis', 'Dry mouth', 'Palpitations', 'Candida infection', 'Oedema peripheral', 'Autoimmune disorder', 'Congenital anomaly', 'Liver injury', 'Tenosynovitis', 'Influenza', 'Aphthous stomatitis', 'Sleep disorder', 'Sinusitis', 'Vasodilation procedure', 'Endocrine disorder', 'Muscle spasms', 'Oropharyngeal discomfort', 'Blood disorder', 'Arthropathy', 'Vaginal moniliasis', 'Vulvovaginal candidiasis', 'Urine phosphorus increased', 'Migraine', 'Hyperglycaemia', 'Cutaneous lupus erythematosus', 'Cramps of lower extremities', 'Rash maculo-papular', 'Dry skin', 'Amblyopia', 'Traumatic liver injury', 'Hypokalaemia', 'Cardiovascular disorder', 'Hypertension', 'Oesophagitis', 'Hypertensive crisis', 'Hernia', 'Weight decreased', 'Drug abuse', 'Malignant hypertension', 'Arthritis', 'Menstrual disorder', 'Digestion impaired', 'Hepatocellular injury', 'Cholestasis', 'Hair discoloration', 'Juvenile idiopathic arthritis', 'Pelvic pain', 'Hyperthyroidism', 'Tachycardia', 'Salivary gland enlargement', 'Developmental delay', 'Bone pain', 'Iron deficiency anaemia', 'Sperm concentration', 'Vulvovaginal mycotic infection', 'Blood lactate dehydrogenase increased', 'Angioedema', 'Blood pressure increased', 'Neuropathy peripheral', 'Overdose', 'Acne', 'Contusion', 'Hypophosphataemia', 'Oral candidiasis', 'Skin nodule', 'Pallor', 'Oropharyngeal pain', 'Jaundice', 'Urinary tract infection', 'Creatine phosphokinase increased', 'Skin mass', 'Blood creatine phosphokinase increased', 'Rhinitis', 'Colitis', 'Tingling sensation', 'Flatulence', 'Foetor hepaticus', 'Neuralgia', 'Fatal outcomes', 'Tuberculosis', 'Sweating increased', 'Angina pectoris', 'Neuritis', 'Respiratory tract infection', 'Bronchitis', 'Acute yellow liver atrophy', 'Hyperlipidaemia', 'Urine phosphate increased', 'Haematoma', 'Pollakiuria', 'Throat sore', 'Dermatitis contact', 'Vasculitis necrotising', 'Varicose vein', 'Hair colour changes', 'Hepatic enzyme abnormal', 'Vasodilation', 'Fungal skin infection', 'Synovitis', 'Cataract', 'Pre-existing disease', 'Acute overdose', 'Arrhythmia', 'Subcutaneous nodule', 'Albuminuria', 'Tooth disorder', 'Acquired immunodeficiency syndrome', 'Eczema', 'Cramp muscle', 'Lactic dehydrogenase activity increased', 'Immobile', 'Prostatic disorder', 'Cholelithiasis'}\n"
     ]
    }
   ],
   "source": [
    "# What about methotrexate and leflunomide\n",
    "methotrexate_CID = sider_cid_to_drugs_df[sider_cid_to_drugs_df['drug_name'] == 'methotrexate']['CID'].values[0]\n",
    "print(methotrexate_CID)\n",
    "leflunomide_CID = sider_cid_to_drugs_df[sider_cid_to_drugs_df['drug_name'] == 'leflunomide']['CID'].values[0]\n",
    "print(leflunomide_CID)\n",
    "\n",
    "methotrexate_side_effects_flat = set(sider_all_side_effects_df[sider_all_side_effects_df['CID_FLAT'] == methotrexate_CID]['Side_Effect'])\n",
    "leflunomide_side_effects_flat = set(sider_all_side_effects_df[sider_all_side_effects_df['CID_FLAT'] == leflunomide_CID]['Side_Effect'])\n",
    "print(\"Flat Jaccard similarity: \" + str(get_jaccard_similarity(methotrexate_side_effects_flat, leflunomide_side_effects_flat)))\n",
    "ml_intersect = methotrexate_side_effects_flat.intersection(leflunomide_side_effects_flat)\n",
    "print(\"Intersect\")\n",
    "print(ml_intersect)\n",
    "print(\"Length of intersect: \" + str(len(ml_intersect)))\n",
    "print(\"Length of union: \" + str(len(methotrexate_side_effects_flat.union(leflunomide_side_effects_flat))))\n",
    "methotrexate_only = methotrexate_side_effects_flat - ml_intersect\n",
    "print(\"Methotrexate only\")\n",
    "print(methotrexate_only)\n",
    "leflunomide_only = leflunomide_side_effects_flat - ml_intersect\n",
    "print(\"Leflunomide only\")\n",
    "print(leflunomide_only)\n",
    "\n"
   ]
  }
 ],
 "metadata": {
  "kernelspec": {
   "display_name": "env",
   "language": "python",
   "name": "python3"
  },
  "language_info": {
   "codemirror_mode": {
    "name": "ipython",
    "version": 3
   },
   "file_extension": ".py",
   "mimetype": "text/x-python",
   "name": "python",
   "nbconvert_exporter": "python",
   "pygments_lexer": "ipython3",
   "version": "3.8.0"
  }
 },
 "nbformat": 4,
 "nbformat_minor": 2
}
