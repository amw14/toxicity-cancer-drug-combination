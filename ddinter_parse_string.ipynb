{
 "cells": [
  {
   "cell_type": "markdown",
   "metadata": {},
   "source": [
    "Parse STRING database to find shortest distance between drug targets"
   ]
  },
  {
   "cell_type": "markdown",
   "metadata": {},
   "source": [
    "Assume that drugbank has already been used to get the drug target information, which we will then use those UniProt IDs to convert to STRING"
   ]
  },
  {
   "cell_type": "code",
   "execution_count": 4,
   "metadata": {},
   "outputs": [],
   "source": [
    "import pandas as pd\n",
    "import networkx as nx\n",
    "import numpy as np"
   ]
  },
  {
   "cell_type": "code",
   "execution_count": 5,
   "metadata": {},
   "outputs": [],
   "source": [
    "syntoxtarg_df = pd.read_csv('data_processed/syntoxtarg.csv')\n",
    "with open('data_processed/syntoxtarg_UniprotIDs.txt', 'w') as f:\n",
    "    for id in set(syntoxtarg_df['UniProtKB_ID'].values):\n",
    "        f.write(str(id) + '\\n')"
   ]
  },
  {
   "cell_type": "markdown",
   "metadata": {},
   "source": [
    "Used manual mapping tool online at: https://www.uniprot.org/id-mapping/dbe8449f1fd4505ca8d39bad70ff36493e2d4585/overview\n",
    "- 825 UniProtIDs mapped, stored in data_processed/uniprot_id_to_string_mapping_2025_01_24.tsv\n",
    "- 36 UniProtIDs not mapped, stored in data_processed/unmapped_uniprot_ids.txt\n"
   ]
  },
  {
   "cell_type": "code",
   "execution_count": 6,
   "metadata": {},
   "outputs": [
    {
     "name": "stdout",
     "output_type": "stream",
     "text": [
      "GB Prot shape(33, 9)\n",
      "GB Gene shape(35, 9)\n",
      "GA shape(11, 9)\n",
      "HGNC shape(11, 9)\n"
     ]
    }
   ],
   "source": [
    "uniprot_to_string = {}\n",
    "with open('data_processed/uniprot_id_to_string_mapping_2025_01_24.tsv', 'r') as f:\n",
    "    f.readline()\n",
    "    for lines in f:\n",
    "        uniprot_id, string_id = lines.strip('\\n').split('\\t')\n",
    "        uniprot_to_string[uniprot_id] = string_id\n",
    "\n",
    "# update syntoxtarg_df with string ids\n",
    "syntoxtarg_df['STRING_ID'] = syntoxtarg_df['UniProtKB_ID'].map(uniprot_to_string)\n",
    "genbank_protein_nostring_df = syntoxtarg_df[syntoxtarg_df['STRING_ID'].isna() & ~syntoxtarg_df['GenBank_Protein_ID'].isna()]\n",
    "genbank_gene_nostring_df = syntoxtarg_df[syntoxtarg_df['STRING_ID'].isna() & ~syntoxtarg_df['GenBank_Gene_ID'].isna()]\n",
    "genatlas_nostring_df = syntoxtarg_df[syntoxtarg_df['STRING_ID'].isna() & ~syntoxtarg_df['GenAtlas_ID'].isna()]\n",
    "hgnc_nostring_df = syntoxtarg_df[syntoxtarg_df['STRING_ID'].isna() & ~syntoxtarg_df['HGNC_ID'].isna()]\n",
    "\n",
    "# Which one has the most overlap?\n",
    "print(\"GB Prot shape\" + str(genbank_protein_nostring_df.shape))\n",
    "print(\"GB Gene shape\" + str(genbank_gene_nostring_df.shape))\n",
    "print(\"GA shape\" + str(genatlas_nostring_df.shape))\n",
    "print(\"HGNC shape\" + str(hgnc_nostring_df.shape))\n",
    "\n",
    "# GB Gene looks the largets overlap, so let's start with that\n",
    "\n",
    "genebank_gene_ids = genbank_gene_nostring_df['GenBank_Gene_ID'].values\n",
    "with open('data_processed/genebank_leftovers.txt', 'w') as f:\n",
    "    for gb_id in genebank_gene_ids:\n",
    "        f.write(str(gb_id) + '\\n')\n"
   ]
  },
  {
   "cell_type": "markdown",
   "metadata": {},
   "source": [
    "When tried to use the genebank IDs -> uniprot IDs they all overlapped with uniprot IDs that were not present in the string database, so probably just stick with the ones where we do have information"
   ]
  },
  {
   "cell_type": "code",
   "execution_count": null,
   "metadata": {},
   "outputs": [
    {
     "name": "stdout",
     "output_type": "stream",
     "text": [
      "(1477610, 6)\n",
      "(1182858, 3)\n"
     ]
    },
    {
     "data": {
      "text/plain": [
       "591429"
      ]
     },
     "execution_count": 7,
     "metadata": {},
     "output_type": "execute_result"
    }
   ],
   "source": [
    "STRING_G = get_STRING_graph()"
   ]
  },
  {
   "cell_type": "code",
   "execution_count": 8,
   "metadata": {},
   "outputs": [
    {
     "data": {
      "text/html": [
       "<div>\n",
       "<style scoped>\n",
       "    .dataframe tbody tr th:only-of-type {\n",
       "        vertical-align: middle;\n",
       "    }\n",
       "\n",
       "    .dataframe tbody tr th {\n",
       "        vertical-align: top;\n",
       "    }\n",
       "\n",
       "    .dataframe thead th {\n",
       "        text-align: right;\n",
       "    }\n",
       "</style>\n",
       "<table border=\"1\" class=\"dataframe\">\n",
       "  <thead>\n",
       "    <tr style=\"text-align: right;\">\n",
       "      <th></th>\n",
       "      <th>drug_name</th>\n",
       "      <th>target_name</th>\n",
       "      <th>target_DrugBank_ID</th>\n",
       "      <th>GenBank_Protein_ID</th>\n",
       "      <th>GenBank_Gene_ID</th>\n",
       "      <th>UniProtKB_ID</th>\n",
       "      <th>GenAtlas_ID</th>\n",
       "      <th>HGNC_ID</th>\n",
       "      <th>STRING_ID</th>\n",
       "    </tr>\n",
       "  </thead>\n",
       "  <tbody>\n",
       "    <tr>\n",
       "      <th>0</th>\n",
       "      <td>eptifibatide</td>\n",
       "      <td>Integrin beta-3</td>\n",
       "      <td>BE0001155</td>\n",
       "      <td>306786.0</td>\n",
       "      <td>J02703</td>\n",
       "      <td>P05106</td>\n",
       "      <td>ITGB3</td>\n",
       "      <td>HGNC:6156</td>\n",
       "      <td>9606.ENSP00000452786</td>\n",
       "    </tr>\n",
       "    <tr>\n",
       "      <th>1</th>\n",
       "      <td>eptifibatide</td>\n",
       "      <td>Voltage-dependent N-type calcium channel subun...</td>\n",
       "      <td>BE0009351</td>\n",
       "      <td>NaN</td>\n",
       "      <td>NaN</td>\n",
       "      <td>A0A024R8I1</td>\n",
       "      <td>NaN</td>\n",
       "      <td>NaN</td>\n",
       "      <td>NaN</td>\n",
       "    </tr>\n",
       "    <tr>\n",
       "      <th>2</th>\n",
       "      <td>octreotide</td>\n",
       "      <td>NaN</td>\n",
       "      <td>BE0010008</td>\n",
       "      <td>NaN</td>\n",
       "      <td>NaN</td>\n",
       "      <td>NaN</td>\n",
       "      <td>NaN</td>\n",
       "      <td>NaN</td>\n",
       "      <td>NaN</td>\n",
       "    </tr>\n",
       "    <tr>\n",
       "      <th>3</th>\n",
       "      <td>fluvoxamine</td>\n",
       "      <td>Sodium-dependent serotonin transporter</td>\n",
       "      <td>BE0000749</td>\n",
       "      <td>36433.0</td>\n",
       "      <td>X70697</td>\n",
       "      <td>P31645</td>\n",
       "      <td>SLC6A4</td>\n",
       "      <td>HGNC:11050</td>\n",
       "      <td>9606.ENSP00000261707</td>\n",
       "    </tr>\n",
       "    <tr>\n",
       "      <th>4</th>\n",
       "      <td>fluvoxamine</td>\n",
       "      <td>Potassium voltage-gated channel subfamily H me...</td>\n",
       "      <td>BE0000090</td>\n",
       "      <td>487738.0</td>\n",
       "      <td>U04270</td>\n",
       "      <td>Q12809</td>\n",
       "      <td>KCNH2</td>\n",
       "      <td>HGNC:6251</td>\n",
       "      <td>9606.ENSP00000262186</td>\n",
       "    </tr>\n",
       "    <tr>\n",
       "      <th>...</th>\n",
       "      <td>...</td>\n",
       "      <td>...</td>\n",
       "      <td>...</td>\n",
       "      <td>...</td>\n",
       "      <td>...</td>\n",
       "      <td>...</td>\n",
       "      <td>...</td>\n",
       "      <td>...</td>\n",
       "      <td>...</td>\n",
       "    </tr>\n",
       "    <tr>\n",
       "      <th>1859</th>\n",
       "      <td>bendamustine</td>\n",
       "      <td>DNA</td>\n",
       "      <td>NaN</td>\n",
       "      <td>NaN</td>\n",
       "      <td>NaN</td>\n",
       "      <td>NaN</td>\n",
       "      <td>NaN</td>\n",
       "      <td>NaN</td>\n",
       "      <td>NaN</td>\n",
       "    </tr>\n",
       "    <tr>\n",
       "      <th>1860</th>\n",
       "      <td>ivermectin</td>\n",
       "      <td>Glutamate-gated chloride channel subunit beta</td>\n",
       "      <td>BE0027480</td>\n",
       "      <td>NaN</td>\n",
       "      <td>NaN</td>\n",
       "      <td>Q17328</td>\n",
       "      <td>NaN</td>\n",
       "      <td>NaN</td>\n",
       "      <td>6239.F25F8.2.1</td>\n",
       "    </tr>\n",
       "    <tr>\n",
       "      <th>1861</th>\n",
       "      <td>ivermectin</td>\n",
       "      <td>Glutamate-gated chloride channel alpha</td>\n",
       "      <td>BE0027481</td>\n",
       "      <td>NaN</td>\n",
       "      <td>NaN</td>\n",
       "      <td>G5EBR3</td>\n",
       "      <td>NaN</td>\n",
       "      <td>NaN</td>\n",
       "      <td>6239.F11A5.10.2</td>\n",
       "    </tr>\n",
       "    <tr>\n",
       "      <th>1862</th>\n",
       "      <td>artemether</td>\n",
       "      <td>Sodium/potassium-transporting ATPase subunit a...</td>\n",
       "      <td>BE0000732</td>\n",
       "      <td>219942.0</td>\n",
       "      <td>D00099</td>\n",
       "      <td>P05023</td>\n",
       "      <td>ATP1A1</td>\n",
       "      <td>HGNC:799</td>\n",
       "      <td>9606.ENSP00000445306</td>\n",
       "    </tr>\n",
       "    <tr>\n",
       "      <th>1863</th>\n",
       "      <td>lumefantrine</td>\n",
       "      <td>Sodium/potassium-transporting ATPase subunit a...</td>\n",
       "      <td>BE0000732</td>\n",
       "      <td>219942.0</td>\n",
       "      <td>D00099</td>\n",
       "      <td>P05023</td>\n",
       "      <td>ATP1A1</td>\n",
       "      <td>HGNC:799</td>\n",
       "      <td>9606.ENSP00000445306</td>\n",
       "    </tr>\n",
       "  </tbody>\n",
       "</table>\n",
       "<p>1864 rows × 9 columns</p>\n",
       "</div>"
      ],
      "text/plain": [
       "         drug_name                                        target_name  \\\n",
       "0     eptifibatide                                    Integrin beta-3   \n",
       "1     eptifibatide  Voltage-dependent N-type calcium channel subun...   \n",
       "2       octreotide                                                NaN   \n",
       "3      fluvoxamine             Sodium-dependent serotonin transporter   \n",
       "4      fluvoxamine  Potassium voltage-gated channel subfamily H me...   \n",
       "...            ...                                                ...   \n",
       "1859  bendamustine                                                DNA   \n",
       "1860    ivermectin      Glutamate-gated chloride channel subunit beta   \n",
       "1861    ivermectin             Glutamate-gated chloride channel alpha   \n",
       "1862    artemether  Sodium/potassium-transporting ATPase subunit a...   \n",
       "1863  lumefantrine  Sodium/potassium-transporting ATPase subunit a...   \n",
       "\n",
       "     target_DrugBank_ID  GenBank_Protein_ID GenBank_Gene_ID UniProtKB_ID  \\\n",
       "0             BE0001155            306786.0          J02703       P05106   \n",
       "1             BE0009351                 NaN             NaN   A0A024R8I1   \n",
       "2             BE0010008                 NaN             NaN          NaN   \n",
       "3             BE0000749             36433.0          X70697       P31645   \n",
       "4             BE0000090            487738.0          U04270       Q12809   \n",
       "...                 ...                 ...             ...          ...   \n",
       "1859                NaN                 NaN             NaN          NaN   \n",
       "1860          BE0027480                 NaN             NaN       Q17328   \n",
       "1861          BE0027481                 NaN             NaN       G5EBR3   \n",
       "1862          BE0000732            219942.0          D00099       P05023   \n",
       "1863          BE0000732            219942.0          D00099       P05023   \n",
       "\n",
       "     GenAtlas_ID     HGNC_ID             STRING_ID  \n",
       "0          ITGB3   HGNC:6156  9606.ENSP00000452786  \n",
       "1            NaN         NaN                   NaN  \n",
       "2            NaN         NaN                   NaN  \n",
       "3         SLC6A4  HGNC:11050  9606.ENSP00000261707  \n",
       "4          KCNH2   HGNC:6251  9606.ENSP00000262186  \n",
       "...          ...         ...                   ...  \n",
       "1859         NaN         NaN                   NaN  \n",
       "1860         NaN         NaN        6239.F25F8.2.1  \n",
       "1861         NaN         NaN       6239.F11A5.10.2  \n",
       "1862      ATP1A1    HGNC:799  9606.ENSP00000445306  \n",
       "1863      ATP1A1    HGNC:799  9606.ENSP00000445306  \n",
       "\n",
       "[1864 rows x 9 columns]"
      ]
     },
     "execution_count": 8,
     "metadata": {},
     "output_type": "execute_result"
    }
   ],
   "source": [
    "syntoxtarg_df"
   ]
  },
  {
   "cell_type": "code",
   "execution_count": 9,
   "metadata": {},
   "outputs": [
    {
     "name": "stdout",
     "output_type": "stream",
     "text": [
      "Shortest path distance for 9606.ENSP00000480012 and 9606.ENSP00000355904 = 3\n",
      "Shortest path distance for 9606.ENSP00000480012 and 9606.ENSP00000363822 = 3\n",
      "Shortest path distance for 9606.ENSP00000480012 and 9606.ENSP00000336528 = 3\n",
      "Shortest path distance for 9606.ENSP00000480012 and 9606.ENSP00000262186 = 3\n",
      "Shortest path distance for 9606.ENSP00000480012 and 9606.ENSP00000369816 = 2\n",
      "Shortest path distance for 9606.ENSP00000480012 and 9606.ENSP00000408695 = 2\n",
      "Shortest path distance for 9606.ENSP00000480012 and 9606.ENSP00000405330 = 2\n",
      "Shortest path distance for 9606.ENSP00000480012 and 9606.ENSP00000343925 = 2\n",
      "Shortest path distance for 9606.ENSP00000480012 and 9606.ENSP00000417052 = 2\n",
      "Shortest path distance for 9606.ENSP00000480012 and 9606.ENSP00000378974 = 3\n",
      "Running target is: 25.0\n",
      "running count is 10.0\n",
      "2.5\n",
      "2\n",
      "drug_row             mefloquine\n",
      "drug_col              tamoxifen\n",
      "cell_line_name            TC-32\n",
      "synergy_zip           19.667559\n",
      "synergy_loewe          2.263512\n",
      "synergy_bliss         25.542924\n",
      "synergy_hsa            2.896978\n",
      "toxicity_category      Moderate\n",
      "Name: 0, dtype: object\n"
     ]
    }
   ],
   "source": [
    "# get combos\n",
    "drug_combos_df = pd.read_csv('data_processed/filtered_combos_syntox_known_targallpw.csv')\n",
    "not_printed_first = True\n",
    "\n",
    "for index, row in drug_combos_df.iterrows():\n",
    "    drugA = row['drug_row']\n",
    "    drugB = row['drug_col']\n",
    "    A_targets = set(syntoxtarg_df[syntoxtarg_df['drug_name'] == drugA]['STRING_ID'].dropna().values)\n",
    "    B_targets = set(syntoxtarg_df[syntoxtarg_df['drug_name'] == drugB]['STRING_ID'].dropna().values)\n",
    "    min_shortest_path_dist = None\n",
    "    avg_shortest_path_dist = None\n",
    "    if len(A_targets) > 0 and len(B_targets) > 0:\n",
    "        running_target_count = 0.0\n",
    "        running_target_total = 0.0\n",
    "        for targA in A_targets:\n",
    "             for targB in B_targets:\n",
    "                  if targA in STRING_G and targB in STRING_G and targA != targB:\n",
    "                    splen = nx.shortest_path_length(STRING_G, source=targA, target=targB)\n",
    "                    if min_shortest_path_dist:\n",
    "                        min_shortest_path_dist = min(min_shortest_path_dist, splen)\n",
    "                    else:\n",
    "                        min_shortest_path_dist = splen\n",
    "                    running_target_count += 1\n",
    "                    running_target_total += splen\n",
    "                    if not_printed_first:\n",
    "                        print('Shortest path distance for ' + str(targA) + ' and ' + str(targB) + ' = ' + str(splen))\n",
    "        if running_target_count != 0:\n",
    "            avg_shortest_path_dist = running_target_total / running_target_count\n",
    "            if not_printed_first:\n",
    "                print(\"Running target is: \" + str(running_target_total))\n",
    "                print(\"running count is \" + str(running_target_count))\n",
    "    if not_printed_first:\n",
    "        print(avg_shortest_path_dist)\n",
    "        print(min_shortest_path_dist)\n",
    "        print(drug_combos_df.loc[index])\n",
    "        not_printed_first = False\n",
    "    drug_combos_df.at[index, 'avg_short_path_btwn_targets'] = avg_shortest_path_dist\n",
    "    drug_combos_df.at[index, 'min_short_path_btwn_targets'] = min_shortest_path_dist\n",
    "   \n",
    "\n",
    "# Save the dataframe\n",
    "\n",
    "drug_combos_df.to_csv('data_processed/processed_combos_syntoxtargallpw_string.csv', index=False)\n"
   ]
  },
  {
   "cell_type": "code",
   "execution_count": 10,
   "metadata": {},
   "outputs": [
    {
     "name": "stdout",
     "output_type": "stream",
     "text": [
      "31693\n",
      "31693\n"
     ]
    }
   ],
   "source": [
    "# How many combinations actually have the shortest path distance?\n",
    "print(len(drug_combos_df['avg_short_path_btwn_targets'].dropna().values))\n",
    "print(len(drug_combos_df['min_short_path_btwn_targets'].dropna().values))"
   ]
  },
  {
   "cell_type": "code",
   "execution_count": 16,
   "metadata": {},
   "outputs": [
    {
     "name": "stdout",
     "output_type": "stream",
     "text": [
      "0\n",
      "5.0\n",
      "5.0\n",
      "1.0\n",
      "1.0\n",
      "6091\n",
      "25092\n",
      "876\n"
     ]
    }
   ],
   "source": [
    "# Verify that the shortest path distance between the same target is 0\n",
    "test_A = '9606.ENSP00000480012'\n",
    "test_B = '9606.ENSP00000480012'\n",
    "print(nx.shortest_path_length(STRING_G, source=test_A, target=test_B))\n",
    "\n",
    "# What's the max shortest path distance in drug_combos_df?\n",
    "print(drug_combos_df['avg_short_path_btwn_targets'].max())\n",
    "print(drug_combos_df['min_short_path_btwn_targets'].max())\n",
    "\n",
    "# What's the min shortest path distance in drug_combos_df?\n",
    "print(drug_combos_df['avg_short_path_btwn_targets'].min())\n",
    "print(drug_combos_df['min_short_path_btwn_targets'].min())\n",
    "\n",
    "# How many values of \"Major\" in 'toxicity_category'?\n",
    "print(len(drug_combos_df[drug_combos_df['toxicity_category'] == 'Major']))\n",
    "print(len(drug_combos_df[drug_combos_df['toxicity_category'] == 'Moderate']))\n",
    "print(len(drug_combos_df[drug_combos_df['toxicity_category'] == 'Minor']))"
   ]
  }
 ],
 "metadata": {
  "kernelspec": {
   "display_name": "env",
   "language": "python",
   "name": "python3"
  },
  "language_info": {
   "codemirror_mode": {
    "name": "ipython",
    "version": 3
   },
   "file_extension": ".py",
   "mimetype": "text/x-python",
   "name": "python",
   "nbconvert_exporter": "python",
   "pygments_lexer": "ipython3",
   "version": "3.8.0"
  }
 },
 "nbformat": 4,
 "nbformat_minor": 2
}
