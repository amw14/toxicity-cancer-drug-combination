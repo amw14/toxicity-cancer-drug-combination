{
 "cells": [
  {
   "cell_type": "markdown",
   "metadata": {},
   "source": [
    "# File for looking at simplistic target distance #\n",
    "\n",
    "- using the data_processed/processed_combos_syntoxtargallpw_string.csv\n",
    "- compare distributions of toxicity categories based on average string target distance"
   ]
  },
  {
   "cell_type": "code",
   "execution_count": 13,
   "metadata": {},
   "outputs": [],
   "source": [
    "# Import everything needed\n",
    "from matplotlib.patches import Patch\n",
    "from scipy import stats\n",
    "from statsmodels.stats.multitest import multipletests\n",
    "from toxicity_ranking import *\n",
    "import numpy as np\n",
    "import pandas as pd\n",
    "import matplotlib.pyplot as plt\n",
    "import scikit_posthocs as sp\n",
    "import seaborn as sns"
   ]
  },
  {
   "cell_type": "code",
   "execution_count": 14,
   "metadata": {},
   "outputs": [
    {
     "data": {
      "text/html": [
       "<div>\n",
       "<style scoped>\n",
       "    .dataframe tbody tr th:only-of-type {\n",
       "        vertical-align: middle;\n",
       "    }\n",
       "\n",
       "    .dataframe tbody tr th {\n",
       "        vertical-align: top;\n",
       "    }\n",
       "\n",
       "    .dataframe thead th {\n",
       "        text-align: right;\n",
       "    }\n",
       "</style>\n",
       "<table border=\"1\" class=\"dataframe\">\n",
       "  <thead>\n",
       "    <tr style=\"text-align: right;\">\n",
       "      <th></th>\n",
       "      <th>drug_row</th>\n",
       "      <th>drug_col</th>\n",
       "      <th>cell_line_name</th>\n",
       "      <th>synergy_zip</th>\n",
       "      <th>synergy_loewe</th>\n",
       "      <th>synergy_bliss</th>\n",
       "      <th>synergy_hsa</th>\n",
       "      <th>toxicity_category</th>\n",
       "      <th>avg_short_path_btwn_targets</th>\n",
       "      <th>min_short_path_btwn_targets</th>\n",
       "    </tr>\n",
       "  </thead>\n",
       "  <tbody>\n",
       "    <tr>\n",
       "      <th>0</th>\n",
       "      <td>mefloquine</td>\n",
       "      <td>tamoxifen</td>\n",
       "      <td>TC-32</td>\n",
       "      <td>19.667559</td>\n",
       "      <td>2.263512</td>\n",
       "      <td>25.542924</td>\n",
       "      <td>2.896978</td>\n",
       "      <td>Moderate</td>\n",
       "      <td>2.500000</td>\n",
       "      <td>2.0</td>\n",
       "    </tr>\n",
       "    <tr>\n",
       "      <th>1</th>\n",
       "      <td>chloroquine</td>\n",
       "      <td>tamoxifen</td>\n",
       "      <td>TC-32</td>\n",
       "      <td>8.836970</td>\n",
       "      <td>-0.671750</td>\n",
       "      <td>11.944238</td>\n",
       "      <td>-0.517536</td>\n",
       "      <td>Major</td>\n",
       "      <td>2.466667</td>\n",
       "      <td>1.0</td>\n",
       "    </tr>\n",
       "    <tr>\n",
       "      <th>2</th>\n",
       "      <td>prochlorperazine</td>\n",
       "      <td>tamoxifen</td>\n",
       "      <td>TC-32</td>\n",
       "      <td>12.411371</td>\n",
       "      <td>1.358891</td>\n",
       "      <td>14.291624</td>\n",
       "      <td>0.880952</td>\n",
       "      <td>Moderate</td>\n",
       "      <td>2.525000</td>\n",
       "      <td>2.0</td>\n",
       "    </tr>\n",
       "    <tr>\n",
       "      <th>3</th>\n",
       "      <td>fingolimod</td>\n",
       "      <td>tamoxifen</td>\n",
       "      <td>TC-32</td>\n",
       "      <td>8.007900</td>\n",
       "      <td>-0.764699</td>\n",
       "      <td>5.141360</td>\n",
       "      <td>-0.060902</td>\n",
       "      <td>Major</td>\n",
       "      <td>2.540000</td>\n",
       "      <td>1.0</td>\n",
       "    </tr>\n",
       "    <tr>\n",
       "      <th>4</th>\n",
       "      <td>dasatinib</td>\n",
       "      <td>tamoxifen</td>\n",
       "      <td>TC-32</td>\n",
       "      <td>-9.601561</td>\n",
       "      <td>0.314544</td>\n",
       "      <td>-5.351887</td>\n",
       "      <td>0.710809</td>\n",
       "      <td>Moderate</td>\n",
       "      <td>2.117391</td>\n",
       "      <td>1.0</td>\n",
       "    </tr>\n",
       "    <tr>\n",
       "      <th>...</th>\n",
       "      <td>...</td>\n",
       "      <td>...</td>\n",
       "      <td>...</td>\n",
       "      <td>...</td>\n",
       "      <td>...</td>\n",
       "      <td>...</td>\n",
       "      <td>...</td>\n",
       "      <td>...</td>\n",
       "      <td>...</td>\n",
       "      <td>...</td>\n",
       "    </tr>\n",
       "    <tr>\n",
       "      <th>32054</th>\n",
       "      <td>sunitinib</td>\n",
       "      <td>nilutamide</td>\n",
       "      <td>CBRC058</td>\n",
       "      <td>10.012172</td>\n",
       "      <td>7.477252</td>\n",
       "      <td>-6.487555</td>\n",
       "      <td>-8.811142</td>\n",
       "      <td>Moderate</td>\n",
       "      <td>2.000000</td>\n",
       "      <td>2.0</td>\n",
       "    </tr>\n",
       "    <tr>\n",
       "      <th>32055</th>\n",
       "      <td>sunitinib</td>\n",
       "      <td>midostaurin</td>\n",
       "      <td>CBRC058</td>\n",
       "      <td>-15.618223</td>\n",
       "      <td>-46.106561</td>\n",
       "      <td>-80.053050</td>\n",
       "      <td>-73.693958</td>\n",
       "      <td>Moderate</td>\n",
       "      <td>1.775510</td>\n",
       "      <td>1.0</td>\n",
       "    </tr>\n",
       "    <tr>\n",
       "      <th>32056</th>\n",
       "      <td>vincristine</td>\n",
       "      <td>midostaurin</td>\n",
       "      <td>CBRC058</td>\n",
       "      <td>10.768074</td>\n",
       "      <td>5.982307</td>\n",
       "      <td>8.609542</td>\n",
       "      <td>3.406801</td>\n",
       "      <td>Moderate</td>\n",
       "      <td>2.083333</td>\n",
       "      <td>2.0</td>\n",
       "    </tr>\n",
       "    <tr>\n",
       "      <th>32057</th>\n",
       "      <td>ceritinib</td>\n",
       "      <td>ponatinib</td>\n",
       "      <td>RD</td>\n",
       "      <td>11.951861</td>\n",
       "      <td>-2.135860</td>\n",
       "      <td>11.637520</td>\n",
       "      <td>-1.042661</td>\n",
       "      <td>Major</td>\n",
       "      <td>1.800000</td>\n",
       "      <td>1.0</td>\n",
       "    </tr>\n",
       "    <tr>\n",
       "      <th>32058</th>\n",
       "      <td>ceritinib</td>\n",
       "      <td>ponatinib</td>\n",
       "      <td>SMS-CTR</td>\n",
       "      <td>10.579808</td>\n",
       "      <td>4.594658</td>\n",
       "      <td>12.301746</td>\n",
       "      <td>4.706363</td>\n",
       "      <td>Major</td>\n",
       "      <td>1.800000</td>\n",
       "      <td>1.0</td>\n",
       "    </tr>\n",
       "  </tbody>\n",
       "</table>\n",
       "<p>32059 rows × 10 columns</p>\n",
       "</div>"
      ],
      "text/plain": [
       "               drug_row     drug_col cell_line_name  synergy_zip  \\\n",
       "0            mefloquine    tamoxifen          TC-32    19.667559   \n",
       "1           chloroquine    tamoxifen          TC-32     8.836970   \n",
       "2      prochlorperazine    tamoxifen          TC-32    12.411371   \n",
       "3            fingolimod    tamoxifen          TC-32     8.007900   \n",
       "4             dasatinib    tamoxifen          TC-32    -9.601561   \n",
       "...                 ...          ...            ...          ...   \n",
       "32054         sunitinib   nilutamide        CBRC058    10.012172   \n",
       "32055         sunitinib  midostaurin        CBRC058   -15.618223   \n",
       "32056       vincristine  midostaurin        CBRC058    10.768074   \n",
       "32057         ceritinib    ponatinib             RD    11.951861   \n",
       "32058         ceritinib    ponatinib        SMS-CTR    10.579808   \n",
       "\n",
       "       synergy_loewe  synergy_bliss  synergy_hsa toxicity_category  \\\n",
       "0           2.263512      25.542924     2.896978          Moderate   \n",
       "1          -0.671750      11.944238    -0.517536             Major   \n",
       "2           1.358891      14.291624     0.880952          Moderate   \n",
       "3          -0.764699       5.141360    -0.060902             Major   \n",
       "4           0.314544      -5.351887     0.710809          Moderate   \n",
       "...              ...            ...          ...               ...   \n",
       "32054       7.477252      -6.487555    -8.811142          Moderate   \n",
       "32055     -46.106561     -80.053050   -73.693958          Moderate   \n",
       "32056       5.982307       8.609542     3.406801          Moderate   \n",
       "32057      -2.135860      11.637520    -1.042661             Major   \n",
       "32058       4.594658      12.301746     4.706363             Major   \n",
       "\n",
       "       avg_short_path_btwn_targets  min_short_path_btwn_targets  \n",
       "0                         2.500000                          2.0  \n",
       "1                         2.466667                          1.0  \n",
       "2                         2.525000                          2.0  \n",
       "3                         2.540000                          1.0  \n",
       "4                         2.117391                          1.0  \n",
       "...                            ...                          ...  \n",
       "32054                     2.000000                          2.0  \n",
       "32055                     1.775510                          1.0  \n",
       "32056                     2.083333                          2.0  \n",
       "32057                     1.800000                          1.0  \n",
       "32058                     1.800000                          1.0  \n",
       "\n",
       "[32059 rows x 10 columns]"
      ]
     },
     "execution_count": 14,
     "metadata": {},
     "output_type": "execute_result"
    }
   ],
   "source": [
    "drug_syntox_df = pd.read_csv('data_processed/processed_combos_syntoxtargallpw_string.csv')\n",
    "drug_syntox_df"
   ]
  },
  {
   "cell_type": "code",
   "execution_count": 15,
   "metadata": {},
   "outputs": [
    {
     "data": {
      "text/plain": [
       "(array([1.9500e+02, 4.0000e+00, 2.0060e+03, 2.2790e+03, 3.4310e+03,\n",
       "        1.2618e+04, 4.5670e+03, 2.5660e+03, 1.7180e+03, 7.6900e+02,\n",
       "        1.4400e+03, 4.2000e+01, 1.5000e+01, 1.0000e+00, 0.0000e+00,\n",
       "        2.8000e+01, 6.0000e+00, 3.0000e+00, 1.0000e+00, 4.0000e+00]),\n",
       " array([1. , 1.2, 1.4, 1.6, 1.8, 2. , 2.2, 2.4, 2.6, 2.8, 3. , 3.2, 3.4,\n",
       "        3.6, 3.8, 4. , 4.2, 4.4, 4.6, 4.8, 5. ]),\n",
       " <BarContainer object of 20 artists>)"
      ]
     },
     "execution_count": 15,
     "metadata": {},
     "output_type": "execute_result"
    },
    {
     "data": {
      "image/png": "[encoded data removed]",
      "text/plain": [
       "<Figure size 640x480 with 1 Axes>"
      ]
     },
     "metadata": {},
     "output_type": "display_data"
    }
   ],
   "source": [
    "# Look at histogram of target target distances\n",
    "plt.hist(drug_syntox_df['avg_short_path_btwn_targets'], bins=20)"
   ]
  },
  {
   "cell_type": "code",
   "execution_count": 16,
   "metadata": {},
   "outputs": [
    {
     "data": {
      "text/plain": [
       "(array([1.3402e+04, 0.0000e+00, 0.0000e+00, 0.0000e+00, 0.0000e+00,\n",
       "        1.6840e+04, 0.0000e+00, 0.0000e+00, 0.0000e+00, 0.0000e+00,\n",
       "        1.4140e+03, 0.0000e+00, 0.0000e+00, 0.0000e+00, 0.0000e+00,\n",
       "        3.3000e+01, 0.0000e+00, 0.0000e+00, 0.0000e+00, 4.0000e+00]),\n",
       " array([1. , 1.2, 1.4, 1.6, 1.8, 2. , 2.2, 2.4, 2.6, 2.8, 3. , 3.2, 3.4,\n",
       "        3.6, 3.8, 4. , 4.2, 4.4, 4.6, 4.8, 5. ]),\n",
       " <BarContainer object of 20 artists>)"
      ]
     },
     "execution_count": 16,
     "metadata": {},
     "output_type": "execute_result"
    },
    {
     "data": {
      "image/png": "[encoded data removed]",
      "text/plain": [
       "<Figure size 640x480 with 1 Axes>"
      ]
     },
     "metadata": {},
     "output_type": "display_data"
    }
   ],
   "source": [
    "# Look at histogram of pathway target distances\n",
    "plt.hist(drug_syntox_df['min_short_path_btwn_targets'], bins=20)"
   ]
  },
  {
   "cell_type": "markdown",
   "metadata": {},
   "source": [
    "Then break down the dataset in different ways and see if there are any correlations. None of these target distances are a normal distribution, so probably look at using a Kruskal Wallis test:\n",
    "1. Break down by Major, Moderate, Minor toxicity, is there any difference in Jaccard similarity by these groups?"
   ]
  },
  {
   "cell_type": "code",
   "execution_count": 25,
   "metadata": {},
   "outputs": [
    {
     "name": "stdout",
     "output_type": "stream",
     "text": [
      "Major avg target distance: 6016\n",
      "Moderate avg target distance: 24846\n",
      "Minor avg target distance: 831\n",
      "Kruskal-Wallis H statistic for avg target distance: 298.2652844464412\n",
      "P-value for avg target distance: 1.7081122637416406e-65\n",
      "Dunn post-hoc test for avg target distance:                 Major         Minor      Moderate\n",
      "Major     1.000000e+00  1.506407e-49  4.236907e-38\n",
      "Minor     1.506407e-49  1.000000e+00  1.819917e-24\n",
      "Moderate  4.236907e-38  1.819917e-24  1.000000e+00\n",
      "Increasing toxicity for avg target distance p value: 0.000e+00\n",
      "Decreasing toxicity for avg target distance p value: 1.000e+00\n",
      "ANOVA F-statistic for avg target distance: 115.85199454012738\n",
      "P-value for avg target distance: 7.398835352912383e-51\n",
      "Major/Minor T-test: 2.8951775244722522e-34 Corrected: 8.685532573416756e-34\n",
      "Major/Moderate T-test: 6.143765938375886e-33 Corrected: 1.843129781512766e-32\n",
      "Moderate/Minor T-test: 1.768197808060669e-17 Corrected: 5.3045934241820064e-17\n"
     ]
    }
   ],
   "source": [
    "# Run Kruskal Wallis test on average drug target distances with Major, Moderate, and Minor toxicity\n",
    "\n",
    "# Average target distance\n",
    "major_target = drug_syntox_df[drug_syntox_df['toxicity_category'] == 'Major']['avg_short_path_btwn_targets'].dropna()\n",
    "moderate_target = drug_syntox_df[drug_syntox_df['toxicity_category'] == 'Moderate']['avg_short_path_btwn_targets'].dropna()\n",
    "minor_target = drug_syntox_df[drug_syntox_df['toxicity_category'] == 'Minor']['avg_short_path_btwn_targets'].dropna()\n",
    "print(f'Major avg target distance: {len(major_target)}')\n",
    "print(f'Moderate avg target distance: {len(moderate_target)}')\n",
    "print(f'Minor avg target distance: {len(minor_target)}')\n",
    "\n",
    "h_statistic_target_tox, p_value_target_tox = stats.kruskal(major_target, moderate_target, minor_target)\n",
    "print(f'Kruskal-Wallis H statistic for avg target distance: {h_statistic_target_tox}')\n",
    "print(f'P-value for avg target distance: {p_value_target_tox}')\n",
    "\n",
    "# Filter drug_syntox_df for only Major, Moderate, and Minor toxicity categories and remove pairs with average target distances of None\n",
    "drug_syntox_df_tox_target = drug_syntox_df[drug_syntox_df['toxicity_category'].isin(['Major', 'Moderate', 'Minor'])]\n",
    "drug_syntox_df_tox_target = drug_syntox_df_tox_target[~drug_syntox_df_tox_target['avg_short_path_btwn_targets'].isnull()]\n",
    "dunn_target_tox = sp.posthoc_dunn(drug_syntox_df_tox_target, val_col='avg_short_path_btwn_targets', group_col='toxicity_category', p_adjust='bonferroni')\n",
    "print('Dunn post-hoc test for avg target distance:' + str(dunn_target_tox))\n",
    "\n",
    "# jonkcheere terpestra test -- is there a trend in the average target distance as you increase toxicity from minor to major?\n",
    "atdist_major_samples = major_target.values.tolist()\n",
    "atdist_moderate_samples = moderate_target.values.tolist()\n",
    "atdist_minor_samples = minor_target.values.tolist()\n",
    "jt_incr_target = jonckheere_terpestra_test([atdist_minor_samples, atdist_moderate_samples, atdist_major_samples])\n",
    "print(f\"Increasing toxicity for avg target distance p value: {jt_incr_target[1]:0.3e}\")\n",
    "jt_decr_target = jonckheere_terpestra_test([atdist_major_samples, atdist_moderate_samples, atdist_minor_samples])\n",
    "print(f\"Decreasing toxicity for avg target distance p value: {jt_decr_target[1]:0.3e}\")\n",
    "\n",
    "# Run an ANOVA on average drug target distances for Major, Moderate, and Minor toxicity categories\n",
    "f_statistic_anova_target_tox, p_value_anova_target_tox = stats.f_oneway(major_target, moderate_target, minor_target)\n",
    "print(f'ANOVA F-statistic for avg target distance: {f_statistic_anova_target_tox}')\n",
    "print(f'P-value for avg target distance: {p_value_anova_target_tox}')\n",
    "\n",
    "# Run a T test on average drug target distances between Major/Minor, Major/Moderate, and Moderate/Minor toxicity categories\n",
    "major_minor_target = stats.ttest_ind(major_target, minor_target)\n",
    "major_moderate_target = stats.ttest_ind(major_target, moderate_target)\n",
    "moderate_minor_target = stats.ttest_ind(moderate_target, minor_target)\n",
    "\n",
    "# Run bonferroni correction on the p-values\n",
    "ttest_p_values = [major_minor_target[1], major_moderate_target[1], moderate_minor_target[1]]\n",
    "ttest_p_values_corrected = multipletests(ttest_p_values, method='bonferroni')\n",
    "print(f'Major/Minor T-test: {major_minor_target[1]} Corrected: {ttest_p_values_corrected[1][0]}')\n",
    "print(f'Major/Moderate T-test: {major_moderate_target[1]} Corrected: {ttest_p_values_corrected[1][1]}')\n",
    "print(f'Moderate/Minor T-test: {moderate_minor_target[1]} Corrected: {ttest_p_values_corrected[1][2]}')\n",
    "\n",
    "with open('results/avg_targ_distance_analysis/avg_targ_distance_tox_ddinter.tsv', 'w') as f:\n",
    "    f.write('Level\\tTest\\tTest statistic\\tP-value\\n')\n",
    "    f.write(f'Target\\tKruskal-Wallis\\t{h_statistic_target_tox}\\t{p_value_target_tox}\\n')\n",
    "    f.write(f'Target\\tDunn post-hoc\\tMajor/Minor\\t{dunn_target_tox.iloc[0, 1]}\\n')\n",
    "    f.write(f'Target\\tDunn post-hoc\\tMajor/Moderate\\t{dunn_target_tox.iloc[0, 2]}\\n')\n",
    "    f.write(f'Target\\tDunn post-hoc\\tModerate/Minor\\t{dunn_target_tox.iloc[1, 2]}\\n')\n",
    "    f.write(f'Target\\tJonckheere-Terpstra Increasing toxicity\\t{jt_incr_target[0]}\\t{jt_incr_target[1]:0.3e}\\n')\n",
    "    f.write(f'Target\\tJonckheere-Terpstra Decreasing toxicity\\t{jt_decr_target[0]}\\t{jt_decr_target[1]:0.3e}\\n')\n",
    "    f.write(f'Target\\tANOVA\\t{f_statistic_anova_target_tox}\\t{p_value_anova_target_tox}\\n')\n",
    "    f.write(f'Target\\tT-test (bonf cor)\\tMajor/Minor\\t{ttest_p_values_corrected[1][0]}\\n')\n",
    "    f.write(f'Target\\tT-test (bonf cor)\\tMajor/Moderate\\t{ttest_p_values_corrected[1][1]}\\n')\n",
    "    f.write(f'Target\\tT-test (bonf cor)\\tModerate/Minor\\t{ttest_p_values_corrected[1][2]}\\n')\n",
    "\n",
    "\n"
   ]
  },
  {
   "cell_type": "markdown",
   "metadata": {},
   "source": [
    "2. Could try to do a continuous correlation between synergy scores and average target distance distributions between these groups\n",
    "    1. Do for Bliss, HSA, ZIP, Loewe synergy scores"
   ]
  },
  {
   "cell_type": "code",
   "execution_count": 18,
   "metadata": {},
   "outputs": [
    {
     "name": "stdout",
     "output_type": "stream",
     "text": [
      "Pearson correlation coefficient between Average Target Distance and bliss synergy score: -0.08043113922619997\n",
      "Spearman correlation coefficient between Average Target Distance and bliss synergy score: -0.04835188981440892\n"
     ]
    }
   ],
   "source": [
    "# Let's plot target distances against bliss synergy scores\n",
    "plt.scatter(drug_syntox_df['avg_short_path_btwn_targets'], drug_syntox_df['synergy_bliss'])\n",
    "plt.xlabel('Drug Combination Average Target Distance')\n",
    "plt.ylabel('Bliss Synergy Score')\n",
    "plt.tight_layout()\n",
    "plt.savefig('results/avg_targ_distance_analysis/bliss_v_avgtargdist_ddinter_scatter.png', dpi=700)\n",
    "plt.close()\n",
    "\n",
    "# Calculate Pearson correlation coefficient between Average Target Distance and bliss synergy score\n",
    "avg_targ_dist_bliss_corr = drug_syntox_df['avg_short_path_btwn_targets'].corr(drug_syntox_df['synergy_bliss'])\n",
    "print(f'Pearson correlation coefficient between Average Target Distance and bliss synergy score: {avg_targ_dist_bliss_corr}')\n",
    "\n",
    "# Calculate Spearman correlation coefficient between Average Target Distance and bliss synergy score\n",
    "avg_targ_dist_bliss_spearman_corr = drug_syntox_df['avg_short_path_btwn_targets'].corr(drug_syntox_df['synergy_bliss'], method='spearman')\n",
    "print(f'Spearman correlation coefficient between Average Target Distance and bliss synergy score: {avg_targ_dist_bliss_spearman_corr}')\n"
   ]
  },
  {
   "cell_type": "code",
   "execution_count": 19,
   "metadata": {},
   "outputs": [
    {
     "name": "stdout",
     "output_type": "stream",
     "text": [
      "Pearson correlation coefficient between Average Target Distance and HSA synergy score: -0.026153716283834307\n",
      "Spearman correlation coefficient between Average Target Distance and HSA synergy score: -0.05294504696198118\n"
     ]
    }
   ],
   "source": [
    "# Let's plot target distances against HSA synergy scores\n",
    "plt.scatter(drug_syntox_df['avg_short_path_btwn_targets'], drug_syntox_df['synergy_hsa'])\n",
    "plt.xlabel('Drug Combination Average Target Distance')\n",
    "plt.ylabel('HSA Synergy Score')\n",
    "plt.tight_layout()\n",
    "plt.savefig('results/avg_targ_distance_analysis/hsa_v_avgtargdist_ddinter_scatter.png', dpi=700)\n",
    "plt.close()\n",
    "\n",
    "# Calculate Pearson correlation coefficient between Average Target Distance and HSA synergy score\n",
    "avg_targ_dist_hsa_corr = drug_syntox_df['avg_short_path_btwn_targets'].corr(drug_syntox_df['synergy_hsa'])\n",
    "print(f'Pearson correlation coefficient between Average Target Distance and HSA synergy score: {avg_targ_dist_hsa_corr}')\n",
    "\n",
    "# Calculate Spearman correlation coefficient between Average Target Distance and HSA synergy score\n",
    "avg_targ_dist_hsa_spearman_corr = drug_syntox_df['avg_short_path_btwn_targets'].corr(drug_syntox_df['synergy_hsa'], method='spearman')\n",
    "print(f'Spearman correlation coefficient between Average Target Distance and HSA synergy score: {avg_targ_dist_hsa_spearman_corr}')"
   ]
  },
  {
   "cell_type": "code",
   "execution_count": 20,
   "metadata": {},
   "outputs": [
    {
     "name": "stdout",
     "output_type": "stream",
     "text": [
      "Pearson correlation coefficient between Average Target Distance and LOEWE synergy score: -0.01362958788266725\n",
      "Spearman correlation coefficient between Average Target Distance and LOEWE synergy score: -0.04724621738561172\n"
     ]
    }
   ],
   "source": [
    "# Let's plot target distances against LOEWE synergy scores\n",
    "plt.scatter(drug_syntox_df['avg_short_path_btwn_targets'], drug_syntox_df['synergy_loewe'])\n",
    "plt.xlabel('Drug Combination Average Target Distance')\n",
    "plt.ylabel('Loewe Synergy Score')\n",
    "plt.tight_layout()\n",
    "plt.savefig('results/avg_targ_distance_analysis/loewe_v_avgtargdist_ddinter_scatter.png', dpi=700)\n",
    "plt.close()\n",
    "\n",
    "# Calculate Pearson correlation coefficient between Average Target Distance and LOEWE synergy score\n",
    "avg_targ_dist_loewe_corr = drug_syntox_df['avg_short_path_btwn_targets'].corr(drug_syntox_df['synergy_loewe'])\n",
    "print(f'Pearson correlation coefficient between Average Target Distance and LOEWE synergy score: {avg_targ_dist_loewe_corr}')\n",
    "\n",
    "# Calculate Spearman correlation coefficient between Average Target Distance and LOEWE synergy score\n",
    "avg_targ_dist_loewe_spearman_corr = drug_syntox_df['avg_short_path_btwn_targets'].corr(drug_syntox_df['synergy_loewe'], method='spearman')\n",
    "print(f'Spearman correlation coefficient between Average Target Distance and LOEWE synergy score: {avg_targ_dist_loewe_spearman_corr}')\n"
   ]
  },
  {
   "cell_type": "code",
   "execution_count": 21,
   "metadata": {},
   "outputs": [
    {
     "name": "stdout",
     "output_type": "stream",
     "text": [
      "Pearson correlation coefficient between Average Target Distance and ZIP synergy score: -0.11549766004348093\n",
      "Spearman correlation coefficient between Average Target Distance and ZIP synergy score: -0.07513895462596691\n"
     ]
    }
   ],
   "source": [
    "# Let's plot target distances against ZIP synergy scores\n",
    "plt.scatter(drug_syntox_df['avg_short_path_btwn_targets'], drug_syntox_df['synergy_zip'])\n",
    "plt.xlabel('Drug Combination Average Target Distance')\n",
    "plt.ylabel('ZIP Synergy Score')\n",
    "plt.tight_layout()\n",
    "plt.savefig('results/avg_targ_distance_analysis/zip_v_avgtargdist_ddinter_scatter.png', dpi=700)\n",
    "plt.close()\n",
    "\n",
    "# Calculate Pearson correlation coefficient between Average Target Distance and ZIP synergy score\n",
    "avg_targ_dist_zip_corr = drug_syntox_df['avg_short_path_btwn_targets'].corr(drug_syntox_df['synergy_zip'])\n",
    "print(f'Pearson correlation coefficient between Average Target Distance and ZIP synergy score: {avg_targ_dist_zip_corr}')\n",
    "\n",
    "# Calculate Spearman correlation coefficient between Average Target Distance and ZIP synergy score\n",
    "avg_targ_dist_zip_spearman_corr = drug_syntox_df['avg_short_path_btwn_targets'].corr(drug_syntox_df['synergy_zip'], method='spearman')\n",
    "print(f'Spearman correlation coefficient between Average Target Distance and ZIP synergy score: {avg_targ_dist_zip_spearman_corr}')"
   ]
  },
  {
   "cell_type": "code",
   "execution_count": 22,
   "metadata": {},
   "outputs": [],
   "source": [
    "# Write all the correlations and spearman correlations to a file\n",
    "with open('results/avg_targ_distance_analysis/avg_targ_dist_v_synergy_correlations_ddinter.tsv', 'w') as f:\n",
    "    f.write('Synergy score\\tLevel\\tPearson correlation coefficient\\tSpearman correlation\\n')\n",
    "    f.write(f'Bliss\\tAverage Target Distance\\t{avg_targ_dist_bliss_corr}\\t{avg_targ_dist_bliss_spearman_corr}\\n')\n",
    "    f.write(f'HSA\\Average Target Distance\\t{avg_targ_dist_hsa_corr}\\t{avg_targ_dist_hsa_spearman_corr}\\n')\n",
    "    f.write(f'Loewe\\Average Target Distance\\t{avg_targ_dist_loewe_corr}\\t{avg_targ_dist_loewe_spearman_corr}\\n')\n",
    "    f.write(f'ZIP\\Average Target Distance\\t{avg_targ_dist_zip_corr}\\t{avg_targ_dist_zip_spearman_corr}\\n')\n"
   ]
  },
  {
   "cell_type": "code",
   "execution_count": 23,
   "metadata": {},
   "outputs": [],
   "source": [
    "colors = ['#20965D', '#FFBC42', '#D81159']\n",
    "tox_order = ['Minor', 'Moderate', 'Major']\n",
    "color_dict = dict(zip(tox_order, colors))\n",
    "legend_elements = [\n",
    "    Patch(facecolor=color_dict[cat], label = cat) for cat in tox_order\n",
    "]\n",
    "\n",
    "ax = sns.violinplot(data=drug_syntox_df, x='toxicity_category', y='avg_short_path_btwn_targets', palette=color_dict, hue='toxicity_category', order=tox_order)\n",
    "ax.set_xlabel('')\n",
    "ax.set_ylabel('Drug Combination Average Target Distance')\n",
    "plt.legend(handles=legend_elements, bbox_to_anchor=(0.5,-0.2), loc='center', ncol=3)\n",
    "plt.tight_layout()\n",
    "plt.savefig('results/avg_targ_distance_analysis/avgtargdist_v_toxcats_ddinter_violin.png', dpi=700)\n",
    "plt.close()\n"
   ]
  },
  {
   "cell_type": "code",
   "execution_count": 24,
   "metadata": {},
   "outputs": [],
   "source": [
    "ax = sns.stripplot(data=drug_syntox_df, x='toxicity_category', y='avg_short_path_btwn_targets', palette=color_dict, hue='toxicity_category', order=tox_order)\n",
    "ax.set_xlabel('')\n",
    "ax.set_ylabel('Drug Combination Average Target Distance')\n",
    "plt.legend(handles=legend_elements, bbox_to_anchor=(0.5,-0.2), loc='center', ncol=3)\n",
    "plt.tight_layout()\n",
    "plt.savefig('results/avg_targ_distance_analysis/avgtargdist_v_toxcats_ddinter_strip.png', dpi=700)\n",
    "plt.close()"
   ]
  }
 ],
 "metadata": {
  "kernelspec": {
   "display_name": "env",
   "language": "python",
   "name": "python3"
  },
  "language_info": {
   "codemirror_mode": {
    "name": "ipython",
    "version": 3
   },
   "file_extension": ".py",
   "mimetype": "text/x-python",
   "name": "python",
   "nbconvert_exporter": "python",
   "pygments_lexer": "ipython3",
   "version": "3.8.0"
  }
 },
 "nbformat": 4,
 "nbformat_minor": 2
}
