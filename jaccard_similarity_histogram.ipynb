{
 "cells": [
  {
   "cell_type": "markdown",
   "metadata": {},
   "source": [
    "### File to Create Jaccard Similarity Histogram and Initial Ranking ###"
   ]
  },
  {
   "cell_type": "code",
   "execution_count": 1,
   "metadata": {},
   "outputs": [],
   "source": [
    "# Import everything needed\n",
    "from toxicity_ranking import *\n",
    "import numpy as np"
   ]
  },
  {
   "cell_type": "markdown",
   "metadata": {},
   "source": [
    "Get the jaccard similarity for all the unique drug pairs, plot a distribution"
   ]
  },
  {
   "cell_type": "code",
   "execution_count": 2,
   "metadata": {},
   "outputs": [
    {
     "name": "stderr",
     "output_type": "stream",
     "text": [
      "/Users/alexwong/Research/toxicity-cancer-drug-combination/toxicity_ranking.py:13: DtypeWarning: Columns (2,7,19,22,23) have mixed types. Specify dtype option on import or set low_memory=False.\n",
      "  drugcomb_df = pd.read_csv('data/DrugComb/drugcomb_summary_v_1_5.csv', sep=',', index_col=False)\n"
     ]
    },
    {
     "name": "stdout",
     "output_type": "stream",
     "text": [
      "Original shape of drugcomb data:  (1432351, 26)\n",
      "Final shape of filtered drugcomb data:  (123882, 26)\n",
      "Original drugcomb data shape:  (123882, 26)\n",
      "Number of drugs in common between drugcomb and sider [lowercase enforced]:  401\n",
      "Filtered drugcomb data shape for both drugs being present in sider:  (20824, 26)\n",
      "Number of unique drug pairs:  6552\n"
     ]
    }
   ],
   "source": [
    "# Get the data needed\n",
    "drugcomb_df = get_drug_comb_data(bliss=True, loewe=True, hsa=True, zip=True)\n",
    "sider_cid_to_drugs_df, sider_all_side_effects_df = get_sider_data()\n",
    "\n",
    "filtered_drug_comb_data, common_drugs, unique_drug_pairs = filter_drug_comb_data(drugcomb_df, sider_cid_to_drugs_df)\n",
    "\n",
    "# Create a dictionary to store the Jaccard similarity of each drug pair\n",
    "drug_pair_to_jaccard = {}\n",
    "drug_pair_to_side_effects = {}\n",
    "\n",
    "# Loop through each drug pair in unique_drug_pairs\n",
    "for drug_pair in unique_drug_pairs:\n",
    "    # Get the drugs in the pair\n",
    "    drug1_name, drug2_name = drug_pair\n",
    "    drug1_CID = sider_cid_to_drugs_df[sider_cid_to_drugs_df['drug_name'] == drug1_name]['CID'].values[0]\n",
    "    drug2_CID = sider_cid_to_drugs_df[sider_cid_to_drugs_df['drug_name'] == drug2_name]['CID'].values[0]\n",
    "\n",
    "    # Get the side effects of each drug\n",
    "    side_effects1 = sider_all_side_effects_df[sider_all_side_effects_df['CID_FLAT'] == drug1_CID]['Side_Effect'].values\n",
    "    side_effects2 = sider_all_side_effects_df[sider_all_side_effects_df['CID_FLAT'] == drug2_CID]['Side_Effect'].values\n",
    "\n",
    "    # Calculate the Jaccard similarity of the side effects\n",
    "    jaccard = jaccard_similarity(set(side_effects1), set(side_effects2))\n",
    "\n",
    "    # Store the Jaccard similarity in the dictionary\n",
    "    drug_pair_to_jaccard[drug_pair] = jaccard\n",
    "    drug_pair_to_side_effects[drug_pair] = (side_effects1, side_effects2)"
   ]
  },
  {
   "cell_type": "markdown",
   "metadata": {},
   "source": [
    "Create histogram of jaccard distribution"
   ]
  },
  {
   "cell_type": "code",
   "execution_count": 3,
   "metadata": {},
   "outputs": [
    {
     "data": {
      "image/png": "[encoded data removed]",
      "text/plain": [
       "<Figure size 640x480 with 1 Axes>"
      ]
     },
     "metadata": {},
     "output_type": "display_data"
    }
   ],
   "source": [
    "# Create a histogram of the jaccard similarities stored in the drug_pair_to_jaccard dictionary\n",
    "import matplotlib.pyplot as plt\n",
    "jaccard_values = list(drug_pair_to_jaccard.values())\n",
    "plt.hist(jaccard_values, bins=200)\n",
    "plt.xlabel('Jaccard Similarity')\n",
    "plt.ylabel('Drug Pair Frequency')\n",
    "plt.title('Jaccard Similarity of Drug Pair Side Effects')\n",
    "plt.savefig('results/jaccard_similarity_histogram.png')"
   ]
  },
  {
   "cell_type": "code",
   "execution_count": 4,
   "metadata": {},
   "outputs": [
    {
     "name": "stdout",
     "output_type": "stream",
     "text": [
      "(('vemurafenib', 'vemurafenib'), 1.0)\n",
      "(('cladribine', 'cladribine'), 1.0)\n",
      "(('temozolomide', 'temozolomide'), 1.0)\n",
      "(('ponatinib', 'ponatinib'), 1.0)\n",
      "(('clofarabine', 'clofarabine'), 1.0)\n",
      "(('trametinib', 'trametinib'), 1.0)\n",
      "(('acarbose', 'miglitol'), 0.45652173913043476)\n",
      "(('acamprosate', 'tiagabine'), 0.44537815126050423)\n",
      "(('exemestane', 'letrozole'), 0.4423076923076923)\n",
      "(('imatinib', 'nilotinib'), 0.43548387096774194)\n"
     ]
    }
   ],
   "source": [
    "# Rank the drug pairs by Jaccard similarity\n",
    "\n",
    "# zip the drug pairs and their Jaccard similarities\n",
    "drug_pairs = list(drug_pair_to_jaccard.keys())\n",
    "jaccard_values = list(drug_pair_to_jaccard.values())\n",
    "zipped = list(zip(drug_pairs, jaccard_values))\n",
    "\n",
    "# sort the zipped list by Jaccard similarity\n",
    "zipped.sort(key=lambda x: x[1], reverse=True)\n",
    "\n",
    "# Print the top 10 drug pairs and their Jaccard similarities\n",
    "for i in range(10):\n",
    "    print(zipped[i])"
   ]
  },
  {
   "cell_type": "code",
   "execution_count": 5,
   "metadata": {},
   "outputs": [
    {
     "name": "stdout",
     "output_type": "stream",
     "text": [
      "(('dopamine', 'chlorzoxazone'), 0.0)\n",
      "(('mebendazole', 'epinephrine'), 0.0)\n",
      "(('paromomycin', 'disulfiram'), 0.0)\n",
      "(('testolactone', 'dutasteride'), 0.0)\n",
      "(('dutasteride', 'etomidate'), 0.0)\n",
      "(('testolactone', 'mebendazole'), 0.0)\n",
      "(('etomidate', 'paromomycin'), 0.0)\n",
      "(('monobenzone', 'temozolomide'), 0.0)\n",
      "(('paromomycin', 'bortezomib'), 0.004815409309791332)\n",
      "(('paromomycin', 'doxorubicin'), 0.005758157389635317)\n"
     ]
    }
   ],
   "source": [
    "# Print the bottom 10 drug pairs and their Jaccard similarities\n",
    "for i in range(10):\n",
    "    print(zipped[-i-1])"
   ]
  },
  {
   "cell_type": "code",
   "execution_count": 6,
   "metadata": {},
   "outputs": [
    {
     "name": "stdout",
     "output_type": "stream",
     "text": [
      "            CID                 drug_name\n",
      "0  CID100000119        gamma-aminobutyric\n",
      "1  CID100000137          5-aminolevulinic\n",
      "2  CID100000143                leucovorin\n",
      "3  CID100000146  5-methyltetrahydrofolate\n",
      "4  CID100000158                      pge2\n",
      "       CID_FLAT    CID_STEREO UMLS_Label MedDRA_Concept UMLS_MedDRA  \\\n",
      "0  CID100000085  CID000010917   C0000729             PT    C0000737   \n",
      "1  CID100000085  CID000010917   C0000737            LLT    C0000737   \n",
      "2  CID100000085  CID000010917   C0000737             PT    C0687713   \n",
      "3  CID100000085  CID000010917   C0000737             PT    C0000737   \n",
      "4  CID100000085  CID000010917   C0002418            LLT    C0002418   \n",
      "\n",
      "             Side_Effect  \n",
      "0         Abdominal pain  \n",
      "1         Abdominal pain  \n",
      "2  Gastrointestinal pain  \n",
      "3         Abdominal pain  \n",
      "4              Amblyopia  \n"
     ]
    }
   ],
   "source": [
    "# Get histogram of number of side effects per drug\n",
    "sider_cid_to_drugs_df, sider_all_side_effects_df = get_sider_data()\n",
    "\n",
    "# What does the sider_cid_to_drugs_df look like?\n",
    "print(sider_cid_to_drugs_df.head())\n",
    "\n",
    "# What does the sider_all_side_effects_df look like?\n",
    "print(sider_all_side_effects_df.head())\n",
    "\n",
    "# Get drug name to side effects dictionary\n",
    "drug_to_side_effects = get_drug_to_side_effects(sider_cid_to_drugs_df, sider_all_side_effects_df)"
   ]
  },
  {
   "cell_type": "markdown",
   "metadata": {},
   "source": [
    "What does the distribution look like for number of side effects per drug in SIDER?"
   ]
  },
  {
   "cell_type": "code",
   "execution_count": 7,
   "metadata": {},
   "outputs": [
    {
     "name": "stdout",
     "output_type": "stream",
     "text": [
      "Average number of side effects per drug:  115.17870439314966\n"
     ]
    },
    {
     "data": {
      "image/png": "[encoded data removed]",
      "text/plain": [
       "<Figure size 640x480 with 1 Axes>"
      ]
     },
     "metadata": {},
     "output_type": "display_data"
    }
   ],
   "source": [
    "# Get the number of side effects for each drug\n",
    "num_side_effects = [len(side_effects) for side_effects in drug_to_side_effects.values()]\n",
    "\n",
    "# Plot the histogram\n",
    "plt.hist(num_side_effects, bins=200)\n",
    "plt.xlabel('Number of Side Effects')\n",
    "plt.ylabel('Number of Drugs')\n",
    "plt.title('Number of Side Effects per Drug')\n",
    "\n",
    "plt.savefig('results/num_side_effects_per_drug_histogram.png')\n",
    "print(\"Average number of side effects per drug: \", np.mean(num_side_effects))\n"
   ]
  },
  {
   "cell_type": "code",
   "execution_count": 8,
   "metadata": {},
   "outputs": [
    {
     "name": "stdout",
     "output_type": "stream",
     "text": [
      "Number of side effects for mebendazole:  13\n",
      "Side effects for mebendazole:  {'Hypersensitivity', 'Prolonged menses', 'Menorrhagia', 'Rash', 'Convulsion', 'Urticaria', 'Dermatitis', 'Angioedema', 'Abdominal pain', 'Neutropenia', 'Gastrointestinal pain', 'Hepatitis', 'Agranulocytosis'}\n",
      "Number of side effects for testolactone:  16\n",
      "Side effects for testolactone:  {'Discomfort', 'Oedema', 'Ill-defined disorder', 'Decreased appetite', 'Nausea', 'Erythema', 'Pain', 'Blood pressure increased', 'Glossitis', 'Malaise', 'Feeling abnormal', 'Ache', 'Alopecia', 'Paraesthesia', 'Vomiting', 'Anorexia'}\n",
      "Number of side effects for etomidate:  23\n",
      "Side effects for etomidate:  {'Hyperventilation', 'Hypertension', 'Arrhythmia', 'Convulsion', 'Hypoxia', 'Vein pain', 'Nausea postoperative', 'Vomiting', 'Respiratory failure', 'Myoclonus', 'Hypoventilation', 'Disinhibition', 'Snoring', 'Pain', 'Tachycardia', 'Upper airway obstruction', 'Procedural nausea', 'Laryngospasm', 'Apnoea', 'Hypotension', 'Bradycardia', 'Vascular pain', 'Hiccups'}\n",
      "Number of side effects for paromomycin:  4\n",
      "Side effects for paromomycin:  {'Nausea', 'Abdominal cramps', 'Abdominal pain', 'Diarrhoea'}\n",
      "Number of side effects for dutasteride:  47\n",
      "Side effects for dutasteride:  {'Mental disorder', 'Anorgasmia', 'Orgasmic sensation decreased', 'Premature ejaculation', 'Urticaria', 'Breast disorder', 'Ejaculation delayed', 'Gynaecomastia', 'Breast tenderness', 'Libido disorder', 'Breast pain', 'Libido decreased', 'Orgasm abnormal', 'Hepatic adenoma', 'Semen volume decreased', 'Dermatitis', 'Ejaculation failure', 'Male sexual dysfunction', 'Sexual dysfunction', 'Hepatocellular adenoma', 'Immune system disorder', 'Rash', 'Tenderness', 'Breast swelling', 'Cardiac failure', 'Testicular pain', 'Erectile dysfunction', 'Angioedema', 'Neoplasm', 'Ejaculation disorder', 'Breast cancer', 'Loss of libido', 'Breast enlargement', 'Nipple swelling', 'Hyperaesthesia', 'Hypersensitivity', 'Breast cancer male', 'Nipple pain', 'Dizziness', 'Disturbance in sexual arousal', 'Depressed mood', 'Prostate cancer', 'Localised oedema', 'Pruritus', 'Retrograde ejaculation', 'Testicular swelling', 'Neoplasm malignant'}\n"
     ]
    }
   ],
   "source": [
    "# Get the number of side effects for each drug\n",
    "# mebendazole\n",
    "print(\"Number of side effects for mebendazole: \", len(drug_to_side_effects['mebendazole']))\n",
    "print(\"Side effects for mebendazole: \", drug_to_side_effects['mebendazole'])\n",
    "\n",
    "# testolactone\n",
    "print(\"Number of side effects for testolactone: \", len(drug_to_side_effects['testolactone']))\n",
    "print(\"Side effects for testolactone: \", drug_to_side_effects['testolactone'])\n",
    "\n",
    "# etomidate\n",
    "print(\"Number of side effects for etomidate: \", len(drug_to_side_effects['etomidate']))\n",
    "print(\"Side effects for etomidate: \", drug_to_side_effects['etomidate'])\n",
    "\n",
    "# paromomycin\n",
    "print(\"Number of side effects for paromomycin: \", len(drug_to_side_effects['paromomycin']))\n",
    "print(\"Side effects for paromomycin: \", drug_to_side_effects['paromomycin'])\n",
    "\n",
    "# dutasteride\n",
    "print(\"Number of side effects for dutasteride: \", len(drug_to_side_effects['dutasteride']))\n",
    "print(\"Side effects for dutasteride: \", drug_to_side_effects['dutasteride'])"
   ]
  }
 ],
 "metadata": {
  "kernelspec": {
   "display_name": "env",
   "language": "python",
   "name": "python3"
  },
  "language_info": {
   "codemirror_mode": {
    "name": "ipython",
    "version": 3
   },
   "file_extension": ".py",
   "mimetype": "text/x-python",
   "name": "python",
   "nbconvert_exporter": "python",
   "pygments_lexer": "ipython3",
   "version": "3.8.0"
  }
 },
 "nbformat": 4,
 "nbformat_minor": 2
}
