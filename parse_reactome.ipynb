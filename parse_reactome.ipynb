{
 "cells": [
  {
   "cell_type": "markdown",
   "metadata": {},
   "source": [
    "Script to parse the Reactome database tsv file for UniProt to lowest pathway hierarchies versus all pathway hierarchies, get some characterizations of how many pathways exist, what the intersection is with the drug targets, etc"
   ]
  },
  {
   "cell_type": "code",
   "execution_count": 1,
   "metadata": {},
   "outputs": [],
   "source": [
    "import pandas as pd"
   ]
  },
  {
   "cell_type": "code",
   "execution_count": 2,
   "metadata": {},
   "outputs": [
    {
     "name": "stdout",
     "output_type": "stream",
     "text": [
      "Original lowest pathways shape: (302009, 6)\n",
      "Filtered lowest pathways shape restricting to Homo sapiens: (51056, 6)\n",
      "Original all pathways shape: (871849, 6)\n",
      "Filtered all pathways shape restricting to Homo sapiens: (149564, 6)\n"
     ]
    }
   ],
   "source": [
    "lowest_pathway_reactome_file_path = 'data/Reactome/UniProt2Reactome.tsv'\n",
    "all_pathways_reactome_file_path = 'data/Reactome/UniProt2Reactome_All_Levels.tsv'\n",
    "\n",
    "lowest_pathways_df = pd.read_csv(lowest_pathway_reactome_file_path, sep='\\t', names=['UniProtKB_ID', 'Reactome_ID', 'Reactome_URL', 'Pathway_Name', 'Evidence_Code', 'Species'])\n",
    "print(\"Original lowest pathways shape: \" + str(lowest_pathways_df.shape))\n",
    "lowest_pathways_df = lowest_pathways_df[lowest_pathways_df['Species'] == 'Homo sapiens']\n",
    "print(\"Filtered lowest pathways shape restricting to Homo sapiens: \" + str(lowest_pathways_df.shape))\n",
    "\n",
    "all_pathways_df = pd.read_csv(all_pathways_reactome_file_path, sep='\\t', names=['UniProtKB_ID', 'Reactome_ID', 'Reactome_URL', 'Pathway_Name', 'Evidence_Code', 'Species'])\n",
    "print(\"Original all pathways shape: \" + str(all_pathways_df.shape))\n",
    "all_pathways_df = all_pathways_df[all_pathways_df['Species'] == 'Homo sapiens']\n",
    "print(\"Filtered all pathways shape restricting to Homo sapiens: \" + str(all_pathways_df.shape))\n",
    "\n",
    "# Drop the Reactome URL, Evidence Code, and Species columns (unnecessary)\n",
    "lowest_pathways_df.drop(columns=['Reactome_URL', 'Evidence_Code', 'Species'], inplace=True)\n",
    "all_pathways_df.drop(columns=['Reactome_URL', 'Evidence_Code', 'Species'], inplace=True)\n",
    "\n",
    "# Save to CSV file\n",
    "lowest_pathways_df.to_csv('data_processed/reactome_lowest_pathways_homo_sapiens.csv', index=None)\n",
    "all_pathways_df.to_csv('data_processed/reactome_all_pathways_homo_sapiens.csv', index=None)\n"
   ]
  },
  {
   "cell_type": "code",
   "execution_count": 3,
   "metadata": {},
   "outputs": [
    {
     "name": "stdout",
     "output_type": "stream",
     "text": [
      "Number of lowest prothrombin pathways: 14\n",
      "Number of all prothrombin pathways: 33\n"
     ]
    },
    {
     "data": {
      "text/html": [
       "<div>\n",
       "<style scoped>\n",
       "    .dataframe tbody tr th:only-of-type {\n",
       "        vertical-align: middle;\n",
       "    }\n",
       "\n",
       "    .dataframe tbody tr th {\n",
       "        vertical-align: top;\n",
       "    }\n",
       "\n",
       "    .dataframe thead th {\n",
       "        text-align: right;\n",
       "    }\n",
       "</style>\n",
       "<table border=\"1\" class=\"dataframe\">\n",
       "  <thead>\n",
       "    <tr style=\"text-align: right;\">\n",
       "      <th></th>\n",
       "      <th>UniProtKB_ID</th>\n",
       "      <th>Reactome_ID</th>\n",
       "      <th>Pathway_Name</th>\n",
       "    </tr>\n",
       "  </thead>\n",
       "  <tbody>\n",
       "    <tr>\n",
       "      <th>396991</th>\n",
       "      <td>P00734</td>\n",
       "      <td>R-HSA-109582</td>\n",
       "      <td>Hemostasis</td>\n",
       "    </tr>\n",
       "    <tr>\n",
       "      <th>396992</th>\n",
       "      <td>P00734</td>\n",
       "      <td>R-HSA-140837</td>\n",
       "      <td>Intrinsic Pathway of Fibrin Clot Formation</td>\n",
       "    </tr>\n",
       "    <tr>\n",
       "      <th>396993</th>\n",
       "      <td>P00734</td>\n",
       "      <td>R-HSA-140875</td>\n",
       "      <td>Common Pathway of Fibrin Clot Formation</td>\n",
       "    </tr>\n",
       "    <tr>\n",
       "      <th>396994</th>\n",
       "      <td>P00734</td>\n",
       "      <td>R-HSA-140877</td>\n",
       "      <td>Formation of Fibrin Clot (Clotting Cascade)</td>\n",
       "    </tr>\n",
       "    <tr>\n",
       "      <th>396995</th>\n",
       "      <td>P00734</td>\n",
       "      <td>R-HSA-159740</td>\n",
       "      <td>Gamma-carboxylation of protein precursors</td>\n",
       "    </tr>\n",
       "  </tbody>\n",
       "</table>\n",
       "</div>"
      ],
      "text/plain": [
       "       UniProtKB_ID   Reactome_ID                                 Pathway_Name\n",
       "396991       P00734  R-HSA-109582                                   Hemostasis\n",
       "396992       P00734  R-HSA-140837   Intrinsic Pathway of Fibrin Clot Formation\n",
       "396993       P00734  R-HSA-140875      Common Pathway of Fibrin Clot Formation\n",
       "396994       P00734  R-HSA-140877  Formation of Fibrin Clot (Clotting Cascade)\n",
       "396995       P00734  R-HSA-159740    Gamma-carboxylation of protein precursors"
      ]
     },
     "execution_count": 3,
     "metadata": {},
     "output_type": "execute_result"
    }
   ],
   "source": [
    "# Test which pathways are present for the first drug target, Prothrombin, P00734\n",
    "\n",
    "prothrombin_lowest_pathways = lowest_pathways_df[lowest_pathways_df['UniProtKB_ID'] == 'P00734']\n",
    "print(\"Number of lowest prothrombin pathways: \" + str(prothrombin_lowest_pathways.shape[0]))\n",
    "\n",
    "prothrombin_all_pathways = all_pathways_df[all_pathways_df['UniProtKB_ID'] == 'P00734']\n",
    "print(\"Number of all prothrombin pathways: \" + str(prothrombin_all_pathways.shape[0]))\n",
    "\n",
    "prothrombin_all_pathways.head()"
   ]
  }
 ],
 "metadata": {
  "kernelspec": {
   "display_name": "env",
   "language": "python",
   "name": "python3"
  },
  "language_info": {
   "codemirror_mode": {
    "name": "ipython",
    "version": 3
   },
   "file_extension": ".py",
   "mimetype": "text/x-python",
   "name": "python",
   "nbconvert_exporter": "python",
   "pygments_lexer": "ipython3",
   "version": "3.8.0"
  }
 },
 "nbformat": 4,
 "nbformat_minor": 2
}
