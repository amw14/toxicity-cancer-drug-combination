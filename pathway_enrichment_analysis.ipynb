{
 "cells": [
  {
   "cell_type": "markdown",
   "metadata": {},
   "source": [
    "# Pathway Enrichment Analysis File #\n",
    "\n",
    "File to see which pathways seem to be significantly enriched with high synergy and different toxicity categories"
   ]
  },
  {
   "cell_type": "markdown",
   "metadata": {},
   "source": [
    "Simple pathway enrichment analysis: Which pathways are uniquely associated with each toxicity level?"
   ]
  },
  {
   "cell_type": "code",
   "execution_count": 1,
   "metadata": {},
   "outputs": [],
   "source": [
    "# Import everything needed\n",
    "from scipy import stats\n",
    "from toxicity_ranking import *\n",
    "import numpy as np\n",
    "import pandas as pd\n",
    "import matplotlib.pyplot as plt"
   ]
  },
  {
   "cell_type": "code",
   "execution_count": 8,
   "metadata": {},
   "outputs": [
    {
     "name": "stdout",
     "output_type": "stream",
     "text": [
      "           drug_row   drug_col cell_line_name  synergy_zip  synergy_loewe  \\\n",
      "0        mefloquine  tamoxifen          TC-32    19.667559       2.263512   \n",
      "1       chloroquine  tamoxifen          TC-32     8.836970      -0.671750   \n",
      "2  prochlorperazine  tamoxifen          TC-32    12.411371       1.358891   \n",
      "3        fingolimod  tamoxifen          TC-32     8.007900      -0.764699   \n",
      "4         dasatinib  tamoxifen          TC-32    -9.601561       0.314544   \n",
      "\n",
      "   synergy_bliss  synergy_hsa toxicity_category  \n",
      "0      25.542924     2.896978          Moderate  \n",
      "1      11.944238    -0.517536             Major  \n",
      "2      14.291624     0.880952          Moderate  \n",
      "3       5.141360    -0.060902             Major  \n",
      "4      -5.351887     0.710809          Moderate  \n"
     ]
    },
    {
     "data": {
      "text/html": [
       "<div>\n",
       "<style scoped>\n",
       "    .dataframe tbody tr th:only-of-type {\n",
       "        vertical-align: middle;\n",
       "    }\n",
       "\n",
       "    .dataframe tbody tr th {\n",
       "        vertical-align: top;\n",
       "    }\n",
       "\n",
       "    .dataframe thead th {\n",
       "        text-align: right;\n",
       "    }\n",
       "</style>\n",
       "<table border=\"1\" class=\"dataframe\">\n",
       "  <thead>\n",
       "    <tr style=\"text-align: right;\">\n",
       "      <th></th>\n",
       "      <th>drug_name</th>\n",
       "      <th>target_name</th>\n",
       "      <th>target_DrugBank_ID</th>\n",
       "      <th>UniProtKB_ID</th>\n",
       "      <th>Reactome_ID</th>\n",
       "      <th>Pathway_Name</th>\n",
       "    </tr>\n",
       "  </thead>\n",
       "  <tbody>\n",
       "    <tr>\n",
       "      <th>0</th>\n",
       "      <td>meclofenamic acid</td>\n",
       "      <td>Prostaglandin G/H synthase 1</td>\n",
       "      <td>BE0000017</td>\n",
       "      <td>P23219</td>\n",
       "      <td>R-HSA-140180</td>\n",
       "      <td>COX reactions</td>\n",
       "    </tr>\n",
       "    <tr>\n",
       "      <th>1</th>\n",
       "      <td>meclofenamic acid</td>\n",
       "      <td>Prostaglandin G/H synthase 1</td>\n",
       "      <td>BE0000017</td>\n",
       "      <td>P23219</td>\n",
       "      <td>R-HSA-1430728</td>\n",
       "      <td>Metabolism</td>\n",
       "    </tr>\n",
       "    <tr>\n",
       "      <th>2</th>\n",
       "      <td>meclofenamic acid</td>\n",
       "      <td>Prostaglandin G/H synthase 1</td>\n",
       "      <td>BE0000017</td>\n",
       "      <td>P23219</td>\n",
       "      <td>R-HSA-211859</td>\n",
       "      <td>Biological oxidations</td>\n",
       "    </tr>\n",
       "    <tr>\n",
       "      <th>3</th>\n",
       "      <td>meclofenamic acid</td>\n",
       "      <td>Prostaglandin G/H synthase 1</td>\n",
       "      <td>BE0000017</td>\n",
       "      <td>P23219</td>\n",
       "      <td>R-HSA-211945</td>\n",
       "      <td>Phase I - Functionalization of compounds</td>\n",
       "    </tr>\n",
       "    <tr>\n",
       "      <th>4</th>\n",
       "      <td>meclofenamic acid</td>\n",
       "      <td>Prostaglandin G/H synthase 1</td>\n",
       "      <td>BE0000017</td>\n",
       "      <td>P23219</td>\n",
       "      <td>R-HSA-2142753</td>\n",
       "      <td>Arachidonate metabolism</td>\n",
       "    </tr>\n",
       "  </tbody>\n",
       "</table>\n",
       "</div>"
      ],
      "text/plain": [
       "           drug_name                   target_name target_DrugBank_ID  \\\n",
       "0  meclofenamic acid  Prostaglandin G/H synthase 1          BE0000017   \n",
       "1  meclofenamic acid  Prostaglandin G/H synthase 1          BE0000017   \n",
       "2  meclofenamic acid  Prostaglandin G/H synthase 1          BE0000017   \n",
       "3  meclofenamic acid  Prostaglandin G/H synthase 1          BE0000017   \n",
       "4  meclofenamic acid  Prostaglandin G/H synthase 1          BE0000017   \n",
       "\n",
       "  UniProtKB_ID    Reactome_ID                              Pathway_Name  \n",
       "0       P23219   R-HSA-140180                             COX reactions  \n",
       "1       P23219  R-HSA-1430728                                Metabolism  \n",
       "2       P23219   R-HSA-211859                     Biological oxidations  \n",
       "3       P23219   R-HSA-211945  Phase I - Functionalization of compounds  \n",
       "4       P23219  R-HSA-2142753                   Arachidonate metabolism  "
      ]
     },
     "execution_count": 8,
     "metadata": {},
     "output_type": "execute_result"
    }
   ],
   "source": [
    "# Read in the relevant pre-processed datasets, assumes pre-filtered datasets include only drug combinations\n",
    "# that have known toxicity, known targets, and known pathways\n",
    "filtered_combos_df = pd.read_csv('data_processed/filtered_combos_syntox_known_targallpw.csv') \n",
    "print(filtered_combos_df.head())\n",
    "syntoxtarg_allpw_df = pd.read_csv(\"data_processed/syntoxtarg_allpw.csv\") # drugs with their targets and all levels of pathways\n",
    "syntoxtarg_allpw_df.head()"
   ]
  },
  {
   "cell_type": "code",
   "execution_count": 10,
   "metadata": {},
   "outputs": [
    {
     "name": "stdout",
     "output_type": "stream",
     "text": [
      "Number of unique pathways targeted:  1749\n",
      "Number of unique pathways targeted by drugs in the major toxicity group:  1484\n",
      "Number of unique pathways targeted by drugs in the major toxicity group that are in the master list of pathways:  1484\n",
      "Number of unique pathways targeted by drugs in the major toxicity group that are in the master list of pathways after removing duplicates:  1484\n",
      "           Pathway  Number of drugs targeting pathway  P-value\n",
      "0    R-HSA-6804758                                  8      1.0\n",
      "994    R-HSA-83936                                  3      1.0\n",
      "993   R-HSA-380612                                  5      1.0\n",
      "992   R-HSA-192456                                  1      1.0\n",
      "991   R-HSA-110056                                 10      1.0\n"
     ]
    }
   ],
   "source": [
    "# Get the master list of all unique pathways targeted by any drug in the dataset\n",
    "all_pw = syntoxtarg_allpw_df['Reactome_ID'].unique()\n",
    "print(\"Number of unique pathways targeted: \", len(all_pw))\n",
    "\n",
    "# Create pathway sets for corresponding toxicity groups\n",
    "major_pws = set()\n",
    "moderate_pws = set()\n",
    "minor_pws = set()\n",
    "\n",
    "for index, row in filtered_combos_df.iterrows():\n",
    "    drug1 = row['drug_row']\n",
    "    drug2 = row['drug_col']\n",
    "    if row['toxicity_category'] == 'Major':\n",
    "        drug1_pws = syntoxtarg_allpw_df[syntoxtarg_allpw_df['drug_name'] == drug1]['Reactome_ID'].unique()\n",
    "        drug2_pws = syntoxtarg_allpw_df[syntoxtarg_allpw_df['drug_name'] == drug2]['Reactome_ID'].unique()\n",
    "        major_pws.update(drug1_pws)\n",
    "        major_pws.update(drug2_pws)\n",
    "    elif row['toxicity_category'] == 'Moderate':\n",
    "        drug1_pws = syntoxtarg_allpw_df[syntoxtarg_allpw_df['drug_name'] == drug1]['Reactome_ID'].unique()\n",
    "        drug2_pws = syntoxtarg_allpw_df[syntoxtarg_allpw_df['drug_name'] == drug2]['Reactome_ID'].unique()\n",
    "        moderate_pws.update(drug1_pws)\n",
    "        moderate_pws.update(drug2_pws)\n",
    "    else: # Minor\n",
    "        drug1_pws = syntoxtarg_allpw_df[syntoxtarg_allpw_df['drug_name'] == drug1]['Reactome_ID'].unique()\n",
    "        drug2_pws = syntoxtarg_allpw_df[syntoxtarg_allpw_df['drug_name'] == drug2]['Reactome_ID'].unique()\n",
    "        minor_pws.update(drug1_pws)\n",
    "        minor_pws.update(drug2_pws)\n",
    "\n",
    "# Use a hypergeometric test to determine if the pathways targeted by drugs in the major toxicity group are enriched\n",
    "# for any pathways in the dataset\n",
    "# Major toxicity group\n",
    "major_pws = list(major_pws)\n",
    "major_pws = [x for x in major_pws if str(x) != 'nan']\n",
    "major_pws = list(set(major_pws)) # remove duplicates\n",
    "print(\"Number of unique pathways targeted by drugs in the major toxicity group: \", len(major_pws))\n",
    "major_pws = [x for x in major_pws if x in all_pw] # only keep pathways that are in the master list of pathways\n",
    "print(\"Number of unique pathways targeted by drugs in the major toxicity group that are in the master list of pathways: \", len(major_pws))\n",
    "major_pws = list(set(major_pws)) # remove duplicates\n",
    "print(\"Number of unique pathways targeted by drugs in the major toxicity group that are in the master list of pathways after removing duplicates: \", len(major_pws))\n",
    "# Hypergeometric test\n",
    "major_pws_enrichment = []\n",
    "for pw in major_pws:\n",
    "    M = len(all_pw)\n",
    "    n = len(major_pws)\n",
    "    N = len(all_pw)\n",
    "    x = len(syntoxtarg_allpw_df[syntoxtarg_allpw_df['Reactome_ID'] == pw]['drug_name'].unique())\n",
    "    pval = stats.hypergeom.sf(x-1, M, n, N)\n",
    "    major_pws_enrichment.append([pw, x, pval])\n",
    "major_pws_enrichment = pd.DataFrame(major_pws_enrichment, columns=['Pathway', 'Number of drugs targeting pathway', 'P-value'])\n",
    "major_pws_enrichment = major_pws_enrichment.sort_values(by='P-value')\n",
    "print(major_pws_enrichment.head())\n"
   ]
  },
  {
   "cell_type": "code",
   "execution_count": 11,
   "metadata": {},
   "outputs": [
    {
     "data": {
      "text/html": [
       "<div>\n",
       "<style scoped>\n",
       "    .dataframe tbody tr th:only-of-type {\n",
       "        vertical-align: middle;\n",
       "    }\n",
       "\n",
       "    .dataframe tbody tr th {\n",
       "        vertical-align: top;\n",
       "    }\n",
       "\n",
       "    .dataframe thead th {\n",
       "        text-align: right;\n",
       "    }\n",
       "</style>\n",
       "<table border=\"1\" class=\"dataframe\">\n",
       "  <thead>\n",
       "    <tr style=\"text-align: right;\">\n",
       "      <th></th>\n",
       "      <th>Pathway</th>\n",
       "      <th>Number of drugs targeting pathway</th>\n",
       "      <th>P-value</th>\n",
       "    </tr>\n",
       "  </thead>\n",
       "  <tbody>\n",
       "    <tr>\n",
       "      <th>0</th>\n",
       "      <td>R-HSA-6804758</td>\n",
       "      <td>8</td>\n",
       "      <td>1.0</td>\n",
       "    </tr>\n",
       "    <tr>\n",
       "      <th>21</th>\n",
       "      <td>R-HSA-111446</td>\n",
       "      <td>2</td>\n",
       "      <td>1.0</td>\n",
       "    </tr>\n",
       "    <tr>\n",
       "      <th>20</th>\n",
       "      <td>R-HSA-180024</td>\n",
       "      <td>8</td>\n",
       "      <td>1.0</td>\n",
       "    </tr>\n",
       "    <tr>\n",
       "      <th>1</th>\n",
       "      <td>R-HSA-2173793</td>\n",
       "      <td>11</td>\n",
       "      <td>1.0</td>\n",
       "    </tr>\n",
       "    <tr>\n",
       "      <th>2</th>\n",
       "      <td>R-HSA-9028731</td>\n",
       "      <td>3</td>\n",
       "      <td>1.0</td>\n",
       "    </tr>\n",
       "  </tbody>\n",
       "</table>\n",
       "</div>"
      ],
      "text/plain": [
       "          Pathway  Number of drugs targeting pathway  P-value\n",
       "0   R-HSA-6804758                                  8      1.0\n",
       "21   R-HSA-111446                                  2      1.0\n",
       "20   R-HSA-180024                                  8      1.0\n",
       "1   R-HSA-2173793                                 11      1.0\n",
       "2   R-HSA-9028731                                  3      1.0"
      ]
     },
     "execution_count": 11,
     "metadata": {},
     "output_type": "execute_result"
    }
   ],
   "source": [
    "# sort major_pws_enrichment by p-value (ascending)\n",
    "major_pws_enrichment = major_pws_enrichment.sort_values(by='P-value')\n",
    "major_pws_enrichment.head()"
   ]
  },
  {
   "cell_type": "markdown",
   "metadata": {},
   "source": [
    "Steps:\n",
    "- Retrieve the drug combinations along with their synergy scores and toxicity categories\n",
    "- Retrieve the pathways that are targeted for each of these drug combinations and the pathway sets of interest to test (perhaps the higher level pathways that consist of the lowest level pathways)\n",
    "Break up the drug combination datasets into each toxicity category (drugcombo_major, drugcombo_moderate, drugcombo_minor)\n",
    "- For each of these drug combination toxicity datasets\n",
    "    - Rank them by synergy score\n",
    "    - Compute a hypergeometric test (is this Fisher's exact test?) on the pathway sets to get an enrichment p-value for each pathway set\n",
    "    - For each pathway set, you create a 2x2 contingency table:\n",
    "        - Rows: Drug combinations in high synergy vs not high synergy (you'd need to define a threshold)\n",
    "        - Columns: Hits pathway set vs doesn't hit pathway set\n",
    "        - Then run Fisher's exact test on this table\n"
   ]
  },
  {
   "cell_type": "code",
   "execution_count": null,
   "metadata": {},
   "outputs": [],
   "source": []
  },
  {
   "cell_type": "markdown",
   "metadata": {},
   "source": [
    "Then create a heatmap visualization:\n",
    "- Rows are enriched pathways\n",
    "- Columns are toxicity categories\n",
    "- Color intensity represents -log10(p-value)\n",
    "- Size of squares could represent odds ratio"
   ]
  }
 ],
 "metadata": {
  "kernelspec": {
   "display_name": "env",
   "language": "python",
   "name": "python3"
  },
  "language_info": {
   "codemirror_mode": {
    "name": "ipython",
    "version": 3
   },
   "file_extension": ".py",
   "mimetype": "text/x-python",
   "name": "python",
   "nbconvert_exporter": "python",
   "pygments_lexer": "ipython3",
   "version": "3.8.0"
  }
 },
 "nbformat": 4,
 "nbformat_minor": 2
}
