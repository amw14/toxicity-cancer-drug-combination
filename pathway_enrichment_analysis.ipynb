{
 "cells": [
  {
   "cell_type": "markdown",
   "metadata": {},
   "source": [
    "# Pathway Enrichment Analysis File #\n",
    "\n",
    "File to see which pathways seem to be significantly enriched with high synergy and different toxicity categories"
   ]
  },
  {
   "cell_type": "markdown",
   "metadata": {},
   "source": [
    "Steps:\n",
    "- Retrieve the drug combinations along with their synergy scores and toxicity categories\n",
    "- Retrieve the pathways that are targeted for each of these drug combinations and the pathway sets of interest to test (perhaps the higher level pathways that consist of the lowest level pathways)\n",
    "Break up the drug combination datasets into each toxicity category (drugcombo_major, drugcombo_moderate, drugcombo_minor)\n",
    "- For each of these drug combination toxicity datasets\n",
    "    - Rank them by synergy score\n",
    "    - Compute a hypergeometric test (is this Fisher's exact test?) on the pathway sets to get an enrichment p-value for each pathway set\n",
    "    - For each pathway set, you create a 2x2 contingency table:\n",
    "        - Rows: Drug combinations in high synergy vs not high synergy (you'd need to define a threshold)\n",
    "        - Columns: Hits pathway set vs doesn't hit pathway set\n",
    "        - Then run Fisher's exact test on this table\n"
   ]
  },
  {
   "cell_type": "code",
   "execution_count": 2,
   "metadata": {},
   "outputs": [],
   "source": [
    "# Import everything needed\n",
    "from scipy import stats\n",
    "from toxicity_ranking import *\n",
    "import numpy as np\n",
    "import pandas as pd\n",
    "import matplotlib.pyplot as plt"
   ]
  },
  {
   "cell_type": "code",
   "execution_count": 3,
   "metadata": {},
   "outputs": [],
   "source": [
    "# Read in the syntoxtarg_allpw.csv file\n",
    "df = pd.read_csv(\"data_processed/syntoxtarg_allpw.csv\")"
   ]
  },
  {
   "cell_type": "markdown",
   "metadata": {},
   "source": [
    "Then create a heatmap visualization:\n",
    "- Rows are enriched pathways\n",
    "- Columns are toxicity categories\n",
    "- Color intensity represents -log10(p-value)\n",
    "- Size of squares could represent odds ratio"
   ]
  }
 ],
 "metadata": {
  "kernelspec": {
   "display_name": "env",
   "language": "python",
   "name": "python3"
  },
  "language_info": {
   "codemirror_mode": {
    "name": "ipython",
    "version": 3
   },
   "file_extension": ".py",
   "mimetype": "text/x-python",
   "name": "python",
   "nbconvert_exporter": "python",
   "pygments_lexer": "ipython3",
   "version": "3.8.0"
  }
 },
 "nbformat": 4,
 "nbformat_minor": 2
}
